{
 "cells": [
  {
   "cell_type": "markdown",
   "metadata": {},
   "source": [
    "# Introduction\n",
    "* Phan tich cac yeu to anh huong den price tu bang du lieu MELBOURNE_HOUSE\n",
    "* Yeu cau:\n",
    "    - 1. Examine and explore data (visualization, interactions among features)\n",
    "    - 2. Apply the model for prediction with holdout and cross validation\n",
    "    - 3. Using PCA, apply the model with holdout and cross validation\n",
    "    - 4. Visualize the residue\n",
    "    - 5. Tune the model if necessary\n",
    "    - 6. Write up analysis for each section (for example, explain why the model is overfitting, explain why applying PCA is better, etc.)\n",
    "    - 7. Include conclusions for summary"
   ]
  },
  {
   "cell_type": "code",
   "execution_count": 1,
   "metadata": {},
   "outputs": [],
   "source": [
    "import pandas as pd\n",
    "import numpy as np\n",
    "from scipy import stats\n",
    "import matplotlib.pyplot as plt \n",
    "import seaborn as sns\n",
    "from scipy.stats import f_oneway\n",
    "from yellowbrick.regressor import ResidualsPlot\n",
    "from sklearn.model_selection import train_test_split\n",
    "from sklearn.linear_model import LinearRegression\n",
    "from sklearn import metrics\n",
    "from sklearn.decomposition import PCA \n",
    "from sklearn.linear_model import Ridge\n",
    "from sklearn.preprocessing import StandardScaler\n",
    "from sklearn.model_selection import cross_validate\n",
    "from sklearn.model_selection import GridSearchCV"
   ]
  },
  {
   "cell_type": "code",
   "execution_count": 2,
   "metadata": {},
   "outputs": [
    {
     "data": {
      "text/plain": [
       "(63023, 13)"
      ]
     },
     "execution_count": 2,
     "metadata": {},
     "output_type": "execute_result"
    }
   ],
   "source": [
    "data = pd.read_csv('D:/machine learning/project/melbourne-housing-market/MELBOURNE_HOUSE_PRICES_LESS.csv')\n",
    "data.shape"
   ]
  },
  {
   "cell_type": "markdown",
   "metadata": {},
   "source": [
    "# 1. Examine and explore data (visualization, interactions among features)"
   ]
  },
  {
   "cell_type": "markdown",
   "metadata": {},
   "source": [
    "# 1.1. EDA"
   ]
  },
  {
   "cell_type": "code",
   "execution_count": 3,
   "metadata": {},
   "outputs": [
    {
     "name": "stdout",
     "output_type": "stream",
     "text": [
      "<class 'pandas.core.frame.DataFrame'>\n",
      "RangeIndex: 63023 entries, 0 to 63022\n",
      "Data columns (total 13 columns):\n",
      "Suburb           63023 non-null object\n",
      "Address          63023 non-null object\n",
      "Rooms            63023 non-null int64\n",
      "Type             63023 non-null object\n",
      "Price            48433 non-null float64\n",
      "Method           63023 non-null object\n",
      "SellerG          63023 non-null object\n",
      "Date             63023 non-null object\n",
      "Postcode         63023 non-null int64\n",
      "Regionname       63023 non-null object\n",
      "Propertycount    63023 non-null int64\n",
      "Distance         63023 non-null float64\n",
      "CouncilArea      63023 non-null object\n",
      "dtypes: float64(2), int64(3), object(8)\n",
      "memory usage: 6.3+ MB\n"
     ]
    }
   ],
   "source": [
    "data.info()"
   ]
  },
  {
   "cell_type": "markdown",
   "metadata": {},
   "source": [
    "- Bang du lieu co 63023 dong va 13 cot. Co nhieu cot co the lien quan anh huong den Price nhu Rooms, Address, Suburb,...\n",
    "- Trong bang chi co Price co nhieu missing value"
   ]
  },
  {
   "cell_type": "code",
   "execution_count": 4,
   "metadata": {},
   "outputs": [
    {
     "data": {
      "text/html": [
       "<div>\n",
       "<style scoped>\n",
       "    .dataframe tbody tr th:only-of-type {\n",
       "        vertical-align: middle;\n",
       "    }\n",
       "\n",
       "    .dataframe tbody tr th {\n",
       "        vertical-align: top;\n",
       "    }\n",
       "\n",
       "    .dataframe thead th {\n",
       "        text-align: right;\n",
       "    }\n",
       "</style>\n",
       "<table border=\"1\" class=\"dataframe\">\n",
       "  <thead>\n",
       "    <tr style=\"text-align: right;\">\n",
       "      <th></th>\n",
       "      <th>Suburb</th>\n",
       "      <th>Address</th>\n",
       "      <th>Rooms</th>\n",
       "      <th>Type</th>\n",
       "      <th>Price</th>\n",
       "      <th>Method</th>\n",
       "      <th>SellerG</th>\n",
       "      <th>Date</th>\n",
       "      <th>Postcode</th>\n",
       "      <th>Regionname</th>\n",
       "      <th>Propertycount</th>\n",
       "      <th>Distance</th>\n",
       "      <th>CouncilArea</th>\n",
       "    </tr>\n",
       "  </thead>\n",
       "  <tbody>\n",
       "    <tr>\n",
       "      <th>0</th>\n",
       "      <td>Abbotsford</td>\n",
       "      <td>49 Lithgow St</td>\n",
       "      <td>3</td>\n",
       "      <td>h</td>\n",
       "      <td>1490000.0</td>\n",
       "      <td>S</td>\n",
       "      <td>Jellis</td>\n",
       "      <td>1/04/2017</td>\n",
       "      <td>3067</td>\n",
       "      <td>Northern Metropolitan</td>\n",
       "      <td>4019</td>\n",
       "      <td>3.0</td>\n",
       "      <td>Yarra City Council</td>\n",
       "    </tr>\n",
       "    <tr>\n",
       "      <th>1</th>\n",
       "      <td>Abbotsford</td>\n",
       "      <td>59A Turner St</td>\n",
       "      <td>3</td>\n",
       "      <td>h</td>\n",
       "      <td>1220000.0</td>\n",
       "      <td>S</td>\n",
       "      <td>Marshall</td>\n",
       "      <td>1/04/2017</td>\n",
       "      <td>3067</td>\n",
       "      <td>Northern Metropolitan</td>\n",
       "      <td>4019</td>\n",
       "      <td>3.0</td>\n",
       "      <td>Yarra City Council</td>\n",
       "    </tr>\n",
       "    <tr>\n",
       "      <th>2</th>\n",
       "      <td>Abbotsford</td>\n",
       "      <td>119B Yarra St</td>\n",
       "      <td>3</td>\n",
       "      <td>h</td>\n",
       "      <td>1420000.0</td>\n",
       "      <td>S</td>\n",
       "      <td>Nelson</td>\n",
       "      <td>1/04/2017</td>\n",
       "      <td>3067</td>\n",
       "      <td>Northern Metropolitan</td>\n",
       "      <td>4019</td>\n",
       "      <td>3.0</td>\n",
       "      <td>Yarra City Council</td>\n",
       "    </tr>\n",
       "    <tr>\n",
       "      <th>3</th>\n",
       "      <td>Aberfeldie</td>\n",
       "      <td>68 Vida St</td>\n",
       "      <td>3</td>\n",
       "      <td>h</td>\n",
       "      <td>1515000.0</td>\n",
       "      <td>S</td>\n",
       "      <td>Barry</td>\n",
       "      <td>1/04/2017</td>\n",
       "      <td>3040</td>\n",
       "      <td>Western Metropolitan</td>\n",
       "      <td>1543</td>\n",
       "      <td>7.5</td>\n",
       "      <td>Moonee Valley City Council</td>\n",
       "    </tr>\n",
       "    <tr>\n",
       "      <th>4</th>\n",
       "      <td>Airport West</td>\n",
       "      <td>92 Clydesdale Rd</td>\n",
       "      <td>2</td>\n",
       "      <td>h</td>\n",
       "      <td>670000.0</td>\n",
       "      <td>S</td>\n",
       "      <td>Nelson</td>\n",
       "      <td>1/04/2017</td>\n",
       "      <td>3042</td>\n",
       "      <td>Western Metropolitan</td>\n",
       "      <td>3464</td>\n",
       "      <td>10.4</td>\n",
       "      <td>Moonee Valley City Council</td>\n",
       "    </tr>\n",
       "  </tbody>\n",
       "</table>\n",
       "</div>"
      ],
      "text/plain": [
       "         Suburb           Address  Rooms Type      Price Method   SellerG  \\\n",
       "0    Abbotsford     49 Lithgow St      3    h  1490000.0      S    Jellis   \n",
       "1    Abbotsford     59A Turner St      3    h  1220000.0      S  Marshall   \n",
       "2    Abbotsford     119B Yarra St      3    h  1420000.0      S    Nelson   \n",
       "3    Aberfeldie        68 Vida St      3    h  1515000.0      S     Barry   \n",
       "4  Airport West  92 Clydesdale Rd      2    h   670000.0      S    Nelson   \n",
       "\n",
       "        Date  Postcode             Regionname  Propertycount  Distance  \\\n",
       "0  1/04/2017      3067  Northern Metropolitan           4019       3.0   \n",
       "1  1/04/2017      3067  Northern Metropolitan           4019       3.0   \n",
       "2  1/04/2017      3067  Northern Metropolitan           4019       3.0   \n",
       "3  1/04/2017      3040   Western Metropolitan           1543       7.5   \n",
       "4  1/04/2017      3042   Western Metropolitan           3464      10.4   \n",
       "\n",
       "                  CouncilArea  \n",
       "0          Yarra City Council  \n",
       "1          Yarra City Council  \n",
       "2          Yarra City Council  \n",
       "3  Moonee Valley City Council  \n",
       "4  Moonee Valley City Council  "
      ]
     },
     "execution_count": 4,
     "metadata": {},
     "output_type": "execute_result"
    }
   ],
   "source": [
    "data.head()"
   ]
  },
  {
   "cell_type": "code",
   "execution_count": 5,
   "metadata": {},
   "outputs": [
    {
     "data": {
      "text/html": [
       "<div>\n",
       "<style scoped>\n",
       "    .dataframe tbody tr th:only-of-type {\n",
       "        vertical-align: middle;\n",
       "    }\n",
       "\n",
       "    .dataframe tbody tr th {\n",
       "        vertical-align: top;\n",
       "    }\n",
       "\n",
       "    .dataframe thead th {\n",
       "        text-align: right;\n",
       "    }\n",
       "</style>\n",
       "<table border=\"1\" class=\"dataframe\">\n",
       "  <thead>\n",
       "    <tr style=\"text-align: right;\">\n",
       "      <th></th>\n",
       "      <th>Rooms</th>\n",
       "      <th>Price</th>\n",
       "      <th>Postcode</th>\n",
       "      <th>Propertycount</th>\n",
       "      <th>Distance</th>\n",
       "    </tr>\n",
       "  </thead>\n",
       "  <tbody>\n",
       "    <tr>\n",
       "      <th>count</th>\n",
       "      <td>63023.000000</td>\n",
       "      <td>4.843300e+04</td>\n",
       "      <td>63023.000000</td>\n",
       "      <td>63023.000000</td>\n",
       "      <td>63023.000000</td>\n",
       "    </tr>\n",
       "    <tr>\n",
       "      <th>mean</th>\n",
       "      <td>3.110595</td>\n",
       "      <td>9.978982e+05</td>\n",
       "      <td>3125.673897</td>\n",
       "      <td>7617.728131</td>\n",
       "      <td>12.684829</td>\n",
       "    </tr>\n",
       "    <tr>\n",
       "      <th>std</th>\n",
       "      <td>0.957551</td>\n",
       "      <td>5.934989e+05</td>\n",
       "      <td>125.626877</td>\n",
       "      <td>4424.423167</td>\n",
       "      <td>7.592015</td>\n",
       "    </tr>\n",
       "    <tr>\n",
       "      <th>min</th>\n",
       "      <td>1.000000</td>\n",
       "      <td>8.500000e+04</td>\n",
       "      <td>3000.000000</td>\n",
       "      <td>39.000000</td>\n",
       "      <td>0.000000</td>\n",
       "    </tr>\n",
       "    <tr>\n",
       "      <th>10%</th>\n",
       "      <td>2.000000</td>\n",
       "      <td>4.800400e+05</td>\n",
       "      <td>3029.000000</td>\n",
       "      <td>2698.000000</td>\n",
       "      <td>4.300000</td>\n",
       "    </tr>\n",
       "    <tr>\n",
       "      <th>25%</th>\n",
       "      <td>3.000000</td>\n",
       "      <td>6.200000e+05</td>\n",
       "      <td>3056.000000</td>\n",
       "      <td>4380.000000</td>\n",
       "      <td>7.000000</td>\n",
       "    </tr>\n",
       "    <tr>\n",
       "      <th>50%</th>\n",
       "      <td>3.000000</td>\n",
       "      <td>8.300000e+05</td>\n",
       "      <td>3107.000000</td>\n",
       "      <td>6795.000000</td>\n",
       "      <td>11.400000</td>\n",
       "    </tr>\n",
       "    <tr>\n",
       "      <th>75%</th>\n",
       "      <td>4.000000</td>\n",
       "      <td>1.220000e+06</td>\n",
       "      <td>3163.000000</td>\n",
       "      <td>10412.000000</td>\n",
       "      <td>16.700000</td>\n",
       "    </tr>\n",
       "    <tr>\n",
       "      <th>95%</th>\n",
       "      <td>5.000000</td>\n",
       "      <td>2.100000e+06</td>\n",
       "      <td>3206.000000</td>\n",
       "      <td>15510.000000</td>\n",
       "      <td>26.500000</td>\n",
       "    </tr>\n",
       "    <tr>\n",
       "      <th>99%</th>\n",
       "      <td>5.000000</td>\n",
       "      <td>3.200000e+06</td>\n",
       "      <td>3756.000000</td>\n",
       "      <td>21650.000000</td>\n",
       "      <td>38.000000</td>\n",
       "    </tr>\n",
       "    <tr>\n",
       "      <th>max</th>\n",
       "      <td>31.000000</td>\n",
       "      <td>1.120000e+07</td>\n",
       "      <td>3980.000000</td>\n",
       "      <td>21650.000000</td>\n",
       "      <td>64.100000</td>\n",
       "    </tr>\n",
       "  </tbody>\n",
       "</table>\n",
       "</div>"
      ],
      "text/plain": [
       "              Rooms         Price      Postcode  Propertycount      Distance\n",
       "count  63023.000000  4.843300e+04  63023.000000   63023.000000  63023.000000\n",
       "mean       3.110595  9.978982e+05   3125.673897    7617.728131     12.684829\n",
       "std        0.957551  5.934989e+05    125.626877    4424.423167      7.592015\n",
       "min        1.000000  8.500000e+04   3000.000000      39.000000      0.000000\n",
       "10%        2.000000  4.800400e+05   3029.000000    2698.000000      4.300000\n",
       "25%        3.000000  6.200000e+05   3056.000000    4380.000000      7.000000\n",
       "50%        3.000000  8.300000e+05   3107.000000    6795.000000     11.400000\n",
       "75%        4.000000  1.220000e+06   3163.000000   10412.000000     16.700000\n",
       "95%        5.000000  2.100000e+06   3206.000000   15510.000000     26.500000\n",
       "99%        5.000000  3.200000e+06   3756.000000   21650.000000     38.000000\n",
       "max       31.000000  1.120000e+07   3980.000000   21650.000000     64.100000"
      ]
     },
     "execution_count": 5,
     "metadata": {},
     "output_type": "execute_result"
    }
   ],
   "source": [
    "data.describe(percentiles=[.1,.25,.50,.75,.95,.99])"
   ]
  },
  {
   "cell_type": "markdown",
   "metadata": {},
   "source": [
    "Tu bang nay ta co the thay co mot so cot co gia tri max bat thuong vi chenh lech rat nhieu so voi cac gia tri khac nhu Rooms, Price"
   ]
  },
  {
   "cell_type": "markdown",
   "metadata": {},
   "source": [
    "# The target valuable: Distribution of Price"
   ]
  },
  {
   "cell_type": "code",
   "execution_count": 6,
   "metadata": {},
   "outputs": [
    {
     "name": "stdout",
     "output_type": "stream",
     "text": [
      "count    4.843300e+04\n",
      "mean     9.978982e+05\n",
      "std      5.934989e+05\n",
      "min      8.500000e+04\n",
      "10%      4.800400e+05\n",
      "25%      6.200000e+05\n",
      "50%      8.300000e+05\n",
      "75%      1.220000e+06\n",
      "95%      2.100000e+06\n",
      "99%      3.200000e+06\n",
      "max      1.120000e+07\n",
      "Name: Price, dtype: float64\n"
     ]
    },
    {
     "data": {
      "text/plain": [
       "<matplotlib.axes._subplots.AxesSubplot at 0x256e899db70>"
      ]
     },
     "execution_count": 6,
     "metadata": {},
     "output_type": "execute_result"
    },
    {
     "data": {
      "image/png": "[encoded data removed]",
      "text/plain": [
       "<Figure size 1080x360 with 1 Axes>"
      ]
     },
     "metadata": {
      "needs_background": "light"
     },
     "output_type": "display_data"
    }
   ],
   "source": [
    "print(data['Price'].describe(percentiles=[.1,.25,.50,.75,.95,.99]))\n",
    "plt.figure(figsize=(15,5))\n",
    "sns.distplot(data['Price'])"
   ]
  },
  {
   "cell_type": "markdown",
   "metadata": {},
   "source": [
    "Nhin tu bieu do thi bien target Price khong phai la phan phoi chuan va co mot so gia tri outliers > 0.4"
   ]
  },
  {
   "cell_type": "markdown",
   "metadata": {},
   "source": [
    "# Phan loai Numerical and categorical features"
   ]
  },
  {
   "cell_type": "code",
   "execution_count": 7,
   "metadata": {},
   "outputs": [
    {
     "name": "stdout",
     "output_type": "stream",
     "text": [
      "Number of numerical features:  5\n",
      "['Rooms', 'Price', 'Postcode', 'Propertycount', 'Distance']\n",
      "Number of categorical features:  8\n",
      "['Suburb', 'Address', 'Type', 'Method', 'SellerG', 'Date', 'Regionname', 'CouncilArea']\n"
     ]
    }
   ],
   "source": [
    "num_feature = data.columns[data.dtypes != 'object'].to_list()\n",
    "category_feature = data.columns[data.dtypes == 'object'].to_list()\n",
    "print('Number of numerical features: ', len(num_feature))\n",
    "print(num_feature)\n",
    "print('Number of categorical features: ', len(category_feature))\n",
    "print(category_feature)"
   ]
  },
  {
   "cell_type": "code",
   "execution_count": 8,
   "metadata": {},
   "outputs": [
    {
     "name": "stdout",
     "output_type": "stream",
     "text": [
      "Number of numerical features:  4\n",
      "['Rooms', 'Price', 'Propertycount', 'Distance']\n",
      "Number of categorical features:  9\n",
      "['Suburb', 'Address', 'Type', 'Method', 'SellerG', 'Date', 'Regionname', 'CouncilArea', 'Postcode']\n"
     ]
    },
    {
     "data": {
      "text/plain": [
       "['Rooms', 'Price', 'Propertycount', 'Distance']"
      ]
     },
     "execution_count": 8,
     "metadata": {},
     "output_type": "execute_result"
    }
   ],
   "source": [
    "#tuy nhien Postcode la categorical feature nen ta dieu chinh lai danh sach phan loai cac feature:\n",
    "num_feature.pop(2)\n",
    "print('Number of numerical features: ', len(num_feature))\n",
    "print(num_feature)\n",
    "category_feature.append('Postcode')\n",
    "print('Number of categorical features: ', len(category_feature))\n",
    "print(category_feature)\n",
    "num_feature"
   ]
  },
  {
   "cell_type": "code",
   "execution_count": 9,
   "metadata": {},
   "outputs": [
    {
     "data": {
      "text/html": [
       "<div>\n",
       "<style scoped>\n",
       "    .dataframe tbody tr th:only-of-type {\n",
       "        vertical-align: middle;\n",
       "    }\n",
       "\n",
       "    .dataframe tbody tr th {\n",
       "        vertical-align: top;\n",
       "    }\n",
       "\n",
       "    .dataframe thead th {\n",
       "        text-align: right;\n",
       "    }\n",
       "</style>\n",
       "<table border=\"1\" class=\"dataframe\">\n",
       "  <thead>\n",
       "    <tr style=\"text-align: right;\">\n",
       "      <th></th>\n",
       "      <th>Rooms</th>\n",
       "      <th>Price</th>\n",
       "      <th>Propertycount</th>\n",
       "      <th>Distance</th>\n",
       "    </tr>\n",
       "  </thead>\n",
       "  <tbody>\n",
       "    <tr>\n",
       "      <th>0</th>\n",
       "      <td>3</td>\n",
       "      <td>1490000.0</td>\n",
       "      <td>4019</td>\n",
       "      <td>3.0</td>\n",
       "    </tr>\n",
       "    <tr>\n",
       "      <th>1</th>\n",
       "      <td>3</td>\n",
       "      <td>1220000.0</td>\n",
       "      <td>4019</td>\n",
       "      <td>3.0</td>\n",
       "    </tr>\n",
       "    <tr>\n",
       "      <th>2</th>\n",
       "      <td>3</td>\n",
       "      <td>1420000.0</td>\n",
       "      <td>4019</td>\n",
       "      <td>3.0</td>\n",
       "    </tr>\n",
       "    <tr>\n",
       "      <th>3</th>\n",
       "      <td>3</td>\n",
       "      <td>1515000.0</td>\n",
       "      <td>1543</td>\n",
       "      <td>7.5</td>\n",
       "    </tr>\n",
       "    <tr>\n",
       "      <th>4</th>\n",
       "      <td>2</td>\n",
       "      <td>670000.0</td>\n",
       "      <td>3464</td>\n",
       "      <td>10.4</td>\n",
       "    </tr>\n",
       "  </tbody>\n",
       "</table>\n",
       "</div>"
      ],
      "text/plain": [
       "   Rooms      Price  Propertycount  Distance\n",
       "0      3  1490000.0           4019       3.0\n",
       "1      3  1220000.0           4019       3.0\n",
       "2      3  1420000.0           4019       3.0\n",
       "3      3  1515000.0           1543       7.5\n",
       "4      2   670000.0           3464      10.4"
      ]
     },
     "execution_count": 9,
     "metadata": {},
     "output_type": "execute_result"
    }
   ],
   "source": [
    "data[num_feature].head()"
   ]
  },
  {
   "cell_type": "code",
   "execution_count": 10,
   "metadata": {},
   "outputs": [
    {
     "data": {
      "text/html": [
       "<div>\n",
       "<style scoped>\n",
       "    .dataframe tbody tr th:only-of-type {\n",
       "        vertical-align: middle;\n",
       "    }\n",
       "\n",
       "    .dataframe tbody tr th {\n",
       "        vertical-align: top;\n",
       "    }\n",
       "\n",
       "    .dataframe thead th {\n",
       "        text-align: right;\n",
       "    }\n",
       "</style>\n",
       "<table border=\"1\" class=\"dataframe\">\n",
       "  <thead>\n",
       "    <tr style=\"text-align: right;\">\n",
       "      <th></th>\n",
       "      <th>Rooms</th>\n",
       "      <th>Price</th>\n",
       "      <th>Propertycount</th>\n",
       "      <th>Distance</th>\n",
       "    </tr>\n",
       "  </thead>\n",
       "  <tbody>\n",
       "    <tr>\n",
       "      <th>count</th>\n",
       "      <td>63023.000000</td>\n",
       "      <td>4.843300e+04</td>\n",
       "      <td>63023.000000</td>\n",
       "      <td>63023.000000</td>\n",
       "    </tr>\n",
       "    <tr>\n",
       "      <th>mean</th>\n",
       "      <td>3.110595</td>\n",
       "      <td>9.978982e+05</td>\n",
       "      <td>7617.728131</td>\n",
       "      <td>12.684829</td>\n",
       "    </tr>\n",
       "    <tr>\n",
       "      <th>std</th>\n",
       "      <td>0.957551</td>\n",
       "      <td>5.934989e+05</td>\n",
       "      <td>4424.423167</td>\n",
       "      <td>7.592015</td>\n",
       "    </tr>\n",
       "    <tr>\n",
       "      <th>min</th>\n",
       "      <td>1.000000</td>\n",
       "      <td>8.500000e+04</td>\n",
       "      <td>39.000000</td>\n",
       "      <td>0.000000</td>\n",
       "    </tr>\n",
       "    <tr>\n",
       "      <th>25%</th>\n",
       "      <td>3.000000</td>\n",
       "      <td>6.200000e+05</td>\n",
       "      <td>4380.000000</td>\n",
       "      <td>7.000000</td>\n",
       "    </tr>\n",
       "    <tr>\n",
       "      <th>50%</th>\n",
       "      <td>3.000000</td>\n",
       "      <td>8.300000e+05</td>\n",
       "      <td>6795.000000</td>\n",
       "      <td>11.400000</td>\n",
       "    </tr>\n",
       "    <tr>\n",
       "      <th>75%</th>\n",
       "      <td>4.000000</td>\n",
       "      <td>1.220000e+06</td>\n",
       "      <td>10412.000000</td>\n",
       "      <td>16.700000</td>\n",
       "    </tr>\n",
       "    <tr>\n",
       "      <th>max</th>\n",
       "      <td>31.000000</td>\n",
       "      <td>1.120000e+07</td>\n",
       "      <td>21650.000000</td>\n",
       "      <td>64.100000</td>\n",
       "    </tr>\n",
       "  </tbody>\n",
       "</table>\n",
       "</div>"
      ],
      "text/plain": [
       "              Rooms         Price  Propertycount      Distance\n",
       "count  63023.000000  4.843300e+04   63023.000000  63023.000000\n",
       "mean       3.110595  9.978982e+05    7617.728131     12.684829\n",
       "std        0.957551  5.934989e+05    4424.423167      7.592015\n",
       "min        1.000000  8.500000e+04      39.000000      0.000000\n",
       "25%        3.000000  6.200000e+05    4380.000000      7.000000\n",
       "50%        3.000000  8.300000e+05    6795.000000     11.400000\n",
       "75%        4.000000  1.220000e+06   10412.000000     16.700000\n",
       "max       31.000000  1.120000e+07   21650.000000     64.100000"
      ]
     },
     "execution_count": 10,
     "metadata": {},
     "output_type": "execute_result"
    }
   ],
   "source": [
    "data[num_feature].describe()"
   ]
  },
  {
   "cell_type": "code",
   "execution_count": 11,
   "metadata": {},
   "outputs": [
    {
     "data": {
      "text/html": [
       "<div>\n",
       "<style scoped>\n",
       "    .dataframe tbody tr th:only-of-type {\n",
       "        vertical-align: middle;\n",
       "    }\n",
       "\n",
       "    .dataframe tbody tr th {\n",
       "        vertical-align: top;\n",
       "    }\n",
       "\n",
       "    .dataframe thead th {\n",
       "        text-align: right;\n",
       "    }\n",
       "</style>\n",
       "<table border=\"1\" class=\"dataframe\">\n",
       "  <thead>\n",
       "    <tr style=\"text-align: right;\">\n",
       "      <th></th>\n",
       "      <th>Suburb</th>\n",
       "      <th>Address</th>\n",
       "      <th>Type</th>\n",
       "      <th>Method</th>\n",
       "      <th>SellerG</th>\n",
       "      <th>Date</th>\n",
       "      <th>Regionname</th>\n",
       "      <th>CouncilArea</th>\n",
       "      <th>Postcode</th>\n",
       "    </tr>\n",
       "  </thead>\n",
       "  <tbody>\n",
       "    <tr>\n",
       "      <th>0</th>\n",
       "      <td>Abbotsford</td>\n",
       "      <td>49 Lithgow St</td>\n",
       "      <td>h</td>\n",
       "      <td>S</td>\n",
       "      <td>Jellis</td>\n",
       "      <td>1/04/2017</td>\n",
       "      <td>Northern Metropolitan</td>\n",
       "      <td>Yarra City Council</td>\n",
       "      <td>3067</td>\n",
       "    </tr>\n",
       "    <tr>\n",
       "      <th>1</th>\n",
       "      <td>Abbotsford</td>\n",
       "      <td>59A Turner St</td>\n",
       "      <td>h</td>\n",
       "      <td>S</td>\n",
       "      <td>Marshall</td>\n",
       "      <td>1/04/2017</td>\n",
       "      <td>Northern Metropolitan</td>\n",
       "      <td>Yarra City Council</td>\n",
       "      <td>3067</td>\n",
       "    </tr>\n",
       "    <tr>\n",
       "      <th>2</th>\n",
       "      <td>Abbotsford</td>\n",
       "      <td>119B Yarra St</td>\n",
       "      <td>h</td>\n",
       "      <td>S</td>\n",
       "      <td>Nelson</td>\n",
       "      <td>1/04/2017</td>\n",
       "      <td>Northern Metropolitan</td>\n",
       "      <td>Yarra City Council</td>\n",
       "      <td>3067</td>\n",
       "    </tr>\n",
       "    <tr>\n",
       "      <th>3</th>\n",
       "      <td>Aberfeldie</td>\n",
       "      <td>68 Vida St</td>\n",
       "      <td>h</td>\n",
       "      <td>S</td>\n",
       "      <td>Barry</td>\n",
       "      <td>1/04/2017</td>\n",
       "      <td>Western Metropolitan</td>\n",
       "      <td>Moonee Valley City Council</td>\n",
       "      <td>3040</td>\n",
       "    </tr>\n",
       "    <tr>\n",
       "      <th>4</th>\n",
       "      <td>Airport West</td>\n",
       "      <td>92 Clydesdale Rd</td>\n",
       "      <td>h</td>\n",
       "      <td>S</td>\n",
       "      <td>Nelson</td>\n",
       "      <td>1/04/2017</td>\n",
       "      <td>Western Metropolitan</td>\n",
       "      <td>Moonee Valley City Council</td>\n",
       "      <td>3042</td>\n",
       "    </tr>\n",
       "  </tbody>\n",
       "</table>\n",
       "</div>"
      ],
      "text/plain": [
       "         Suburb           Address Type Method   SellerG       Date  \\\n",
       "0    Abbotsford     49 Lithgow St    h      S    Jellis  1/04/2017   \n",
       "1    Abbotsford     59A Turner St    h      S  Marshall  1/04/2017   \n",
       "2    Abbotsford     119B Yarra St    h      S    Nelson  1/04/2017   \n",
       "3    Aberfeldie        68 Vida St    h      S     Barry  1/04/2017   \n",
       "4  Airport West  92 Clydesdale Rd    h      S    Nelson  1/04/2017   \n",
       "\n",
       "              Regionname                 CouncilArea  Postcode  \n",
       "0  Northern Metropolitan          Yarra City Council      3067  \n",
       "1  Northern Metropolitan          Yarra City Council      3067  \n",
       "2  Northern Metropolitan          Yarra City Council      3067  \n",
       "3   Western Metropolitan  Moonee Valley City Council      3040  \n",
       "4   Western Metropolitan  Moonee Valley City Council      3042  "
      ]
     },
     "execution_count": 11,
     "metadata": {},
     "output_type": "execute_result"
    }
   ],
   "source": [
    "data[category_feature].head()"
   ]
  },
  {
   "cell_type": "code",
   "execution_count": 12,
   "metadata": {},
   "outputs": [
    {
     "data": {
      "text/html": [
       "<div>\n",
       "<style scoped>\n",
       "    .dataframe tbody tr th:only-of-type {\n",
       "        vertical-align: middle;\n",
       "    }\n",
       "\n",
       "    .dataframe tbody tr th {\n",
       "        vertical-align: top;\n",
       "    }\n",
       "\n",
       "    .dataframe thead th {\n",
       "        text-align: right;\n",
       "    }\n",
       "</style>\n",
       "<table border=\"1\" class=\"dataframe\">\n",
       "  <thead>\n",
       "    <tr style=\"text-align: right;\">\n",
       "      <th></th>\n",
       "      <th>Suburb</th>\n",
       "      <th>Address</th>\n",
       "      <th>Type</th>\n",
       "      <th>Method</th>\n",
       "      <th>SellerG</th>\n",
       "      <th>Date</th>\n",
       "      <th>Regionname</th>\n",
       "      <th>CouncilArea</th>\n",
       "      <th>Postcode</th>\n",
       "    </tr>\n",
       "  </thead>\n",
       "  <tbody>\n",
       "    <tr>\n",
       "      <th>count</th>\n",
       "      <td>63023</td>\n",
       "      <td>63023</td>\n",
       "      <td>63023</td>\n",
       "      <td>63023</td>\n",
       "      <td>63023</td>\n",
       "      <td>63023</td>\n",
       "      <td>63023</td>\n",
       "      <td>63023</td>\n",
       "      <td>63023.000000</td>\n",
       "    </tr>\n",
       "    <tr>\n",
       "      <th>unique</th>\n",
       "      <td>380</td>\n",
       "      <td>57754</td>\n",
       "      <td>3</td>\n",
       "      <td>9</td>\n",
       "      <td>476</td>\n",
       "      <td>112</td>\n",
       "      <td>8</td>\n",
       "      <td>34</td>\n",
       "      <td>NaN</td>\n",
       "    </tr>\n",
       "    <tr>\n",
       "      <th>top</th>\n",
       "      <td>Reservoir</td>\n",
       "      <td>57 Bay Rd</td>\n",
       "      <td>h</td>\n",
       "      <td>S</td>\n",
       "      <td>Barry</td>\n",
       "      <td>24/03/2018</td>\n",
       "      <td>Southern Metropolitan</td>\n",
       "      <td>Boroondara City Council</td>\n",
       "      <td>NaN</td>\n",
       "    </tr>\n",
       "    <tr>\n",
       "      <th>freq</th>\n",
       "      <td>1241</td>\n",
       "      <td>7</td>\n",
       "      <td>45053</td>\n",
       "      <td>34063</td>\n",
       "      <td>6894</td>\n",
       "      <td>1144</td>\n",
       "      <td>17559</td>\n",
       "      <td>5132</td>\n",
       "      <td>NaN</td>\n",
       "    </tr>\n",
       "    <tr>\n",
       "      <th>mean</th>\n",
       "      <td>NaN</td>\n",
       "      <td>NaN</td>\n",
       "      <td>NaN</td>\n",
       "      <td>NaN</td>\n",
       "      <td>NaN</td>\n",
       "      <td>NaN</td>\n",
       "      <td>NaN</td>\n",
       "      <td>NaN</td>\n",
       "      <td>3125.673897</td>\n",
       "    </tr>\n",
       "    <tr>\n",
       "      <th>std</th>\n",
       "      <td>NaN</td>\n",
       "      <td>NaN</td>\n",
       "      <td>NaN</td>\n",
       "      <td>NaN</td>\n",
       "      <td>NaN</td>\n",
       "      <td>NaN</td>\n",
       "      <td>NaN</td>\n",
       "      <td>NaN</td>\n",
       "      <td>125.626877</td>\n",
       "    </tr>\n",
       "    <tr>\n",
       "      <th>min</th>\n",
       "      <td>NaN</td>\n",
       "      <td>NaN</td>\n",
       "      <td>NaN</td>\n",
       "      <td>NaN</td>\n",
       "      <td>NaN</td>\n",
       "      <td>NaN</td>\n",
       "      <td>NaN</td>\n",
       "      <td>NaN</td>\n",
       "      <td>3000.000000</td>\n",
       "    </tr>\n",
       "    <tr>\n",
       "      <th>25%</th>\n",
       "      <td>NaN</td>\n",
       "      <td>NaN</td>\n",
       "      <td>NaN</td>\n",
       "      <td>NaN</td>\n",
       "      <td>NaN</td>\n",
       "      <td>NaN</td>\n",
       "      <td>NaN</td>\n",
       "      <td>NaN</td>\n",
       "      <td>3056.000000</td>\n",
       "    </tr>\n",
       "    <tr>\n",
       "      <th>50%</th>\n",
       "      <td>NaN</td>\n",
       "      <td>NaN</td>\n",
       "      <td>NaN</td>\n",
       "      <td>NaN</td>\n",
       "      <td>NaN</td>\n",
       "      <td>NaN</td>\n",
       "      <td>NaN</td>\n",
       "      <td>NaN</td>\n",
       "      <td>3107.000000</td>\n",
       "    </tr>\n",
       "    <tr>\n",
       "      <th>75%</th>\n",
       "      <td>NaN</td>\n",
       "      <td>NaN</td>\n",
       "      <td>NaN</td>\n",
       "      <td>NaN</td>\n",
       "      <td>NaN</td>\n",
       "      <td>NaN</td>\n",
       "      <td>NaN</td>\n",
       "      <td>NaN</td>\n",
       "      <td>3163.000000</td>\n",
       "    </tr>\n",
       "    <tr>\n",
       "      <th>max</th>\n",
       "      <td>NaN</td>\n",
       "      <td>NaN</td>\n",
       "      <td>NaN</td>\n",
       "      <td>NaN</td>\n",
       "      <td>NaN</td>\n",
       "      <td>NaN</td>\n",
       "      <td>NaN</td>\n",
       "      <td>NaN</td>\n",
       "      <td>3980.000000</td>\n",
       "    </tr>\n",
       "  </tbody>\n",
       "</table>\n",
       "</div>"
      ],
      "text/plain": [
       "           Suburb    Address   Type Method SellerG        Date  \\\n",
       "count       63023      63023  63023  63023   63023       63023   \n",
       "unique        380      57754      3      9     476         112   \n",
       "top     Reservoir  57 Bay Rd      h      S   Barry  24/03/2018   \n",
       "freq         1241          7  45053  34063    6894        1144   \n",
       "mean          NaN        NaN    NaN    NaN     NaN         NaN   \n",
       "std           NaN        NaN    NaN    NaN     NaN         NaN   \n",
       "min           NaN        NaN    NaN    NaN     NaN         NaN   \n",
       "25%           NaN        NaN    NaN    NaN     NaN         NaN   \n",
       "50%           NaN        NaN    NaN    NaN     NaN         NaN   \n",
       "75%           NaN        NaN    NaN    NaN     NaN         NaN   \n",
       "max           NaN        NaN    NaN    NaN     NaN         NaN   \n",
       "\n",
       "                   Regionname              CouncilArea      Postcode  \n",
       "count                   63023                    63023  63023.000000  \n",
       "unique                      8                       34           NaN  \n",
       "top     Southern Metropolitan  Boroondara City Council           NaN  \n",
       "freq                    17559                     5132           NaN  \n",
       "mean                      NaN                      NaN   3125.673897  \n",
       "std                       NaN                      NaN    125.626877  \n",
       "min                       NaN                      NaN   3000.000000  \n",
       "25%                       NaN                      NaN   3056.000000  \n",
       "50%                       NaN                      NaN   3107.000000  \n",
       "75%                       NaN                      NaN   3163.000000  \n",
       "max                       NaN                      NaN   3980.000000  "
      ]
     },
     "execution_count": 12,
     "metadata": {},
     "output_type": "execute_result"
    }
   ],
   "source": [
    "data[category_feature].describe(include='all')"
   ]
  },
  {
   "cell_type": "markdown",
   "metadata": {},
   "source": [
    "# Ve bieu do phan phoi cac numerical features"
   ]
  },
  {
   "cell_type": "code",
   "execution_count": 13,
   "metadata": {},
   "outputs": [
    {
     "data": {
      "text/plain": [
       "array([[<matplotlib.axes._subplots.AxesSubplot object at 0x00000256E8471EF0>,\n",
       "        <matplotlib.axes._subplots.AxesSubplot object at 0x00000256E8F04630>],\n",
       "       [<matplotlib.axes._subplots.AxesSubplot object at 0x00000256E8DE2D68>,\n",
       "        <matplotlib.axes._subplots.AxesSubplot object at 0x00000256E8E1C710>],\n",
       "       [<matplotlib.axes._subplots.AxesSubplot object at 0x00000256E8E570F0>,\n",
       "        <matplotlib.axes._subplots.AxesSubplot object at 0x00000256E8E84A20>]],\n",
       "      dtype=object)"
      ]
     },
     "execution_count": 13,
     "metadata": {},
     "output_type": "execute_result"
    },
    {
     "data": {
      "image/png": "[encoded data removed]",
      "text/plain": [
       "<Figure size 1152x1440 with 6 Axes>"
      ]
     },
     "metadata": {
      "needs_background": "light"
     },
     "output_type": "display_data"
    }
   ],
   "source": [
    "data.hist(figsize=(16, 20), bins=50)"
   ]
  },
  {
   "cell_type": "markdown",
   "metadata": {},
   "source": [
    "# Kiem tra missing values"
   ]
  },
  {
   "cell_type": "code",
   "execution_count": 14,
   "metadata": {},
   "outputs": [
    {
     "data": {
      "text/html": [
       "<div>\n",
       "<style scoped>\n",
       "    .dataframe tbody tr th:only-of-type {\n",
       "        vertical-align: middle;\n",
       "    }\n",
       "\n",
       "    .dataframe tbody tr th {\n",
       "        vertical-align: top;\n",
       "    }\n",
       "\n",
       "    .dataframe thead th {\n",
       "        text-align: right;\n",
       "    }\n",
       "</style>\n",
       "<table border=\"1\" class=\"dataframe\">\n",
       "  <thead>\n",
       "    <tr style=\"text-align: right;\">\n",
       "      <th></th>\n",
       "      <th>Total</th>\n",
       "      <th>Percent</th>\n",
       "    </tr>\n",
       "  </thead>\n",
       "  <tbody>\n",
       "    <tr>\n",
       "      <th>Suburb</th>\n",
       "      <td>0</td>\n",
       "      <td>0.000000</td>\n",
       "    </tr>\n",
       "    <tr>\n",
       "      <th>Address</th>\n",
       "      <td>0</td>\n",
       "      <td>0.000000</td>\n",
       "    </tr>\n",
       "    <tr>\n",
       "      <th>Rooms</th>\n",
       "      <td>0</td>\n",
       "      <td>0.000000</td>\n",
       "    </tr>\n",
       "    <tr>\n",
       "      <th>Type</th>\n",
       "      <td>0</td>\n",
       "      <td>0.000000</td>\n",
       "    </tr>\n",
       "    <tr>\n",
       "      <th>Price</th>\n",
       "      <td>14590</td>\n",
       "      <td>23.150278</td>\n",
       "    </tr>\n",
       "    <tr>\n",
       "      <th>Method</th>\n",
       "      <td>0</td>\n",
       "      <td>0.000000</td>\n",
       "    </tr>\n",
       "    <tr>\n",
       "      <th>SellerG</th>\n",
       "      <td>0</td>\n",
       "      <td>0.000000</td>\n",
       "    </tr>\n",
       "    <tr>\n",
       "      <th>Date</th>\n",
       "      <td>0</td>\n",
       "      <td>0.000000</td>\n",
       "    </tr>\n",
       "    <tr>\n",
       "      <th>Postcode</th>\n",
       "      <td>0</td>\n",
       "      <td>0.000000</td>\n",
       "    </tr>\n",
       "    <tr>\n",
       "      <th>Regionname</th>\n",
       "      <td>0</td>\n",
       "      <td>0.000000</td>\n",
       "    </tr>\n",
       "    <tr>\n",
       "      <th>Propertycount</th>\n",
       "      <td>0</td>\n",
       "      <td>0.000000</td>\n",
       "    </tr>\n",
       "    <tr>\n",
       "      <th>Distance</th>\n",
       "      <td>0</td>\n",
       "      <td>0.000000</td>\n",
       "    </tr>\n",
       "    <tr>\n",
       "      <th>CouncilArea</th>\n",
       "      <td>0</td>\n",
       "      <td>0.000000</td>\n",
       "    </tr>\n",
       "  </tbody>\n",
       "</table>\n",
       "</div>"
      ],
      "text/plain": [
       "               Total    Percent\n",
       "Suburb             0   0.000000\n",
       "Address            0   0.000000\n",
       "Rooms              0   0.000000\n",
       "Type               0   0.000000\n",
       "Price          14590  23.150278\n",
       "Method             0   0.000000\n",
       "SellerG            0   0.000000\n",
       "Date               0   0.000000\n",
       "Postcode           0   0.000000\n",
       "Regionname         0   0.000000\n",
       "Propertycount      0   0.000000\n",
       "Distance           0   0.000000\n",
       "CouncilArea        0   0.000000"
      ]
     },
     "execution_count": 14,
     "metadata": {},
     "output_type": "execute_result"
    }
   ],
   "source": [
    "data_trans = data\n",
    "total = data_trans.isnull().sum()\n",
    "percent = data_trans.isnull().sum()/len(data)*100\n",
    "missing_data = pd.concat([total,percent], axis=1,keys=['Total', 'Percent'])\n",
    "missing_data"
   ]
  },
  {
   "cell_type": "code",
   "execution_count": 15,
   "metadata": {},
   "outputs": [],
   "source": [
    "#xoa cac feature co missing value > 30% va lay cac feature con lai\n",
    "# data_trans = data[[column for column in data if data[column].count()/len(data) > 0.7]]\n",
    "# total = data_trans.isnull().sum()\n",
    "# percent = data_trans.isnull().sum()/len(data_trans)*100\n",
    "# missing_data = pd.concat([total,percent], axis=1,keys=['Total', 'Percent'])\n",
    "# missing_data"
   ]
  },
  {
   "cell_type": "code",
   "execution_count": 16,
   "metadata": {},
   "outputs": [],
   "source": [
    "# xoa cac missing value\n",
    "data_trans = data_trans.dropna()"
   ]
  },
  {
   "cell_type": "code",
   "execution_count": 17,
   "metadata": {},
   "outputs": [
    {
     "data": {
      "text/plain": [
       "0"
      ]
     },
     "execution_count": 17,
     "metadata": {},
     "output_type": "execute_result"
    }
   ],
   "source": [
    "data_trans.isnull().sum().sum()"
   ]
  },
  {
   "cell_type": "markdown",
   "metadata": {},
   "source": [
    "# Relation of numerical features to target(Price)"
   ]
  },
  {
   "cell_type": "code",
   "execution_count": 18,
   "metadata": {},
   "outputs": [
    {
     "data": {
      "text/plain": [
       "['Rooms', 'Price', 'Propertycount', 'Distance']"
      ]
     },
     "execution_count": 18,
     "metadata": {},
     "output_type": "execute_result"
    }
   ],
   "source": [
    "num_feature = [c for c in num_feature if c in data_trans.columns]\n",
    "num_feature"
   ]
  },
  {
   "cell_type": "code",
   "execution_count": 19,
   "metadata": {},
   "outputs": [
    {
     "data": {
      "image/png": "[encoded data removed]",
      "text/plain": [
       "<Figure size 720x360 with 1 Axes>"
      ]
     },
     "metadata": {
      "needs_background": "light"
     },
     "output_type": "display_data"
    },
    {
     "data": {
      "image/png": "[encoded data removed]",
      "text/plain": [
       "<Figure size 720x360 with 1 Axes>"
      ]
     },
     "metadata": {
      "needs_background": "light"
     },
     "output_type": "display_data"
    },
    {
     "data": {
      "image/png": "[encoded data removed]",
      "text/plain": [
       "<Figure size 720x360 with 1 Axes>"
      ]
     },
     "metadata": {
      "needs_background": "light"
     },
     "output_type": "display_data"
    }
   ],
   "source": [
    "list_plot = ['Rooms', 'Propertycount', 'Distance']\n",
    "for i in list_plot:\n",
    "    plt.figure(figsize=(10,5))\n",
    "    st = stats.pearsonr(data_trans[i], data_trans['Price'])     \n",
    "    plt.title('r = '+ \"{0:.2f}\".format(st[0]))\n",
    "    sns.regplot(data_trans[i], data_trans['Price'])"
   ]
  },
  {
   "cell_type": "markdown",
   "metadata": {},
   "source": [
    "- Tu cac bieu do tren ta thay rang cac he so correlation deu rat thap <0.5\n",
    "- Cac feature nhu propertycount co he so gan nhu bang = 0"
   ]
  },
  {
   "cell_type": "markdown",
   "metadata": {},
   "source": [
    "# Relation of Categorical features to Price"
   ]
  },
  {
   "cell_type": "code",
   "execution_count": 20,
   "metadata": {},
   "outputs": [
    {
     "name": "stdout",
     "output_type": "stream",
     "text": [
      "Reservoir           1067\n",
      "Bentleigh East       696\n",
      "Richmond             642\n",
      "Craigieburn          598\n",
      "Preston              593\n",
      "Mount Waverley       556\n",
      "Brunswick            540\n",
      "Northcote            496\n",
      "Cheltenham           493\n",
      "Glen Waverley        486\n",
      "Essendon             485\n",
      "Glenroy              482\n",
      "Coburg               464\n",
      "Mill Park            454\n",
      "South Yarra          436\n",
      "Glen Iris            434\n",
      "Pascoe Vale          433\n",
      "Bundoora             431\n",
      "Kew                  430\n",
      "Hawthorn             429\n",
      "Epping               421\n",
      "St Kilda             410\n",
      "Balwyn North         407\n",
      "Brighton             404\n",
      "Thornbury            394\n",
      "Doncaster East       393\n",
      "Hoppers Crossing     381\n",
      "Bentleigh            378\n",
      "Camberwell           376\n",
      "Brighton East        366\n",
      "                    ... \n",
      "Monbulk                2\n",
      "Park Orchards          2\n",
      "Werribee South         2\n",
      "Lyndhurst              2\n",
      "Ferny Creek            2\n",
      "Panton Hill            2\n",
      "Kallista               1\n",
      "Yan Yean               1\n",
      "Pentland Hills         1\n",
      "Wildwood               1\n",
      "Yarra Junction         1\n",
      "Seville                1\n",
      "Wandin North           1\n",
      "Mount Dandenong        1\n",
      "Coldstream             1\n",
      "Woori Yallock          1\n",
      "viewbank               1\n",
      "croydon                1\n",
      "Warrandyte South       1\n",
      "Castella               1\n",
      "Don Valley             1\n",
      "Kalorama               1\n",
      "Belgrave Heights       1\n",
      "Cockatoo               1\n",
      "Chintin                1\n",
      "Belgrave               1\n",
      "Olinda                 1\n",
      "Darley                 1\n",
      "Warneet                1\n",
      "Belgrave South         1\n",
      "Name: Suburb, Length: 370, dtype: int64\n",
      "##################################################\n",
      "14 Moray St                  7\n",
      "14 Northcote St              7\n",
      "56 Victoria St               7\n",
      "33 Wattle St                 6\n",
      "23 Latham St                 6\n",
      "197 Banksia St               6\n",
      "2A Charles St                6\n",
      "39 York St                   6\n",
      "25 View St                   6\n",
      "5/169 Centre Dandenong Rd    6\n",
      "401/340 Russell St           6\n",
      "15 Merlyn St                 6\n",
      "4 York St                    6\n",
      "7 Lawson St                  6\n",
      "52 Langs Rd                  6\n",
      "75 Baird St                  6\n",
      "4 Ivy St                     6\n",
      "4 Maldon Ct                  6\n",
      "16a Jassa St                 6\n",
      "72 Hickford St               6\n",
      "46 Chapel St                 6\n",
      "7 East St                    6\n",
      "23 Woorite Pl                6\n",
      "8/12 Schofield St            6\n",
      "2 Grout St                   6\n",
      "55 Coronation St             6\n",
      "8 Brogil Wk                  6\n",
      "40 Whyte St                  6\n",
      "11 Bennie St                 5\n",
      "5/488 Glenferrie Rd          5\n",
      "                            ..\n",
      "10 Port St                   1\n",
      "1 Royston St                 1\n",
      "34 Fuchsia Cr                1\n",
      "11 Plymouth Ct               1\n",
      "9 Wensley St                 1\n",
      "5/25 Clarence St             1\n",
      "5/248 Gordon St              1\n",
      "10 Harold St                 1\n",
      "192 Greenwood Dr             1\n",
      "1/90 Middlesex Rd            1\n",
      "55 Kennedy St                1\n",
      "19 Wavell St                 1\n",
      "5 Nickson Cl                 1\n",
      "43B Cole St                  1\n",
      "288 Church St                1\n",
      "38 Winbourne Rd              1\n",
      "17 Urquhart St               1\n",
      "20 Belford Av                1\n",
      "13 Doris Dr                  1\n",
      "9 Pinnacle Ct                1\n",
      "45 Grace St                  1\n",
      "24 Toolangi Rd               1\n",
      "39 Sunhill Cr                1\n",
      "1/236 Patterson Rd           1\n",
      "3 Kumara Cct                 1\n",
      "1/900 Hampton St             1\n",
      "4/97 Hawdon St               1\n",
      "41a Rennie St                1\n",
      "29 Chapman Av                1\n",
      "7 Balfour St                 1\n",
      "Name: Address, Length: 44739, dtype: int64\n",
      "##################################################\n",
      "h    34161\n",
      "u     9292\n",
      "t     4980\n",
      "Name: Type, dtype: int64\n",
      "##################################################\n",
      "S     30624\n",
      "SP     6480\n",
      "PI     5940\n",
      "VB     5024\n",
      "SA      365\n",
      "Name: Method, dtype: int64\n",
      "##################################################\n",
      "Barry                      4818\n",
      "Jellis                     4088\n",
      "Nelson                     4008\n",
      "Ray                        3653\n",
      "hockingstuart              3465\n",
      "Buxton                     2580\n",
      "Marshall                   1721\n",
      "Fletchers                  1160\n",
      "Biggin                     1022\n",
      "Harcourts                   912\n",
      "Brad                        911\n",
      "YPA                         897\n",
      "Woodards                    873\n",
      "McGrath                     860\n",
      "Noel                        835\n",
      "Hodges                      713\n",
      "Stockdale                   693\n",
      "Greg                        633\n",
      "HAR                         578\n",
      "Jas                         573\n",
      "Sweeney                     567\n",
      "Raine                       555\n",
      "Miles                       529\n",
      "Gary                        514\n",
      "O'Brien                     492\n",
      "RW                          484\n",
      "RT                          480\n",
      "Love                        441\n",
      "Kay                         285\n",
      "C21                         284\n",
      "                           ... \n",
      "Clairmont                     1\n",
      "Len                           1\n",
      "Vicprop                       1\n",
      "hockingstuart/Marshall        1\n",
      "Spencer                       1\n",
      "hockingstuart/Kerr            1\n",
      "North                         1\n",
      "Commercial                    1\n",
      "VicHomes                      1\n",
      "Gellibrand                    1\n",
      "Vic                           1\n",
      "Jacobs                        1\n",
      "hockingstuart/Advantage       1\n",
      "Tiernan's                     1\n",
      "Marvelli                      1\n",
      "Naison                        1\n",
      "Nicholas                      1\n",
      "Mindacom                      1\n",
      "AIME                          1\n",
      "Bustin                        1\n",
      "TTS                           1\n",
      "Direct                        1\n",
      "For                           1\n",
      "Steveway                      1\n",
      "SN                            1\n",
      "Finders                       1\n",
      "Full                          1\n",
      "Geoff                         1\n",
      "hockingstuart/Sweeney         1\n",
      "Allan                         1\n",
      "Name: SellerG, Length: 422, dtype: int64\n",
      "##################################################\n",
      "24/03/2018    880\n",
      "28/10/2017    879\n",
      "17/03/2018    753\n",
      "27/11/2016    753\n",
      "9/12/2017     724\n",
      "24/02/2018    723\n",
      "25/02/2017    717\n",
      "10/12/2016    715\n",
      "25/11/2017    682\n",
      "18/11/2017    681\n",
      "4/03/2017     665\n",
      "18/03/2017    655\n",
      "3/03/2018     647\n",
      "8/04/2017     627\n",
      "23/12/2017    624\n",
      "8/01/2018     624\n",
      "30/12/2017    624\n",
      "16/12/2017    624\n",
      "6/01/2018     624\n",
      "27/05/2017    610\n",
      "3/12/2016     598\n",
      "28/04/2018    595\n",
      "23/09/2017    591\n",
      "12/11/2016    584\n",
      "20/05/2017    582\n",
      "19/11/2016    567\n",
      "15/10/2016    566\n",
      "14/10/2017    559\n",
      "11/11/2017    555\n",
      "29/04/2017    553\n",
      "             ... \n",
      "6/10/2018     347\n",
      "1/09/2018     345\n",
      "15/07/2017    336\n",
      "7/04/2018     324\n",
      "30/06/2018    323\n",
      "6/08/2016     320\n",
      "11/08/2018    316\n",
      "28/07/2018    311\n",
      "16/07/2016    292\n",
      "10/02/2018    284\n",
      "13/08/2016    284\n",
      "26/07/2016    254\n",
      "21/07/2018    250\n",
      "7/07/2018     247\n",
      "4/08/2018     247\n",
      "14/07/2018    245\n",
      "11/02/2017    240\n",
      "23/04/2016    237\n",
      "10/03/2018    121\n",
      "12/06/2016    111\n",
      "11/03/2017    103\n",
      "4/02/2016      89\n",
      "9/06/2018      86\n",
      "3/02/2018      85\n",
      "4/11/2017      77\n",
      "30/09/2017     18\n",
      "20/01/2018     12\n",
      "31/03/2018     11\n",
      "27/01/2018     11\n",
      "28/01/2016     10\n",
      "Name: Date, Length: 112, dtype: int64\n",
      "##################################################\n",
      "Northern Metropolitan         13598\n",
      "Southern Metropolitan         12549\n",
      "Western Metropolitan           9680\n",
      "Eastern Metropolitan           7585\n",
      "South-Eastern Metropolitan     4010\n",
      "Northern Victoria               455\n",
      "Eastern Victoria                374\n",
      "Western Victoria                182\n",
      "Name: Regionname, dtype: int64\n",
      "##################################################\n",
      "Darebin City Council              3462\n",
      "Boroondara City Council           3455\n",
      "Banyule City Council              2902\n",
      "Brimbank City Council             2720\n",
      "Moreland City Council             2519\n",
      "Bayside City Council              2495\n",
      "Monash City Council               2442\n",
      "Hume City Council                 2373\n",
      "Glen Eira City Council            2351\n",
      "Moonee Valley City Council        2163\n",
      "Whittlesea City Council           2059\n",
      "Melbourne City Council            2055\n",
      "Kingston City Council             2025\n",
      "Maribyrnong City Council          1734\n",
      "Manningham City Council           1730\n",
      "Whitehorse City Council           1320\n",
      "Yarra City Council                1320\n",
      "Port Phillip City Council         1291\n",
      "Stonnington City Council          1228\n",
      "Wyndham City Council              1154\n",
      "Hobsons Bay City Council          1112\n",
      "Maroondah City Council            1006\n",
      "Knox City Council                  750\n",
      "Frankston City Council             656\n",
      "Greater Dandenong City Council     596\n",
      "Melton City Council                552\n",
      "Casey City Council                 343\n",
      "Nillumbik Shire Council            238\n",
      "Yarra Ranges Shire Council         175\n",
      "Macedon Ranges Shire Council       114\n",
      "Cardinia Shire Council              52\n",
      "Mitchell Shire Council              29\n",
      "Moorabool Shire Council             11\n",
      "Murrindindi Shire Council            1\n",
      "Name: CouncilArea, dtype: int64\n",
      "##################################################\n",
      "3073    1067\n",
      "3064     854\n",
      "3020     767\n",
      "3046     756\n",
      "3121     709\n",
      "3165     696\n",
      "3150     672\n",
      "3058     658\n",
      "3204     649\n",
      "3040     629\n",
      "3012     602\n",
      "3032     601\n",
      "3195     595\n",
      "3072     593\n",
      "3163     568\n",
      "3030     558\n",
      "3149     556\n",
      "3056     540\n",
      "3029     533\n",
      "3130     526\n",
      "3070     496\n",
      "3192     493\n",
      "3037     480\n",
      "3083     480\n",
      "3082     454\n",
      "3088     448\n",
      "3011     437\n",
      "3141     436\n",
      "3146     434\n",
      "3042     433\n",
      "        ... \n",
      "3160       7\n",
      "3757       6\n",
      "3975       6\n",
      "3782       6\n",
      "3809       5\n",
      "3115       5\n",
      "3765       5\n",
      "3099       5\n",
      "3063       4\n",
      "3158       4\n",
      "3139       4\n",
      "3775       3\n",
      "3428       3\n",
      "3978       3\n",
      "3808       3\n",
      "3795       3\n",
      "3759       2\n",
      "3114       2\n",
      "3793       2\n",
      "3786       2\n",
      "3797       1\n",
      "3766       1\n",
      "3341       1\n",
      "3770       1\n",
      "3791       1\n",
      "3755       1\n",
      "3781       1\n",
      "3788       1\n",
      "3767       1\n",
      "3980       1\n",
      "Name: Postcode, Length: 221, dtype: int64\n",
      "##################################################\n"
     ]
    }
   ],
   "source": [
    "# xem cac gia tri cua cac features\n",
    "category_feature = [c for c in category_feature if c in data_trans.columns]\n",
    "for catg in category_feature:\n",
    "    print(data_trans[catg].value_counts())\n",
    "    print('#'*50)"
   ]
  },
  {
   "cell_type": "markdown",
   "metadata": {},
   "source": [
    "Phan loai cac categorical features"
   ]
  },
  {
   "cell_type": "markdown",
   "metadata": {},
   "source": [
    "- Cac feature nhu Suburb, Address, CouncilArea, Regionname,Postcode deu chi vi tri dia ly cua khu vuc cua ngoi nha.\n",
    "- Vi so luong value cua cac feature Suburb, Address, CouncilArea rat nhieu nen ta se kho visualize, testing va build model\n",
    "- Do do trong cac feature tren ta chon Regioname lam category dai dien de khao sat su anh huong cua khu vuc den Price"
   ]
  },
  {
   "cell_type": "code",
   "execution_count": 21,
   "metadata": {},
   "outputs": [],
   "source": [
    "# Xoa cac feature 'Suburb', 'Address', 'CouncilArea','Postcode'\n",
    "data_trans = data_trans.drop(['Suburb', 'Address', 'CouncilArea','Postcode'], axis=1)"
   ]
  },
  {
   "cell_type": "code",
   "execution_count": 22,
   "metadata": {},
   "outputs": [],
   "source": [
    "#xu ly Date\n",
    "#Phan loai du lieu Date thanh cac quy cua nam voi cac gia tri 1,2,3,4,5,6,7,8,9,10,11,12 tuong ung voi quy 1,2,3,4 cua nam 2016\n",
    "# quy 1,2,3,4 cua nam 2017, quy 1,2,3,4 cua nam 2018\n",
    "data_trans['Date'] = pd.to_datetime(data_trans['Date'])\n",
    "data_trans['quarter'] = data_trans['Date'].dt.quarter\n",
    "data_trans['year'] = data_trans['Date'].dt.year\n",
    "\n",
    "data_trans['Quarter_of_year'] = 1\n",
    "data_trans.loc[((data_trans['quarter']==2) & (data_trans['year']==2016)), 'Quarter_of_year'] = 2\n",
    "data_trans.loc[((data_trans['quarter']==3) & (data_trans['year']==2016)), 'Quarter_of_year'] = 3\n",
    "data_trans.loc[((data_trans['quarter']==4) & (data_trans['year']==2016)), 'Quarter_of_year'] = 4\n",
    "data_trans.loc[((data_trans['quarter']==1) & (data_trans['year']==2017)), 'Quarter_of_year'] = 5\n",
    "data_trans.loc[((data_trans['quarter']==2) & (data_trans['year']==2017)), 'Quarter_of_year'] = 6\n",
    "data_trans.loc[((data_trans['quarter']==3) & (data_trans['year']==2017)), 'Quarter_of_year'] = 7\n",
    "data_trans.loc[((data_trans['quarter']==4) & (data_trans['year']==2017)), 'Quarter_of_year'] = 8\n",
    "data_trans.loc[((data_trans['quarter']==1) & (data_trans['year']==2018)), 'Quarter_of_year'] = 9\n",
    "data_trans.loc[((data_trans['quarter']==2) & (data_trans['year']==2018)), 'Quarter_of_year'] = 10\n",
    "data_trans.loc[((data_trans['quarter']==3) & (data_trans['year']==2018)), 'Quarter_of_year'] = 11\n",
    "data_trans.loc[((data_trans['quarter']==4) & (data_trans['year']==2018)), 'Quarter_of_year'] = 12"
   ]
  },
  {
   "cell_type": "code",
   "execution_count": 23,
   "metadata": {
    "scrolled": false
   },
   "outputs": [],
   "source": [
    "# xu ly SellerG\n",
    "# phan loai SellerG thanh cac nhom nguoi co so luong nha ban duoc khac nhau, voi khoang phan loai la <1000, >1000, >2000, >3000, >4000\n",
    "# vi co the gia cua nguoi ban dua ra khac nhau co the anh huong so luong nha ho ban duoc (nghia la SellerG co the anh huong den Price)\n",
    "SellerG_frame = data_trans['SellerG'].value_counts().to_frame()\n",
    "SellerG_lower1000 = list(SellerG_frame[SellerG_frame['SellerG'] < 1000].index)\n",
    "SellerG_upper1000 = list(SellerG_frame[(SellerG_frame['SellerG'] >= 1000) & (SellerG_frame['SellerG'] < 2000)].index)\n",
    "SellerG_upper2000 = list(SellerG_frame[(SellerG_frame['SellerG'] >= 2000) & (SellerG_frame['SellerG'] < 3000)].index)\n",
    "SellerG_upper3000 = list(SellerG_frame[(SellerG_frame['SellerG'] >= 3000) & (SellerG_frame['SellerG'] < 4000)].index)\n",
    "SellerG_upper4000 = list(SellerG_frame[(SellerG_frame['SellerG'] >= 4000) & (SellerG_frame['SellerG'] < 5000)].index)\n",
    "\n",
    "data_trans['SellerG_level'] = 1\n",
    "data_trans.loc[(data_trans['SellerG'].isin(SellerG_upper1000)), 'SellerG_level'] = 2\n",
    "data_trans.loc[(data_trans['SellerG'].isin(SellerG_upper2000)), 'SellerG_level'] = 3\n",
    "data_trans.loc[(data_trans['SellerG'].isin(SellerG_upper3000)), 'SellerG_level'] = 4\n",
    "data_trans.loc[(data_trans['SellerG'].isin(SellerG_upper4000)), 'SellerG_level'] = 5\n"
   ]
  },
  {
   "cell_type": "code",
   "execution_count": 24,
   "metadata": {},
   "outputs": [],
   "source": [
    "# cap nhap lai cac categorical features\n",
    "category_feature = ['Type', 'Method', 'Regionname', 'SellerG_level', 'Quarter_of_year']"
   ]
  },
  {
   "cell_type": "code",
   "execution_count": 25,
   "metadata": {},
   "outputs": [
    {
     "data": {
      "text/html": [
       "<div>\n",
       "<style scoped>\n",
       "    .dataframe tbody tr th:only-of-type {\n",
       "        vertical-align: middle;\n",
       "    }\n",
       "\n",
       "    .dataframe tbody tr th {\n",
       "        vertical-align: top;\n",
       "    }\n",
       "\n",
       "    .dataframe thead th {\n",
       "        text-align: right;\n",
       "    }\n",
       "</style>\n",
       "<table border=\"1\" class=\"dataframe\">\n",
       "  <thead>\n",
       "    <tr style=\"text-align: right;\">\n",
       "      <th></th>\n",
       "      <th>Rooms</th>\n",
       "      <th>Price</th>\n",
       "      <th>Propertycount</th>\n",
       "      <th>Distance</th>\n",
       "      <th>quarter</th>\n",
       "      <th>year</th>\n",
       "      <th>Quarter_of_year</th>\n",
       "      <th>SellerG_level</th>\n",
       "    </tr>\n",
       "  </thead>\n",
       "  <tbody>\n",
       "    <tr>\n",
       "      <th>count</th>\n",
       "      <td>48433.000000</td>\n",
       "      <td>4.843300e+04</td>\n",
       "      <td>48433.000000</td>\n",
       "      <td>48433.000000</td>\n",
       "      <td>48433.000000</td>\n",
       "      <td>48433.000000</td>\n",
       "      <td>48433.000000</td>\n",
       "      <td>48433.000000</td>\n",
       "    </tr>\n",
       "    <tr>\n",
       "      <th>mean</th>\n",
       "      <td>3.071666</td>\n",
       "      <td>9.978982e+05</td>\n",
       "      <td>7566.399913</td>\n",
       "      <td>12.702761</td>\n",
       "      <td>2.606611</td>\n",
       "      <td>2017.041026</td>\n",
       "      <td>6.770714</td>\n",
       "      <td>2.694568</td>\n",
       "    </tr>\n",
       "    <tr>\n",
       "      <th>std</th>\n",
       "      <td>0.944708</td>\n",
       "      <td>5.934989e+05</td>\n",
       "      <td>4457.405884</td>\n",
       "      <td>7.550030</td>\n",
       "      <td>1.040493</td>\n",
       "      <td>0.761373</td>\n",
       "      <td>2.968946</td>\n",
       "      <td>1.735235</td>\n",
       "    </tr>\n",
       "    <tr>\n",
       "      <th>min</th>\n",
       "      <td>1.000000</td>\n",
       "      <td>8.500000e+04</td>\n",
       "      <td>39.000000</td>\n",
       "      <td>0.000000</td>\n",
       "      <td>1.000000</td>\n",
       "      <td>2016.000000</td>\n",
       "      <td>1.000000</td>\n",
       "      <td>1.000000</td>\n",
       "    </tr>\n",
       "    <tr>\n",
       "      <th>10%</th>\n",
       "      <td>2.000000</td>\n",
       "      <td>4.800400e+05</td>\n",
       "      <td>2674.000000</td>\n",
       "      <td>4.300000</td>\n",
       "      <td>1.000000</td>\n",
       "      <td>2016.000000</td>\n",
       "      <td>2.000000</td>\n",
       "      <td>1.000000</td>\n",
       "    </tr>\n",
       "    <tr>\n",
       "      <th>25%</th>\n",
       "      <td>2.000000</td>\n",
       "      <td>6.200000e+05</td>\n",
       "      <td>4280.000000</td>\n",
       "      <td>7.000000</td>\n",
       "      <td>2.000000</td>\n",
       "      <td>2016.000000</td>\n",
       "      <td>4.000000</td>\n",
       "      <td>1.000000</td>\n",
       "    </tr>\n",
       "    <tr>\n",
       "      <th>50%</th>\n",
       "      <td>3.000000</td>\n",
       "      <td>8.300000e+05</td>\n",
       "      <td>6567.000000</td>\n",
       "      <td>11.700000</td>\n",
       "      <td>3.000000</td>\n",
       "      <td>2017.000000</td>\n",
       "      <td>7.000000</td>\n",
       "      <td>2.000000</td>\n",
       "    </tr>\n",
       "    <tr>\n",
       "      <th>75%</th>\n",
       "      <td>4.000000</td>\n",
       "      <td>1.220000e+06</td>\n",
       "      <td>10412.000000</td>\n",
       "      <td>16.700000</td>\n",
       "      <td>3.000000</td>\n",
       "      <td>2018.000000</td>\n",
       "      <td>9.000000</td>\n",
       "      <td>5.000000</td>\n",
       "    </tr>\n",
       "    <tr>\n",
       "      <th>95%</th>\n",
       "      <td>5.000000</td>\n",
       "      <td>2.100000e+06</td>\n",
       "      <td>15510.000000</td>\n",
       "      <td>26.500000</td>\n",
       "      <td>4.000000</td>\n",
       "      <td>2018.000000</td>\n",
       "      <td>11.000000</td>\n",
       "      <td>5.000000</td>\n",
       "    </tr>\n",
       "    <tr>\n",
       "      <th>99%</th>\n",
       "      <td>5.000000</td>\n",
       "      <td>3.200000e+06</td>\n",
       "      <td>21650.000000</td>\n",
       "      <td>38.000000</td>\n",
       "      <td>4.000000</td>\n",
       "      <td>2018.000000</td>\n",
       "      <td>12.000000</td>\n",
       "      <td>5.000000</td>\n",
       "    </tr>\n",
       "    <tr>\n",
       "      <th>max</th>\n",
       "      <td>31.000000</td>\n",
       "      <td>1.120000e+07</td>\n",
       "      <td>21650.000000</td>\n",
       "      <td>55.800000</td>\n",
       "      <td>4.000000</td>\n",
       "      <td>2018.000000</td>\n",
       "      <td>12.000000</td>\n",
       "      <td>5.000000</td>\n",
       "    </tr>\n",
       "  </tbody>\n",
       "</table>\n",
       "</div>"
      ],
      "text/plain": [
       "              Rooms         Price  Propertycount      Distance       quarter  \\\n",
       "count  48433.000000  4.843300e+04   48433.000000  48433.000000  48433.000000   \n",
       "mean       3.071666  9.978982e+05    7566.399913     12.702761      2.606611   \n",
       "std        0.944708  5.934989e+05    4457.405884      7.550030      1.040493   \n",
       "min        1.000000  8.500000e+04      39.000000      0.000000      1.000000   \n",
       "10%        2.000000  4.800400e+05    2674.000000      4.300000      1.000000   \n",
       "25%        2.000000  6.200000e+05    4280.000000      7.000000      2.000000   \n",
       "50%        3.000000  8.300000e+05    6567.000000     11.700000      3.000000   \n",
       "75%        4.000000  1.220000e+06   10412.000000     16.700000      3.000000   \n",
       "95%        5.000000  2.100000e+06   15510.000000     26.500000      4.000000   \n",
       "99%        5.000000  3.200000e+06   21650.000000     38.000000      4.000000   \n",
       "max       31.000000  1.120000e+07   21650.000000     55.800000      4.000000   \n",
       "\n",
       "               year  Quarter_of_year  SellerG_level  \n",
       "count  48433.000000     48433.000000   48433.000000  \n",
       "mean    2017.041026         6.770714       2.694568  \n",
       "std        0.761373         2.968946       1.735235  \n",
       "min     2016.000000         1.000000       1.000000  \n",
       "10%     2016.000000         2.000000       1.000000  \n",
       "25%     2016.000000         4.000000       1.000000  \n",
       "50%     2017.000000         7.000000       2.000000  \n",
       "75%     2018.000000         9.000000       5.000000  \n",
       "95%     2018.000000        11.000000       5.000000  \n",
       "99%     2018.000000        12.000000       5.000000  \n",
       "max     2018.000000        12.000000       5.000000  "
      ]
     },
     "execution_count": 25,
     "metadata": {},
     "output_type": "execute_result"
    }
   ],
   "source": [
    "data_trans.describe(percentiles=[.1,.25,.50,.75,.95,.99])"
   ]
  },
  {
   "cell_type": "code",
   "execution_count": 26,
   "metadata": {},
   "outputs": [
    {
     "data": {
      "image/png": "[encoded data removed]",
      "text/plain": [
       "<Figure size 720x360 with 1 Axes>"
      ]
     },
     "metadata": {
      "needs_background": "light"
     },
     "output_type": "display_data"
    },
    {
     "data": {
      "image/png": "[encoded data removed]",
      "text/plain": [
       "<Figure size 720x360 with 1 Axes>"
      ]
     },
     "metadata": {
      "needs_background": "light"
     },
     "output_type": "display_data"
    },
    {
     "data": {
      "image/png": "[encoded data removed]",
      "text/plain": [
       "<Figure size 720x360 with 1 Axes>"
      ]
     },
     "metadata": {
      "needs_background": "light"
     },
     "output_type": "display_data"
    },
    {
     "data": {
      "image/png": "[encoded data removed]",
      "text/plain": [
       "<Figure size 720x360 with 1 Axes>"
      ]
     },
     "metadata": {
      "needs_background": "light"
     },
     "output_type": "display_data"
    },
    {
     "data": {
      "image/png": "[encoded data removed]",
      "text/plain": [
       "<Figure size 720x360 with 1 Axes>"
      ]
     },
     "metadata": {
      "needs_background": "light"
     },
     "output_type": "display_data"
    }
   ],
   "source": [
    "for i in category_feature:\n",
    "    plt.figure(figsize=(10,5))\n",
    "    sns.boxplot(x=i, y='Price', data=data_trans)"
   ]
  },
  {
   "cell_type": "markdown",
   "metadata": {},
   "source": [
    "Tu cac bieu do tren ta thay cac feature Type, Method, Regionname, SellerG_level, Quater_of_year deu co anh huong den Price"
   ]
  },
  {
   "cell_type": "code",
   "execution_count": 27,
   "metadata": {},
   "outputs": [],
   "source": [
    "# Cap nhat lai cac feature cho tap du lieu moi de phuc vu testing va linear regression\n",
    "dataset = data_trans.drop(['SellerG','quarter','year','Date'], axis=1)"
   ]
  },
  {
   "cell_type": "markdown",
   "metadata": {},
   "source": [
    "# xu ly outlier"
   ]
  },
  {
   "cell_type": "code",
   "execution_count": 28,
   "metadata": {},
   "outputs": [
    {
     "data": {
      "text/html": [
       "<div>\n",
       "<style scoped>\n",
       "    .dataframe tbody tr th:only-of-type {\n",
       "        vertical-align: middle;\n",
       "    }\n",
       "\n",
       "    .dataframe tbody tr th {\n",
       "        vertical-align: top;\n",
       "    }\n",
       "\n",
       "    .dataframe thead th {\n",
       "        text-align: right;\n",
       "    }\n",
       "</style>\n",
       "<table border=\"1\" class=\"dataframe\">\n",
       "  <thead>\n",
       "    <tr style=\"text-align: right;\">\n",
       "      <th></th>\n",
       "      <th>Total</th>\n",
       "      <th>Percent</th>\n",
       "    </tr>\n",
       "  </thead>\n",
       "  <tbody>\n",
       "    <tr>\n",
       "      <th>Rooms</th>\n",
       "      <td>32</td>\n",
       "      <td>0.066071</td>\n",
       "    </tr>\n",
       "    <tr>\n",
       "      <th>Type</th>\n",
       "      <td>0</td>\n",
       "      <td>0.000000</td>\n",
       "    </tr>\n",
       "    <tr>\n",
       "      <th>Price</th>\n",
       "      <td>2272</td>\n",
       "      <td>4.691016</td>\n",
       "    </tr>\n",
       "    <tr>\n",
       "      <th>Method</th>\n",
       "      <td>0</td>\n",
       "      <td>0.000000</td>\n",
       "    </tr>\n",
       "    <tr>\n",
       "      <th>Regionname</th>\n",
       "      <td>0</td>\n",
       "      <td>0.000000</td>\n",
       "    </tr>\n",
       "    <tr>\n",
       "      <th>Propertycount</th>\n",
       "      <td>1067</td>\n",
       "      <td>2.203043</td>\n",
       "    </tr>\n",
       "    <tr>\n",
       "      <th>Distance</th>\n",
       "      <td>1522</td>\n",
       "      <td>3.142485</td>\n",
       "    </tr>\n",
       "    <tr>\n",
       "      <th>Quarter_of_year</th>\n",
       "      <td>0</td>\n",
       "      <td>0.000000</td>\n",
       "    </tr>\n",
       "    <tr>\n",
       "      <th>SellerG_level</th>\n",
       "      <td>0</td>\n",
       "      <td>0.000000</td>\n",
       "    </tr>\n",
       "  </tbody>\n",
       "</table>\n",
       "</div>"
      ],
      "text/plain": [
       "                 Total   Percent\n",
       "Rooms               32  0.066071\n",
       "Type                 0  0.000000\n",
       "Price             2272  4.691016\n",
       "Method               0  0.000000\n",
       "Regionname           0  0.000000\n",
       "Propertycount     1067  2.203043\n",
       "Distance          1522  3.142485\n",
       "Quarter_of_year      0  0.000000\n",
       "SellerG_level        0  0.000000"
      ]
     },
     "execution_count": 28,
     "metadata": {},
     "output_type": "execute_result"
    }
   ],
   "source": [
    "q1 = dataset.quantile(0.25)\n",
    "q3 = dataset.quantile(0.75)\n",
    "iqr = q3 - q1\n",
    "dataset = dataset[~((dataset < (q1 - 1.5 * iqr)) |(dataset > (q3 + 1.5 * iqr)))]\n",
    "total = dataset.isnull().sum()\n",
    "percent = dataset.isnull().sum()/len(dataset)*100\n",
    "missing_dataset = pd.concat([total,percent], axis=1,keys=['Total', 'Percent'])\n",
    "missing_dataset"
   ]
  },
  {
   "cell_type": "code",
   "execution_count": 29,
   "metadata": {},
   "outputs": [
    {
     "data": {
      "text/plain": [
       "Rooms              0\n",
       "Type               0\n",
       "Price              0\n",
       "Method             0\n",
       "Regionname         0\n",
       "Propertycount      0\n",
       "Distance           0\n",
       "Quarter_of_year    0\n",
       "SellerG_level      0\n",
       "dtype: int64"
      ]
     },
     "execution_count": 29,
     "metadata": {},
     "output_type": "execute_result"
    }
   ],
   "source": [
    "# xoa cac missing value, luc nay du lieu con lai gan 70%\n",
    "dataset = dataset.dropna()\n",
    "dataset.isnull().sum()"
   ]
  },
  {
   "cell_type": "code",
   "execution_count": 30,
   "metadata": {},
   "outputs": [
    {
     "data": {
      "text/html": [
       "<div>\n",
       "<style scoped>\n",
       "    .dataframe tbody tr th:only-of-type {\n",
       "        vertical-align: middle;\n",
       "    }\n",
       "\n",
       "    .dataframe tbody tr th {\n",
       "        vertical-align: top;\n",
       "    }\n",
       "\n",
       "    .dataframe thead th {\n",
       "        text-align: right;\n",
       "    }\n",
       "</style>\n",
       "<table border=\"1\" class=\"dataframe\">\n",
       "  <thead>\n",
       "    <tr style=\"text-align: right;\">\n",
       "      <th></th>\n",
       "      <th>Rooms</th>\n",
       "      <th>Price</th>\n",
       "      <th>Propertycount</th>\n",
       "      <th>Distance</th>\n",
       "      <th>Quarter_of_year</th>\n",
       "      <th>SellerG_level</th>\n",
       "    </tr>\n",
       "  </thead>\n",
       "  <tbody>\n",
       "    <tr>\n",
       "      <th>count</th>\n",
       "      <td>43559.00000</td>\n",
       "      <td>4.355900e+04</td>\n",
       "      <td>43559.000000</td>\n",
       "      <td>43559.000000</td>\n",
       "      <td>43559.000000</td>\n",
       "      <td>43559.000000</td>\n",
       "    </tr>\n",
       "    <tr>\n",
       "      <th>mean</th>\n",
       "      <td>3.01320</td>\n",
       "      <td>9.215156e+05</td>\n",
       "      <td>7148.287977</td>\n",
       "      <td>12.132719</td>\n",
       "      <td>6.758236</td>\n",
       "      <td>2.701967</td>\n",
       "    </tr>\n",
       "    <tr>\n",
       "      <th>std</th>\n",
       "      <td>0.90579</td>\n",
       "      <td>4.007110e+05</td>\n",
       "      <td>3894.292813</td>\n",
       "      <td>6.378107</td>\n",
       "      <td>2.982066</td>\n",
       "      <td>1.741218</td>\n",
       "    </tr>\n",
       "    <tr>\n",
       "      <th>min</th>\n",
       "      <td>1.00000</td>\n",
       "      <td>8.500000e+04</td>\n",
       "      <td>121.000000</td>\n",
       "      <td>0.000000</td>\n",
       "      <td>1.000000</td>\n",
       "      <td>1.000000</td>\n",
       "    </tr>\n",
       "    <tr>\n",
       "      <th>10%</th>\n",
       "      <td>2.00000</td>\n",
       "      <td>4.825000e+05</td>\n",
       "      <td>2651.000000</td>\n",
       "      <td>4.300000</td>\n",
       "      <td>2.000000</td>\n",
       "      <td>1.000000</td>\n",
       "    </tr>\n",
       "    <tr>\n",
       "      <th>25%</th>\n",
       "      <td>2.00000</td>\n",
       "      <td>6.200000e+05</td>\n",
       "      <td>4181.000000</td>\n",
       "      <td>6.800000</td>\n",
       "      <td>4.000000</td>\n",
       "      <td>1.000000</td>\n",
       "    </tr>\n",
       "    <tr>\n",
       "      <th>50%</th>\n",
       "      <td>3.00000</td>\n",
       "      <td>8.250000e+05</td>\n",
       "      <td>6388.000000</td>\n",
       "      <td>11.400000</td>\n",
       "      <td>7.000000</td>\n",
       "      <td>2.000000</td>\n",
       "    </tr>\n",
       "    <tr>\n",
       "      <th>75%</th>\n",
       "      <td>4.00000</td>\n",
       "      <td>1.175000e+06</td>\n",
       "      <td>9758.000000</td>\n",
       "      <td>16.700000</td>\n",
       "      <td>9.000000</td>\n",
       "      <td>5.000000</td>\n",
       "    </tr>\n",
       "    <tr>\n",
       "      <th>95%</th>\n",
       "      <td>4.00000</td>\n",
       "      <td>1.735000e+06</td>\n",
       "      <td>14949.000000</td>\n",
       "      <td>23.200000</td>\n",
       "      <td>11.000000</td>\n",
       "      <td>5.000000</td>\n",
       "    </tr>\n",
       "    <tr>\n",
       "      <th>99%</th>\n",
       "      <td>5.00000</td>\n",
       "      <td>2.000000e+06</td>\n",
       "      <td>16166.000000</td>\n",
       "      <td>27.200000</td>\n",
       "      <td>12.000000</td>\n",
       "      <td>5.000000</td>\n",
       "    </tr>\n",
       "    <tr>\n",
       "      <th>max</th>\n",
       "      <td>7.00000</td>\n",
       "      <td>2.120000e+06</td>\n",
       "      <td>17496.000000</td>\n",
       "      <td>31.200000</td>\n",
       "      <td>12.000000</td>\n",
       "      <td>5.000000</td>\n",
       "    </tr>\n",
       "  </tbody>\n",
       "</table>\n",
       "</div>"
      ],
      "text/plain": [
       "             Rooms         Price  Propertycount      Distance  \\\n",
       "count  43559.00000  4.355900e+04   43559.000000  43559.000000   \n",
       "mean       3.01320  9.215156e+05    7148.287977     12.132719   \n",
       "std        0.90579  4.007110e+05    3894.292813      6.378107   \n",
       "min        1.00000  8.500000e+04     121.000000      0.000000   \n",
       "10%        2.00000  4.825000e+05    2651.000000      4.300000   \n",
       "25%        2.00000  6.200000e+05    4181.000000      6.800000   \n",
       "50%        3.00000  8.250000e+05    6388.000000     11.400000   \n",
       "75%        4.00000  1.175000e+06    9758.000000     16.700000   \n",
       "95%        4.00000  1.735000e+06   14949.000000     23.200000   \n",
       "99%        5.00000  2.000000e+06   16166.000000     27.200000   \n",
       "max        7.00000  2.120000e+06   17496.000000     31.200000   \n",
       "\n",
       "       Quarter_of_year  SellerG_level  \n",
       "count     43559.000000   43559.000000  \n",
       "mean          6.758236       2.701967  \n",
       "std           2.982066       1.741218  \n",
       "min           1.000000       1.000000  \n",
       "10%           2.000000       1.000000  \n",
       "25%           4.000000       1.000000  \n",
       "50%           7.000000       2.000000  \n",
       "75%           9.000000       5.000000  \n",
       "95%          11.000000       5.000000  \n",
       "99%          12.000000       5.000000  \n",
       "max          12.000000       5.000000  "
      ]
     },
     "execution_count": 30,
     "metadata": {},
     "output_type": "execute_result"
    }
   ],
   "source": [
    "dataset.describe(percentiles=[.1,.25,.50,.75,.95,.99])"
   ]
  },
  {
   "cell_type": "markdown",
   "metadata": {},
   "source": [
    "# Heatmap"
   ]
  },
  {
   "cell_type": "code",
   "execution_count": 31,
   "metadata": {},
   "outputs": [
    {
     "data": {
      "text/plain": [
       "<matplotlib.axes._subplots.AxesSubplot at 0x256ebd6ed68>"
      ]
     },
     "execution_count": 31,
     "metadata": {},
     "output_type": "execute_result"
    },
    {
     "data": {
      "image/png": "[encoded data removed]",
      "text/plain": [
       "<Figure size 432x288 with 2 Axes>"
      ]
     },
     "metadata": {
      "needs_background": "light"
     },
     "output_type": "display_data"
    }
   ],
   "source": [
    "sns.heatmap(dataset.corr(), vmax=1.0, vmin=-1.0, annot=True)"
   ]
  },
  {
   "cell_type": "markdown",
   "metadata": {},
   "source": [
    "Tu bieu do tren ta thay giua Price va Rooms co he so tuong quan cao nhat (0.4), con cac feature con lai co he so tuong quan tuong doi thap"
   ]
  },
  {
   "cell_type": "markdown",
   "metadata": {},
   "source": [
    "# 1.2. Testing"
   ]
  },
  {
   "cell_type": "code",
   "execution_count": 32,
   "metadata": {},
   "outputs": [
    {
     "data": {
      "text/plain": [
       "Index(['Rooms', 'Type', 'Price', 'Method', 'Regionname', 'Propertycount',\n",
       "       'Distance', 'Quarter_of_year', 'SellerG_level'],\n",
       "      dtype='object')"
      ]
     },
     "execution_count": 32,
     "metadata": {},
     "output_type": "execute_result"
    }
   ],
   "source": [
    "dataset.columns"
   ]
  },
  {
   "cell_type": "code",
   "execution_count": 33,
   "metadata": {},
   "outputs": [
    {
     "name": "stdout",
     "output_type": "stream",
     "text": [
      "Reject H0, Rooms la Key factor cua Price\n"
     ]
    }
   ],
   "source": [
    "percent_sample = 0.5\n",
    "#testing Rooms\n",
    "f, p = f_oneway(dataset[dataset['Rooms']==1]['Price'].sample(frac=percent_sample),\n",
    "                dataset[dataset['Rooms']==2]['Price'].sample(frac=percent_sample),\n",
    "                dataset[dataset['Rooms']==3]['Price'].sample(frac=percent_sample),\n",
    "                dataset[dataset['Rooms']==4]['Price'].sample(frac=percent_sample),\n",
    "                dataset[dataset['Rooms']==5]['Price'].sample(frac=percent_sample),\n",
    "                dataset[dataset['Rooms']==6]['Price'].sample(frac=percent_sample),\n",
    "                dataset[dataset['Rooms']>=7]['Price'].sample(frac=percent_sample))\n",
    "if p < 0.05:\n",
    "    print('Reject H0, Rooms la Key factor cua Price')\n",
    "else:\n",
    "    print('Accept H0, Rooms khong phai la Key factor cua Price')"
   ]
  },
  {
   "cell_type": "code",
   "execution_count": 34,
   "metadata": {},
   "outputs": [
    {
     "name": "stdout",
     "output_type": "stream",
     "text": [
      "Reject H0, Type la Key factor cua Price\n"
     ]
    }
   ],
   "source": [
    "#testing Type\n",
    "f, p = f_oneway(dataset[dataset['Type']=='h']['Price'].sample(frac=percent_sample)\n",
    "                ,dataset[dataset['Type']=='u']['Price'].sample(frac=percent_sample)\n",
    "                ,dataset[dataset['Type']=='t']['Price'].sample(frac=percent_sample))\n",
    "if p < 0.05:\n",
    "    print('Reject H0, Type la Key factor cua Price')\n",
    "else:\n",
    "    print('Accept H0, Type khong phai la Key factor cua Price')"
   ]
  },
  {
   "cell_type": "code",
   "execution_count": 35,
   "metadata": {},
   "outputs": [
    {
     "name": "stdout",
     "output_type": "stream",
     "text": [
      "Reject H0, Method la Key factor cua Price\n"
     ]
    }
   ],
   "source": [
    "# dataset['Method'].value_counts()\n",
    "#test Method\n",
    "f, p = f_oneway(dataset[dataset['Method']=='S']['Price'].sample(frac=percent_sample)\n",
    "                ,dataset[dataset['Method']=='PI']['Price'].sample(frac=percent_sample)\n",
    "                ,dataset[dataset['Method']=='SP']['Price'].sample(frac=percent_sample)\n",
    "                ,dataset[dataset['Method']=='VB']['Price'].sample(frac=percent_sample)\n",
    "                ,dataset[dataset['Method']=='SA']['Price'].sample(frac=percent_sample))\n",
    "if p < 0.05:\n",
    "    print('Reject H0, Method la Key factor cua Price')\n",
    "else:\n",
    "    print('Accept H0, Method khong phai la Key factor cua Price')"
   ]
  },
  {
   "cell_type": "code",
   "execution_count": 36,
   "metadata": {},
   "outputs": [
    {
     "name": "stdout",
     "output_type": "stream",
     "text": [
      "Reject H0, Regionname la Key factor cua Price\n"
     ]
    }
   ],
   "source": [
    "# dataset['Regionname'].value_counts()\n",
    "#testing Regionname\n",
    "f, p = f_oneway(dataset[dataset['Regionname']=='Northern Metropolitan']['Price'].sample(frac=percent_sample),\n",
    "                dataset[dataset['Regionname']=='Southern Metropolitan']['Price'].sample(frac=percent_sample),\n",
    "                dataset[dataset['Regionname']=='Western Metropolitan']['Price'].sample(frac=percent_sample),\n",
    "                dataset[dataset['Regionname']=='Eastern Metropolitan']['Price'].sample(frac=percent_sample),\n",
    "                dataset[dataset['Regionname']=='South-Eastern Metropolitan']['Price'].sample(frac=percent_sample),\n",
    "                dataset[dataset['Regionname']=='Eastern Victoria']['Price'].sample(frac=percent_sample),\n",
    "                dataset[dataset['Regionname']=='Northern Victoria']['Price'].sample(frac=percent_sample),\n",
    "                dataset[dataset['Regionname']=='Western Victoria']['Price'].sample(frac=percent_sample))\n",
    "if p < 0.05:\n",
    "    print('Reject H0, Regionname la Key factor cua Price')\n",
    "else:\n",
    "    print('Accept H0, Regionname khong phai la Key factor cua Price')"
   ]
  },
  {
   "cell_type": "code",
   "execution_count": 37,
   "metadata": {},
   "outputs": [
    {
     "name": "stdout",
     "output_type": "stream",
     "text": [
      "Reject H0, Propertycount la Key factor cua Price\n"
     ]
    }
   ],
   "source": [
    "# testing Propertycount\n",
    "Propertycount_upper0 = dataset[(dataset['Propertycount']>=0) & (dataset['Propertycount']<5000)]\n",
    "Propertycount_upper5 = dataset[(dataset['Propertycount']>=5000) & (dataset['Propertycount']<10000)].sample(frac=percent_sample)\n",
    "Propertycount_upper10 = dataset[(dataset['Propertycount']>=10000) & (dataset['Propertycount']<15000)].sample(frac=percent_sample)\n",
    "Propertycount_upper15 = dataset[(dataset['Propertycount']>=15000)].sample(frac=percent_sample)\n",
    "# Propertycount_upper20 = dataset[dataset['Propertycount']>=20000].sample(frac=percent_sample)\n",
    "f, p = f_oneway(Propertycount_upper0['Price'].sample(frac=percent_sample),\n",
    "                Propertycount_upper5['Price'].sample(frac=percent_sample),\n",
    "                Propertycount_upper10['Price'].sample(frac=percent_sample),\n",
    "                Propertycount_upper15['Price'].sample(frac=percent_sample))\n",
    "#                 Propertycount_upper20['Price'].sample(frac=percent_sample))\n",
    "if p < 0.05:\n",
    "    print('Reject H0, Propertycount la Key factor cua Price')\n",
    "else:\n",
    "    print('Accept H0, Propertycount khong phai la Key factor cua Price')"
   ]
  },
  {
   "cell_type": "code",
   "execution_count": 38,
   "metadata": {},
   "outputs": [
    {
     "name": "stdout",
     "output_type": "stream",
     "text": [
      "Reject H0, Distance la Key factor cua Price\n"
     ]
    }
   ],
   "source": [
    "#testing Distance\n",
    "Distance_upper0 = dataset[(dataset['Distance']>=0) & (dataset['Distance']<10)]\n",
    "Distance_upper10 = dataset[(dataset['Distance']>=10) & (dataset['Distance']<20)].sample(frac=percent_sample)\n",
    "Distance_upper20 = dataset[(dataset['Distance']>=20) & (dataset['Distance']<30)].sample(frac=percent_sample)\n",
    "Distance_upper30 = dataset[(dataset['Distance']>=30)].sample(frac=percent_sample)\n",
    "f, p = f_oneway(Distance_upper0['Price'].sample(frac=percent_sample),\n",
    "                Distance_upper10['Price'].sample(frac=percent_sample),\n",
    "                Distance_upper20['Price'].sample(frac=percent_sample),\n",
    "                Distance_upper30['Price'].sample(frac=percent_sample))\n",
    "if p < 0.05:\n",
    "    print('Reject H0, Distance la Key factor cua Price')\n",
    "else:\n",
    "    print('Accept H0, Distance khong phai la Key factor cua Price')"
   ]
  },
  {
   "cell_type": "code",
   "execution_count": 39,
   "metadata": {},
   "outputs": [
    {
     "name": "stdout",
     "output_type": "stream",
     "text": [
      "Reject H0, Quarter_of_year la Key factor cua Price\n"
     ]
    }
   ],
   "source": [
    "#test Quarter_of_year\n",
    "f, p = f_oneway(dataset[dataset['Quarter_of_year']==1]['Price'].sample(frac=percent_sample)\n",
    "                ,dataset[dataset['Quarter_of_year']==2]['Price'].sample(frac=percent_sample)\n",
    "                ,dataset[dataset['Quarter_of_year']==3]['Price'].sample(frac=percent_sample)\n",
    "                ,dataset[dataset['Quarter_of_year']==4]['Price'].sample(frac=percent_sample)\n",
    "                ,dataset[dataset['Quarter_of_year']==5]['Price'].sample(frac=percent_sample)\n",
    "                ,dataset[dataset['Quarter_of_year']==6]['Price'].sample(frac=percent_sample)\n",
    "                ,dataset[dataset['Quarter_of_year']==7]['Price'].sample(frac=percent_sample)\n",
    "                ,dataset[dataset['Quarter_of_year']==8]['Price'].sample(frac=percent_sample)\n",
    "                ,dataset[dataset['Quarter_of_year']==9]['Price'].sample(frac=percent_sample)\n",
    "                ,dataset[dataset['Quarter_of_year']==10]['Price'].sample(frac=percent_sample)\n",
    "                ,dataset[dataset['Quarter_of_year']==11]['Price'].sample(frac=percent_sample)\n",
    "                ,dataset[dataset['Quarter_of_year']==12]['Price'].sample(frac=percent_sample))\n",
    "if p < 0.05:\n",
    "    print('Reject H0, Quarter_of_year la Key factor cua Price')\n",
    "else:\n",
    "    print('Accept H0, Quarter_of_year khong phai la Key factor cua Price')"
   ]
  },
  {
   "cell_type": "code",
   "execution_count": 40,
   "metadata": {},
   "outputs": [
    {
     "name": "stdout",
     "output_type": "stream",
     "text": [
      "Reject H0, SellerG_level la Key factor cua Price\n"
     ]
    }
   ],
   "source": [
    "#testing SellerG_level\n",
    "f, p = f_oneway(dataset[dataset['SellerG_level']==1]['Price'].sample(frac=percent_sample)\n",
    "                ,dataset[dataset['SellerG_level']==2]['Price'].sample(frac=percent_sample)\n",
    "                ,dataset[dataset['SellerG_level']==3]['Price'].sample(frac=percent_sample)\n",
    "                ,dataset[dataset['SellerG_level']==4]['Price'].sample(frac=percent_sample)\n",
    "                ,dataset[dataset['SellerG_level']==5]['Price'].sample(frac=percent_sample))\n",
    "if p < 0.05:\n",
    "    print('Reject H0, SellerG_level la Key factor cua Price')\n",
    "else:\n",
    "    print('Accept H0, SellerG_level khong phai la Key factor cua Price')"
   ]
  },
  {
   "cell_type": "markdown",
   "metadata": {},
   "source": [
    "Sau khi thuc hien testing thi tat ca cac feature 'Rooms', 'Type', 'Price', 'Method', 'Regionname', 'Propertycount', 'Distance', 'Quarter_of_year', 'SellerG_level' co anh huong den Price"
   ]
  },
  {
   "cell_type": "markdown",
   "metadata": {},
   "source": [
    "# 2. Apply the model for prediction with holdout and cross validation"
   ]
  },
  {
   "cell_type": "markdown",
   "metadata": {},
   "source": [
    "# 2.1 Holdout"
   ]
  },
  {
   "cell_type": "code",
   "execution_count": 41,
   "metadata": {},
   "outputs": [
    {
     "data": {
      "text/plain": [
       "Index(['Rooms', 'Type', 'Price', 'Method', 'Regionname', 'Propertycount',\n",
       "       'Distance', 'Quarter_of_year', 'SellerG_level'],\n",
       "      dtype='object')"
      ]
     },
     "execution_count": 41,
     "metadata": {},
     "output_type": "execute_result"
    }
   ],
   "source": [
    "dataset.columns"
   ]
  },
  {
   "cell_type": "code",
   "execution_count": 42,
   "metadata": {},
   "outputs": [
    {
     "data": {
      "text/plain": [
       "(43559, 37)"
      ]
     },
     "execution_count": 42,
     "metadata": {},
     "output_type": "execute_result"
    }
   ],
   "source": [
    "# encoding cho cac categorical features\n",
    "data_enc = pd.get_dummies(dataset, columns = ['Type','Method','Regionname','Quarter_of_year','SellerG_level'])\n",
    "data_enc.shape"
   ]
  },
  {
   "cell_type": "code",
   "execution_count": 43,
   "metadata": {},
   "outputs": [],
   "source": [
    "# Split\n",
    "# Create features variable \n",
    "X = data_enc.drop('Price',axis = 1)\n",
    "# Create target variable\n",
    "y = data_enc['Price']\n",
    "\n",
    "# # Train, test, split\n",
    "X_train, X_test, y_train, y_test = train_test_split(X,y, test_size = .20, random_state= 0)"
   ]
  },
  {
   "cell_type": "code",
   "execution_count": 44,
   "metadata": {},
   "outputs": [
    {
     "data": {
      "text/plain": [
       "LinearRegression(copy_X=True, fit_intercept=True, n_jobs=None, normalize=False)"
      ]
     },
     "execution_count": 44,
     "metadata": {},
     "output_type": "execute_result"
    }
   ],
   "source": [
    "# Create linear regression object\n",
    "regressor = LinearRegression()\n",
    "\n",
    "# Fit model to training data\n",
    "regressor.fit(X_train,y_train)"
   ]
  },
  {
   "cell_type": "code",
   "execution_count": 45,
   "metadata": {},
   "outputs": [],
   "source": [
    "# Predict\n",
    "# Predicting test set results\n",
    "y_pred = regressor.predict(X_test)"
   ]
  },
  {
   "cell_type": "code",
   "execution_count": 46,
   "metadata": {},
   "outputs": [
    {
     "name": "stdout",
     "output_type": "stream",
     "text": [
      "MSE: 64144626422.40727\n"
     ]
    }
   ],
   "source": [
    "# Score It\n",
    "print('MSE:',metrics.mean_squared_error(y_test,y_pred))"
   ]
  },
  {
   "cell_type": "code",
   "execution_count": 47,
   "metadata": {},
   "outputs": [
    {
     "name": "stdout",
     "output_type": "stream",
     "text": [
      "R^2 = 0.5903437405820755\n"
     ]
    }
   ],
   "source": [
    "print('R^2 =',metrics.explained_variance_score(y_test,y_pred))"
   ]
  },
  {
   "cell_type": "markdown",
   "metadata": {},
   "source": [
    "# 2.2 Cross validation"
   ]
  },
  {
   "cell_type": "code",
   "execution_count": 48,
   "metadata": {},
   "outputs": [
    {
     "data": {
      "text/plain": [
       "array([0.56765747, 0.59188998, 0.58935624, 0.59685375, 0.59493109])"
      ]
     },
     "execution_count": 48,
     "metadata": {},
     "output_type": "execute_result"
    }
   ],
   "source": [
    "cv_results = cross_validate(regressor, X, y, cv=5)\n",
    "cv_results['test_score']"
   ]
  },
  {
   "cell_type": "markdown",
   "metadata": {},
   "source": [
    "# 3. Using PCA, apply the model with holdout and cross validation"
   ]
  },
  {
   "cell_type": "markdown",
   "metadata": {},
   "source": [
    "- Step 1. Data Standardization\n",
    "- Step 2: Covariance Matrix\n",
    "- Step 3: Eigen Decomposition of Covariance Matrix\n",
    "- Step 4: Projection Onto New Feature Space"
   ]
  },
  {
   "cell_type": "markdown",
   "metadata": {},
   "source": [
    "Step 1. Data Standardization\n",
    "- As PCA deals with variance maximization of two variables, it is important to have both variables on same scale."
   ]
  },
  {
   "cell_type": "code",
   "execution_count": 49,
   "metadata": {},
   "outputs": [],
   "source": [
    "Xstd = StandardScaler().fit_transform(X)"
   ]
  },
  {
   "cell_type": "markdown",
   "metadata": {},
   "source": [
    "Step 2: Covariance Matrix"
   ]
  },
  {
   "cell_type": "code",
   "execution_count": 50,
   "metadata": {},
   "outputs": [
    {
     "name": "stdout",
     "output_type": "stream",
     "text": [
      "Covariance matrix: \n",
      " [[ 1.00002296 -0.0564702   0.36330029 ...  0.01820343  0.01616335\n",
      "   0.02939047]\n",
      " [-0.0564702   1.00002296 -0.06718251 ... -0.05532429  0.09966988\n",
      "  -0.00538644]\n",
      " [ 0.36330029 -0.06718251  1.00002296 ...  0.09728113  0.12245904\n",
      "  -0.15594452]\n",
      " ...\n",
      " [ 0.01820343 -0.05532429  0.09728113 ...  1.00002296 -0.10050582\n",
      "  -0.14787674]\n",
      " [ 0.01616335  0.09966988  0.12245904 ... -0.10050582  1.00002296\n",
      "  -0.25133014]\n",
      " [ 0.02939047 -0.00538644 -0.15594452 ... -0.14787674 -0.25133014\n",
      "   1.00002296]]\n"
     ]
    }
   ],
   "source": [
    "print('Covariance matrix: \\n', np.cov(Xstd.T))"
   ]
  },
  {
   "cell_type": "markdown",
   "metadata": {},
   "source": [
    "Step 3: Eigen Decomposition of Covariance Matrix"
   ]
  },
  {
   "cell_type": "code",
   "execution_count": 51,
   "metadata": {},
   "outputs": [],
   "source": [
    "cov_mat = np.cov(Xstd.T)\n",
    "eigen_values, eigen_vectors = np.linalg.eig(cov_mat)\n",
    "# print('Eigen vectors \\n',eigen_vectors)\n",
    "# print('\\nEigen values \\n',eigen_values)"
   ]
  },
  {
   "cell_type": "markdown",
   "metadata": {},
   "source": [
    "Now, Making list of eigen values and vectors and sorting the list w.r.t eigen values (Descending order) where highest eigen values represent highest variation."
   ]
  },
  {
   "cell_type": "code",
   "execution_count": 52,
   "metadata": {},
   "outputs": [],
   "source": [
    "pairs = [(np.abs(eigen_values[i]), eigen_vectors[:,i]) for i in range(len(eigen_values))]\n",
    "pairs.sort()\n",
    "pairs.reverse()\n",
    "\n",
    "# print('Eigen Values in descending order:')\n",
    "# for i in pairs:\n",
    "#     print(i[0])"
   ]
  },
  {
   "cell_type": "markdown",
   "metadata": {},
   "source": [
    "To check how much each Principle component represent variation, let us find the cumulative sum of eigen values and plot them."
   ]
  },
  {
   "cell_type": "code",
   "execution_count": 53,
   "metadata": {},
   "outputs": [
    {
     "data": {
      "image/png": "[encoded data removed]",
      "text/plain": [
       "<Figure size 1440x360 with 1 Axes>"
      ]
     },
     "metadata": {
      "needs_background": "light"
     },
     "output_type": "display_data"
    }
   ],
   "source": [
    "tot = sum(eigen_values)\n",
    "var_per = [(i / tot)*100 for i in sorted(eigen_values, reverse=True)]\n",
    "cum_var_per = np.cumsum(var_per)\n",
    "\n",
    "plt.figure(figsize=(20,5))\n",
    "x=['PC %s' %i for i in range(1,len(var_per))]\n",
    "ind = np.arange(len(var_per)) \n",
    "plt.bar(ind,var_per)\n",
    "plt.xticks(ind,x);\n",
    "plt.plot(ind,cum_var_per,marker=\"o\",color='orange')\n",
    "plt.xticks(ind,x);"
   ]
  },
  {
   "cell_type": "markdown",
   "metadata": {},
   "source": [
    "The graph shows that first 31 components carry 100% information."
   ]
  },
  {
   "cell_type": "markdown",
   "metadata": {},
   "source": [
    "Step 4: Projection Onto New Feature Space"
   ]
  },
  {
   "cell_type": "markdown",
   "metadata": {},
   "source": [
    "Reshaping eigen pairs to form a projection matrix, which is then multiplied by samples to transform data to new feature space"
   ]
  },
  {
   "cell_type": "code",
   "execution_count": 54,
   "metadata": {},
   "outputs": [],
   "source": [
    "N=36\n",
    "value=31\n",
    "a = np.ndarray(shape = (N, 0))\n",
    "for x in range(0,value):\n",
    "    b = pairs[x][1].reshape(N,1)\n",
    "    a = np.hstack((a,b))\n",
    "# print(\"Projection Matrix:\\n\",a)"
   ]
  },
  {
   "cell_type": "code",
   "execution_count": 55,
   "metadata": {},
   "outputs": [],
   "source": [
    "# Y = Xstd.dot(a)\n",
    "# Y"
   ]
  },
  {
   "cell_type": "code",
   "execution_count": 56,
   "metadata": {},
   "outputs": [],
   "source": [
    "sklearn_pca = PCA(n_components=value)\n",
    "reduced_data = sklearn_pca.fit_transform(Xstd)"
   ]
  },
  {
   "cell_type": "code",
   "execution_count": 57,
   "metadata": {},
   "outputs": [],
   "source": [
    "# print(reduced_data)"
   ]
  },
  {
   "cell_type": "markdown",
   "metadata": {},
   "source": [
    "# 3.1 Holdout"
   ]
  },
  {
   "cell_type": "code",
   "execution_count": 58,
   "metadata": {},
   "outputs": [],
   "source": [
    "# # Train, test, split\n",
    "X_pca_train, X_pca_test, y_pca_train, y_pca_test = train_test_split(reduced_data,y, test_size = .20, random_state= 0)"
   ]
  },
  {
   "cell_type": "code",
   "execution_count": 59,
   "metadata": {},
   "outputs": [
    {
     "data": {
      "text/plain": [
       "LinearRegression(copy_X=True, fit_intercept=True, n_jobs=None, normalize=False)"
      ]
     },
     "execution_count": 59,
     "metadata": {},
     "output_type": "execute_result"
    }
   ],
   "source": [
    "# Create linear regression object\n",
    "regressor_pca = LinearRegression()\n",
    "\n",
    "# Fit model to training data\n",
    "regressor_pca.fit(X_pca_train,y_pca_train)"
   ]
  },
  {
   "cell_type": "code",
   "execution_count": 60,
   "metadata": {},
   "outputs": [],
   "source": [
    "# Predict\n",
    "# Predicting test set results\n",
    "y_pca_pred = regressor_pca.predict(X_pca_test)"
   ]
  },
  {
   "cell_type": "code",
   "execution_count": 61,
   "metadata": {},
   "outputs": [
    {
     "name": "stdout",
     "output_type": "stream",
     "text": [
      "MSE: 64144626422.40722\n"
     ]
    }
   ],
   "source": [
    "# Score It\n",
    "print('MSE:',metrics.mean_squared_error(y_pca_test,y_pca_pred))"
   ]
  },
  {
   "cell_type": "code",
   "execution_count": 62,
   "metadata": {},
   "outputs": [
    {
     "name": "stdout",
     "output_type": "stream",
     "text": [
      "R^2 = 0.5903437405820757\n"
     ]
    }
   ],
   "source": [
    "print('R^2 =',metrics.explained_variance_score(y_pca_test,y_pca_pred))"
   ]
  },
  {
   "cell_type": "markdown",
   "metadata": {},
   "source": [
    "# 3.2 Cross validation"
   ]
  },
  {
   "cell_type": "code",
   "execution_count": 63,
   "metadata": {},
   "outputs": [
    {
     "data": {
      "text/plain": [
       "array([0.56765747, 0.59188998, 0.58935624, 0.59685375, 0.59493109])"
      ]
     },
     "execution_count": 63,
     "metadata": {},
     "output_type": "execute_result"
    }
   ],
   "source": [
    "cv_results = cross_validate(regressor, reduced_data, y, cv=5)\n",
    "cv_results['test_score']"
   ]
  },
  {
   "cell_type": "markdown",
   "metadata": {},
   "source": [
    "# 4. Visualize the residue"
   ]
  },
  {
   "cell_type": "markdown",
   "metadata": {},
   "source": [
    "# 4.1 No PCA"
   ]
  },
  {
   "cell_type": "code",
   "execution_count": 64,
   "metadata": {},
   "outputs": [
    {
     "data": {
      "image/png": "[encoded data removed]",
      "text/plain": [
       "<Figure size 432x288 with 2 Axes>"
      ]
     },
     "metadata": {
      "needs_background": "light"
     },
     "output_type": "display_data"
    },
    {
     "data": {
      "text/plain": [
       "<matplotlib.axes._subplots.AxesSubplot at 0x256ea0a3a58>"
      ]
     },
     "execution_count": 64,
     "metadata": {},
     "output_type": "execute_result"
    }
   ],
   "source": [
    "model = LinearRegression()\n",
    "visualizer = ResidualsPlot(model)\n",
    "\n",
    "visualizer.fit(X_train, y_train)  # Fit the training data to the visualizer\n",
    "visualizer.score(X_test, y_test)  # Evaluate the model on the test data\n",
    "visualizer.show()                 # Finalize and render the figure"
   ]
  },
  {
   "cell_type": "markdown",
   "metadata": {},
   "source": [
    "# 4.2 PCA"
   ]
  },
  {
   "cell_type": "code",
   "execution_count": 65,
   "metadata": {},
   "outputs": [
    {
     "data": {
      "image/png": "[encoded data removed]",
      "text/plain": [
       "<Figure size 432x288 with 2 Axes>"
      ]
     },
     "metadata": {
      "needs_background": "light"
     },
     "output_type": "display_data"
    },
    {
     "data": {
      "text/plain": [
       "<matplotlib.axes._subplots.AxesSubplot at 0x256e9dbc400>"
      ]
     },
     "execution_count": 65,
     "metadata": {},
     "output_type": "execute_result"
    }
   ],
   "source": [
    "model = LinearRegression()\n",
    "visualizer = ResidualsPlot(model)\n",
    "\n",
    "visualizer.fit(X_pca_train, y_pca_train)  # Fit the training data to the visualizer\n",
    "visualizer.score(X_pca_test, y_pca_test)  # Evaluate the model on the test data\n",
    "visualizer.show()                 # Finalize and render the figure"
   ]
  },
  {
   "cell_type": "markdown",
   "metadata": {},
   "source": [
    "# 5. Tune the model if necessary"
   ]
  },
  {
   "cell_type": "markdown",
   "metadata": {},
   "source": [
    "# 5.1 No PCA"
   ]
  },
  {
   "cell_type": "code",
   "execution_count": 66,
   "metadata": {},
   "outputs": [
    {
     "name": "stderr",
     "output_type": "stream",
     "text": [
      "C:\\Users\\Os\\Anaconda3\\lib\\site-packages\\sklearn\\model_selection\\_split.py:1978: FutureWarning: The default value of cv will change from 3 to 5 in version 0.22. Specify it explicitly to silence this warning.\n",
      "  warnings.warn(CV_WARNING, FutureWarning)\n"
     ]
    },
    {
     "name": "stdout",
     "output_type": "stream",
     "text": [
      "Config params:  {'copy_X': True, 'fit_intercept': False, 'normalize': True}\n",
      "Score: 0.5906\n"
     ]
    }
   ],
   "source": [
    "params = {'copy_X':(True, False),'fit_intercept': (True, False), 'normalize': (True, False)}\n",
    "model = LinearRegression()\n",
    "tune = GridSearchCV(estimator=model, param_grid=params,)\n",
    "tune.fit(X_train, y_train)\n",
    "\n",
    "best_params = tune.best_params_\n",
    "score = tune.best_score_\n",
    "print('Config params: ', best_params)\n",
    "print('Score: %2.4f' % score)"
   ]
  },
  {
   "cell_type": "markdown",
   "metadata": {},
   "source": [
    "# 5.2 PCA"
   ]
  },
  {
   "cell_type": "code",
   "execution_count": 67,
   "metadata": {},
   "outputs": [
    {
     "name": "stderr",
     "output_type": "stream",
     "text": [
      "C:\\Users\\Os\\Anaconda3\\lib\\site-packages\\sklearn\\model_selection\\_split.py:1978: FutureWarning: The default value of cv will change from 3 to 5 in version 0.22. Specify it explicitly to silence this warning.\n",
      "  warnings.warn(CV_WARNING, FutureWarning)\n"
     ]
    },
    {
     "name": "stdout",
     "output_type": "stream",
     "text": [
      "Config params :  {'copy_X': True, 'fit_intercept': True, 'normalize': True}\n",
      "Score: 0.5906\n"
     ]
    }
   ],
   "source": [
    "params = {'copy_X':(True, False),'fit_intercept': (True, False), 'normalize': (True, False)}\n",
    "model = LinearRegression()\n",
    "tune = GridSearchCV(estimator=model, param_grid=params)\n",
    "tune.fit(X_pca_train, y_pca_train)\n",
    "best_params = tune.best_params_\n",
    "score = tune.best_score_\n",
    "print('Config params : ', best_params)\n",
    "print('Score: %2.4f' % score)"
   ]
  },
  {
   "cell_type": "markdown",
   "metadata": {},
   "source": [
    "# Conclusion"
   ]
  },
  {
   "cell_type": "markdown",
   "metadata": {},
   "source": [
    "- Dữ liệu có nhiều missing ở cột Price (>20%)\n",
    "- Các feature Rooms, Distance, Propertycount, Price có một số giá trị outlier (<5%)\n",
    "- Thông qua testing (anova) nhận thấy các features: Rooms, Distance, Date, Propertycount, Seller_G, Type, Method, Regionname deu co anh huong den Price\n",
    "- Model có score khoang 0.6, tức độ chính xác dự đoán khoảng 60%\n",
    "- Model không sử dụng PCA và có sử dụng PCA có độ chính xác dự đoán gần như nhau khoảng gần 60%\n",
    "- Tune model không có thay đổi gì nhiều so với mặc định trước đó"
   ]
  }
 ],
 "metadata": {
  "kernelspec": {
   "display_name": "Python 3",
   "language": "python",
   "name": "python3"
  },
  "language_info": {
   "codemirror_mode": {
    "name": "ipython",
    "version": 3
   },
   "file_extension": ".py",
   "mimetype": "text/x-python",
   "name": "python",
   "nbconvert_exporter": "python",
   "pygments_lexer": "ipython3",
   "version": "3.7.3"
  }
 },
 "nbformat": 4,
 "nbformat_minor": 2
}
