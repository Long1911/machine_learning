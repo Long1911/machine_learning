{
 "cells": [
  {
   "cell_type": "markdown",
   "metadata": {},
   "source": [
    "# Introduction\n",
    "* Phan tich cac yeu to anh huong den price tu bang du lieu MELBOURNE_HOUSE\n",
    "* Yeu cau:\n",
    "    - Ket luan va tra loi cac cau hoi:\n",
    "    - 1. Examine and explore data (visualization, interactions among features)\n",
    "    - 2. Apply the model for prediction with holdout and cross validation\n",
    "    - 3. Using PCA, apply the model with holdout and cross validation\n",
    "    - 4. Visualize the residue and homoscedasticity\n",
    "    - 5. Tune the model if necessary\n",
    "    - 6. Write up analysis for each section (for example, explain why the model is overfitting, explain why applying PCA is better, etc.)\n",
    "    - 7. Include conclusions for summary"
   ]
  },
  {
   "cell_type": "code",
   "execution_count": 1,
   "metadata": {},
   "outputs": [],
   "source": [
    "import pandas as pd\n",
    "import numpy as np\n",
    "from scipy import stats\n",
    "import matplotlib.pyplot as plt \n",
    "import seaborn as sns\n",
    "from scipy.stats import f_oneway"
   ]
  },
  {
   "cell_type": "code",
   "execution_count": 2,
   "metadata": {},
   "outputs": [
    {
     "data": {
      "text/plain": [
       "(63023, 13)"
      ]
     },
     "execution_count": 2,
     "metadata": {},
     "output_type": "execute_result"
    }
   ],
   "source": [
    "# data = pd.read_csv('D:/machine learning/project/melbourne-housing-market/Melbourne_housing_FULL.csv')\n",
    "data = pd.read_csv('D:/machine learning/project/melbourne-housing-market/MELBOURNE_HOUSE_PRICES_LESS.csv')\n",
    "data.shape"
   ]
  },
  {
   "cell_type": "markdown",
   "metadata": {},
   "source": [
    "# 1. Examine and explore data (visualization, interactions among features)"
   ]
  },
  {
   "cell_type": "markdown",
   "metadata": {},
   "source": [
    "# 1.1. EDA"
   ]
  },
  {
   "cell_type": "code",
   "execution_count": 3,
   "metadata": {},
   "outputs": [
    {
     "name": "stdout",
     "output_type": "stream",
     "text": [
      "<class 'pandas.core.frame.DataFrame'>\n",
      "RangeIndex: 63023 entries, 0 to 63022\n",
      "Data columns (total 13 columns):\n",
      "Suburb           63023 non-null object\n",
      "Address          63023 non-null object\n",
      "Rooms            63023 non-null int64\n",
      "Type             63023 non-null object\n",
      "Price            48433 non-null float64\n",
      "Method           63023 non-null object\n",
      "SellerG          63023 non-null object\n",
      "Date             63023 non-null object\n",
      "Postcode         63023 non-null int64\n",
      "Regionname       63023 non-null object\n",
      "Propertycount    63023 non-null int64\n",
      "Distance         63023 non-null float64\n",
      "CouncilArea      63023 non-null object\n",
      "dtypes: float64(2), int64(3), object(8)\n",
      "memory usage: 6.3+ MB\n"
     ]
    }
   ],
   "source": [
    "data.info()"
   ]
  },
  {
   "cell_type": "markdown",
   "metadata": {},
   "source": [
    "- Bang du lieu co 63023 dong va 13 cot. Co nhieu cot co the lien quan anh huong den Price nhu Rooms, Address, Suburb,...\n",
    "- Trong bang chi co Price co nhieu missing value"
   ]
  },
  {
   "cell_type": "code",
   "execution_count": 4,
   "metadata": {},
   "outputs": [
    {
     "data": {
      "text/html": [
       "<div>\n",
       "<style scoped>\n",
       "    .dataframe tbody tr th:only-of-type {\n",
       "        vertical-align: middle;\n",
       "    }\n",
       "\n",
       "    .dataframe tbody tr th {\n",
       "        vertical-align: top;\n",
       "    }\n",
       "\n",
       "    .dataframe thead th {\n",
       "        text-align: right;\n",
       "    }\n",
       "</style>\n",
       "<table border=\"1\" class=\"dataframe\">\n",
       "  <thead>\n",
       "    <tr style=\"text-align: right;\">\n",
       "      <th></th>\n",
       "      <th>Suburb</th>\n",
       "      <th>Address</th>\n",
       "      <th>Rooms</th>\n",
       "      <th>Type</th>\n",
       "      <th>Price</th>\n",
       "      <th>Method</th>\n",
       "      <th>SellerG</th>\n",
       "      <th>Date</th>\n",
       "      <th>Postcode</th>\n",
       "      <th>Regionname</th>\n",
       "      <th>Propertycount</th>\n",
       "      <th>Distance</th>\n",
       "      <th>CouncilArea</th>\n",
       "    </tr>\n",
       "  </thead>\n",
       "  <tbody>\n",
       "    <tr>\n",
       "      <th>0</th>\n",
       "      <td>Abbotsford</td>\n",
       "      <td>49 Lithgow St</td>\n",
       "      <td>3</td>\n",
       "      <td>h</td>\n",
       "      <td>1490000.0</td>\n",
       "      <td>S</td>\n",
       "      <td>Jellis</td>\n",
       "      <td>1/04/2017</td>\n",
       "      <td>3067</td>\n",
       "      <td>Northern Metropolitan</td>\n",
       "      <td>4019</td>\n",
       "      <td>3.0</td>\n",
       "      <td>Yarra City Council</td>\n",
       "    </tr>\n",
       "    <tr>\n",
       "      <th>1</th>\n",
       "      <td>Abbotsford</td>\n",
       "      <td>59A Turner St</td>\n",
       "      <td>3</td>\n",
       "      <td>h</td>\n",
       "      <td>1220000.0</td>\n",
       "      <td>S</td>\n",
       "      <td>Marshall</td>\n",
       "      <td>1/04/2017</td>\n",
       "      <td>3067</td>\n",
       "      <td>Northern Metropolitan</td>\n",
       "      <td>4019</td>\n",
       "      <td>3.0</td>\n",
       "      <td>Yarra City Council</td>\n",
       "    </tr>\n",
       "    <tr>\n",
       "      <th>2</th>\n",
       "      <td>Abbotsford</td>\n",
       "      <td>119B Yarra St</td>\n",
       "      <td>3</td>\n",
       "      <td>h</td>\n",
       "      <td>1420000.0</td>\n",
       "      <td>S</td>\n",
       "      <td>Nelson</td>\n",
       "      <td>1/04/2017</td>\n",
       "      <td>3067</td>\n",
       "      <td>Northern Metropolitan</td>\n",
       "      <td>4019</td>\n",
       "      <td>3.0</td>\n",
       "      <td>Yarra City Council</td>\n",
       "    </tr>\n",
       "    <tr>\n",
       "      <th>3</th>\n",
       "      <td>Aberfeldie</td>\n",
       "      <td>68 Vida St</td>\n",
       "      <td>3</td>\n",
       "      <td>h</td>\n",
       "      <td>1515000.0</td>\n",
       "      <td>S</td>\n",
       "      <td>Barry</td>\n",
       "      <td>1/04/2017</td>\n",
       "      <td>3040</td>\n",
       "      <td>Western Metropolitan</td>\n",
       "      <td>1543</td>\n",
       "      <td>7.5</td>\n",
       "      <td>Moonee Valley City Council</td>\n",
       "    </tr>\n",
       "    <tr>\n",
       "      <th>4</th>\n",
       "      <td>Airport West</td>\n",
       "      <td>92 Clydesdale Rd</td>\n",
       "      <td>2</td>\n",
       "      <td>h</td>\n",
       "      <td>670000.0</td>\n",
       "      <td>S</td>\n",
       "      <td>Nelson</td>\n",
       "      <td>1/04/2017</td>\n",
       "      <td>3042</td>\n",
       "      <td>Western Metropolitan</td>\n",
       "      <td>3464</td>\n",
       "      <td>10.4</td>\n",
       "      <td>Moonee Valley City Council</td>\n",
       "    </tr>\n",
       "  </tbody>\n",
       "</table>\n",
       "</div>"
      ],
      "text/plain": [
       "         Suburb           Address  Rooms Type      Price Method   SellerG  \\\n",
       "0    Abbotsford     49 Lithgow St      3    h  1490000.0      S    Jellis   \n",
       "1    Abbotsford     59A Turner St      3    h  1220000.0      S  Marshall   \n",
       "2    Abbotsford     119B Yarra St      3    h  1420000.0      S    Nelson   \n",
       "3    Aberfeldie        68 Vida St      3    h  1515000.0      S     Barry   \n",
       "4  Airport West  92 Clydesdale Rd      2    h   670000.0      S    Nelson   \n",
       "\n",
       "        Date  Postcode             Regionname  Propertycount  Distance  \\\n",
       "0  1/04/2017      3067  Northern Metropolitan           4019       3.0   \n",
       "1  1/04/2017      3067  Northern Metropolitan           4019       3.0   \n",
       "2  1/04/2017      3067  Northern Metropolitan           4019       3.0   \n",
       "3  1/04/2017      3040   Western Metropolitan           1543       7.5   \n",
       "4  1/04/2017      3042   Western Metropolitan           3464      10.4   \n",
       "\n",
       "                  CouncilArea  \n",
       "0          Yarra City Council  \n",
       "1          Yarra City Council  \n",
       "2          Yarra City Council  \n",
       "3  Moonee Valley City Council  \n",
       "4  Moonee Valley City Council  "
      ]
     },
     "execution_count": 4,
     "metadata": {},
     "output_type": "execute_result"
    }
   ],
   "source": [
    "data.head()"
   ]
  },
  {
   "cell_type": "code",
   "execution_count": 5,
   "metadata": {},
   "outputs": [
    {
     "data": {
      "text/html": [
       "<div>\n",
       "<style scoped>\n",
       "    .dataframe tbody tr th:only-of-type {\n",
       "        vertical-align: middle;\n",
       "    }\n",
       "\n",
       "    .dataframe tbody tr th {\n",
       "        vertical-align: top;\n",
       "    }\n",
       "\n",
       "    .dataframe thead th {\n",
       "        text-align: right;\n",
       "    }\n",
       "</style>\n",
       "<table border=\"1\" class=\"dataframe\">\n",
       "  <thead>\n",
       "    <tr style=\"text-align: right;\">\n",
       "      <th></th>\n",
       "      <th>Rooms</th>\n",
       "      <th>Price</th>\n",
       "      <th>Postcode</th>\n",
       "      <th>Propertycount</th>\n",
       "      <th>Distance</th>\n",
       "    </tr>\n",
       "  </thead>\n",
       "  <tbody>\n",
       "    <tr>\n",
       "      <th>count</th>\n",
       "      <td>63023.000000</td>\n",
       "      <td>4.843300e+04</td>\n",
       "      <td>63023.000000</td>\n",
       "      <td>63023.000000</td>\n",
       "      <td>63023.000000</td>\n",
       "    </tr>\n",
       "    <tr>\n",
       "      <th>mean</th>\n",
       "      <td>3.110595</td>\n",
       "      <td>9.978982e+05</td>\n",
       "      <td>3125.673897</td>\n",
       "      <td>7617.728131</td>\n",
       "      <td>12.684829</td>\n",
       "    </tr>\n",
       "    <tr>\n",
       "      <th>std</th>\n",
       "      <td>0.957551</td>\n",
       "      <td>5.934989e+05</td>\n",
       "      <td>125.626877</td>\n",
       "      <td>4424.423167</td>\n",
       "      <td>7.592015</td>\n",
       "    </tr>\n",
       "    <tr>\n",
       "      <th>min</th>\n",
       "      <td>1.000000</td>\n",
       "      <td>8.500000e+04</td>\n",
       "      <td>3000.000000</td>\n",
       "      <td>39.000000</td>\n",
       "      <td>0.000000</td>\n",
       "    </tr>\n",
       "    <tr>\n",
       "      <th>10%</th>\n",
       "      <td>2.000000</td>\n",
       "      <td>4.800400e+05</td>\n",
       "      <td>3029.000000</td>\n",
       "      <td>2698.000000</td>\n",
       "      <td>4.300000</td>\n",
       "    </tr>\n",
       "    <tr>\n",
       "      <th>25%</th>\n",
       "      <td>3.000000</td>\n",
       "      <td>6.200000e+05</td>\n",
       "      <td>3056.000000</td>\n",
       "      <td>4380.000000</td>\n",
       "      <td>7.000000</td>\n",
       "    </tr>\n",
       "    <tr>\n",
       "      <th>50%</th>\n",
       "      <td>3.000000</td>\n",
       "      <td>8.300000e+05</td>\n",
       "      <td>3107.000000</td>\n",
       "      <td>6795.000000</td>\n",
       "      <td>11.400000</td>\n",
       "    </tr>\n",
       "    <tr>\n",
       "      <th>75%</th>\n",
       "      <td>4.000000</td>\n",
       "      <td>1.220000e+06</td>\n",
       "      <td>3163.000000</td>\n",
       "      <td>10412.000000</td>\n",
       "      <td>16.700000</td>\n",
       "    </tr>\n",
       "    <tr>\n",
       "      <th>95%</th>\n",
       "      <td>5.000000</td>\n",
       "      <td>2.100000e+06</td>\n",
       "      <td>3206.000000</td>\n",
       "      <td>15510.000000</td>\n",
       "      <td>26.500000</td>\n",
       "    </tr>\n",
       "    <tr>\n",
       "      <th>99%</th>\n",
       "      <td>5.000000</td>\n",
       "      <td>3.200000e+06</td>\n",
       "      <td>3756.000000</td>\n",
       "      <td>21650.000000</td>\n",
       "      <td>38.000000</td>\n",
       "    </tr>\n",
       "    <tr>\n",
       "      <th>max</th>\n",
       "      <td>31.000000</td>\n",
       "      <td>1.120000e+07</td>\n",
       "      <td>3980.000000</td>\n",
       "      <td>21650.000000</td>\n",
       "      <td>64.100000</td>\n",
       "    </tr>\n",
       "  </tbody>\n",
       "</table>\n",
       "</div>"
      ],
      "text/plain": [
       "              Rooms         Price      Postcode  Propertycount      Distance\n",
       "count  63023.000000  4.843300e+04  63023.000000   63023.000000  63023.000000\n",
       "mean       3.110595  9.978982e+05   3125.673897    7617.728131     12.684829\n",
       "std        0.957551  5.934989e+05    125.626877    4424.423167      7.592015\n",
       "min        1.000000  8.500000e+04   3000.000000      39.000000      0.000000\n",
       "10%        2.000000  4.800400e+05   3029.000000    2698.000000      4.300000\n",
       "25%        3.000000  6.200000e+05   3056.000000    4380.000000      7.000000\n",
       "50%        3.000000  8.300000e+05   3107.000000    6795.000000     11.400000\n",
       "75%        4.000000  1.220000e+06   3163.000000   10412.000000     16.700000\n",
       "95%        5.000000  2.100000e+06   3206.000000   15510.000000     26.500000\n",
       "99%        5.000000  3.200000e+06   3756.000000   21650.000000     38.000000\n",
       "max       31.000000  1.120000e+07   3980.000000   21650.000000     64.100000"
      ]
     },
     "execution_count": 5,
     "metadata": {},
     "output_type": "execute_result"
    }
   ],
   "source": [
    "data.describe(percentiles=[.1,.25,.50,.75,.95,.99])"
   ]
  },
  {
   "cell_type": "markdown",
   "metadata": {},
   "source": [
    "Tu bang nay ta co the thay co mot so cot co gia tri max bat thuong vi chenh lech rat nhieu so voi cac gia tri khac nhu Rooms, Price"
   ]
  },
  {
   "cell_type": "markdown",
   "metadata": {},
   "source": [
    "# The target valuable: Distribution of Price"
   ]
  },
  {
   "cell_type": "code",
   "execution_count": 6,
   "metadata": {},
   "outputs": [
    {
     "name": "stdout",
     "output_type": "stream",
     "text": [
      "count    4.843300e+04\n",
      "mean     9.978982e+05\n",
      "std      5.934989e+05\n",
      "min      8.500000e+04\n",
      "25%      6.200000e+05\n",
      "50%      8.300000e+05\n",
      "75%      1.220000e+06\n",
      "max      1.120000e+07\n",
      "Name: Price, dtype: float64\n"
     ]
    },
    {
     "data": {
      "text/plain": [
       "<matplotlib.axes._subplots.AxesSubplot at 0x174557b9d68>"
      ]
     },
     "execution_count": 6,
     "metadata": {},
     "output_type": "execute_result"
    },
    {
     "data": {
      "image/png": "[encoded data removed]",
      "text/plain": [
       "<Figure size 1080x360 with 1 Axes>"
      ]
     },
     "metadata": {
      "needs_background": "light"
     },
     "output_type": "display_data"
    }
   ],
   "source": [
    "print(data['Price'].describe())\n",
    "plt.figure(figsize=(15,5))\n",
    "sns.distplot(data['Price'])"
   ]
  },
  {
   "cell_type": "markdown",
   "metadata": {},
   "source": [
    "Nhin tu bieu do thi bien target Price khong phai la phan phoi chuan va co mot so gia tri outliers > 0.4"
   ]
  },
  {
   "cell_type": "markdown",
   "metadata": {},
   "source": [
    "# Numerical and categorical features"
   ]
  },
  {
   "cell_type": "code",
   "execution_count": 7,
   "metadata": {},
   "outputs": [
    {
     "name": "stdout",
     "output_type": "stream",
     "text": [
      "Number of numerical features:  5\n",
      "Index(['Rooms', 'Price', 'Postcode', 'Propertycount', 'Distance'], dtype='object')\n",
      "Number of categorical features:  8\n",
      "Index(['Suburb', 'Address', 'Type', 'Method', 'SellerG', 'Date', 'Regionname',\n",
      "       'CouncilArea'],\n",
      "      dtype='object')\n"
     ]
    }
   ],
   "source": [
    "num_feature = data.columns[data.dtypes != 'object']\n",
    "category_feature = data.columns[data.dtypes == 'object']\n",
    "print('Number of numerical features: ', len(num_feature))\n",
    "print(num_feature)\n",
    "print('Number of categorical features: ', len(category_feature))\n",
    "print(category_feature)"
   ]
  },
  {
   "cell_type": "code",
   "execution_count": 8,
   "metadata": {},
   "outputs": [
    {
     "data": {
      "text/html": [
       "<div>\n",
       "<style scoped>\n",
       "    .dataframe tbody tr th:only-of-type {\n",
       "        vertical-align: middle;\n",
       "    }\n",
       "\n",
       "    .dataframe tbody tr th {\n",
       "        vertical-align: top;\n",
       "    }\n",
       "\n",
       "    .dataframe thead th {\n",
       "        text-align: right;\n",
       "    }\n",
       "</style>\n",
       "<table border=\"1\" class=\"dataframe\">\n",
       "  <thead>\n",
       "    <tr style=\"text-align: right;\">\n",
       "      <th></th>\n",
       "      <th>Rooms</th>\n",
       "      <th>Price</th>\n",
       "      <th>Postcode</th>\n",
       "      <th>Propertycount</th>\n",
       "      <th>Distance</th>\n",
       "    </tr>\n",
       "  </thead>\n",
       "  <tbody>\n",
       "    <tr>\n",
       "      <th>0</th>\n",
       "      <td>3</td>\n",
       "      <td>1490000.0</td>\n",
       "      <td>3067</td>\n",
       "      <td>4019</td>\n",
       "      <td>3.0</td>\n",
       "    </tr>\n",
       "    <tr>\n",
       "      <th>1</th>\n",
       "      <td>3</td>\n",
       "      <td>1220000.0</td>\n",
       "      <td>3067</td>\n",
       "      <td>4019</td>\n",
       "      <td>3.0</td>\n",
       "    </tr>\n",
       "    <tr>\n",
       "      <th>2</th>\n",
       "      <td>3</td>\n",
       "      <td>1420000.0</td>\n",
       "      <td>3067</td>\n",
       "      <td>4019</td>\n",
       "      <td>3.0</td>\n",
       "    </tr>\n",
       "    <tr>\n",
       "      <th>3</th>\n",
       "      <td>3</td>\n",
       "      <td>1515000.0</td>\n",
       "      <td>3040</td>\n",
       "      <td>1543</td>\n",
       "      <td>7.5</td>\n",
       "    </tr>\n",
       "    <tr>\n",
       "      <th>4</th>\n",
       "      <td>2</td>\n",
       "      <td>670000.0</td>\n",
       "      <td>3042</td>\n",
       "      <td>3464</td>\n",
       "      <td>10.4</td>\n",
       "    </tr>\n",
       "  </tbody>\n",
       "</table>\n",
       "</div>"
      ],
      "text/plain": [
       "   Rooms      Price  Postcode  Propertycount  Distance\n",
       "0      3  1490000.0      3067           4019       3.0\n",
       "1      3  1220000.0      3067           4019       3.0\n",
       "2      3  1420000.0      3067           4019       3.0\n",
       "3      3  1515000.0      3040           1543       7.5\n",
       "4      2   670000.0      3042           3464      10.4"
      ]
     },
     "execution_count": 8,
     "metadata": {},
     "output_type": "execute_result"
    }
   ],
   "source": [
    "data[num_feature].head()"
   ]
  },
  {
   "cell_type": "code",
   "execution_count": 9,
   "metadata": {},
   "outputs": [
    {
     "data": {
      "text/html": [
       "<div>\n",
       "<style scoped>\n",
       "    .dataframe tbody tr th:only-of-type {\n",
       "        vertical-align: middle;\n",
       "    }\n",
       "\n",
       "    .dataframe tbody tr th {\n",
       "        vertical-align: top;\n",
       "    }\n",
       "\n",
       "    .dataframe thead th {\n",
       "        text-align: right;\n",
       "    }\n",
       "</style>\n",
       "<table border=\"1\" class=\"dataframe\">\n",
       "  <thead>\n",
       "    <tr style=\"text-align: right;\">\n",
       "      <th></th>\n",
       "      <th>Rooms</th>\n",
       "      <th>Price</th>\n",
       "      <th>Postcode</th>\n",
       "      <th>Propertycount</th>\n",
       "      <th>Distance</th>\n",
       "    </tr>\n",
       "  </thead>\n",
       "  <tbody>\n",
       "    <tr>\n",
       "      <th>count</th>\n",
       "      <td>63023.000000</td>\n",
       "      <td>4.843300e+04</td>\n",
       "      <td>63023.000000</td>\n",
       "      <td>63023.000000</td>\n",
       "      <td>63023.000000</td>\n",
       "    </tr>\n",
       "    <tr>\n",
       "      <th>mean</th>\n",
       "      <td>3.110595</td>\n",
       "      <td>9.978982e+05</td>\n",
       "      <td>3125.673897</td>\n",
       "      <td>7617.728131</td>\n",
       "      <td>12.684829</td>\n",
       "    </tr>\n",
       "    <tr>\n",
       "      <th>std</th>\n",
       "      <td>0.957551</td>\n",
       "      <td>5.934989e+05</td>\n",
       "      <td>125.626877</td>\n",
       "      <td>4424.423167</td>\n",
       "      <td>7.592015</td>\n",
       "    </tr>\n",
       "    <tr>\n",
       "      <th>min</th>\n",
       "      <td>1.000000</td>\n",
       "      <td>8.500000e+04</td>\n",
       "      <td>3000.000000</td>\n",
       "      <td>39.000000</td>\n",
       "      <td>0.000000</td>\n",
       "    </tr>\n",
       "    <tr>\n",
       "      <th>25%</th>\n",
       "      <td>3.000000</td>\n",
       "      <td>6.200000e+05</td>\n",
       "      <td>3056.000000</td>\n",
       "      <td>4380.000000</td>\n",
       "      <td>7.000000</td>\n",
       "    </tr>\n",
       "    <tr>\n",
       "      <th>50%</th>\n",
       "      <td>3.000000</td>\n",
       "      <td>8.300000e+05</td>\n",
       "      <td>3107.000000</td>\n",
       "      <td>6795.000000</td>\n",
       "      <td>11.400000</td>\n",
       "    </tr>\n",
       "    <tr>\n",
       "      <th>75%</th>\n",
       "      <td>4.000000</td>\n",
       "      <td>1.220000e+06</td>\n",
       "      <td>3163.000000</td>\n",
       "      <td>10412.000000</td>\n",
       "      <td>16.700000</td>\n",
       "    </tr>\n",
       "    <tr>\n",
       "      <th>max</th>\n",
       "      <td>31.000000</td>\n",
       "      <td>1.120000e+07</td>\n",
       "      <td>3980.000000</td>\n",
       "      <td>21650.000000</td>\n",
       "      <td>64.100000</td>\n",
       "    </tr>\n",
       "  </tbody>\n",
       "</table>\n",
       "</div>"
      ],
      "text/plain": [
       "              Rooms         Price      Postcode  Propertycount      Distance\n",
       "count  63023.000000  4.843300e+04  63023.000000   63023.000000  63023.000000\n",
       "mean       3.110595  9.978982e+05   3125.673897    7617.728131     12.684829\n",
       "std        0.957551  5.934989e+05    125.626877    4424.423167      7.592015\n",
       "min        1.000000  8.500000e+04   3000.000000      39.000000      0.000000\n",
       "25%        3.000000  6.200000e+05   3056.000000    4380.000000      7.000000\n",
       "50%        3.000000  8.300000e+05   3107.000000    6795.000000     11.400000\n",
       "75%        4.000000  1.220000e+06   3163.000000   10412.000000     16.700000\n",
       "max       31.000000  1.120000e+07   3980.000000   21650.000000     64.100000"
      ]
     },
     "execution_count": 9,
     "metadata": {},
     "output_type": "execute_result"
    }
   ],
   "source": [
    "data[num_feature].describe()"
   ]
  },
  {
   "cell_type": "code",
   "execution_count": 10,
   "metadata": {},
   "outputs": [
    {
     "data": {
      "text/html": [
       "<div>\n",
       "<style scoped>\n",
       "    .dataframe tbody tr th:only-of-type {\n",
       "        vertical-align: middle;\n",
       "    }\n",
       "\n",
       "    .dataframe tbody tr th {\n",
       "        vertical-align: top;\n",
       "    }\n",
       "\n",
       "    .dataframe thead th {\n",
       "        text-align: right;\n",
       "    }\n",
       "</style>\n",
       "<table border=\"1\" class=\"dataframe\">\n",
       "  <thead>\n",
       "    <tr style=\"text-align: right;\">\n",
       "      <th></th>\n",
       "      <th>Suburb</th>\n",
       "      <th>Address</th>\n",
       "      <th>Type</th>\n",
       "      <th>Method</th>\n",
       "      <th>SellerG</th>\n",
       "      <th>Date</th>\n",
       "      <th>Regionname</th>\n",
       "      <th>CouncilArea</th>\n",
       "    </tr>\n",
       "  </thead>\n",
       "  <tbody>\n",
       "    <tr>\n",
       "      <th>0</th>\n",
       "      <td>Abbotsford</td>\n",
       "      <td>49 Lithgow St</td>\n",
       "      <td>h</td>\n",
       "      <td>S</td>\n",
       "      <td>Jellis</td>\n",
       "      <td>1/04/2017</td>\n",
       "      <td>Northern Metropolitan</td>\n",
       "      <td>Yarra City Council</td>\n",
       "    </tr>\n",
       "    <tr>\n",
       "      <th>1</th>\n",
       "      <td>Abbotsford</td>\n",
       "      <td>59A Turner St</td>\n",
       "      <td>h</td>\n",
       "      <td>S</td>\n",
       "      <td>Marshall</td>\n",
       "      <td>1/04/2017</td>\n",
       "      <td>Northern Metropolitan</td>\n",
       "      <td>Yarra City Council</td>\n",
       "    </tr>\n",
       "    <tr>\n",
       "      <th>2</th>\n",
       "      <td>Abbotsford</td>\n",
       "      <td>119B Yarra St</td>\n",
       "      <td>h</td>\n",
       "      <td>S</td>\n",
       "      <td>Nelson</td>\n",
       "      <td>1/04/2017</td>\n",
       "      <td>Northern Metropolitan</td>\n",
       "      <td>Yarra City Council</td>\n",
       "    </tr>\n",
       "    <tr>\n",
       "      <th>3</th>\n",
       "      <td>Aberfeldie</td>\n",
       "      <td>68 Vida St</td>\n",
       "      <td>h</td>\n",
       "      <td>S</td>\n",
       "      <td>Barry</td>\n",
       "      <td>1/04/2017</td>\n",
       "      <td>Western Metropolitan</td>\n",
       "      <td>Moonee Valley City Council</td>\n",
       "    </tr>\n",
       "    <tr>\n",
       "      <th>4</th>\n",
       "      <td>Airport West</td>\n",
       "      <td>92 Clydesdale Rd</td>\n",
       "      <td>h</td>\n",
       "      <td>S</td>\n",
       "      <td>Nelson</td>\n",
       "      <td>1/04/2017</td>\n",
       "      <td>Western Metropolitan</td>\n",
       "      <td>Moonee Valley City Council</td>\n",
       "    </tr>\n",
       "  </tbody>\n",
       "</table>\n",
       "</div>"
      ],
      "text/plain": [
       "         Suburb           Address Type Method   SellerG       Date  \\\n",
       "0    Abbotsford     49 Lithgow St    h      S    Jellis  1/04/2017   \n",
       "1    Abbotsford     59A Turner St    h      S  Marshall  1/04/2017   \n",
       "2    Abbotsford     119B Yarra St    h      S    Nelson  1/04/2017   \n",
       "3    Aberfeldie        68 Vida St    h      S     Barry  1/04/2017   \n",
       "4  Airport West  92 Clydesdale Rd    h      S    Nelson  1/04/2017   \n",
       "\n",
       "              Regionname                 CouncilArea  \n",
       "0  Northern Metropolitan          Yarra City Council  \n",
       "1  Northern Metropolitan          Yarra City Council  \n",
       "2  Northern Metropolitan          Yarra City Council  \n",
       "3   Western Metropolitan  Moonee Valley City Council  \n",
       "4   Western Metropolitan  Moonee Valley City Council  "
      ]
     },
     "execution_count": 10,
     "metadata": {},
     "output_type": "execute_result"
    }
   ],
   "source": [
    "data[category_feature].head()"
   ]
  },
  {
   "cell_type": "code",
   "execution_count": 11,
   "metadata": {},
   "outputs": [
    {
     "data": {
      "text/html": [
       "<div>\n",
       "<style scoped>\n",
       "    .dataframe tbody tr th:only-of-type {\n",
       "        vertical-align: middle;\n",
       "    }\n",
       "\n",
       "    .dataframe tbody tr th {\n",
       "        vertical-align: top;\n",
       "    }\n",
       "\n",
       "    .dataframe thead th {\n",
       "        text-align: right;\n",
       "    }\n",
       "</style>\n",
       "<table border=\"1\" class=\"dataframe\">\n",
       "  <thead>\n",
       "    <tr style=\"text-align: right;\">\n",
       "      <th></th>\n",
       "      <th>Suburb</th>\n",
       "      <th>Address</th>\n",
       "      <th>Type</th>\n",
       "      <th>Method</th>\n",
       "      <th>SellerG</th>\n",
       "      <th>Date</th>\n",
       "      <th>Regionname</th>\n",
       "      <th>CouncilArea</th>\n",
       "    </tr>\n",
       "  </thead>\n",
       "  <tbody>\n",
       "    <tr>\n",
       "      <th>count</th>\n",
       "      <td>63023</td>\n",
       "      <td>63023</td>\n",
       "      <td>63023</td>\n",
       "      <td>63023</td>\n",
       "      <td>63023</td>\n",
       "      <td>63023</td>\n",
       "      <td>63023</td>\n",
       "      <td>63023</td>\n",
       "    </tr>\n",
       "    <tr>\n",
       "      <th>unique</th>\n",
       "      <td>380</td>\n",
       "      <td>57754</td>\n",
       "      <td>3</td>\n",
       "      <td>9</td>\n",
       "      <td>476</td>\n",
       "      <td>112</td>\n",
       "      <td>8</td>\n",
       "      <td>34</td>\n",
       "    </tr>\n",
       "    <tr>\n",
       "      <th>top</th>\n",
       "      <td>Reservoir</td>\n",
       "      <td>52 Station St</td>\n",
       "      <td>h</td>\n",
       "      <td>S</td>\n",
       "      <td>Barry</td>\n",
       "      <td>24/03/2018</td>\n",
       "      <td>Southern Metropolitan</td>\n",
       "      <td>Boroondara City Council</td>\n",
       "    </tr>\n",
       "    <tr>\n",
       "      <th>freq</th>\n",
       "      <td>1241</td>\n",
       "      <td>7</td>\n",
       "      <td>45053</td>\n",
       "      <td>34063</td>\n",
       "      <td>6894</td>\n",
       "      <td>1144</td>\n",
       "      <td>17559</td>\n",
       "      <td>5132</td>\n",
       "    </tr>\n",
       "  </tbody>\n",
       "</table>\n",
       "</div>"
      ],
      "text/plain": [
       "           Suburb        Address   Type Method SellerG        Date  \\\n",
       "count       63023          63023  63023  63023   63023       63023   \n",
       "unique        380          57754      3      9     476         112   \n",
       "top     Reservoir  52 Station St      h      S   Barry  24/03/2018   \n",
       "freq         1241              7  45053  34063    6894        1144   \n",
       "\n",
       "                   Regionname              CouncilArea  \n",
       "count                   63023                    63023  \n",
       "unique                      8                       34  \n",
       "top     Southern Metropolitan  Boroondara City Council  \n",
       "freq                    17559                     5132  "
      ]
     },
     "execution_count": 11,
     "metadata": {},
     "output_type": "execute_result"
    }
   ],
   "source": [
    "data[category_feature].describe()"
   ]
  },
  {
   "cell_type": "markdown",
   "metadata": {},
   "source": [
    "# Ve bieu do phan phoi cac numerical features"
   ]
  },
  {
   "cell_type": "code",
   "execution_count": 12,
   "metadata": {},
   "outputs": [
    {
     "data": {
      "text/plain": [
       "array([[<matplotlib.axes._subplots.AxesSubplot object at 0x0000017455B93438>,\n",
       "        <matplotlib.axes._subplots.AxesSubplot object at 0x0000017455DE4E80>],\n",
       "       [<matplotlib.axes._subplots.AxesSubplot object at 0x0000017455F3E438>,\n",
       "        <matplotlib.axes._subplots.AxesSubplot object at 0x0000017455F709E8>],\n",
       "       [<matplotlib.axes._subplots.AxesSubplot object at 0x0000017455FA2F98>,\n",
       "        <matplotlib.axes._subplots.AxesSubplot object at 0x0000017455FE04E0>]],\n",
       "      dtype=object)"
      ]
     },
     "execution_count": 12,
     "metadata": {},
     "output_type": "execute_result"
    },
    {
     "data": {
      "image/png": "[encoded data removed]",
      "text/plain": [
       "<Figure size 1152x1440 with 6 Axes>"
      ]
     },
     "metadata": {
      "needs_background": "light"
     },
     "output_type": "display_data"
    }
   ],
   "source": [
    "data.hist(figsize=(16, 20), bins=50)"
   ]
  },
  {
   "cell_type": "markdown",
   "metadata": {},
   "source": [
    "# Kiem tra missing values"
   ]
  },
  {
   "cell_type": "code",
   "execution_count": 13,
   "metadata": {},
   "outputs": [
    {
     "data": {
      "text/html": [
       "<div>\n",
       "<style scoped>\n",
       "    .dataframe tbody tr th:only-of-type {\n",
       "        vertical-align: middle;\n",
       "    }\n",
       "\n",
       "    .dataframe tbody tr th {\n",
       "        vertical-align: top;\n",
       "    }\n",
       "\n",
       "    .dataframe thead th {\n",
       "        text-align: right;\n",
       "    }\n",
       "</style>\n",
       "<table border=\"1\" class=\"dataframe\">\n",
       "  <thead>\n",
       "    <tr style=\"text-align: right;\">\n",
       "      <th></th>\n",
       "      <th>Total</th>\n",
       "      <th>Percent</th>\n",
       "    </tr>\n",
       "  </thead>\n",
       "  <tbody>\n",
       "    <tr>\n",
       "      <th>Suburb</th>\n",
       "      <td>0</td>\n",
       "      <td>0.000000</td>\n",
       "    </tr>\n",
       "    <tr>\n",
       "      <th>Address</th>\n",
       "      <td>0</td>\n",
       "      <td>0.000000</td>\n",
       "    </tr>\n",
       "    <tr>\n",
       "      <th>Rooms</th>\n",
       "      <td>0</td>\n",
       "      <td>0.000000</td>\n",
       "    </tr>\n",
       "    <tr>\n",
       "      <th>Type</th>\n",
       "      <td>0</td>\n",
       "      <td>0.000000</td>\n",
       "    </tr>\n",
       "    <tr>\n",
       "      <th>Price</th>\n",
       "      <td>14590</td>\n",
       "      <td>23.150278</td>\n",
       "    </tr>\n",
       "    <tr>\n",
       "      <th>Method</th>\n",
       "      <td>0</td>\n",
       "      <td>0.000000</td>\n",
       "    </tr>\n",
       "    <tr>\n",
       "      <th>SellerG</th>\n",
       "      <td>0</td>\n",
       "      <td>0.000000</td>\n",
       "    </tr>\n",
       "    <tr>\n",
       "      <th>Date</th>\n",
       "      <td>0</td>\n",
       "      <td>0.000000</td>\n",
       "    </tr>\n",
       "    <tr>\n",
       "      <th>Postcode</th>\n",
       "      <td>0</td>\n",
       "      <td>0.000000</td>\n",
       "    </tr>\n",
       "    <tr>\n",
       "      <th>Regionname</th>\n",
       "      <td>0</td>\n",
       "      <td>0.000000</td>\n",
       "    </tr>\n",
       "    <tr>\n",
       "      <th>Propertycount</th>\n",
       "      <td>0</td>\n",
       "      <td>0.000000</td>\n",
       "    </tr>\n",
       "    <tr>\n",
       "      <th>Distance</th>\n",
       "      <td>0</td>\n",
       "      <td>0.000000</td>\n",
       "    </tr>\n",
       "    <tr>\n",
       "      <th>CouncilArea</th>\n",
       "      <td>0</td>\n",
       "      <td>0.000000</td>\n",
       "    </tr>\n",
       "  </tbody>\n",
       "</table>\n",
       "</div>"
      ],
      "text/plain": [
       "               Total    Percent\n",
       "Suburb             0   0.000000\n",
       "Address            0   0.000000\n",
       "Rooms              0   0.000000\n",
       "Type               0   0.000000\n",
       "Price          14590  23.150278\n",
       "Method             0   0.000000\n",
       "SellerG            0   0.000000\n",
       "Date               0   0.000000\n",
       "Postcode           0   0.000000\n",
       "Regionname         0   0.000000\n",
       "Propertycount      0   0.000000\n",
       "Distance           0   0.000000\n",
       "CouncilArea        0   0.000000"
      ]
     },
     "execution_count": 13,
     "metadata": {},
     "output_type": "execute_result"
    }
   ],
   "source": [
    "total = data.isnull().sum()\n",
    "percent = data.isnull().sum()/len(data)*100\n",
    "missing_data = pd.concat([total,percent], axis=1,keys=['Total', 'Percent'])\n",
    "missing_data"
   ]
  },
  {
   "cell_type": "code",
   "execution_count": 14,
   "metadata": {},
   "outputs": [
    {
     "data": {
      "text/html": [
       "<div>\n",
       "<style scoped>\n",
       "    .dataframe tbody tr th:only-of-type {\n",
       "        vertical-align: middle;\n",
       "    }\n",
       "\n",
       "    .dataframe tbody tr th {\n",
       "        vertical-align: top;\n",
       "    }\n",
       "\n",
       "    .dataframe thead th {\n",
       "        text-align: right;\n",
       "    }\n",
       "</style>\n",
       "<table border=\"1\" class=\"dataframe\">\n",
       "  <thead>\n",
       "    <tr style=\"text-align: right;\">\n",
       "      <th></th>\n",
       "      <th>Total</th>\n",
       "      <th>Percent</th>\n",
       "    </tr>\n",
       "  </thead>\n",
       "  <tbody>\n",
       "    <tr>\n",
       "      <th>Suburb</th>\n",
       "      <td>0</td>\n",
       "      <td>0.000000</td>\n",
       "    </tr>\n",
       "    <tr>\n",
       "      <th>Address</th>\n",
       "      <td>0</td>\n",
       "      <td>0.000000</td>\n",
       "    </tr>\n",
       "    <tr>\n",
       "      <th>Rooms</th>\n",
       "      <td>0</td>\n",
       "      <td>0.000000</td>\n",
       "    </tr>\n",
       "    <tr>\n",
       "      <th>Type</th>\n",
       "      <td>0</td>\n",
       "      <td>0.000000</td>\n",
       "    </tr>\n",
       "    <tr>\n",
       "      <th>Price</th>\n",
       "      <td>14590</td>\n",
       "      <td>23.150278</td>\n",
       "    </tr>\n",
       "    <tr>\n",
       "      <th>Method</th>\n",
       "      <td>0</td>\n",
       "      <td>0.000000</td>\n",
       "    </tr>\n",
       "    <tr>\n",
       "      <th>SellerG</th>\n",
       "      <td>0</td>\n",
       "      <td>0.000000</td>\n",
       "    </tr>\n",
       "    <tr>\n",
       "      <th>Date</th>\n",
       "      <td>0</td>\n",
       "      <td>0.000000</td>\n",
       "    </tr>\n",
       "    <tr>\n",
       "      <th>Postcode</th>\n",
       "      <td>0</td>\n",
       "      <td>0.000000</td>\n",
       "    </tr>\n",
       "    <tr>\n",
       "      <th>Regionname</th>\n",
       "      <td>0</td>\n",
       "      <td>0.000000</td>\n",
       "    </tr>\n",
       "    <tr>\n",
       "      <th>Propertycount</th>\n",
       "      <td>0</td>\n",
       "      <td>0.000000</td>\n",
       "    </tr>\n",
       "    <tr>\n",
       "      <th>Distance</th>\n",
       "      <td>0</td>\n",
       "      <td>0.000000</td>\n",
       "    </tr>\n",
       "    <tr>\n",
       "      <th>CouncilArea</th>\n",
       "      <td>0</td>\n",
       "      <td>0.000000</td>\n",
       "    </tr>\n",
       "  </tbody>\n",
       "</table>\n",
       "</div>"
      ],
      "text/plain": [
       "               Total    Percent\n",
       "Suburb             0   0.000000\n",
       "Address            0   0.000000\n",
       "Rooms              0   0.000000\n",
       "Type               0   0.000000\n",
       "Price          14590  23.150278\n",
       "Method             0   0.000000\n",
       "SellerG            0   0.000000\n",
       "Date               0   0.000000\n",
       "Postcode           0   0.000000\n",
       "Regionname         0   0.000000\n",
       "Propertycount      0   0.000000\n",
       "Distance           0   0.000000\n",
       "CouncilArea        0   0.000000"
      ]
     },
     "execution_count": 14,
     "metadata": {},
     "output_type": "execute_result"
    }
   ],
   "source": [
    "#xoa cac feature co missing value > 30% va lay cac feature con lai\n",
    "data_trans = data[[column for column in data if data[column].count()/len(data) > 0.7]]\n",
    "total = data_trans.isnull().sum()\n",
    "percent = data_trans.isnull().sum()/len(data_trans)*100\n",
    "missing_data = pd.concat([total,percent], axis=1,keys=['Total', 'Percent'])\n",
    "missing_data"
   ]
  },
  {
   "cell_type": "code",
   "execution_count": 15,
   "metadata": {},
   "outputs": [],
   "source": [
    "#Luc nay neu chon phuong phap xoa missing value thi so luong gia tri moi feature se giam hon 15%\n",
    "#Do do chon phuong phap fill missing value = mean cho cac numerical features va = None cho cac categorical features\n",
    "# for col in category_feature:\n",
    "#     data_trans[col].fillna('None', inplace=True)"
   ]
  },
  {
   "cell_type": "code",
   "execution_count": 16,
   "metadata": {},
   "outputs": [],
   "source": [
    "#Luc nay neu chon phuong phap xoa missing value thi so luong gia tri moi feature se giam hon 15%\n",
    "#Do do chon phuong phap fill missing value = mean cho cac numerical features\n",
    "data_trans['Price'].fillna(data_trans['Price'].mean(), inplace=True)\n",
    "# data_trans = data_trans.dropna()\n",
    "data_num = data_trans.select_dtypes(include = ['float64', 'int64'])"
   ]
  },
  {
   "cell_type": "code",
   "execution_count": 17,
   "metadata": {},
   "outputs": [
    {
     "data": {
      "text/plain": [
       "0"
      ]
     },
     "execution_count": 17,
     "metadata": {},
     "output_type": "execute_result"
    }
   ],
   "source": [
    "data_trans.isnull().sum().sum()"
   ]
  },
  {
   "cell_type": "markdown",
   "metadata": {},
   "source": [
    "# Relation of numerical features to target(Price)"
   ]
  },
  {
   "cell_type": "code",
   "execution_count": 18,
   "metadata": {},
   "outputs": [
    {
     "data": {
      "text/plain": [
       "['Rooms', 'Price', 'Postcode', 'Propertycount', 'Distance']"
      ]
     },
     "execution_count": 18,
     "metadata": {},
     "output_type": "execute_result"
    }
   ],
   "source": [
    "num_feature = [c for c in num_feature if c in data_trans.columns]\n",
    "# num_feature.remove('Price')\n",
    "num_feature"
   ]
  },
  {
   "cell_type": "code",
   "execution_count": 19,
   "metadata": {},
   "outputs": [
    {
     "data": {
      "image/png": "[encoded data removed]",
      "text/plain": [
       "<Figure size 720x360 with 1 Axes>"
      ]
     },
     "metadata": {
      "needs_background": "light"
     },
     "output_type": "display_data"
    },
    {
     "data": {
      "image/png": "[encoded data removed]",
      "text/plain": [
       "<Figure size 720x360 with 1 Axes>"
      ]
     },
     "metadata": {
      "needs_background": "light"
     },
     "output_type": "display_data"
    },
    {
     "data": {
      "image/png": "[encoded data removed]",
      "text/plain": [
       "<Figure size 720x360 with 1 Axes>"
      ]
     },
     "metadata": {
      "needs_background": "light"
     },
     "output_type": "display_data"
    },
    {
     "data": {
      "image/png": "[encoded data removed]",
      "text/plain": [
       "<Figure size 720x360 with 1 Axes>"
      ]
     },
     "metadata": {
      "needs_background": "light"
     },
     "output_type": "display_data"
    },
    {
     "data": {
      "image/png": "[encoded data removed]",
      "text/plain": [
       "<Figure size 720x360 with 1 Axes>"
      ]
     },
     "metadata": {
      "needs_background": "light"
     },
     "output_type": "display_data"
    }
   ],
   "source": [
    "for i in num_feature:\n",
    "    plt.figure(figsize=(10,5))\n",
    "    st = stats.pearsonr(data_trans[i], data_trans['Price'])     \n",
    "    plt.title('r = '+ \"{0:.2f}\".format(st[0]))\n",
    "    sns.regplot(data_trans[i], data_trans['Price'])"
   ]
  },
  {
   "cell_type": "markdown",
   "metadata": {},
   "source": [
    "- Tu cac bieu do tren ta thay rang cac he so correlation deu rat thap <=0.4\n",
    "- Cac feature nhu postcode va propertycount co he so gan nhu bang = 0"
   ]
  },
  {
   "cell_type": "markdown",
   "metadata": {},
   "source": [
    "# Relation of Categorical features to Price"
   ]
  },
  {
   "cell_type": "code",
   "execution_count": 20,
   "metadata": {},
   "outputs": [
    {
     "name": "stdout",
     "output_type": "stream",
     "text": [
      "Reservoir            1241\n",
      "Bentleigh East        845\n",
      "Mount Waverley        831\n",
      "Richmond              822\n",
      "Glen Waverley         819\n",
      "Craigieburn           783\n",
      "Preston               699\n",
      "Kew                   668\n",
      "Glen Iris             662\n",
      "Brunswick             644\n",
      "Northcote             613\n",
      "South Yarra           603\n",
      "Brighton              602\n",
      "Hawthorn              601\n",
      "Balwyn North          595\n",
      "Coburg                592\n",
      "Camberwell            573\n",
      "Glenroy               570\n",
      "Cheltenham            569\n",
      "Essendon              568\n",
      "Brighton East         559\n",
      "Bundoora              558\n",
      "Mill Park             554\n",
      "Pascoe Vale           529\n",
      "Epping                511\n",
      "St Kilda              507\n",
      "Port Melbourne        506\n",
      "Malvern East          505\n",
      "Doncaster East        492\n",
      "Hoppers Crossing      489\n",
      "                     ... \n",
      "Panton Hill             2\n",
      "Seville                 2\n",
      "Woori Yallock           2\n",
      "Belgrave                2\n",
      "Kilsyth South           2\n",
      "Chintin                 2\n",
      "Mount Dandenong         2\n",
      "Avonsleigh              1\n",
      "Hopetoun Park           1\n",
      "Belgrave Heights        1\n",
      "Castella                1\n",
      "croydon                 1\n",
      "Warneet                 1\n",
      "Toolern Vale            1\n",
      "viewbank                1\n",
      "Menzies Creek           1\n",
      "Lysterfield South       1\n",
      "Don Valley              1\n",
      "Belgrave South          1\n",
      "Maddingley              1\n",
      "Yarrambat               1\n",
      "Pentland Hills          1\n",
      "Wildwood                1\n",
      "Kalorama                1\n",
      "Warrandyte South        1\n",
      "Wandin North            1\n",
      "Gembrook                1\n",
      "Kallista                1\n",
      "Yarra Junction          1\n",
      "Guys Hill               1\n",
      "Name: Suburb, Length: 380, dtype: int64\n",
      "##################################################\n",
      "52 Station St                7\n",
      "5 Charles St                 7\n",
      "57 Bay Rd                    7\n",
      "56 Victoria St               7\n",
      "14 Northcote St              7\n",
      "3 Donald St                  7\n",
      "3 Parker St                  7\n",
      "14 Moray St                  7\n",
      "40 Whyte St                  6\n",
      "11 The Avenue                6\n",
      "72 Hickford St               6\n",
      "36 Arnold Rd                 6\n",
      "36A Sheehans Rd              6\n",
      "401/340 Russell St           6\n",
      "250 Albion St                6\n",
      "4 Ivy St                     6\n",
      "235 Hawthorn Rd              6\n",
      "84 Sackville St              6\n",
      "7 Lawson St                  6\n",
      "5/169 Centre Dandenong Rd    6\n",
      "21 Baker Av                  6\n",
      "8 Brogil Wk                  6\n",
      "16 Kingston St               6\n",
      "23 Latham St                 6\n",
      "37 Cutter St                 6\n",
      "7 East St                    6\n",
      "12 Terry St                  6\n",
      "197 Banksia St               6\n",
      "55 Coronation St             6\n",
      "18 Wave St                   6\n",
      "                            ..\n",
      "60 Hortense St               1\n",
      "19 Junor Ct                  1\n",
      "46 Paddington Av             1\n",
      "7 Westgate Av                1\n",
      "1/1 Franklin St              1\n",
      "57 Quinn St                  1\n",
      "19 Haig St                   1\n",
      "28 Tullimbar Cct             1\n",
      "36 Westwood Dr               1\n",
      "35 Alice St                  1\n",
      "43 Everard St                1\n",
      "12/22 Somerville Rd          1\n",
      "463 Grand Bvd                1\n",
      "4 Myrtle Ct                  1\n",
      "14 Ridge Rd                  1\n",
      "6 Haslewood St               1\n",
      "24 Ruby St                   1\n",
      "3/4 Kalymna Gr               1\n",
      "1 Marchant Av                1\n",
      "12 Meyer Ct                  1\n",
      "3/171 Greenwood Dr           1\n",
      "329 Gillies St               1\n",
      "89 Cuthbert St               1\n",
      "39 Appledale Wy              1\n",
      "53/781 Whitehorse Rd         1\n",
      "105/493 Victoria St          1\n",
      "124 Cecil St                 1\n",
      "8 Lara Pl                    1\n",
      "247 York St                  1\n",
      "49A Argyle St                1\n",
      "Name: Address, Length: 57754, dtype: int64\n",
      "##################################################\n",
      "h    45053\n",
      "u    11655\n",
      "t     6315\n",
      "Name: Type, dtype: int64\n",
      "##################################################\n",
      "S     34063\n",
      "PI     9790\n",
      "SP     8916\n",
      "VB     5956\n",
      "SN     2674\n",
      "PN      651\n",
      "W       484\n",
      "SA      416\n",
      "SS       73\n",
      "Name: Method, dtype: int64\n",
      "##################################################\n",
      "Barry                         6894\n",
      "Jellis                        5499\n",
      "Nelson                        4739\n",
      "Ray                           4554\n",
      "hockingstuart                 4332\n",
      "Buxton                        3357\n",
      "Marshall                      2844\n",
      "Fletchers                     1612\n",
      "Biggin                        1535\n",
      "Harcourts                     1211\n",
      "Woodards                      1184\n",
      "YPA                           1094\n",
      "McGrath                       1077\n",
      "Noel                          1064\n",
      "Brad                          1055\n",
      "Hodges                         905\n",
      "Stockdale                      820\n",
      "Greg                           792\n",
      "HAR                            787\n",
      "RT                             752\n",
      "Miles                          682\n",
      "Jas                            641\n",
      "Raine                          636\n",
      "Gary                           633\n",
      "Sweeney                        632\n",
      "RW                             610\n",
      "O'Brien                        595\n",
      "Love                           514\n",
      "Kay                            499\n",
      "Philip                         447\n",
      "                              ... \n",
      "hockingstuart/Kerr               1\n",
      "hockingstuart/Harcourts          1\n",
      "Living                           1\n",
      "Enrich                           1\n",
      "PSP                              1\n",
      "Janice                           1\n",
      "Christou                         1\n",
      "hockingstuart/Purplebricks       1\n",
      "JK                               1\n",
      "Fletchers/J                      1\n",
      "Private/Tiernan's                1\n",
      "Harrison                         1\n",
      "hockingstuart/Marshall           1\n",
      "Airport                          1\n",
      "Prime                            1\n",
      "G&H                              1\n",
      "Gellibrand                       1\n",
      "Harcourts/Barry                  1\n",
      "Karen                            1\n",
      "Len                              1\n",
      "Foxtons                          1\n",
      "Propertyau                       1\n",
      "Ausin                            1\n",
      "Gr8                              1\n",
      "Sprint                           1\n",
      "Better                           1\n",
      "Veitch                           1\n",
      "Sandhurst                        1\n",
      "SheSELLS                         1\n",
      "Harcourts/LJ                     1\n",
      "Name: SellerG, Length: 476, dtype: int64\n",
      "##################################################\n",
      "24/03/2018    1144\n",
      "28/10/2017    1119\n",
      "17/03/2018     970\n",
      "27/11/2016     946\n",
      "24/02/2018     941\n",
      "9/12/2017      928\n",
      "10/12/2016     924\n",
      "25/02/2017     924\n",
      "25/11/2017     902\n",
      "18/11/2017     866\n",
      "18/03/2017     859\n",
      "4/03/2017      848\n",
      "3/03/2018      846\n",
      "8/04/2017      820\n",
      "23/12/2017     787\n",
      "30/12/2017     787\n",
      "8/01/2018      787\n",
      "6/01/2018      787\n",
      "16/12/2017     787\n",
      "3/12/2016      784\n",
      "27/05/2017     770\n",
      "20/05/2017     767\n",
      "28/04/2018     763\n",
      "23/09/2017     742\n",
      "12/11/2016     741\n",
      "19/11/2016     739\n",
      "16/09/2017     730\n",
      "15/10/2016     730\n",
      "11/11/2017     729\n",
      "28/05/2016     719\n",
      "              ... \n",
      "6/05/2017      444\n",
      "28/07/2018     435\n",
      "30/06/2018     433\n",
      "8/07/2017      429\n",
      "11/08/2018     428\n",
      "6/08/2016      427\n",
      "15/07/2017     421\n",
      "7/04/2018      418\n",
      "13/08/2016     376\n",
      "16/07/2016     365\n",
      "4/08/2018      364\n",
      "21/07/2018     341\n",
      "10/02/2018     341\n",
      "7/07/2018      331\n",
      "26/07/2016     322\n",
      "14/07/2018     312\n",
      "23/04/2016     312\n",
      "11/02/2017     279\n",
      "10/03/2018     168\n",
      "12/06/2016     157\n",
      "11/03/2017     130\n",
      "9/06/2018      122\n",
      "3/02/2018      117\n",
      "4/02/2016      106\n",
      "4/11/2017      103\n",
      "30/09/2017      22\n",
      "20/01/2018      19\n",
      "28/01/2016      17\n",
      "31/03/2018      14\n",
      "27/01/2018      12\n",
      "Name: Date, Length: 112, dtype: int64\n",
      "##################################################\n",
      "Southern Metropolitan         17559\n",
      "Northern Metropolitan         16781\n",
      "Western Metropolitan          11717\n",
      "Eastern Metropolitan          10396\n",
      "South-Eastern Metropolitan     5212\n",
      "Eastern Victoria                564\n",
      "Northern Victoria               556\n",
      "Western Victoria                238\n",
      "Name: Regionname, dtype: int64\n",
      "##################################################\n",
      "Boroondara City Council           5132\n",
      "Darebin City Council              4182\n",
      "Banyule City Council              3656\n",
      "Monash City Council               3592\n",
      "Bayside City Council              3331\n",
      "Brimbank City Council             3296\n",
      "Moreland City Council             3030\n",
      "Hume City Council                 2939\n",
      "Glen Eira City Council            2934\n",
      "Melbourne City Council            2728\n",
      "Whittlesea City Council           2545\n",
      "Moonee Valley City Council        2512\n",
      "Kingston City Council             2378\n",
      "Manningham City Council           2225\n",
      "Maribyrnong City Council          2083\n",
      "Stonnington City Council          1991\n",
      "Whitehorse City Council           1811\n",
      "Port Phillip City Council         1771\n",
      "Yarra City Council                1698\n",
      "Wyndham City Council              1542\n",
      "Maroondah City Council            1451\n",
      "Hobsons Bay City Council          1351\n",
      "Knox City Council                 1043\n",
      "Greater Dandenong City Council     948\n",
      "Frankston City Council             835\n",
      "Melton City Council                687\n",
      "Casey City Council                 503\n",
      "Nillumbik Shire Council            277\n",
      "Yarra Ranges Shire Council         262\n",
      "Macedon Ranges Shire Council       137\n",
      "Cardinia Shire Council              88\n",
      "Mitchell Shire Council              45\n",
      "Moorabool Shire Council             19\n",
      "Murrindindi Shire Council            1\n",
      "Name: CouncilArea, dtype: int64\n",
      "##################################################\n"
     ]
    }
   ],
   "source": [
    "# xem cac gia tri cua cac features\n",
    "category_feature = [c for c in category_feature if c in data_trans.columns]\n",
    "for catg in category_feature:\n",
    "    print(data_trans[catg].value_counts())\n",
    "    print('#'*50)"
   ]
  },
  {
   "cell_type": "markdown",
   "metadata": {},
   "source": [
    "Phan loai cac categorical features"
   ]
  },
  {
   "cell_type": "markdown",
   "metadata": {},
   "source": [
    "- Cac feature nhu Suburb, Address, CouncilArea, Regionname deu chi vi tri dia ly cua khu vuc cua ngoi nha.\n",
    "- Vi so luong value cua cac feature Suburb, Address, CouncilArea rat nhieu nen ta se gom lai theo khu vuc de de visualize va khao sat anh huong cua khu vuc den Price\n",
    "- Trong cac feature tren ta chon Regioname lam category dai dien khu vuc de khao sat"
   ]
  },
  {
   "cell_type": "code",
   "execution_count": 21,
   "metadata": {},
   "outputs": [],
   "source": [
    "data_trans = data_trans.drop(['Suburb', 'Address', 'CouncilArea'], axis=1)"
   ]
  },
  {
   "cell_type": "code",
   "execution_count": 22,
   "metadata": {},
   "outputs": [],
   "source": [
    "#xu ly Date\n",
    "#Phan loai du lieu Date thanh cac quy cua nam voi cac gia tri 1,2,3,4,5,6,7,8,9,10,11,12 tuong ung voi quy 1,2,3,4 cua nam 2016\n",
    "# quy 1,2,3,4 cua nam 2017, quy 1,2,3,4 cua nam 2018\n",
    "data_trans['Date'] = pd.to_datetime(data_trans['Date'])\n",
    "data_trans['quarter'] = data_trans['Date'].dt.quarter\n",
    "data_trans['year'] = data_trans['Date'].dt.year\n",
    "\n",
    "data_trans['Quarter_of_year'] = 1\n",
    "data_trans.loc[((data_trans['quarter']==2) & (data_trans['year']==2016)), 'Quarter_of_year'] = 2\n",
    "data_trans.loc[((data_trans['quarter']==3) & (data_trans['year']==2016)), 'Quarter_of_year'] = 3\n",
    "data_trans.loc[((data_trans['quarter']==4) & (data_trans['year']==2016)), 'Quarter_of_year'] = 4\n",
    "data_trans.loc[((data_trans['quarter']==1) & (data_trans['year']==2017)), 'Quarter_of_year'] = 5\n",
    "data_trans.loc[((data_trans['quarter']==2) & (data_trans['year']==2017)), 'Quarter_of_year'] = 6\n",
    "data_trans.loc[((data_trans['quarter']==3) & (data_trans['year']==2017)), 'Quarter_of_year'] = 7\n",
    "data_trans.loc[((data_trans['quarter']==4) & (data_trans['year']==2017)), 'Quarter_of_year'] = 8\n",
    "data_trans.loc[((data_trans['quarter']==1) & (data_trans['year']==2018)), 'Quarter_of_year'] = 9\n",
    "data_trans.loc[((data_trans['quarter']==2) & (data_trans['year']==2018)), 'Quarter_of_year'] = 10\n",
    "data_trans.loc[((data_trans['quarter']==3) & (data_trans['year']==2018)), 'Quarter_of_year'] = 11\n",
    "data_trans.loc[((data_trans['quarter']==4) & (data_trans['year']==2018)), 'Quarter_of_year'] = 12"
   ]
  },
  {
   "cell_type": "code",
   "execution_count": 23,
   "metadata": {
    "scrolled": false
   },
   "outputs": [],
   "source": [
    "# xu ly SellerG\n",
    "#phan loai SellerG co so luong nha ban duoc khac nhau, voi khoang phan loai la <1000, >1000, >2000, >3000, >4000, >6000.\n",
    "# vi co the gia cua nguoi ban dua ra khac nhau co the anh huong so luong nha ho ban duoc\n",
    "SellerG_frame = data_trans['SellerG'].value_counts().to_frame()\n",
    "SellerG_lower1000 = list(SellerG_frame[SellerG_frame['SellerG'] < 1000].index)\n",
    "SellerG_upper1000 = list(SellerG_frame[(SellerG_frame['SellerG'] >= 1000) & (SellerG_frame['SellerG'] < 2000)].index)\n",
    "SellerG_upper2000 = list(SellerG_frame[(SellerG_frame['SellerG'] >= 2000) & (SellerG_frame['SellerG'] < 3000)].index)\n",
    "SellerG_upper3000 = list(SellerG_frame[(SellerG_frame['SellerG'] >= 3000) & (SellerG_frame['SellerG'] < 4000)].index)\n",
    "SellerG_upper4000 = list(SellerG_frame[(SellerG_frame['SellerG'] >= 4000) & (SellerG_frame['SellerG'] < 5000)].index)\n",
    "SellerG_upper5000 = list(SellerG_frame[(SellerG_frame['SellerG'] >= 5000) & (SellerG_frame['SellerG'] < 6000)].index)\n",
    "SellerG_upper6000 = list(SellerG_frame[SellerG_frame['SellerG'] >= 6000].index)\n",
    "SellerG_cate = ['SellerG_lower1000','SellerG_upper1000','SellerG_upper2000','SellerG_upper3000','SellerG_upper4000','SellerG_upper5000','SellerG_upper6000']\n",
    "\n",
    "data_trans['SellerG_level'] = 1\n",
    "data_trans.loc[(data_trans['SellerG'].isin(SellerG_upper1000)), 'SellerG_level'] = 2\n",
    "data_trans.loc[(data_trans['SellerG'].isin(SellerG_upper2000)), 'SellerG_level'] = 3\n",
    "data_trans.loc[(data_trans['SellerG'].isin(SellerG_upper3000)), 'SellerG_level'] = 4\n",
    "data_trans.loc[(data_trans['SellerG'].isin(SellerG_upper4000)), 'SellerG_level'] = 5\n",
    "data_trans.loc[(data_trans['SellerG'].isin(SellerG_upper5000)), 'SellerG_level'] = 6\n",
    "data_trans.loc[(data_trans['SellerG'].isin(SellerG_upper6000)), 'SellerG_level'] = 7\n"
   ]
  },
  {
   "cell_type": "code",
   "execution_count": 24,
   "metadata": {},
   "outputs": [],
   "source": [
    "# cap nhap lai cac categorical features\n",
    "category_feature = ['Type', 'Method', 'Regionname', 'SellerG_level', 'Quarter_of_year']"
   ]
  },
  {
   "cell_type": "code",
   "execution_count": 25,
   "metadata": {},
   "outputs": [
    {
     "data": {
      "image/png": "[encoded data removed]",
      "text/plain": [
       "<Figure size 720x360 with 1 Axes>"
      ]
     },
     "metadata": {
      "needs_background": "light"
     },
     "output_type": "display_data"
    },
    {
     "data": {
      "image/png": "[encoded data removed]",
      "text/plain": [
       "<Figure size 720x360 with 1 Axes>"
      ]
     },
     "metadata": {
      "needs_background": "light"
     },
     "output_type": "display_data"
    },
    {
     "data": {
      "image/png": "[encoded data removed]",
      "text/plain": [
       "<Figure size 720x360 with 1 Axes>"
      ]
     },
     "metadata": {
      "needs_background": "light"
     },
     "output_type": "display_data"
    },
    {
     "data": {
      "image/png": "[encoded data removed]",
      "text/plain": [
       "<Figure size 720x360 with 1 Axes>"
      ]
     },
     "metadata": {
      "needs_background": "light"
     },
     "output_type": "display_data"
    },
    {
     "data": {
      "image/png": "[encoded data removed]",
      "text/plain": [
       "<Figure size 720x360 with 1 Axes>"
      ]
     },
     "metadata": {
      "needs_background": "light"
     },
     "output_type": "display_data"
    }
   ],
   "source": [
    "for i in category_feature:\n",
    "    plt.figure(figsize=(10,5))\n",
    "    sns.boxplot(x=i, y='Price', data=data_trans)"
   ]
  },
  {
   "cell_type": "markdown",
   "metadata": {},
   "source": [
    "# cap nhat lai cac feature cho tap du lieu moi de phuc vu testing va linear regression"
   ]
  },
  {
   "cell_type": "code",
   "execution_count": 26,
   "metadata": {},
   "outputs": [
    {
     "name": "stdout",
     "output_type": "stream",
     "text": [
      "<class 'pandas.core.frame.DataFrame'>\n",
      "RangeIndex: 63023 entries, 0 to 63022\n",
      "Data columns (total 10 columns):\n",
      "Rooms              63023 non-null int64\n",
      "Type               63023 non-null object\n",
      "Price              63023 non-null float64\n",
      "Method             63023 non-null object\n",
      "Postcode           63023 non-null int64\n",
      "Regionname         63023 non-null object\n",
      "Propertycount      63023 non-null int64\n",
      "Distance           63023 non-null float64\n",
      "Quarter_of_year    63023 non-null int64\n",
      "SellerG_level      63023 non-null int64\n",
      "dtypes: float64(2), int64(5), object(3)\n",
      "memory usage: 4.8+ MB\n"
     ]
    }
   ],
   "source": [
    "dataset = data_trans.drop(['SellerG','quarter','year','Date'], axis=1)\n",
    "dataset.info()"
   ]
  },
  {
   "cell_type": "code",
   "execution_count": 27,
   "metadata": {},
   "outputs": [],
   "source": [
    "# q1 = dataset.quantile(0.25)\n",
    "# q3 = dataset.quantile(0.75)\n",
    "# iqr = q3 - q1\n",
    "# dataset = dataset[~((dataset < (q1 - 1.5 * iqr)) |(dataset > (q3 + 1.5 * iqr)))]\n",
    "# dataset.info()"
   ]
  },
  {
   "cell_type": "code",
   "execution_count": 28,
   "metadata": {},
   "outputs": [],
   "source": [
    "# dataset = dataset.dropna()\n",
    "# dataset.isnull().sum()"
   ]
  },
  {
   "cell_type": "code",
   "execution_count": 29,
   "metadata": {},
   "outputs": [
    {
     "data": {
      "text/html": [
       "<div>\n",
       "<style scoped>\n",
       "    .dataframe tbody tr th:only-of-type {\n",
       "        vertical-align: middle;\n",
       "    }\n",
       "\n",
       "    .dataframe tbody tr th {\n",
       "        vertical-align: top;\n",
       "    }\n",
       "\n",
       "    .dataframe thead th {\n",
       "        text-align: right;\n",
       "    }\n",
       "</style>\n",
       "<table border=\"1\" class=\"dataframe\">\n",
       "  <thead>\n",
       "    <tr style=\"text-align: right;\">\n",
       "      <th></th>\n",
       "      <th>Rooms</th>\n",
       "      <th>Price</th>\n",
       "      <th>Postcode</th>\n",
       "      <th>Propertycount</th>\n",
       "      <th>Distance</th>\n",
       "      <th>Quarter_of_year</th>\n",
       "      <th>SellerG_level</th>\n",
       "    </tr>\n",
       "  </thead>\n",
       "  <tbody>\n",
       "    <tr>\n",
       "      <th>count</th>\n",
       "      <td>63023.000000</td>\n",
       "      <td>6.302300e+04</td>\n",
       "      <td>63023.000000</td>\n",
       "      <td>63023.000000</td>\n",
       "      <td>63023.000000</td>\n",
       "      <td>63023.000000</td>\n",
       "      <td>63023.000000</td>\n",
       "    </tr>\n",
       "    <tr>\n",
       "      <th>mean</th>\n",
       "      <td>3.110595</td>\n",
       "      <td>9.978982e+05</td>\n",
       "      <td>3125.673897</td>\n",
       "      <td>7617.728131</td>\n",
       "      <td>12.684829</td>\n",
       "      <td>6.810514</td>\n",
       "      <td>3.363423</td>\n",
       "    </tr>\n",
       "    <tr>\n",
       "      <th>std</th>\n",
       "      <td>0.957551</td>\n",
       "      <td>5.202835e+05</td>\n",
       "      <td>125.626877</td>\n",
       "      <td>4424.423167</td>\n",
       "      <td>7.592015</td>\n",
       "      <td>2.992764</td>\n",
       "      <td>2.192854</td>\n",
       "    </tr>\n",
       "    <tr>\n",
       "      <th>min</th>\n",
       "      <td>1.000000</td>\n",
       "      <td>8.500000e+04</td>\n",
       "      <td>3000.000000</td>\n",
       "      <td>39.000000</td>\n",
       "      <td>0.000000</td>\n",
       "      <td>1.000000</td>\n",
       "      <td>1.000000</td>\n",
       "    </tr>\n",
       "    <tr>\n",
       "      <th>10%</th>\n",
       "      <td>2.000000</td>\n",
       "      <td>5.146000e+05</td>\n",
       "      <td>3029.000000</td>\n",
       "      <td>2698.000000</td>\n",
       "      <td>4.300000</td>\n",
       "      <td>2.000000</td>\n",
       "      <td>1.000000</td>\n",
       "    </tr>\n",
       "    <tr>\n",
       "      <th>25%</th>\n",
       "      <td>3.000000</td>\n",
       "      <td>6.770000e+05</td>\n",
       "      <td>3056.000000</td>\n",
       "      <td>4380.000000</td>\n",
       "      <td>7.000000</td>\n",
       "      <td>4.000000</td>\n",
       "      <td>1.000000</td>\n",
       "    </tr>\n",
       "    <tr>\n",
       "      <th>50%</th>\n",
       "      <td>3.000000</td>\n",
       "      <td>9.978982e+05</td>\n",
       "      <td>3107.000000</td>\n",
       "      <td>6795.000000</td>\n",
       "      <td>11.400000</td>\n",
       "      <td>7.000000</td>\n",
       "      <td>3.000000</td>\n",
       "    </tr>\n",
       "    <tr>\n",
       "      <th>75%</th>\n",
       "      <td>4.000000</td>\n",
       "      <td>1.065000e+06</td>\n",
       "      <td>3163.000000</td>\n",
       "      <td>10412.000000</td>\n",
       "      <td>16.700000</td>\n",
       "      <td>9.000000</td>\n",
       "      <td>5.000000</td>\n",
       "    </tr>\n",
       "    <tr>\n",
       "      <th>95%</th>\n",
       "      <td>5.000000</td>\n",
       "      <td>1.912950e+06</td>\n",
       "      <td>3206.000000</td>\n",
       "      <td>15510.000000</td>\n",
       "      <td>26.500000</td>\n",
       "      <td>11.000000</td>\n",
       "      <td>7.000000</td>\n",
       "    </tr>\n",
       "    <tr>\n",
       "      <th>99%</th>\n",
       "      <td>5.000000</td>\n",
       "      <td>3.000000e+06</td>\n",
       "      <td>3756.000000</td>\n",
       "      <td>21650.000000</td>\n",
       "      <td>38.000000</td>\n",
       "      <td>12.000000</td>\n",
       "      <td>7.000000</td>\n",
       "    </tr>\n",
       "    <tr>\n",
       "      <th>max</th>\n",
       "      <td>31.000000</td>\n",
       "      <td>1.120000e+07</td>\n",
       "      <td>3980.000000</td>\n",
       "      <td>21650.000000</td>\n",
       "      <td>64.100000</td>\n",
       "      <td>12.000000</td>\n",
       "      <td>7.000000</td>\n",
       "    </tr>\n",
       "  </tbody>\n",
       "</table>\n",
       "</div>"
      ],
      "text/plain": [
       "              Rooms         Price      Postcode  Propertycount      Distance  \\\n",
       "count  63023.000000  6.302300e+04  63023.000000   63023.000000  63023.000000   \n",
       "mean       3.110595  9.978982e+05   3125.673897    7617.728131     12.684829   \n",
       "std        0.957551  5.202835e+05    125.626877    4424.423167      7.592015   \n",
       "min        1.000000  8.500000e+04   3000.000000      39.000000      0.000000   \n",
       "10%        2.000000  5.146000e+05   3029.000000    2698.000000      4.300000   \n",
       "25%        3.000000  6.770000e+05   3056.000000    4380.000000      7.000000   \n",
       "50%        3.000000  9.978982e+05   3107.000000    6795.000000     11.400000   \n",
       "75%        4.000000  1.065000e+06   3163.000000   10412.000000     16.700000   \n",
       "95%        5.000000  1.912950e+06   3206.000000   15510.000000     26.500000   \n",
       "99%        5.000000  3.000000e+06   3756.000000   21650.000000     38.000000   \n",
       "max       31.000000  1.120000e+07   3980.000000   21650.000000     64.100000   \n",
       "\n",
       "       Quarter_of_year  SellerG_level  \n",
       "count     63023.000000   63023.000000  \n",
       "mean          6.810514       3.363423  \n",
       "std           2.992764       2.192854  \n",
       "min           1.000000       1.000000  \n",
       "10%           2.000000       1.000000  \n",
       "25%           4.000000       1.000000  \n",
       "50%           7.000000       3.000000  \n",
       "75%           9.000000       5.000000  \n",
       "95%          11.000000       7.000000  \n",
       "99%          12.000000       7.000000  \n",
       "max          12.000000       7.000000  "
      ]
     },
     "execution_count": 29,
     "metadata": {},
     "output_type": "execute_result"
    }
   ],
   "source": [
    "dataset.describe(percentiles=[.1,.25,.50,.75,.95,.99])"
   ]
  },
  {
   "cell_type": "code",
   "execution_count": 30,
   "metadata": {},
   "outputs": [
    {
     "data": {
      "text/plain": [
       "<matplotlib.axes._subplots.AxesSubplot at 0x174591fe6a0>"
      ]
     },
     "execution_count": 30,
     "metadata": {},
     "output_type": "execute_result"
    },
    {
     "data": {
      "image/png": "[encoded data removed]",
      "text/plain": [
       "<Figure size 432x288 with 2 Axes>"
      ]
     },
     "metadata": {
      "needs_background": "light"
     },
     "output_type": "display_data"
    }
   ],
   "source": [
    "sns.heatmap(dataset.corr(), vmax=1.0, vmin=-1.0, annot=True)"
   ]
  },
  {
   "cell_type": "markdown",
   "metadata": {},
   "source": [
    "# 1.2. Testing"
   ]
  },
  {
   "cell_type": "code",
   "execution_count": 31,
   "metadata": {},
   "outputs": [
    {
     "data": {
      "text/plain": [
       "Index(['Rooms', 'Type', 'Price', 'Method', 'Postcode', 'Regionname',\n",
       "       'Propertycount', 'Distance', 'Quarter_of_year', 'SellerG_level'],\n",
       "      dtype='object')"
      ]
     },
     "execution_count": 31,
     "metadata": {},
     "output_type": "execute_result"
    }
   ],
   "source": [
    "dataset.columns"
   ]
  },
  {
   "cell_type": "code",
   "execution_count": 32,
   "metadata": {},
   "outputs": [
    {
     "name": "stdout",
     "output_type": "stream",
     "text": [
      "Reject H0, Rooms la Key factor cua Price\n"
     ]
    }
   ],
   "source": [
    "percent_sample = 0.5\n",
    "#testing Rooms\n",
    "f, p = f_oneway(dataset[dataset['Rooms']==1]['Price'].sample(frac=percent_sample),\n",
    "                dataset[dataset['Rooms']==2]['Price'].sample(frac=percent_sample),\n",
    "                dataset[dataset['Rooms']==3]['Price'].sample(frac=percent_sample),\n",
    "                dataset[dataset['Rooms']==4]['Price'].sample(frac=percent_sample),\n",
    "                dataset[dataset['Rooms']==5]['Price'].sample(frac=percent_sample),\n",
    "                dataset[dataset['Rooms']==6]['Price'].sample(frac=percent_sample),\n",
    "                dataset[dataset['Rooms']>=7]['Price'].sample(frac=percent_sample))\n",
    "if p < 0.05:\n",
    "    print('Reject H0, Rooms la Key factor cua Price')\n",
    "else:\n",
    "    print('Accept H0, Rooms khong phai la Key factor cua Price')"
   ]
  },
  {
   "cell_type": "code",
   "execution_count": 33,
   "metadata": {},
   "outputs": [
    {
     "name": "stdout",
     "output_type": "stream",
     "text": [
      "Reject H0, Type la Key factor cua Price\n"
     ]
    }
   ],
   "source": [
    "#testing Type\n",
    "f, p = f_oneway(dataset[dataset['Type']=='h']['Price'].sample(frac=percent_sample)\n",
    "                ,dataset[dataset['Type']=='u']['Price'].sample(frac=percent_sample)\n",
    "                ,dataset[dataset['Type']=='t']['Price'].sample(frac=percent_sample))\n",
    "if p < 0.05:\n",
    "    print('Reject H0, Type la Key factor cua Price')\n",
    "else:\n",
    "    print('Accept H0, Type khong phai la Key factor cua Price')"
   ]
  },
  {
   "cell_type": "code",
   "execution_count": 34,
   "metadata": {},
   "outputs": [
    {
     "name": "stdout",
     "output_type": "stream",
     "text": [
      "Reject H0, Method la Key factor cua Price\n"
     ]
    }
   ],
   "source": [
    "# dataset['Method'].value_counts()\n",
    "#test Method\n",
    "f, p = f_oneway(dataset[dataset['Method']=='S']['Price'].sample(frac=percent_sample)\n",
    "                ,dataset[dataset['Method']=='PI']['Price'].sample(frac=percent_sample)\n",
    "                ,dataset[dataset['Method']=='SP']['Price'].sample(frac=percent_sample)\n",
    "                ,dataset[dataset['Method']=='VB']['Price'].sample(frac=percent_sample)\n",
    "                ,dataset[dataset['Method']=='SN']['Price'].sample(frac=percent_sample)\n",
    "                ,dataset[dataset['Method']=='PN']['Price'].sample(frac=percent_sample)\n",
    "                ,dataset[dataset['Method']=='W']['Price'].sample(frac=percent_sample)\n",
    "                ,dataset[dataset['Method']=='SA']['Price'].sample(frac=percent_sample)\n",
    "                ,dataset[dataset['Method']=='SS']['Price'].sample(frac=percent_sample))\n",
    "if p < 0.05:\n",
    "    print('Reject H0, Method la Key factor cua Price')\n",
    "else:\n",
    "    print('Accept H0, Method khong phai la Key factor cua Price')"
   ]
  },
  {
   "cell_type": "code",
   "execution_count": 35,
   "metadata": {},
   "outputs": [
    {
     "name": "stdout",
     "output_type": "stream",
     "text": [
      "Accept H0, Postcode khong phai la Key factor cua Price\n"
     ]
    }
   ],
   "source": [
    "#testing Postcode\n",
    "Postcode_upper0 = data[(data['Postcode']>=0) & (data['Postcode']<3200)].sample(frac=percent_sample)\n",
    "Postcode_upper2 = data[(data['Postcode']>=3200) & (data['Postcode']<3400)].sample(frac=percent_sample)\n",
    "Postcode_upper4 = data[(data['Postcode']>=3400) & (data['Postcode']<3600)].sample(frac=percent_sample)\n",
    "Postcode_upper6 = data[(data['Postcode']>=3600) & (data['Postcode']<3800)].sample(frac=percent_sample)\n",
    "Postcode_upper8 = data[data['Postcode']>=3800].sample(frac=percent_sample)\n",
    "f, p = f_oneway(Postcode_upper0['Price'].sample(frac=percent_sample),\n",
    "                Postcode_upper2['Price'].sample(frac=percent_sample),\n",
    "                Postcode_upper4['Price'].sample(frac=percent_sample),\n",
    "                Postcode_upper6['Price'].sample(frac=percent_sample),\n",
    "                Postcode_upper8['Price'].sample(frac=percent_sample))\n",
    "if p < 0.05:\n",
    "    print('Reject H0, Postcode la Key factor cua Price')\n",
    "else:\n",
    "    print('Accept H0, Postcode khong phai la Key factor cua Price')"
   ]
  },
  {
   "cell_type": "code",
   "execution_count": 36,
   "metadata": {},
   "outputs": [
    {
     "name": "stdout",
     "output_type": "stream",
     "text": [
      "Reject H0, Regionname la Key factor cua Price\n"
     ]
    }
   ],
   "source": [
    "#testing Regionname\n",
    "f, p = f_oneway(dataset[dataset['Regionname']=='Northern Metropolitan']['Price'].sample(frac=percent_sample),\n",
    "                dataset[dataset['Regionname']=='Southern Metropolitan']['Price'].sample(frac=percent_sample),\n",
    "                dataset[dataset['Regionname']=='Western Metropolitan']['Price'].sample(frac=percent_sample),\n",
    "                dataset[dataset['Regionname']=='Eastern Metropolitan']['Price'].sample(frac=percent_sample),\n",
    "                dataset[dataset['Regionname']=='South-Eastern Metropolitan']['Price'].sample(frac=percent_sample),\n",
    "                dataset[dataset['Regionname']=='Eastern Victoria']['Price'].sample(frac=percent_sample),\n",
    "                dataset[dataset['Regionname']=='Northern Victoria']['Price'].sample(frac=percent_sample))\n",
    "if p < 0.05:\n",
    "    print('Reject H0, Regionname la Key factor cua Price')\n",
    "else:\n",
    "    print('Accept H0, Regionname khong phai la Key factor cua Price')"
   ]
  },
  {
   "cell_type": "code",
   "execution_count": 37,
   "metadata": {},
   "outputs": [
    {
     "name": "stdout",
     "output_type": "stream",
     "text": [
      "Reject H0, Propertycount la Key factor cua Price\n"
     ]
    }
   ],
   "source": [
    "# testing Propertycount\n",
    "Propertycount_upper0 = dataset[(dataset['Propertycount']>=0) & (dataset['Propertycount']<5000)]\n",
    "Propertycount_upper5 = dataset[(dataset['Propertycount']>=5000) & (dataset['Propertycount']<10000)].sample(frac=percent_sample)\n",
    "Propertycount_upper10 = dataset[(dataset['Propertycount']>=10000) & (dataset['Propertycount']<15000)].sample(frac=percent_sample)\n",
    "Propertycount_upper15 = dataset[(dataset['Propertycount']>=15000) & (dataset['Propertycount']<20000)].sample(frac=percent_sample)\n",
    "Propertycount_upper20 = dataset[dataset['Propertycount']>=20000].sample(frac=percent_sample)\n",
    "f, p = f_oneway(Propertycount_upper0['Price'].sample(frac=percent_sample),\n",
    "                Propertycount_upper5['Price'].sample(frac=percent_sample),\n",
    "                Propertycount_upper10['Price'].sample(frac=percent_sample),\n",
    "                Propertycount_upper15['Price'].sample(frac=percent_sample),\n",
    "                Propertycount_upper20['Price'].sample(frac=percent_sample))\n",
    "if p < 0.05:\n",
    "    print('Reject H0, Propertycount la Key factor cua Price')\n",
    "else:\n",
    "    print('Accept H0, Propertycount khong phai la Key factor cua Price')"
   ]
  },
  {
   "cell_type": "code",
   "execution_count": 38,
   "metadata": {},
   "outputs": [
    {
     "name": "stdout",
     "output_type": "stream",
     "text": [
      "Reject H0, Distance la Key factor cua Price\n"
     ]
    }
   ],
   "source": [
    "#testing Distance\n",
    "Distance_upper0 = dataset[(dataset['Distance']>=0) & (dataset['Distance']<10)]\n",
    "Distance_upper10 = dataset[(dataset['Distance']>=10) & (dataset['Distance']<20)].sample(frac=percent_sample)\n",
    "Distance_upper20 = dataset[(dataset['Distance']>=20) & (dataset['Distance']<30)].sample(frac=percent_sample)\n",
    "Distance_upper30 = dataset[(dataset['Distance']>=30) & (dataset['Distance']<40)].sample(frac=percent_sample)\n",
    "Distance_upper40 = dataset[dataset['Distance']>=40].sample(frac=percent_sample)\n",
    "f, p = f_oneway(Distance_upper0['Price'].sample(frac=percent_sample),\n",
    "                Distance_upper10['Price'].sample(frac=percent_sample),\n",
    "                Distance_upper20['Price'].sample(frac=percent_sample),\n",
    "                Distance_upper30['Price'].sample(frac=percent_sample),\n",
    "                Distance_upper40['Price'].sample(frac=percent_sample))\n",
    "if p < 0.05:\n",
    "    print('Reject H0, Distance la Key factor cua Price')\n",
    "else:\n",
    "    print('Accept H0, Distance khong phai la Key factor cua Price')"
   ]
  },
  {
   "cell_type": "code",
   "execution_count": 39,
   "metadata": {},
   "outputs": [
    {
     "name": "stdout",
     "output_type": "stream",
     "text": [
      "Reject H0, Quarter_of_year la Key factor cua Price\n"
     ]
    }
   ],
   "source": [
    "#test Quarter_of_year\n",
    "f, p = f_oneway(dataset[dataset['Quarter_of_year']==1]['Price'].sample(frac=percent_sample)\n",
    "                ,dataset[dataset['Quarter_of_year']==2]['Price'].sample(frac=percent_sample)\n",
    "                ,dataset[dataset['Quarter_of_year']==3]['Price'].sample(frac=percent_sample)\n",
    "                ,dataset[dataset['Quarter_of_year']==4]['Price'].sample(frac=percent_sample)\n",
    "                ,dataset[dataset['Quarter_of_year']==5]['Price'].sample(frac=percent_sample)\n",
    "                ,dataset[dataset['Quarter_of_year']==6]['Price'].sample(frac=percent_sample)\n",
    "                ,dataset[dataset['Quarter_of_year']==7]['Price'].sample(frac=percent_sample)\n",
    "                ,dataset[dataset['Quarter_of_year']==8]['Price'].sample(frac=percent_sample)\n",
    "                ,dataset[dataset['Quarter_of_year']==9]['Price'].sample(frac=percent_sample)\n",
    "                ,dataset[dataset['Quarter_of_year']==10]['Price'].sample(frac=percent_sample)\n",
    "                ,dataset[dataset['Quarter_of_year']==11]['Price'].sample(frac=percent_sample)\n",
    "                ,dataset[dataset['Quarter_of_year']==12]['Price'].sample(frac=percent_sample))\n",
    "if p < 0.05:\n",
    "    print('Reject H0, Quarter_of_year la Key factor cua Price')\n",
    "else:\n",
    "    print('Accept H0, Quarter_of_year khong phai la Key factor cua Price')"
   ]
  },
  {
   "cell_type": "code",
   "execution_count": 40,
   "metadata": {},
   "outputs": [
    {
     "name": "stdout",
     "output_type": "stream",
     "text": [
      "Reject H0, SellerG_level la Key factor cua Price\n"
     ]
    }
   ],
   "source": [
    "#testing SellerG_level\n",
    "f, p = f_oneway(dataset[dataset['SellerG_level']==1]['Price'].sample(frac=percent_sample)\n",
    "                ,dataset[dataset['SellerG_level']==2]['Price'].sample(frac=percent_sample)\n",
    "                ,dataset[dataset['SellerG_level']==3]['Price'].sample(frac=percent_sample)\n",
    "                ,dataset[dataset['SellerG_level']==4]['Price'].sample(frac=percent_sample)\n",
    "                ,dataset[dataset['SellerG_level']==5]['Price'].sample(frac=percent_sample)\n",
    "                ,dataset[dataset['SellerG_level']==6]['Price'].sample(frac=percent_sample)\n",
    "                ,dataset[dataset['SellerG_level']==7]['Price'].sample(frac=percent_sample))\n",
    "if p < 0.05:\n",
    "    print('Reject H0, SellerG_level la Key factor cua Price')\n",
    "else:\n",
    "    print('Accept H0, SellerG_level khong phai la Key factor cua Price')"
   ]
  },
  {
   "cell_type": "markdown",
   "metadata": {},
   "source": [
    "# 2. Apply the model for prediction with holdout and cross validation"
   ]
  },
  {
   "cell_type": "markdown",
   "metadata": {},
   "source": [
    "2.1 Holdout"
   ]
  },
  {
   "cell_type": "code",
   "execution_count": 41,
   "metadata": {},
   "outputs": [],
   "source": [
    "# Split\n",
    "# Create features variable \n",
    "X = dataset[['Rooms', 'Distance', 'Postcode', 'Propertycount']]\n",
    "# X = dataset[['Rooms', 'Distance', 'Propertycount']]\n",
    "# Create target variable\n",
    "y = dataset['Price']\n",
    "\n",
    "# # Train, test, split\n",
    "from sklearn.model_selection import train_test_split\n",
    "X_train, X_test, y_train, y_test = train_test_split(X,y, test_size = .20, random_state= 0)"
   ]
  },
  {
   "cell_type": "code",
   "execution_count": 42,
   "metadata": {},
   "outputs": [
    {
     "data": {
      "text/plain": [
       "LinearRegression(copy_X=True, fit_intercept=True, n_jobs=None, normalize=False)"
      ]
     },
     "execution_count": 42,
     "metadata": {},
     "output_type": "execute_result"
    }
   ],
   "source": [
    "# Fit\n",
    "# Import model\n",
    "from sklearn.linear_model import LinearRegression\n",
    "\n",
    "# Create linear regression object\n",
    "regressor = LinearRegression()\n",
    "\n",
    "# Fit model to training data\n",
    "regressor.fit(X_train,y_train)"
   ]
  },
  {
   "cell_type": "code",
   "execution_count": 43,
   "metadata": {},
   "outputs": [],
   "source": [
    "# Predict\n",
    "# Predicting test set results\n",
    "y_pred = regressor.predict(X_test)"
   ]
  },
  {
   "cell_type": "code",
   "execution_count": 44,
   "metadata": {},
   "outputs": [
    {
     "name": "stdout",
     "output_type": "stream",
     "text": [
      "MSE: 194250543871.8832\n"
     ]
    }
   ],
   "source": [
    "# Score It\n",
    "from sklearn import metrics\n",
    "print('MSE:',metrics.mean_squared_error(y_test,y_pred))"
   ]
  },
  {
   "cell_type": "code",
   "execution_count": 45,
   "metadata": {},
   "outputs": [
    {
     "name": "stdout",
     "output_type": "stream",
     "text": [
      "R^2 = 0.26183545094152894\n"
     ]
    }
   ],
   "source": [
    "print('R^2 =',metrics.explained_variance_score(y_test,y_pred))"
   ]
  },
  {
   "cell_type": "markdown",
   "metadata": {},
   "source": [
    "# 3. Using PCA, apply the model with holdout and cross validation"
   ]
  },
  {
   "cell_type": "markdown",
   "metadata": {},
   "source": [
    "- Step 1. Data Standardization\n",
    "- Step 2: Covariance Matrix\n",
    "- Step 3: Eigen Decomposition of Covariance Matrix\n",
    "- Step 4: Projection Onto New Feature Space"
   ]
  },
  {
   "cell_type": "markdown",
   "metadata": {},
   "source": [
    "Step 1. Data Standardization\n",
    "- As PCA deals with variance maximization of two variables, it is important to have both variables on same scale."
   ]
  },
  {
   "cell_type": "code",
   "execution_count": 46,
   "metadata": {},
   "outputs": [],
   "source": [
    "from sklearn.preprocessing import StandardScaler\n",
    "Xstd = StandardScaler().fit_transform(X)"
   ]
  },
  {
   "cell_type": "markdown",
   "metadata": {},
   "source": [
    "Step 2: Covariance Matrix"
   ]
  },
  {
   "cell_type": "code",
   "execution_count": 47,
   "metadata": {},
   "outputs": [
    {
     "name": "stdout",
     "output_type": "stream",
     "text": [
      "Covariance matrix: \n",
      " [[ 1.00001587  0.26829371  0.09366724 -0.04898611]\n",
      " [ 0.26829371  1.00001587  0.50027068  0.01404993]\n",
      " [ 0.09366724  0.50027068  1.00001587 -0.00255698]\n",
      " [-0.04898611  0.01404993 -0.00255698  1.00001587]]\n"
     ]
    }
   ],
   "source": [
    "print('Covariance matrix: \\n', np.cov(Xstd.T))"
   ]
  },
  {
   "cell_type": "markdown",
   "metadata": {},
   "source": [
    "Step 3: Eigen Decomposition of Covariance Matrix"
   ]
  },
  {
   "cell_type": "code",
   "execution_count": 48,
   "metadata": {},
   "outputs": [
    {
     "name": "stdout",
     "output_type": "stream",
     "text": [
      "Eigen vectors \n",
      " [[ 0.39507221  0.25768603  0.80394607 -0.36219687]\n",
      " [ 0.6796338  -0.7263013  -0.06540762  0.07941131]\n",
      " [ 0.61779279  0.63559927 -0.42991253  0.1718163 ]\n",
      " [-0.01865226  0.04580275  0.40566953  0.9126809 ]]\n",
      "\n",
      "Eigen values \n",
      " [1.61034005 0.46614549 0.90338085 1.02019708]\n"
     ]
    }
   ],
   "source": [
    "cov_mat = np.cov(Xstd.T)\n",
    "eigen_values, eigen_vectors = np.linalg.eig(cov_mat)\n",
    "print('Eigen vectors \\n',eigen_vectors)\n",
    "print('\\nEigen values \\n',eigen_values)"
   ]
  },
  {
   "cell_type": "markdown",
   "metadata": {},
   "source": [
    "Now, Making list of eigen values and vectors and sorting the list w.r.t eigen values (Descending order) where highest eigen values represent highest variation."
   ]
  },
  {
   "cell_type": "code",
   "execution_count": 49,
   "metadata": {},
   "outputs": [
    {
     "name": "stdout",
     "output_type": "stream",
     "text": [
      "Eigen Values in descending order:\n",
      "1.6103400531764882\n",
      "1.02019707959869\n",
      "0.9033808458221937\n",
      "0.4661454913020307\n"
     ]
    }
   ],
   "source": [
    "pairs = [(np.abs(eigen_values[i]), eigen_vectors[:,i]) for i in range(len(eigen_values))]\n",
    "pairs.sort()\n",
    "pairs.reverse()\n",
    "\n",
    "print('Eigen Values in descending order:')\n",
    "for i in pairs:\n",
    "    print(i[0])"
   ]
  },
  {
   "cell_type": "markdown",
   "metadata": {},
   "source": [
    "To check how much aech Principle component represent variation, let us find the cumulative sum of eigen values and plot them."
   ]
  },
  {
   "cell_type": "code",
   "execution_count": 50,
   "metadata": {},
   "outputs": [
    {
     "data": {
      "image/png": "[encoded data removed]",
      "text/plain": [
       "<Figure size 360x360 with 1 Axes>"
      ]
     },
     "metadata": {
      "needs_background": "light"
     },
     "output_type": "display_data"
    }
   ],
   "source": [
    "tot = sum(eigen_values)\n",
    "var_per = [(i / tot)*100 for i in sorted(eigen_values, reverse=True)]\n",
    "cum_var_per = np.cumsum(var_per)\n",
    "\n",
    "plt.figure(figsize=(5,5))\n",
    "x=['PC %s' %i for i in range(1,len(var_per))]\n",
    "ind = np.arange(len(var_per)) \n",
    "plt.bar(ind,var_per)\n",
    "plt.xticks(ind,x);\n",
    "plt.plot(ind,cum_var_per,marker=\"o\",color='orange')\n",
    "plt.xticks(ind,x);"
   ]
  },
  {
   "cell_type": "markdown",
   "metadata": {},
   "source": [
    "Plot shows that first component bears almost 35% of information, and first 3 components carry 85% information."
   ]
  },
  {
   "cell_type": "markdown",
   "metadata": {},
   "source": [
    "Step 4: Projection Onto New Feature Space"
   ]
  },
  {
   "cell_type": "markdown",
   "metadata": {},
   "source": [
    "Reshaping eigen pairs to form a projection matrix, which is then multiplied by samples to transform data to new feature space"
   ]
  },
  {
   "cell_type": "code",
   "execution_count": 51,
   "metadata": {},
   "outputs": [
    {
     "name": "stdout",
     "output_type": "stream",
     "text": [
      "Projection Matrix:\n",
      " [[ 0.39507221 -0.36219687  0.80394607]\n",
      " [ 0.6796338   0.07941131 -0.06540762]\n",
      " [ 0.61779279  0.1718163  -0.42991253]\n",
      " [-0.01865226  0.9126809   0.40566953]]\n"
     ]
    }
   ],
   "source": [
    "N=4\n",
    "value=3\n",
    "a = np.ndarray(shape = (N, 0))\n",
    "for x in range(0,value):\n",
    "    b = pairs[x][1].reshape(4,1)\n",
    "    a = np.hstack((a,b))\n",
    "print(\"Projection Matrix:\\n\",a)"
   ]
  },
  {
   "cell_type": "code",
   "execution_count": 52,
   "metadata": {},
   "outputs": [
    {
     "data": {
      "text/plain": [
       "array([[-1.18598885, -0.88207719, -0.13858924],\n",
       "       [-1.18598885, -0.88207719, -0.13858924],\n",
       "       [-1.18598885, -0.88207719, -0.13858924],\n",
       "       ...,\n",
       "       [ 0.36716715, -0.32788614, -0.11362894],\n",
       "       [-0.06705893,  0.06808792,  0.09237587],\n",
       "       [ 0.3454033 , -1.57901963,  0.52689217]])"
      ]
     },
     "execution_count": 52,
     "metadata": {},
     "output_type": "execute_result"
    }
   ],
   "source": [
    "Y = Xstd.dot(a)\n",
    "Y"
   ]
  },
  {
   "cell_type": "code",
   "execution_count": 53,
   "metadata": {},
   "outputs": [],
   "source": [
    "# from sklearn.decomposition import PCA\n",
    "# pca = PCA().fit(Xstd)\n",
    "# plt.plot(np.cumsum(pca.explained_variance_ratio_))\n",
    "# plt.xlim(0,7,1)\n",
    "# plt.xlabel('Number of components')\n",
    "# plt.ylabel('Cumulative explained variance')"
   ]
  },
  {
   "cell_type": "code",
   "execution_count": 54,
   "metadata": {},
   "outputs": [],
   "source": [
    "from sklearn.decomposition import PCA \n",
    "sklearn_pca = PCA(n_components=3)\n",
    "reduced_data = sklearn_pca.fit_transform(Xstd)"
   ]
  },
  {
   "cell_type": "code",
   "execution_count": 55,
   "metadata": {},
   "outputs": [
    {
     "name": "stdout",
     "output_type": "stream",
     "text": [
      "[[-1.18598885  0.88207719 -0.13858924]\n",
      " [-1.18598885  0.88207719 -0.13858924]\n",
      " [-1.18598885  0.88207719 -0.13858924]\n",
      " ...\n",
      " [ 0.36716715  0.32788614 -0.11362894]\n",
      " [-0.06705893 -0.06808792  0.09237587]\n",
      " [ 0.3454033   1.57901963  0.52689217]]\n"
     ]
    }
   ],
   "source": [
    "print(reduced_data)"
   ]
  },
  {
   "cell_type": "code",
   "execution_count": 56,
   "metadata": {},
   "outputs": [],
   "source": [
    "# # Train, test, split\n",
    "X_pca_train, X_pca_test, y_pca_train, y_pca_test = train_test_split(reduced_data,y, test_size = .20, random_state= 0)"
   ]
  },
  {
   "cell_type": "code",
   "execution_count": 57,
   "metadata": {},
   "outputs": [
    {
     "data": {
      "text/plain": [
       "LinearRegression(copy_X=True, fit_intercept=True, n_jobs=None, normalize=False)"
      ]
     },
     "execution_count": 57,
     "metadata": {},
     "output_type": "execute_result"
    }
   ],
   "source": [
    "# Create linear regression object\n",
    "regressor_pca = LinearRegression()\n",
    "\n",
    "# Fit model to training data\n",
    "regressor_pca.fit(X_pca_train,y_pca_train)"
   ]
  },
  {
   "cell_type": "code",
   "execution_count": 58,
   "metadata": {},
   "outputs": [],
   "source": [
    "# Predict\n",
    "# Predicting test set results\n",
    "y_pca_pred = regressor_pca.predict(X_pca_test)"
   ]
  },
  {
   "cell_type": "code",
   "execution_count": 59,
   "metadata": {},
   "outputs": [
    {
     "name": "stdout",
     "output_type": "stream",
     "text": [
      "MSE: 230947323328.32867\n"
     ]
    }
   ],
   "source": [
    "# Score It\n",
    "print('MSE:',metrics.mean_squared_error(y_pca_test,y_pca_pred))"
   ]
  },
  {
   "cell_type": "code",
   "execution_count": 60,
   "metadata": {},
   "outputs": [
    {
     "name": "stdout",
     "output_type": "stream",
     "text": [
      "R^2 = 0.12238830878240314\n"
     ]
    }
   ],
   "source": [
    "print('R^2 =',metrics.explained_variance_score(y_pca_test,y_pca_pred))"
   ]
  },
  {
   "cell_type": "markdown",
   "metadata": {},
   "source": [
    "# 4. Visualize the residue"
   ]
  },
  {
   "cell_type": "code",
   "execution_count": 61,
   "metadata": {},
   "outputs": [
    {
     "data": {
      "image/png": "[encoded data removed]",
      "text/plain": [
       "<Figure size 360x360 with 1 Axes>"
      ]
     },
     "metadata": {
      "needs_background": "light"
     },
     "output_type": "display_data"
    },
    {
     "data": {
      "image/png": "[encoded data removed]",
      "text/plain": [
       "<Figure size 360x360 with 1 Axes>"
      ]
     },
     "metadata": {
      "needs_background": "light"
     },
     "output_type": "display_data"
    },
    {
     "data": {
      "image/png": "[encoded data removed]",
      "text/plain": [
       "<Figure size 360x360 with 1 Axes>"
      ]
     },
     "metadata": {
      "needs_background": "light"
     },
     "output_type": "display_data"
    },
    {
     "data": {
      "image/png": "[encoded data removed]",
      "text/plain": [
       "<Figure size 360x360 with 1 Axes>"
      ]
     },
     "metadata": {
      "needs_background": "light"
     },
     "output_type": "display_data"
    }
   ],
   "source": [
    "for i in X_train.columns:\n",
    "    plt.figure(figsize=(5,5))\n",
    "    sns.residplot(X_train[i], regressor.predict(X_train), lowess=True)"
   ]
  },
  {
   "cell_type": "code",
   "execution_count": 62,
   "metadata": {},
   "outputs": [
    {
     "data": {
      "image/png": "[encoded data removed]",
      "text/plain": [
       "<Figure size 360x360 with 1 Axes>"
      ]
     },
     "metadata": {
      "needs_background": "light"
     },
     "output_type": "display_data"
    },
    {
     "data": {
      "image/png": "[encoded data removed]",
      "text/plain": [
       "<Figure size 360x360 with 1 Axes>"
      ]
     },
     "metadata": {
      "needs_background": "light"
     },
     "output_type": "display_data"
    },
    {
     "data": {
      "image/png": "[encoded data removed]",
      "text/plain": [
       "<Figure size 360x360 with 1 Axes>"
      ]
     },
     "metadata": {
      "needs_background": "light"
     },
     "output_type": "display_data"
    },
    {
     "data": {
      "image/png": "[encoded data removed]",
      "text/plain": [
       "<Figure size 360x360 with 1 Axes>"
      ]
     },
     "metadata": {
      "needs_background": "light"
     },
     "output_type": "display_data"
    }
   ],
   "source": [
    "for i in X_test.columns:\n",
    "    plt.figure(figsize=(5,5))\n",
    "    sns.residplot(X_test[i], regressor.predict(X_test), lowess=True)"
   ]
  }
 ],
 "metadata": {
  "kernelspec": {
   "display_name": "Python 3",
   "language": "python",
   "name": "python3"
  },
  "language_info": {
   "codemirror_mode": {
    "name": "ipython",
    "version": 3
   },
   "file_extension": ".py",
   "mimetype": "text/x-python",
   "name": "python",
   "nbconvert_exporter": "python",
   "pygments_lexer": "ipython3",
   "version": "3.7.3"
  }
 },
 "nbformat": 4,
 "nbformat_minor": 2
}
