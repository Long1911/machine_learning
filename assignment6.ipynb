{
 "cells": [
  {
   "cell_type": "markdown",
   "metadata": {},
   "source": [
    "# Introduction\n",
    "## Boston Marathon project\n",
    "- There is a lot of information on runners and their performance for the\n",
    "Boston Marathon. Pick a year (post-2012 has more info) and do some\n",
    "clustering.\n",
    "- Specifically, use the tools at hand to determine which clustering\n",
    "solution, including number of clusters and algorithm used, is best for\n",
    "the marathon data. Once you have a solution you like, write a data\n",
    "story, including visualizations, where you teach the reader something\n",
    "about the Boston Marathon based on your clusters. Write up your\n",
    "report, including your process from start to finish. You must include\n",
    "analysis as:\n",
    "    - 1. Draw bar graphs (both male & female in different color) for each\n",
    "cluster for male and female, from the bar graphs, you can tell things\n",
    "as which cluster contains the most number of female (or male).\n",
    "    - 2. Draw bar graphs for runners in different ranges of age (dividing by 3\n",
    "groups: 18-25, 26-40, 40-70 or so) for each cluster (in different colors),\n",
    "from the graph, you should be able to anwser which cluster contains\n",
    "the most young people, which cluster contains oldest people, etc.\n",
    "    - 3. Do the same things as above for finishing time (which group runs\n",
    "fastest)"
   ]
  },
  {
   "cell_type": "code",
   "execution_count": 1,
   "metadata": {},
   "outputs": [],
   "source": [
    "import pandas as pd\n",
    "import numpy as np\n",
    "import matplotlib.pyplot as plt \n",
    "import seaborn as sns\n",
    "from sklearn import preprocessing\n",
    "from sklearn.preprocessing import MinMaxScaler"
   ]
  },
  {
   "cell_type": "markdown",
   "metadata": {},
   "source": [
    "# 1. EDA"
   ]
  },
  {
   "cell_type": "code",
   "execution_count": 2,
   "metadata": {},
   "outputs": [
    {
     "data": {
      "text/plain": [
       "(31984, 21)"
      ]
     },
     "execution_count": 2,
     "metadata": {},
     "output_type": "execute_result"
    }
   ],
   "source": [
    "data = pd.read_csv('D:/machine learning/project/Boston_marathon/results.csv')\n",
    "data.shape"
   ]
  },
  {
   "cell_type": "code",
   "execution_count": 3,
   "metadata": {},
   "outputs": [
    {
     "data": {
      "text/html": [
       "<div>\n",
       "<style scoped>\n",
       "    .dataframe tbody tr th:only-of-type {\n",
       "        vertical-align: middle;\n",
       "    }\n",
       "\n",
       "    .dataframe tbody tr th {\n",
       "        vertical-align: top;\n",
       "    }\n",
       "\n",
       "    .dataframe thead th {\n",
       "        text-align: right;\n",
       "    }\n",
       "</style>\n",
       "<table border=\"1\" class=\"dataframe\">\n",
       "  <thead>\n",
       "    <tr style=\"text-align: right;\">\n",
       "      <th></th>\n",
       "      <th>10k</th>\n",
       "      <th>name</th>\n",
       "      <th>division</th>\n",
       "      <th>25k</th>\n",
       "      <th>gender</th>\n",
       "      <th>age</th>\n",
       "      <th>official</th>\n",
       "      <th>bib</th>\n",
       "      <th>genderdiv</th>\n",
       "      <th>ctz</th>\n",
       "      <th>...</th>\n",
       "      <th>overall</th>\n",
       "      <th>pace</th>\n",
       "      <th>state</th>\n",
       "      <th>30k</th>\n",
       "      <th>5k</th>\n",
       "      <th>half</th>\n",
       "      <th>20k</th>\n",
       "      <th>country</th>\n",
       "      <th>city</th>\n",
       "      <th>40k</th>\n",
       "    </tr>\n",
       "  </thead>\n",
       "  <tbody>\n",
       "    <tr>\n",
       "      <th>0</th>\n",
       "      <td>17.37</td>\n",
       "      <td>Yamamoto, Hiroyuki</td>\n",
       "      <td>8</td>\n",
       "      <td>47.67</td>\n",
       "      <td>M</td>\n",
       "      <td>47</td>\n",
       "      <td>85.25</td>\n",
       "      <td>W1</td>\n",
       "      <td>8</td>\n",
       "      <td>NaN</td>\n",
       "      <td>...</td>\n",
       "      <td>8</td>\n",
       "      <td>3.27</td>\n",
       "      <td>NaN</td>\n",
       "      <td>59.18</td>\n",
       "      <td>8.02</td>\n",
       "      <td>39.72</td>\n",
       "      <td>37.65</td>\n",
       "      <td>JPN</td>\n",
       "      <td>Fukuoka</td>\n",
       "      <td>80.43</td>\n",
       "    </tr>\n",
       "    <tr>\n",
       "      <th>1</th>\n",
       "      <td>32.58</td>\n",
       "      <td>Jeptoo, Rita</td>\n",
       "      <td>1</td>\n",
       "      <td>82.43</td>\n",
       "      <td>F</td>\n",
       "      <td>33</td>\n",
       "      <td>138.95</td>\n",
       "      <td>F1</td>\n",
       "      <td>1</td>\n",
       "      <td>NaN</td>\n",
       "      <td>...</td>\n",
       "      <td>21</td>\n",
       "      <td>5.30</td>\n",
       "      <td>NaN</td>\n",
       "      <td>99.33</td>\n",
       "      <td>16.22</td>\n",
       "      <td>69.47</td>\n",
       "      <td>65.83</td>\n",
       "      <td>KEN</td>\n",
       "      <td>Eldoret</td>\n",
       "      <td>132.10</td>\n",
       "    </tr>\n",
       "    <tr>\n",
       "      <th>2</th>\n",
       "      <td>16.62</td>\n",
       "      <td>Van Dyk, Ernst F.</td>\n",
       "      <td>1</td>\n",
       "      <td>45.80</td>\n",
       "      <td>M</td>\n",
       "      <td>41</td>\n",
       "      <td>80.60</td>\n",
       "      <td>W2</td>\n",
       "      <td>1</td>\n",
       "      <td>NaN</td>\n",
       "      <td>...</td>\n",
       "      <td>1</td>\n",
       "      <td>3.08</td>\n",
       "      <td>NaN</td>\n",
       "      <td>56.45</td>\n",
       "      <td>7.75</td>\n",
       "      <td>38.03</td>\n",
       "      <td>36.10</td>\n",
       "      <td>RSA</td>\n",
       "      <td>Paarl</td>\n",
       "      <td>76.10</td>\n",
       "    </tr>\n",
       "    <tr>\n",
       "      <th>3</th>\n",
       "      <td>32.57</td>\n",
       "      <td>Dibaba, Mare</td>\n",
       "      <td>3</td>\n",
       "      <td>82.43</td>\n",
       "      <td>F</td>\n",
       "      <td>24</td>\n",
       "      <td>140.58</td>\n",
       "      <td>F2</td>\n",
       "      <td>3</td>\n",
       "      <td>NaN</td>\n",
       "      <td>...</td>\n",
       "      <td>27</td>\n",
       "      <td>5.37</td>\n",
       "      <td>NaN</td>\n",
       "      <td>99.33</td>\n",
       "      <td>16.20</td>\n",
       "      <td>69.47</td>\n",
       "      <td>65.83</td>\n",
       "      <td>ETH</td>\n",
       "      <td>Shoa</td>\n",
       "      <td>132.95</td>\n",
       "    </tr>\n",
       "    <tr>\n",
       "      <th>4</th>\n",
       "      <td>17.12</td>\n",
       "      <td>Hokinoue, Kota</td>\n",
       "      <td>2</td>\n",
       "      <td>46.37</td>\n",
       "      <td>M</td>\n",
       "      <td>40</td>\n",
       "      <td>81.23</td>\n",
       "      <td>W3</td>\n",
       "      <td>2</td>\n",
       "      <td>NaN</td>\n",
       "      <td>...</td>\n",
       "      <td>2</td>\n",
       "      <td>3.10</td>\n",
       "      <td>NaN</td>\n",
       "      <td>57.03</td>\n",
       "      <td>8.02</td>\n",
       "      <td>38.60</td>\n",
       "      <td>36.58</td>\n",
       "      <td>JPN</td>\n",
       "      <td>Nogata Fukuoka</td>\n",
       "      <td>76.72</td>\n",
       "    </tr>\n",
       "    <tr>\n",
       "      <th>5</th>\n",
       "      <td>32.58</td>\n",
       "      <td>Sumgong, Jemima Jelagat</td>\n",
       "      <td>4</td>\n",
       "      <td>82.45</td>\n",
       "      <td>F</td>\n",
       "      <td>29</td>\n",
       "      <td>140.68</td>\n",
       "      <td>F3</td>\n",
       "      <td>4</td>\n",
       "      <td>NaN</td>\n",
       "      <td>...</td>\n",
       "      <td>28</td>\n",
       "      <td>5.37</td>\n",
       "      <td>NaN</td>\n",
       "      <td>99.33</td>\n",
       "      <td>16.22</td>\n",
       "      <td>69.47</td>\n",
       "      <td>65.83</td>\n",
       "      <td>KEN</td>\n",
       "      <td>Nandi</td>\n",
       "      <td>132.95</td>\n",
       "    </tr>\n",
       "    <tr>\n",
       "      <th>6</th>\n",
       "      <td>17.65</td>\n",
       "      <td>Hug, Marcel E.</td>\n",
       "      <td>4</td>\n",
       "      <td>47.67</td>\n",
       "      <td>M</td>\n",
       "      <td>28</td>\n",
       "      <td>84.65</td>\n",
       "      <td>W4</td>\n",
       "      <td>4</td>\n",
       "      <td>NaN</td>\n",
       "      <td>...</td>\n",
       "      <td>4</td>\n",
       "      <td>3.23</td>\n",
       "      <td>NaN</td>\n",
       "      <td>58.60</td>\n",
       "      <td>8.38</td>\n",
       "      <td>39.72</td>\n",
       "      <td>37.65</td>\n",
       "      <td>SUI</td>\n",
       "      <td>Neuenkirch</td>\n",
       "      <td>79.83</td>\n",
       "    </tr>\n",
       "    <tr>\n",
       "      <th>7</th>\n",
       "      <td>30.48</td>\n",
       "      <td>Geneti, Markos</td>\n",
       "      <td>5</td>\n",
       "      <td>76.95</td>\n",
       "      <td>M</td>\n",
       "      <td>29</td>\n",
       "      <td>129.83</td>\n",
       "      <td>5</td>\n",
       "      <td>5</td>\n",
       "      <td>NaN</td>\n",
       "      <td>...</td>\n",
       "      <td>5</td>\n",
       "      <td>4.97</td>\n",
       "      <td>NaN</td>\n",
       "      <td>92.52</td>\n",
       "      <td>15.17</td>\n",
       "      <td>64.85</td>\n",
       "      <td>61.62</td>\n",
       "      <td>ETH</td>\n",
       "      <td>Addis Ababa</td>\n",
       "      <td>122.80</td>\n",
       "    </tr>\n",
       "    <tr>\n",
       "      <th>8</th>\n",
       "      <td>17.12</td>\n",
       "      <td>Soejima, Masazumi</td>\n",
       "      <td>3</td>\n",
       "      <td>46.37</td>\n",
       "      <td>M</td>\n",
       "      <td>43</td>\n",
       "      <td>81.23</td>\n",
       "      <td>W6</td>\n",
       "      <td>3</td>\n",
       "      <td>NaN</td>\n",
       "      <td>...</td>\n",
       "      <td>3</td>\n",
       "      <td>3.10</td>\n",
       "      <td>NaN</td>\n",
       "      <td>57.03</td>\n",
       "      <td>8.00</td>\n",
       "      <td>38.60</td>\n",
       "      <td>36.60</td>\n",
       "      <td>JPN</td>\n",
       "      <td>Isahaya</td>\n",
       "      <td>76.70</td>\n",
       "    </tr>\n",
       "    <tr>\n",
       "      <th>9</th>\n",
       "      <td>30.48</td>\n",
       "      <td>Hall, Ryan</td>\n",
       "      <td>20</td>\n",
       "      <td>77.68</td>\n",
       "      <td>M</td>\n",
       "      <td>31</td>\n",
       "      <td>137.83</td>\n",
       "      <td>6</td>\n",
       "      <td>20</td>\n",
       "      <td>NaN</td>\n",
       "      <td>...</td>\n",
       "      <td>20</td>\n",
       "      <td>5.27</td>\n",
       "      <td>CA</td>\n",
       "      <td>94.78</td>\n",
       "      <td>15.15</td>\n",
       "      <td>65.23</td>\n",
       "      <td>61.78</td>\n",
       "      <td>USA</td>\n",
       "      <td>Redding</td>\n",
       "      <td>129.83</td>\n",
       "    </tr>\n",
       "  </tbody>\n",
       "</table>\n",
       "<p>10 rows × 21 columns</p>\n",
       "</div>"
      ],
      "text/plain": [
       "     10k                     name  division    25k gender  age  official bib  \\\n",
       "0  17.37       Yamamoto, Hiroyuki         8  47.67      M   47     85.25  W1   \n",
       "1  32.58             Jeptoo, Rita         1  82.43      F   33    138.95  F1   \n",
       "2  16.62        Van Dyk, Ernst F.         1  45.80      M   41     80.60  W2   \n",
       "3  32.57             Dibaba, Mare         3  82.43      F   24    140.58  F2   \n",
       "4  17.12           Hokinoue, Kota         2  46.37      M   40     81.23  W3   \n",
       "5  32.58  Sumgong, Jemima Jelagat         4  82.45      F   29    140.68  F3   \n",
       "6  17.65           Hug, Marcel E.         4  47.67      M   28     84.65  W4   \n",
       "7  30.48           Geneti, Markos         5  76.95      M   29    129.83   5   \n",
       "8  17.12        Soejima, Masazumi         3  46.37      M   43     81.23  W6   \n",
       "9  30.48               Hall, Ryan        20  77.68      M   31    137.83   6   \n",
       "\n",
       "   genderdiv  ctz  ... overall  pace  state    30k     5k   half    20k  \\\n",
       "0          8  NaN  ...       8  3.27    NaN  59.18   8.02  39.72  37.65   \n",
       "1          1  NaN  ...      21  5.30    NaN  99.33  16.22  69.47  65.83   \n",
       "2          1  NaN  ...       1  3.08    NaN  56.45   7.75  38.03  36.10   \n",
       "3          3  NaN  ...      27  5.37    NaN  99.33  16.20  69.47  65.83   \n",
       "4          2  NaN  ...       2  3.10    NaN  57.03   8.02  38.60  36.58   \n",
       "5          4  NaN  ...      28  5.37    NaN  99.33  16.22  69.47  65.83   \n",
       "6          4  NaN  ...       4  3.23    NaN  58.60   8.38  39.72  37.65   \n",
       "7          5  NaN  ...       5  4.97    NaN  92.52  15.17  64.85  61.62   \n",
       "8          3  NaN  ...       3  3.10    NaN  57.03   8.00  38.60  36.60   \n",
       "9         20  NaN  ...      20  5.27     CA  94.78  15.15  65.23  61.78   \n",
       "\n",
       "  country            city     40k  \n",
       "0     JPN         Fukuoka   80.43  \n",
       "1     KEN         Eldoret  132.10  \n",
       "2     RSA           Paarl   76.10  \n",
       "3     ETH            Shoa  132.95  \n",
       "4     JPN  Nogata Fukuoka   76.72  \n",
       "5     KEN           Nandi  132.95  \n",
       "6     SUI      Neuenkirch   79.83  \n",
       "7     ETH     Addis Ababa  122.80  \n",
       "8     JPN         Isahaya   76.70  \n",
       "9     USA         Redding  129.83  \n",
       "\n",
       "[10 rows x 21 columns]"
      ]
     },
     "execution_count": 3,
     "metadata": {},
     "output_type": "execute_result"
    }
   ],
   "source": [
    "data.head(10)"
   ]
  },
  {
   "cell_type": "code",
   "execution_count": 4,
   "metadata": {},
   "outputs": [
    {
     "data": {
      "text/html": [
       "<div>\n",
       "<style scoped>\n",
       "    .dataframe tbody tr th:only-of-type {\n",
       "        vertical-align: middle;\n",
       "    }\n",
       "\n",
       "    .dataframe tbody tr th {\n",
       "        vertical-align: top;\n",
       "    }\n",
       "\n",
       "    .dataframe thead th {\n",
       "        text-align: right;\n",
       "    }\n",
       "</style>\n",
       "<table border=\"1\" class=\"dataframe\">\n",
       "  <thead>\n",
       "    <tr style=\"text-align: right;\">\n",
       "      <th></th>\n",
       "      <th>10k</th>\n",
       "      <th>name</th>\n",
       "      <th>division</th>\n",
       "      <th>25k</th>\n",
       "      <th>gender</th>\n",
       "      <th>age</th>\n",
       "      <th>official</th>\n",
       "      <th>bib</th>\n",
       "      <th>genderdiv</th>\n",
       "      <th>ctz</th>\n",
       "      <th>...</th>\n",
       "      <th>overall</th>\n",
       "      <th>pace</th>\n",
       "      <th>state</th>\n",
       "      <th>30k</th>\n",
       "      <th>5k</th>\n",
       "      <th>half</th>\n",
       "      <th>20k</th>\n",
       "      <th>country</th>\n",
       "      <th>city</th>\n",
       "      <th>40k</th>\n",
       "    </tr>\n",
       "  </thead>\n",
       "  <tbody>\n",
       "    <tr>\n",
       "      <th>31974</th>\n",
       "      <td>76.45</td>\n",
       "      <td>Foley, Alison M.</td>\n",
       "      <td>6973</td>\n",
       "      <td>-</td>\n",
       "      <td>F</td>\n",
       "      <td>29</td>\n",
       "      <td>431.73</td>\n",
       "      <td>35903</td>\n",
       "      <td>14339</td>\n",
       "      <td>NaN</td>\n",
       "      <td>...</td>\n",
       "      <td>31887</td>\n",
       "      <td>15.52</td>\n",
       "      <td>MA</td>\n",
       "      <td>279.47</td>\n",
       "      <td>35.63</td>\n",
       "      <td>183.28</td>\n",
       "      <td>166.43</td>\n",
       "      <td>USA</td>\n",
       "      <td>Wellesley</td>\n",
       "      <td>-</td>\n",
       "    </tr>\n",
       "    <tr>\n",
       "      <th>31975</th>\n",
       "      <td>75.80</td>\n",
       "      <td>Casey, Patrick A. Jr.</td>\n",
       "      <td>2897</td>\n",
       "      <td>-</td>\n",
       "      <td>M</td>\n",
       "      <td>45</td>\n",
       "      <td>385.13</td>\n",
       "      <td>35904</td>\n",
       "      <td>17389</td>\n",
       "      <td>NaN</td>\n",
       "      <td>...</td>\n",
       "      <td>31517</td>\n",
       "      <td>14.70</td>\n",
       "      <td>MA</td>\n",
       "      <td>268.23</td>\n",
       "      <td>37.72</td>\n",
       "      <td>170.82</td>\n",
       "      <td>162.13</td>\n",
       "      <td>USA</td>\n",
       "      <td>Weymouth</td>\n",
       "      <td>366.37</td>\n",
       "    </tr>\n",
       "    <tr>\n",
       "      <th>31976</th>\n",
       "      <td>63.95</td>\n",
       "      <td>Lyons, Paul J. Jr.</td>\n",
       "      <td>4993</td>\n",
       "      <td>161.75</td>\n",
       "      <td>M</td>\n",
       "      <td>33</td>\n",
       "      <td>288.85</td>\n",
       "      <td>35905</td>\n",
       "      <td>14730</td>\n",
       "      <td>NaN</td>\n",
       "      <td>...</td>\n",
       "      <td>25975</td>\n",
       "      <td>11.03</td>\n",
       "      <td>MA</td>\n",
       "      <td>200.45</td>\n",
       "      <td>31.60</td>\n",
       "      <td>135.50</td>\n",
       "      <td>128.43</td>\n",
       "      <td>USA</td>\n",
       "      <td>Hyde Park</td>\n",
       "      <td>275.02</td>\n",
       "    </tr>\n",
       "    <tr>\n",
       "      <th>31977</th>\n",
       "      <td>63.33</td>\n",
       "      <td>Vinal, George R. Jr.</td>\n",
       "      <td>5217</td>\n",
       "      <td>165.40</td>\n",
       "      <td>M</td>\n",
       "      <td>37</td>\n",
       "      <td>302.93</td>\n",
       "      <td>35906</td>\n",
       "      <td>15472</td>\n",
       "      <td>NaN</td>\n",
       "      <td>...</td>\n",
       "      <td>27490</td>\n",
       "      <td>11.57</td>\n",
       "      <td>MA</td>\n",
       "      <td>208.53</td>\n",
       "      <td>29.82</td>\n",
       "      <td>136.98</td>\n",
       "      <td>130.45</td>\n",
       "      <td>USA</td>\n",
       "      <td>Boston</td>\n",
       "      <td>286.62</td>\n",
       "    </tr>\n",
       "    <tr>\n",
       "      <th>31978</th>\n",
       "      <td>76.75</td>\n",
       "      <td>Morris, David</td>\n",
       "      <td>2598</td>\n",
       "      <td>210.07</td>\n",
       "      <td>M</td>\n",
       "      <td>44</td>\n",
       "      <td>374.22</td>\n",
       "      <td>35907</td>\n",
       "      <td>17288</td>\n",
       "      <td>NaN</td>\n",
       "      <td>...</td>\n",
       "      <td>31296</td>\n",
       "      <td>14.28</td>\n",
       "      <td>MA</td>\n",
       "      <td>257.60</td>\n",
       "      <td>37.10</td>\n",
       "      <td>173.45</td>\n",
       "      <td>163.78</td>\n",
       "      <td>USA</td>\n",
       "      <td>Wayland</td>\n",
       "      <td>352.18</td>\n",
       "    </tr>\n",
       "    <tr>\n",
       "      <th>31979</th>\n",
       "      <td>50.72</td>\n",
       "      <td>Anderson, Steve K.</td>\n",
       "      <td>3414</td>\n",
       "      <td>124.02</td>\n",
       "      <td>M</td>\n",
       "      <td>32</td>\n",
       "      <td>211.75</td>\n",
       "      <td>35908</td>\n",
       "      <td>7500</td>\n",
       "      <td>NaN</td>\n",
       "      <td>...</td>\n",
       "      <td>9849</td>\n",
       "      <td>8.08</td>\n",
       "      <td>CA</td>\n",
       "      <td>148.65</td>\n",
       "      <td>26.13</td>\n",
       "      <td>104.78</td>\n",
       "      <td>99.55</td>\n",
       "      <td>USA</td>\n",
       "      <td>Larkspur</td>\n",
       "      <td>200.22</td>\n",
       "    </tr>\n",
       "    <tr>\n",
       "      <th>31980</th>\n",
       "      <td>61.28</td>\n",
       "      <td>McCarthy, Michael P.</td>\n",
       "      <td>5212</td>\n",
       "      <td>165.02</td>\n",
       "      <td>M</td>\n",
       "      <td>34</td>\n",
       "      <td>302.52</td>\n",
       "      <td>35909</td>\n",
       "      <td>15459</td>\n",
       "      <td>NaN</td>\n",
       "      <td>...</td>\n",
       "      <td>27456</td>\n",
       "      <td>11.55</td>\n",
       "      <td>MA</td>\n",
       "      <td>203.43</td>\n",
       "      <td>31.07</td>\n",
       "      <td>135.85</td>\n",
       "      <td>128.37</td>\n",
       "      <td>USA</td>\n",
       "      <td>Norwell</td>\n",
       "      <td>285.47</td>\n",
       "    </tr>\n",
       "    <tr>\n",
       "      <th>31981</th>\n",
       "      <td>59.00</td>\n",
       "      <td>Brimmer, Delia C.</td>\n",
       "      <td>5231</td>\n",
       "      <td>157.02</td>\n",
       "      <td>F</td>\n",
       "      <td>21</td>\n",
       "      <td>282.00</td>\n",
       "      <td>35910</td>\n",
       "      <td>10788</td>\n",
       "      <td>NaN</td>\n",
       "      <td>...</td>\n",
       "      <td>25092</td>\n",
       "      <td>10.77</td>\n",
       "      <td>CT</td>\n",
       "      <td>192.65</td>\n",
       "      <td>28.18</td>\n",
       "      <td>130.57</td>\n",
       "      <td>123.33</td>\n",
       "      <td>USA</td>\n",
       "      <td>West Simsbury</td>\n",
       "      <td>266.30</td>\n",
       "    </tr>\n",
       "    <tr>\n",
       "      <th>31982</th>\n",
       "      <td>63.75</td>\n",
       "      <td>Morganthal, Amy</td>\n",
       "      <td>5800</td>\n",
       "      <td>167.82</td>\n",
       "      <td>F</td>\n",
       "      <td>38</td>\n",
       "      <td>302.73</td>\n",
       "      <td>35911</td>\n",
       "      <td>12009</td>\n",
       "      <td>NaN</td>\n",
       "      <td>...</td>\n",
       "      <td>27476</td>\n",
       "      <td>11.55</td>\n",
       "      <td>MA</td>\n",
       "      <td>207.52</td>\n",
       "      <td>30.98</td>\n",
       "      <td>137.03</td>\n",
       "      <td>129.90</td>\n",
       "      <td>USA</td>\n",
       "      <td>North Andover</td>\n",
       "      <td>285.87</td>\n",
       "    </tr>\n",
       "    <tr>\n",
       "      <th>31983</th>\n",
       "      <td>53.63</td>\n",
       "      <td>Kirchner, Jeffrey T.</td>\n",
       "      <td>1396</td>\n",
       "      <td>135.02</td>\n",
       "      <td>M</td>\n",
       "      <td>54</td>\n",
       "      <td>228.30</td>\n",
       "      <td>35912</td>\n",
       "      <td>9771</td>\n",
       "      <td>NaN</td>\n",
       "      <td>...</td>\n",
       "      <td>14844</td>\n",
       "      <td>8.72</td>\n",
       "      <td>PA</td>\n",
       "      <td>161.83</td>\n",
       "      <td>26.92</td>\n",
       "      <td>114.13</td>\n",
       "      <td>108.03</td>\n",
       "      <td>USA</td>\n",
       "      <td>Lancaster</td>\n",
       "      <td>216.48</td>\n",
       "    </tr>\n",
       "  </tbody>\n",
       "</table>\n",
       "<p>10 rows × 21 columns</p>\n",
       "</div>"
      ],
      "text/plain": [
       "         10k                   name  division     25k gender  age  official  \\\n",
       "31974  76.45       Foley, Alison M.      6973       -      F   29    431.73   \n",
       "31975  75.80  Casey, Patrick A. Jr.      2897       -      M   45    385.13   \n",
       "31976  63.95     Lyons, Paul J. Jr.      4993  161.75      M   33    288.85   \n",
       "31977  63.33   Vinal, George R. Jr.      5217  165.40      M   37    302.93   \n",
       "31978  76.75          Morris, David      2598  210.07      M   44    374.22   \n",
       "31979  50.72     Anderson, Steve K.      3414  124.02      M   32    211.75   \n",
       "31980  61.28   McCarthy, Michael P.      5212  165.02      M   34    302.52   \n",
       "31981  59.00      Brimmer, Delia C.      5231  157.02      F   21    282.00   \n",
       "31982  63.75        Morganthal, Amy      5800  167.82      F   38    302.73   \n",
       "31983  53.63   Kirchner, Jeffrey T.      1396  135.02      M   54    228.30   \n",
       "\n",
       "         bib  genderdiv  ctz  ... overall   pace  state     30k     5k  \\\n",
       "31974  35903      14339  NaN  ...   31887  15.52     MA  279.47  35.63   \n",
       "31975  35904      17389  NaN  ...   31517  14.70     MA  268.23  37.72   \n",
       "31976  35905      14730  NaN  ...   25975  11.03     MA  200.45  31.60   \n",
       "31977  35906      15472  NaN  ...   27490  11.57     MA  208.53  29.82   \n",
       "31978  35907      17288  NaN  ...   31296  14.28     MA  257.60  37.10   \n",
       "31979  35908       7500  NaN  ...    9849   8.08     CA  148.65  26.13   \n",
       "31980  35909      15459  NaN  ...   27456  11.55     MA  203.43  31.07   \n",
       "31981  35910      10788  NaN  ...   25092  10.77     CT  192.65  28.18   \n",
       "31982  35911      12009  NaN  ...   27476  11.55     MA  207.52  30.98   \n",
       "31983  35912       9771  NaN  ...   14844   8.72     PA  161.83  26.92   \n",
       "\n",
       "         half     20k country           city     40k  \n",
       "31974  183.28  166.43     USA      Wellesley       -  \n",
       "31975  170.82  162.13     USA       Weymouth  366.37  \n",
       "31976  135.50  128.43     USA      Hyde Park  275.02  \n",
       "31977  136.98  130.45     USA         Boston  286.62  \n",
       "31978  173.45  163.78     USA        Wayland  352.18  \n",
       "31979  104.78   99.55     USA       Larkspur  200.22  \n",
       "31980  135.85  128.37     USA        Norwell  285.47  \n",
       "31981  130.57  123.33     USA  West Simsbury  266.30  \n",
       "31982  137.03  129.90     USA  North Andover  285.87  \n",
       "31983  114.13  108.03     USA      Lancaster  216.48  \n",
       "\n",
       "[10 rows x 21 columns]"
      ]
     },
     "execution_count": 4,
     "metadata": {},
     "output_type": "execute_result"
    }
   ],
   "source": [
    "data.tail(10)"
   ]
  },
  {
   "cell_type": "code",
   "execution_count": 5,
   "metadata": {},
   "outputs": [
    {
     "data": {
      "text/html": [
       "<div>\n",
       "<style scoped>\n",
       "    .dataframe tbody tr th:only-of-type {\n",
       "        vertical-align: middle;\n",
       "    }\n",
       "\n",
       "    .dataframe tbody tr th {\n",
       "        vertical-align: top;\n",
       "    }\n",
       "\n",
       "    .dataframe thead th {\n",
       "        text-align: right;\n",
       "    }\n",
       "</style>\n",
       "<table border=\"1\" class=\"dataframe\">\n",
       "  <thead>\n",
       "    <tr style=\"text-align: right;\">\n",
       "      <th></th>\n",
       "      <th>division</th>\n",
       "      <th>age</th>\n",
       "      <th>official</th>\n",
       "      <th>genderdiv</th>\n",
       "      <th>overall</th>\n",
       "      <th>pace</th>\n",
       "    </tr>\n",
       "  </thead>\n",
       "  <tbody>\n",
       "    <tr>\n",
       "      <th>count</th>\n",
       "      <td>31984.000000</td>\n",
       "      <td>31984.000000</td>\n",
       "      <td>31984.000000</td>\n",
       "      <td>31984.000000</td>\n",
       "      <td>31984.000000</td>\n",
       "      <td>31984.000000</td>\n",
       "    </tr>\n",
       "    <tr>\n",
       "      <th>mean</th>\n",
       "      <td>1932.563032</td>\n",
       "      <td>42.407079</td>\n",
       "      <td>242.997314</td>\n",
       "      <td>8051.044741</td>\n",
       "      <td>15939.587825</td>\n",
       "      <td>9.275658</td>\n",
       "    </tr>\n",
       "    <tr>\n",
       "      <th>std</th>\n",
       "      <td>1715.228694</td>\n",
       "      <td>11.316496</td>\n",
       "      <td>52.300431</td>\n",
       "      <td>4754.005626</td>\n",
       "      <td>9232.978224</td>\n",
       "      <td>1.992486</td>\n",
       "    </tr>\n",
       "    <tr>\n",
       "      <th>min</th>\n",
       "      <td>1.000000</td>\n",
       "      <td>18.000000</td>\n",
       "      <td>80.600000</td>\n",
       "      <td>1.000000</td>\n",
       "      <td>1.000000</td>\n",
       "      <td>3.080000</td>\n",
       "    </tr>\n",
       "    <tr>\n",
       "      <th>10%</th>\n",
       "      <td>215.000000</td>\n",
       "      <td>27.000000</td>\n",
       "      <td>184.600000</td>\n",
       "      <td>1573.300000</td>\n",
       "      <td>3146.300000</td>\n",
       "      <td>7.050000</td>\n",
       "    </tr>\n",
       "    <tr>\n",
       "      <th>25%</th>\n",
       "      <td>610.000000</td>\n",
       "      <td>33.000000</td>\n",
       "      <td>205.527500</td>\n",
       "      <td>3972.000000</td>\n",
       "      <td>7943.750000</td>\n",
       "      <td>7.850000</td>\n",
       "    </tr>\n",
       "    <tr>\n",
       "      <th>50%</th>\n",
       "      <td>1425.000000</td>\n",
       "      <td>42.000000</td>\n",
       "      <td>232.370000</td>\n",
       "      <td>7970.000000</td>\n",
       "      <td>15939.500000</td>\n",
       "      <td>8.870000</td>\n",
       "    </tr>\n",
       "    <tr>\n",
       "      <th>75%</th>\n",
       "      <td>2611.000000</td>\n",
       "      <td>50.000000</td>\n",
       "      <td>273.235000</td>\n",
       "      <td>11968.000000</td>\n",
       "      <td>23935.250000</td>\n",
       "      <td>10.430000</td>\n",
       "    </tr>\n",
       "    <tr>\n",
       "      <th>95%</th>\n",
       "      <td>5645.850000</td>\n",
       "      <td>62.000000</td>\n",
       "      <td>344.095500</td>\n",
       "      <td>15975.850000</td>\n",
       "      <td>30331.850000</td>\n",
       "      <td>13.130000</td>\n",
       "    </tr>\n",
       "    <tr>\n",
       "      <th>99%</th>\n",
       "      <td>6659.170000</td>\n",
       "      <td>68.000000</td>\n",
       "      <td>390.930200</td>\n",
       "      <td>17255.170000</td>\n",
       "      <td>31611.170000</td>\n",
       "      <td>14.920000</td>\n",
       "    </tr>\n",
       "    <tr>\n",
       "      <th>max</th>\n",
       "      <td>6979.000000</td>\n",
       "      <td>81.000000</td>\n",
       "      <td>538.880000</td>\n",
       "      <td>17575.000000</td>\n",
       "      <td>31931.000000</td>\n",
       "      <td>20.570000</td>\n",
       "    </tr>\n",
       "  </tbody>\n",
       "</table>\n",
       "</div>"
      ],
      "text/plain": [
       "           division           age      official     genderdiv       overall  \\\n",
       "count  31984.000000  31984.000000  31984.000000  31984.000000  31984.000000   \n",
       "mean    1932.563032     42.407079    242.997314   8051.044741  15939.587825   \n",
       "std     1715.228694     11.316496     52.300431   4754.005626   9232.978224   \n",
       "min        1.000000     18.000000     80.600000      1.000000      1.000000   \n",
       "10%      215.000000     27.000000    184.600000   1573.300000   3146.300000   \n",
       "25%      610.000000     33.000000    205.527500   3972.000000   7943.750000   \n",
       "50%     1425.000000     42.000000    232.370000   7970.000000  15939.500000   \n",
       "75%     2611.000000     50.000000    273.235000  11968.000000  23935.250000   \n",
       "95%     5645.850000     62.000000    344.095500  15975.850000  30331.850000   \n",
       "99%     6659.170000     68.000000    390.930200  17255.170000  31611.170000   \n",
       "max     6979.000000     81.000000    538.880000  17575.000000  31931.000000   \n",
       "\n",
       "               pace  \n",
       "count  31984.000000  \n",
       "mean       9.275658  \n",
       "std        1.992486  \n",
       "min        3.080000  \n",
       "10%        7.050000  \n",
       "25%        7.850000  \n",
       "50%        8.870000  \n",
       "75%       10.430000  \n",
       "95%       13.130000  \n",
       "99%       14.920000  \n",
       "max       20.570000  "
      ]
     },
     "execution_count": 5,
     "metadata": {},
     "output_type": "execute_result"
    }
   ],
   "source": [
    "data.describe(percentiles=[.1,.25,.50,.75,.95,.99])"
   ]
  },
  {
   "cell_type": "code",
   "execution_count": 6,
   "metadata": {},
   "outputs": [
    {
     "data": {
      "text/plain": [
       "Index(['10k', 'name', 'division', '25k', 'gender', 'age', 'official', 'bib',\n",
       "       'genderdiv', 'ctz', '35k', 'overall', 'pace', 'state', '30k', '5k',\n",
       "       'half', '20k', 'country', 'city', '40k'],\n",
       "      dtype='object')"
      ]
     },
     "execution_count": 6,
     "metadata": {},
     "output_type": "execute_result"
    }
   ],
   "source": [
    "data.columns"
   ]
  },
  {
   "cell_type": "code",
   "execution_count": 7,
   "metadata": {},
   "outputs": [
    {
     "name": "stdout",
     "output_type": "stream",
     "text": [
      "<class 'pandas.core.frame.DataFrame'>\n",
      "RangeIndex: 31984 entries, 0 to 31983\n",
      "Data columns (total 21 columns):\n",
      "10k          31984 non-null object\n",
      "name         31984 non-null object\n",
      "division     31984 non-null int64\n",
      "25k          31984 non-null object\n",
      "gender       31984 non-null object\n",
      "age          31984 non-null int64\n",
      "official     31984 non-null float64\n",
      "bib          31984 non-null object\n",
      "genderdiv    31984 non-null int64\n",
      "ctz          1244 non-null object\n",
      "35k          31984 non-null object\n",
      "overall      31984 non-null int64\n",
      "pace         31984 non-null float64\n",
      "state        29408 non-null object\n",
      "30k          31984 non-null object\n",
      "5k           31984 non-null object\n",
      "half         31984 non-null object\n",
      "20k          31984 non-null object\n",
      "country      31984 non-null object\n",
      "city         31983 non-null object\n",
      "40k          31984 non-null object\n",
      "dtypes: float64(2), int64(4), object(15)\n",
      "memory usage: 5.1+ MB\n"
     ]
    }
   ],
   "source": [
    "data.info()"
   ]
  },
  {
   "cell_type": "markdown",
   "metadata": {},
   "source": [
    "## Variables Description:\n",
    "- name: runner's name => categorical variable\n",
    "- division: runner's rank in their division => categorical variable. Some divisions such as: Men's Wheelchair, Women's Wheelchair, Elite Men, Elite Women, Pare Athletics Divisions,...\n",
    "- gender: runner's gender => categorical variable\n",
    "- age: age of runner on race day => numerical variable\n",
    "- official: Runner's official finishing time in minute => numerical variable\n",
    "- bib: Runner's bib number. Bib numbers are color coded. Red bibs (numbers 101 to 7,700) are assigned to Wave 1 (10:00 a.m.). White bibs (numbers 8,000 to 15,600) are assigned to Wave 2 (10:25 a.m.). Blue bibs (numbers 16,000 to 23,600) are assigned to Wave 3 (10:50 a.m.) Yellow bibs (numbers 24,000 to 32,500) are assigned to Wave 4 (11:15 a.m.). \"F\" could appear for female elites => categorical variable\n",
    "- genderdiv: runner's rank in their gender division => categorical variable\n",
    "- ctz: Runner's nationality => categorical variable\n",
    "- overall: overall rank of runner => categorical variable\n",
    "- pace: Runner's overall minute for each distance (being a measure of time taken to run a given distance) (in minutes) => numerical variable\n",
    "- state: Runner's state of residence  => categorical variable\n",
    "- country: Runner's country of residence => categorical variable\n",
    "- city: Runner's city of residence => categorical variable\n",
    "- 10k,25k,35k,30k,5k,half,20k,40k: Runner's time at 10km,25km,..., halfway point,.... respectively  in minutes => numerical variable\n"
   ]
  },
  {
   "cell_type": "markdown",
   "metadata": {},
   "source": [
    "## Phan loai numerical and categorical features"
   ]
  },
  {
   "cell_type": "code",
   "execution_count": 8,
   "metadata": {},
   "outputs": [],
   "source": [
    "# Xoa cot name va bib vi cac gia tri o 2 cot nay la duy nhat cho moi runner nen khong dua vao phan tich du lieu\n",
    "data_trans = data.drop(['name','bib'], axis=1)"
   ]
  },
  {
   "cell_type": "code",
   "execution_count": 9,
   "metadata": {
    "scrolled": true
   },
   "outputs": [],
   "source": [
    "cat_var = ['division','gender','genderdiv','ctz', 'overall','state','country','city']\n",
    "num_var = [c for c in data_trans.columns if c not in cat_var]"
   ]
  },
  {
   "cell_type": "code",
   "execution_count": 10,
   "metadata": {},
   "outputs": [
    {
     "name": "stdout",
     "output_type": "stream",
     "text": [
      "['10k', '25k', 'age', 'official', '35k', 'pace', '30k', '5k', 'half', '20k', '40k']\n"
     ]
    }
   ],
   "source": [
    "print(num_var)"
   ]
  },
  {
   "cell_type": "code",
   "execution_count": 11,
   "metadata": {},
   "outputs": [],
   "source": [
    "# chuyen doi cac feature 10k,25k,35k,30k,5k,half,20k,40k thanh kieu float:\n",
    "# 1. thay the cac gia tri '-' bang nan\n",
    "data_trans.replace('-', np.nan, inplace=True, regex=True)\n",
    "# 2. convert to numeric\n",
    "data_trans[num_var] = data_trans[num_var].astype(float)"
   ]
  },
  {
   "cell_type": "code",
   "execution_count": 12,
   "metadata": {},
   "outputs": [],
   "source": [
    "# chuyen doi cac 'division','genderdiv','overall' thanh kieu object:\n",
    "data_trans[cat_var] = data_trans[cat_var].astype(object)"
   ]
  },
  {
   "cell_type": "markdown",
   "metadata": {},
   "source": [
    "## Phan tich numerical features"
   ]
  },
  {
   "cell_type": "code",
   "execution_count": 13,
   "metadata": {},
   "outputs": [
    {
     "data": {
      "text/html": [
       "<div>\n",
       "<style scoped>\n",
       "    .dataframe tbody tr th:only-of-type {\n",
       "        vertical-align: middle;\n",
       "    }\n",
       "\n",
       "    .dataframe tbody tr th {\n",
       "        vertical-align: top;\n",
       "    }\n",
       "\n",
       "    .dataframe thead th {\n",
       "        text-align: right;\n",
       "    }\n",
       "</style>\n",
       "<table border=\"1\" class=\"dataframe\">\n",
       "  <thead>\n",
       "    <tr style=\"text-align: right;\">\n",
       "      <th></th>\n",
       "      <th>10k</th>\n",
       "      <th>25k</th>\n",
       "      <th>age</th>\n",
       "      <th>official</th>\n",
       "      <th>35k</th>\n",
       "      <th>pace</th>\n",
       "      <th>30k</th>\n",
       "      <th>5k</th>\n",
       "      <th>half</th>\n",
       "      <th>20k</th>\n",
       "      <th>40k</th>\n",
       "    </tr>\n",
       "  </thead>\n",
       "  <tbody>\n",
       "    <tr>\n",
       "      <th>0</th>\n",
       "      <td>17.37</td>\n",
       "      <td>47.67</td>\n",
       "      <td>47.0</td>\n",
       "      <td>85.25</td>\n",
       "      <td>71.40</td>\n",
       "      <td>3.27</td>\n",
       "      <td>59.18</td>\n",
       "      <td>8.02</td>\n",
       "      <td>39.72</td>\n",
       "      <td>37.65</td>\n",
       "      <td>80.43</td>\n",
       "    </tr>\n",
       "    <tr>\n",
       "      <th>1</th>\n",
       "      <td>32.58</td>\n",
       "      <td>82.43</td>\n",
       "      <td>33.0</td>\n",
       "      <td>138.95</td>\n",
       "      <td>116.37</td>\n",
       "      <td>5.30</td>\n",
       "      <td>99.33</td>\n",
       "      <td>16.22</td>\n",
       "      <td>69.47</td>\n",
       "      <td>65.83</td>\n",
       "      <td>132.10</td>\n",
       "    </tr>\n",
       "    <tr>\n",
       "      <th>2</th>\n",
       "      <td>16.62</td>\n",
       "      <td>45.80</td>\n",
       "      <td>41.0</td>\n",
       "      <td>80.60</td>\n",
       "      <td>67.42</td>\n",
       "      <td>3.08</td>\n",
       "      <td>56.45</td>\n",
       "      <td>7.75</td>\n",
       "      <td>38.03</td>\n",
       "      <td>36.10</td>\n",
       "      <td>76.10</td>\n",
       "    </tr>\n",
       "    <tr>\n",
       "      <th>3</th>\n",
       "      <td>32.57</td>\n",
       "      <td>82.43</td>\n",
       "      <td>24.0</td>\n",
       "      <td>140.58</td>\n",
       "      <td>116.37</td>\n",
       "      <td>5.37</td>\n",
       "      <td>99.33</td>\n",
       "      <td>16.20</td>\n",
       "      <td>69.47</td>\n",
       "      <td>65.83</td>\n",
       "      <td>132.95</td>\n",
       "    </tr>\n",
       "    <tr>\n",
       "      <th>4</th>\n",
       "      <td>17.12</td>\n",
       "      <td>46.37</td>\n",
       "      <td>40.0</td>\n",
       "      <td>81.23</td>\n",
       "      <td>67.83</td>\n",
       "      <td>3.10</td>\n",
       "      <td>57.03</td>\n",
       "      <td>8.02</td>\n",
       "      <td>38.60</td>\n",
       "      <td>36.58</td>\n",
       "      <td>76.72</td>\n",
       "    </tr>\n",
       "  </tbody>\n",
       "</table>\n",
       "</div>"
      ],
      "text/plain": [
       "     10k    25k   age  official     35k  pace    30k     5k   half    20k  \\\n",
       "0  17.37  47.67  47.0     85.25   71.40  3.27  59.18   8.02  39.72  37.65   \n",
       "1  32.58  82.43  33.0    138.95  116.37  5.30  99.33  16.22  69.47  65.83   \n",
       "2  16.62  45.80  41.0     80.60   67.42  3.08  56.45   7.75  38.03  36.10   \n",
       "3  32.57  82.43  24.0    140.58  116.37  5.37  99.33  16.20  69.47  65.83   \n",
       "4  17.12  46.37  40.0     81.23   67.83  3.10  57.03   8.02  38.60  36.58   \n",
       "\n",
       "      40k  \n",
       "0   80.43  \n",
       "1  132.10  \n",
       "2   76.10  \n",
       "3  132.95  \n",
       "4   76.72  "
      ]
     },
     "execution_count": 13,
     "metadata": {},
     "output_type": "execute_result"
    }
   ],
   "source": [
    "data_trans[num_var].head()"
   ]
  },
  {
   "cell_type": "code",
   "execution_count": 14,
   "metadata": {},
   "outputs": [
    {
     "data": {
      "text/html": [
       "<div>\n",
       "<style scoped>\n",
       "    .dataframe tbody tr th:only-of-type {\n",
       "        vertical-align: middle;\n",
       "    }\n",
       "\n",
       "    .dataframe tbody tr th {\n",
       "        vertical-align: top;\n",
       "    }\n",
       "\n",
       "    .dataframe thead th {\n",
       "        text-align: right;\n",
       "    }\n",
       "</style>\n",
       "<table border=\"1\" class=\"dataframe\">\n",
       "  <thead>\n",
       "    <tr style=\"text-align: right;\">\n",
       "      <th></th>\n",
       "      <th>10k</th>\n",
       "      <th>25k</th>\n",
       "      <th>age</th>\n",
       "      <th>official</th>\n",
       "      <th>35k</th>\n",
       "      <th>pace</th>\n",
       "      <th>30k</th>\n",
       "      <th>5k</th>\n",
       "      <th>half</th>\n",
       "      <th>20k</th>\n",
       "      <th>40k</th>\n",
       "    </tr>\n",
       "  </thead>\n",
       "  <tbody>\n",
       "    <tr>\n",
       "      <th>count</th>\n",
       "      <td>31934.000000</td>\n",
       "      <td>31768.000000</td>\n",
       "      <td>31984.000000</td>\n",
       "      <td>31984.000000</td>\n",
       "      <td>31950.000000</td>\n",
       "      <td>31984.000000</td>\n",
       "      <td>31944.000000</td>\n",
       "      <td>31932.000000</td>\n",
       "      <td>31912.000000</td>\n",
       "      <td>31933.000000</td>\n",
       "      <td>31945.000000</td>\n",
       "    </tr>\n",
       "    <tr>\n",
       "      <th>mean</th>\n",
       "      <td>51.799275</td>\n",
       "      <td>133.612055</td>\n",
       "      <td>42.407079</td>\n",
       "      <td>242.997314</td>\n",
       "      <td>196.857605</td>\n",
       "      <td>9.275658</td>\n",
       "      <td>164.571219</td>\n",
       "      <td>25.755559</td>\n",
       "      <td>111.664566</td>\n",
       "      <td>105.711669</td>\n",
       "      <td>229.001490</td>\n",
       "    </tr>\n",
       "    <tr>\n",
       "      <th>std</th>\n",
       "      <td>8.965513</td>\n",
       "      <td>25.596958</td>\n",
       "      <td>11.316496</td>\n",
       "      <td>52.300431</td>\n",
       "      <td>41.979107</td>\n",
       "      <td>1.992486</td>\n",
       "      <td>33.953683</td>\n",
       "      <td>4.327830</td>\n",
       "      <td>21.061188</td>\n",
       "      <td>19.780525</td>\n",
       "      <td>49.159902</td>\n",
       "    </tr>\n",
       "    <tr>\n",
       "      <th>min</th>\n",
       "      <td>16.620000</td>\n",
       "      <td>45.800000</td>\n",
       "      <td>18.000000</td>\n",
       "      <td>80.600000</td>\n",
       "      <td>67.420000</td>\n",
       "      <td>3.080000</td>\n",
       "      <td>56.450000</td>\n",
       "      <td>7.750000</td>\n",
       "      <td>38.030000</td>\n",
       "      <td>36.100000</td>\n",
       "      <td>76.100000</td>\n",
       "    </tr>\n",
       "    <tr>\n",
       "      <th>10%</th>\n",
       "      <td>41.670000</td>\n",
       "      <td>105.080000</td>\n",
       "      <td>27.000000</td>\n",
       "      <td>184.600000</td>\n",
       "      <td>150.520000</td>\n",
       "      <td>7.050000</td>\n",
       "      <td>127.350000</td>\n",
       "      <td>20.870000</td>\n",
       "      <td>88.370000</td>\n",
       "      <td>83.780000</td>\n",
       "      <td>174.080000</td>\n",
       "    </tr>\n",
       "    <tr>\n",
       "      <th>25%</th>\n",
       "      <td>45.400000</td>\n",
       "      <td>115.470000</td>\n",
       "      <td>33.000000</td>\n",
       "      <td>205.527500</td>\n",
       "      <td>167.122500</td>\n",
       "      <td>7.850000</td>\n",
       "      <td>140.670000</td>\n",
       "      <td>22.650000</td>\n",
       "      <td>96.845000</td>\n",
       "      <td>91.750000</td>\n",
       "      <td>193.820000</td>\n",
       "    </tr>\n",
       "    <tr>\n",
       "      <th>50%</th>\n",
       "      <td>50.330000</td>\n",
       "      <td>128.875000</td>\n",
       "      <td>42.000000</td>\n",
       "      <td>232.370000</td>\n",
       "      <td>188.170000</td>\n",
       "      <td>8.870000</td>\n",
       "      <td>157.730000</td>\n",
       "      <td>25.080000</td>\n",
       "      <td>107.830000</td>\n",
       "      <td>102.150000</td>\n",
       "      <td>218.850000</td>\n",
       "    </tr>\n",
       "    <tr>\n",
       "      <th>75%</th>\n",
       "      <td>57.170000</td>\n",
       "      <td>147.735000</td>\n",
       "      <td>50.000000</td>\n",
       "      <td>273.235000</td>\n",
       "      <td>220.170000</td>\n",
       "      <td>10.430000</td>\n",
       "      <td>182.880000</td>\n",
       "      <td>28.470000</td>\n",
       "      <td>123.070000</td>\n",
       "      <td>116.520000</td>\n",
       "      <td>257.450000</td>\n",
       "    </tr>\n",
       "    <tr>\n",
       "      <th>95%</th>\n",
       "      <td>68.180000</td>\n",
       "      <td>183.680000</td>\n",
       "      <td>62.000000</td>\n",
       "      <td>344.095500</td>\n",
       "      <td>279.170000</td>\n",
       "      <td>13.130000</td>\n",
       "      <td>230.914000</td>\n",
       "      <td>33.370000</td>\n",
       "      <td>151.748000</td>\n",
       "      <td>143.400000</td>\n",
       "      <td>324.574000</td>\n",
       "    </tr>\n",
       "    <tr>\n",
       "      <th>99%</th>\n",
       "      <td>76.826700</td>\n",
       "      <td>206.336600</td>\n",
       "      <td>68.000000</td>\n",
       "      <td>390.930200</td>\n",
       "      <td>319.262800</td>\n",
       "      <td>14.920000</td>\n",
       "      <td>265.991400</td>\n",
       "      <td>37.350000</td>\n",
       "      <td>173.924500</td>\n",
       "      <td>164.120000</td>\n",
       "      <td>367.570000</td>\n",
       "    </tr>\n",
       "    <tr>\n",
       "      <th>max</th>\n",
       "      <td>112.380000</td>\n",
       "      <td>289.020000</td>\n",
       "      <td>81.000000</td>\n",
       "      <td>538.880000</td>\n",
       "      <td>449.330000</td>\n",
       "      <td>20.570000</td>\n",
       "      <td>376.380000</td>\n",
       "      <td>86.950000</td>\n",
       "      <td>236.670000</td>\n",
       "      <td>224.350000</td>\n",
       "      <td>508.350000</td>\n",
       "    </tr>\n",
       "  </tbody>\n",
       "</table>\n",
       "</div>"
      ],
      "text/plain": [
       "                10k           25k           age      official           35k  \\\n",
       "count  31934.000000  31768.000000  31984.000000  31984.000000  31950.000000   \n",
       "mean      51.799275    133.612055     42.407079    242.997314    196.857605   \n",
       "std        8.965513     25.596958     11.316496     52.300431     41.979107   \n",
       "min       16.620000     45.800000     18.000000     80.600000     67.420000   \n",
       "10%       41.670000    105.080000     27.000000    184.600000    150.520000   \n",
       "25%       45.400000    115.470000     33.000000    205.527500    167.122500   \n",
       "50%       50.330000    128.875000     42.000000    232.370000    188.170000   \n",
       "75%       57.170000    147.735000     50.000000    273.235000    220.170000   \n",
       "95%       68.180000    183.680000     62.000000    344.095500    279.170000   \n",
       "99%       76.826700    206.336600     68.000000    390.930200    319.262800   \n",
       "max      112.380000    289.020000     81.000000    538.880000    449.330000   \n",
       "\n",
       "               pace           30k            5k          half           20k  \\\n",
       "count  31984.000000  31944.000000  31932.000000  31912.000000  31933.000000   \n",
       "mean       9.275658    164.571219     25.755559    111.664566    105.711669   \n",
       "std        1.992486     33.953683      4.327830     21.061188     19.780525   \n",
       "min        3.080000     56.450000      7.750000     38.030000     36.100000   \n",
       "10%        7.050000    127.350000     20.870000     88.370000     83.780000   \n",
       "25%        7.850000    140.670000     22.650000     96.845000     91.750000   \n",
       "50%        8.870000    157.730000     25.080000    107.830000    102.150000   \n",
       "75%       10.430000    182.880000     28.470000    123.070000    116.520000   \n",
       "95%       13.130000    230.914000     33.370000    151.748000    143.400000   \n",
       "99%       14.920000    265.991400     37.350000    173.924500    164.120000   \n",
       "max       20.570000    376.380000     86.950000    236.670000    224.350000   \n",
       "\n",
       "                40k  \n",
       "count  31945.000000  \n",
       "mean     229.001490  \n",
       "std       49.159902  \n",
       "min       76.100000  \n",
       "10%      174.080000  \n",
       "25%      193.820000  \n",
       "50%      218.850000  \n",
       "75%      257.450000  \n",
       "95%      324.574000  \n",
       "99%      367.570000  \n",
       "max      508.350000  "
      ]
     },
     "execution_count": 14,
     "metadata": {},
     "output_type": "execute_result"
    }
   ],
   "source": [
    "data_trans[num_var].describe(percentiles=[.1,.25,.50,.75,.95,.99])"
   ]
  },
  {
   "cell_type": "markdown",
   "metadata": {},
   "source": [
    "### ve bieu do phan phoi"
   ]
  },
  {
   "cell_type": "code",
   "execution_count": 15,
   "metadata": {},
   "outputs": [
    {
     "data": {
      "text/plain": [
       "array([[<matplotlib.axes._subplots.AxesSubplot object at 0x0000016022215CC0>,\n",
       "        <matplotlib.axes._subplots.AxesSubplot object at 0x00000160222CD4E0>,\n",
       "        <matplotlib.axes._subplots.AxesSubplot object at 0x00000160222FEA90>],\n",
       "       [<matplotlib.axes._subplots.AxesSubplot object at 0x00000160221CC208>,\n",
       "        <matplotlib.axes._subplots.AxesSubplot object at 0x000001602236E438>,\n",
       "        <matplotlib.axes._subplots.AxesSubplot object at 0x00000160223DE9E8>],\n",
       "       [<matplotlib.axes._subplots.AxesSubplot object at 0x0000016022412F98>,\n",
       "        <matplotlib.axes._subplots.AxesSubplot object at 0x000001602244C5C0>,\n",
       "        <matplotlib.axes._subplots.AxesSubplot object at 0x000001602244C5F8>],\n",
       "       [<matplotlib.axes._subplots.AxesSubplot object at 0x00000160224BD128>,\n",
       "        <matplotlib.axes._subplots.AxesSubplot object at 0x00000160224EB6D8>,\n",
       "        <matplotlib.axes._subplots.AxesSubplot object at 0x0000016022A8CC88>]],\n",
       "      dtype=object)"
      ]
     },
     "execution_count": 15,
     "metadata": {},
     "output_type": "execute_result"
    },
    {
     "data": {
      "image/png": "[encoded data removed]",
      "text/plain": [
       "<Figure size 1152x1440 with 12 Axes>"
      ]
     },
     "metadata": {
      "needs_background": "light"
     },
     "output_type": "display_data"
    }
   ],
   "source": [
    "data_trans[num_var].hist(figsize=(16, 20), bins=50)"
   ]
  },
  {
   "cell_type": "markdown",
   "metadata": {},
   "source": [
    "## Phan tich categorical features"
   ]
  },
  {
   "cell_type": "code",
   "execution_count": 16,
   "metadata": {},
   "outputs": [
    {
     "data": {
      "text/html": [
       "<div>\n",
       "<style scoped>\n",
       "    .dataframe tbody tr th:only-of-type {\n",
       "        vertical-align: middle;\n",
       "    }\n",
       "\n",
       "    .dataframe tbody tr th {\n",
       "        vertical-align: top;\n",
       "    }\n",
       "\n",
       "    .dataframe thead th {\n",
       "        text-align: right;\n",
       "    }\n",
       "</style>\n",
       "<table border=\"1\" class=\"dataframe\">\n",
       "  <thead>\n",
       "    <tr style=\"text-align: right;\">\n",
       "      <th></th>\n",
       "      <th>division</th>\n",
       "      <th>gender</th>\n",
       "      <th>genderdiv</th>\n",
       "      <th>ctz</th>\n",
       "      <th>overall</th>\n",
       "      <th>state</th>\n",
       "      <th>country</th>\n",
       "      <th>city</th>\n",
       "    </tr>\n",
       "  </thead>\n",
       "  <tbody>\n",
       "    <tr>\n",
       "      <th>0</th>\n",
       "      <td>8</td>\n",
       "      <td>M</td>\n",
       "      <td>8</td>\n",
       "      <td>NaN</td>\n",
       "      <td>8</td>\n",
       "      <td>NaN</td>\n",
       "      <td>JPN</td>\n",
       "      <td>Fukuoka</td>\n",
       "    </tr>\n",
       "    <tr>\n",
       "      <th>1</th>\n",
       "      <td>1</td>\n",
       "      <td>F</td>\n",
       "      <td>1</td>\n",
       "      <td>NaN</td>\n",
       "      <td>21</td>\n",
       "      <td>NaN</td>\n",
       "      <td>KEN</td>\n",
       "      <td>Eldoret</td>\n",
       "    </tr>\n",
       "    <tr>\n",
       "      <th>2</th>\n",
       "      <td>1</td>\n",
       "      <td>M</td>\n",
       "      <td>1</td>\n",
       "      <td>NaN</td>\n",
       "      <td>1</td>\n",
       "      <td>NaN</td>\n",
       "      <td>RSA</td>\n",
       "      <td>Paarl</td>\n",
       "    </tr>\n",
       "    <tr>\n",
       "      <th>3</th>\n",
       "      <td>3</td>\n",
       "      <td>F</td>\n",
       "      <td>3</td>\n",
       "      <td>NaN</td>\n",
       "      <td>27</td>\n",
       "      <td>NaN</td>\n",
       "      <td>ETH</td>\n",
       "      <td>Shoa</td>\n",
       "    </tr>\n",
       "    <tr>\n",
       "      <th>4</th>\n",
       "      <td>2</td>\n",
       "      <td>M</td>\n",
       "      <td>2</td>\n",
       "      <td>NaN</td>\n",
       "      <td>2</td>\n",
       "      <td>NaN</td>\n",
       "      <td>JPN</td>\n",
       "      <td>Nogata Fukuoka</td>\n",
       "    </tr>\n",
       "  </tbody>\n",
       "</table>\n",
       "</div>"
      ],
      "text/plain": [
       "  division gender genderdiv  ctz overall state country            city\n",
       "0        8      M         8  NaN       8   NaN     JPN         Fukuoka\n",
       "1        1      F         1  NaN      21   NaN     KEN         Eldoret\n",
       "2        1      M         1  NaN       1   NaN     RSA           Paarl\n",
       "3        3      F         3  NaN      27   NaN     ETH            Shoa\n",
       "4        2      M         2  NaN       2   NaN     JPN  Nogata Fukuoka"
      ]
     },
     "execution_count": 16,
     "metadata": {},
     "output_type": "execute_result"
    }
   ],
   "source": [
    "data_trans[cat_var].head()"
   ]
  },
  {
   "cell_type": "code",
   "execution_count": 17,
   "metadata": {},
   "outputs": [
    {
     "data": {
      "text/html": [
       "<div>\n",
       "<style scoped>\n",
       "    .dataframe tbody tr th:only-of-type {\n",
       "        vertical-align: middle;\n",
       "    }\n",
       "\n",
       "    .dataframe tbody tr th {\n",
       "        vertical-align: top;\n",
       "    }\n",
       "\n",
       "    .dataframe thead th {\n",
       "        text-align: right;\n",
       "    }\n",
       "</style>\n",
       "<table border=\"1\" class=\"dataframe\">\n",
       "  <thead>\n",
       "    <tr style=\"text-align: right;\">\n",
       "      <th></th>\n",
       "      <th>division</th>\n",
       "      <th>gender</th>\n",
       "      <th>genderdiv</th>\n",
       "      <th>ctz</th>\n",
       "      <th>overall</th>\n",
       "      <th>state</th>\n",
       "      <th>country</th>\n",
       "      <th>city</th>\n",
       "    </tr>\n",
       "  </thead>\n",
       "  <tbody>\n",
       "    <tr>\n",
       "      <th>count</th>\n",
       "      <td>31984</td>\n",
       "      <td>31984</td>\n",
       "      <td>31984</td>\n",
       "      <td>1244</td>\n",
       "      <td>31984</td>\n",
       "      <td>29408</td>\n",
       "      <td>31984</td>\n",
       "      <td>31783</td>\n",
       "    </tr>\n",
       "    <tr>\n",
       "      <th>unique</th>\n",
       "      <td>6979</td>\n",
       "      <td>2</td>\n",
       "      <td>17575</td>\n",
       "      <td>84</td>\n",
       "      <td>31931</td>\n",
       "      <td>68</td>\n",
       "      <td>78</td>\n",
       "      <td>5790</td>\n",
       "    </tr>\n",
       "    <tr>\n",
       "      <th>top</th>\n",
       "      <td>1</td>\n",
       "      <td>M</td>\n",
       "      <td>1</td>\n",
       "      <td>GBR</td>\n",
       "      <td>1</td>\n",
       "      <td>MA</td>\n",
       "      <td>USA</td>\n",
       "      <td>Boston</td>\n",
       "    </tr>\n",
       "    <tr>\n",
       "      <th>freq</th>\n",
       "      <td>23</td>\n",
       "      <td>17617</td>\n",
       "      <td>4</td>\n",
       "      <td>171</td>\n",
       "      <td>2</td>\n",
       "      <td>7587</td>\n",
       "      <td>27233</td>\n",
       "      <td>1034</td>\n",
       "    </tr>\n",
       "  </tbody>\n",
       "</table>\n",
       "</div>"
      ],
      "text/plain": [
       "        division gender  genderdiv   ctz  overall  state country    city\n",
       "count      31984  31984      31984  1244    31984  29408   31984   31783\n",
       "unique      6979      2      17575    84    31931     68      78    5790\n",
       "top            1      M          1   GBR        1     MA     USA  Boston\n",
       "freq          23  17617          4   171        2   7587   27233    1034"
      ]
     },
     "execution_count": 17,
     "metadata": {},
     "output_type": "execute_result"
    }
   ],
   "source": [
    "data_trans[cat_var].describe()"
   ]
  },
  {
   "cell_type": "code",
   "execution_count": 18,
   "metadata": {},
   "outputs": [
    {
     "name": "stdout",
     "output_type": "stream",
     "text": [
      "1       23\n",
      "2       22\n",
      "3       22\n",
      "4       21\n",
      "5       20\n",
      "6       20\n",
      "7       20\n",
      "8       20\n",
      "9       19\n",
      "10      19\n",
      "11      19\n",
      "16      18\n",
      "19      18\n",
      "18      18\n",
      "17      18\n",
      "20      18\n",
      "15      18\n",
      "13      18\n",
      "12      18\n",
      "14      18\n",
      "30      17\n",
      "38      17\n",
      "37      17\n",
      "36      17\n",
      "35      17\n",
      "34      17\n",
      "33      17\n",
      "32      17\n",
      "31      17\n",
      "28      17\n",
      "        ..\n",
      "6247     1\n",
      "6248     1\n",
      "6249     1\n",
      "6250     1\n",
      "6251     1\n",
      "6252     1\n",
      "6253     1\n",
      "6254     1\n",
      "6255     1\n",
      "6256     1\n",
      "6257     1\n",
      "6258     1\n",
      "6259     1\n",
      "6260     1\n",
      "6261     1\n",
      "6262     1\n",
      "6263     1\n",
      "6264     1\n",
      "6265     1\n",
      "6266     1\n",
      "6267     1\n",
      "6268     1\n",
      "6269     1\n",
      "6270     1\n",
      "6271     1\n",
      "6272     1\n",
      "6273     1\n",
      "6274     1\n",
      "6275     1\n",
      "6979     1\n",
      "Name: division, Length: 6979, dtype: int64\n",
      "##################################################\n",
      "M    17617\n",
      "F    14367\n",
      "Name: gender, dtype: int64\n",
      "##################################################\n",
      "1        4\n",
      "6        4\n",
      "11       4\n",
      "10       4\n",
      "8        4\n",
      "7        4\n",
      "9        4\n",
      "5        4\n",
      "4        4\n",
      "3        4\n",
      "2        4\n",
      "35       3\n",
      "29       3\n",
      "30       3\n",
      "31       3\n",
      "32       3\n",
      "33       3\n",
      "34       3\n",
      "41       3\n",
      "36       3\n",
      "38       3\n",
      "39       3\n",
      "40       3\n",
      "27       3\n",
      "42       3\n",
      "28       3\n",
      "37       3\n",
      "26       3\n",
      "18       3\n",
      "25       3\n",
      "        ..\n",
      "15455    1\n",
      "15456    1\n",
      "15457    1\n",
      "15458    1\n",
      "15437    1\n",
      "15435    1\n",
      "15412    1\n",
      "15434    1\n",
      "15413    1\n",
      "15414    1\n",
      "15415    1\n",
      "15416    1\n",
      "15417    1\n",
      "15418    1\n",
      "15419    1\n",
      "15420    1\n",
      "15421    1\n",
      "15422    1\n",
      "15423    1\n",
      "15424    1\n",
      "15425    1\n",
      "15426    1\n",
      "15427    1\n",
      "15428    1\n",
      "15429    1\n",
      "15430    1\n",
      "15431    1\n",
      "15432    1\n",
      "15433    1\n",
      "17575    1\n",
      "Name: genderdiv, Length: 17575, dtype: int64\n",
      "##################################################\n",
      "GBR    171\n",
      "CAN    143\n",
      "USA    135\n",
      "JPN     95\n",
      "IRL     68\n",
      "MEX     62\n",
      "GER     55\n",
      "FRA     45\n",
      "AUS     43\n",
      "CHN     39\n",
      "ITA     30\n",
      "NZL     27\n",
      "NED     22\n",
      "VEN     19\n",
      "ESP     18\n",
      "KOR     17\n",
      "IND     15\n",
      "COL     13\n",
      "SUI     13\n",
      "SWE     12\n",
      "ARG     10\n",
      "BRA     10\n",
      "ECU      8\n",
      "RSA      8\n",
      "NOR      8\n",
      "RUS      8\n",
      "PHI      8\n",
      "AUT      7\n",
      "BEL      7\n",
      "DEN      6\n",
      "      ... \n",
      "LIB      2\n",
      "CZE      2\n",
      "GEO      2\n",
      "CRO      2\n",
      "TPE      2\n",
      "BIH      2\n",
      "PAN      2\n",
      "UKR      2\n",
      "SLO      1\n",
      "IRQ      1\n",
      "KSA      1\n",
      "URU      1\n",
      "LAT      1\n",
      "SRI      1\n",
      "ERI      1\n",
      "ESA      1\n",
      "ALG      1\n",
      "PAK      1\n",
      "HAI      1\n",
      "BAR      1\n",
      "CMR      1\n",
      "BLR      1\n",
      "UGA      1\n",
      "GUY      1\n",
      "MLT      1\n",
      "BER      1\n",
      "NCA      1\n",
      "ETH      1\n",
      "CPV      1\n",
      "IRI      1\n",
      "Name: ctz, Length: 84, dtype: int64\n",
      "##################################################\n",
      "1        2\n",
      "40       2\n",
      "29       2\n",
      "30       2\n",
      "31       2\n",
      "32       2\n",
      "33       2\n",
      "34       2\n",
      "35       2\n",
      "36       2\n",
      "37       2\n",
      "38       2\n",
      "39       2\n",
      "42       2\n",
      "27       2\n",
      "43       2\n",
      "44       2\n",
      "45       2\n",
      "46       2\n",
      "47       2\n",
      "48       2\n",
      "49       2\n",
      "50       2\n",
      "51       2\n",
      "52       2\n",
      "53       2\n",
      "28       2\n",
      "41       2\n",
      "26       2\n",
      "13       2\n",
      "        ..\n",
      "21268    1\n",
      "21296    1\n",
      "21269    1\n",
      "21270    1\n",
      "21271    1\n",
      "21272    1\n",
      "21273    1\n",
      "21274    1\n",
      "21275    1\n",
      "21276    1\n",
      "21277    1\n",
      "21278    1\n",
      "21279    1\n",
      "21280    1\n",
      "21281    1\n",
      "21282    1\n",
      "21283    1\n",
      "21284    1\n",
      "21285    1\n",
      "21286    1\n",
      "21287    1\n",
      "21288    1\n",
      "21289    1\n",
      "21290    1\n",
      "21291    1\n",
      "21292    1\n",
      "21293    1\n",
      "21294    1\n",
      "21295    1\n",
      "15966    1\n",
      "Name: overall, Length: 31931, dtype: int64\n",
      "##################################################\n",
      "MA    7587\n",
      "CA    2326\n",
      "NY    1553\n",
      "ON    1052\n",
      "PA    1001\n",
      "TX     992\n",
      "IL     916\n",
      "OH     760\n",
      "FL     750\n",
      "VA     713\n",
      "MI     695\n",
      "NC     618\n",
      "WA     596\n",
      "CO     578\n",
      "NJ     569\n",
      "MN     556\n",
      "MD     527\n",
      "NH     526\n",
      "CT     521\n",
      "GA     443\n",
      "WI     433\n",
      "UT     431\n",
      "QC     419\n",
      "OR     406\n",
      "AZ     318\n",
      "IN     291\n",
      "TN     261\n",
      "MO     256\n",
      "ME     250\n",
      "RI     233\n",
      "      ... \n",
      "ID     124\n",
      "NE     111\n",
      "NS     109\n",
      "AL     105\n",
      "OK      92\n",
      "NV      88\n",
      "LA      78\n",
      "NM      71\n",
      "MT      65\n",
      "DE      63\n",
      "WV      56\n",
      "NB      55\n",
      "AK      50\n",
      "HI      49\n",
      "AR      48\n",
      "MB      47\n",
      "MS      46\n",
      "SK      32\n",
      "SD      32\n",
      "ND      31\n",
      "PE      23\n",
      "WY      22\n",
      "NL      18\n",
      "PR      17\n",
      "AE       7\n",
      "YT       5\n",
      "NT       3\n",
      "GU       1\n",
      "AP       1\n",
      "AA       1\n",
      "Name: state, Length: 68, dtype: int64\n",
      "##################################################\n",
      "USA    27233\n",
      "CAN     2175\n",
      "GBR      346\n",
      "ITA      212\n",
      "MEX      205\n",
      "GER      182\n",
      "JPN      175\n",
      "AUS      124\n",
      "IRL      119\n",
      "FRA      115\n",
      "ESP       89\n",
      "BRA       87\n",
      "SWE       66\n",
      "SUI       62\n",
      "KOR       60\n",
      "NED       54\n",
      "HKG       53\n",
      "DEN       50\n",
      "CHN       42\n",
      "COL       40\n",
      "CHI       29\n",
      "ISL       28\n",
      "FIN       28\n",
      "BEL       27\n",
      "SIN       23\n",
      "AUT       22\n",
      "NOR       21\n",
      "RSA       19\n",
      "VEN       19\n",
      "TPE       18\n",
      "       ...  \n",
      "MAS        4\n",
      "TUR        4\n",
      "PHI        4\n",
      "SVK        4\n",
      "HUN        3\n",
      "ECU        3\n",
      "DOM        3\n",
      "PAN        3\n",
      "UKR        3\n",
      "QAT        2\n",
      "ESA        2\n",
      "BAH        2\n",
      "EGY        2\n",
      "ROU        2\n",
      "THA        2\n",
      "VGB        1\n",
      "BRN        1\n",
      "INA        1\n",
      "TRI        1\n",
      "BOL        1\n",
      "MAR        1\n",
      "CRO        1\n",
      "ZIM        1\n",
      "EST        1\n",
      "BAR        1\n",
      "LIE        1\n",
      "CAY        1\n",
      "BLR        1\n",
      "TAN        1\n",
      "URU        1\n",
      "Name: country, Length: 78, dtype: int64\n",
      "##################################################\n",
      "Boston                   1034\n",
      "New York                  498\n",
      "Chicago                   313\n",
      "Cambridge                 311\n",
      "Toronto                   240\n",
      "Somerville                240\n",
      "Brookline                 222\n",
      "Washington                212\n",
      "Newton                    201\n",
      "San Francisco             192\n",
      "Austin                    192\n",
      "Portland                  191\n",
      "Arlington                 184\n",
      "San Diego                 182\n",
      "Brighton                  151\n",
      "Seattle                   149\n",
      "Charlestown               148\n",
      "Houston                   138\n",
      "London                    135\n",
      "Quincy                    134\n",
      "Medford                   132\n",
      "Brooklyn                  131\n",
      "South Boston              130\n",
      "Ottawa                    130\n",
      "Atlanta                   122\n",
      "Denver                    118\n",
      "Dorchester                117\n",
      "Calgary                   109\n",
      "Cincinnati                106\n",
      "Wellesley                 105\n",
      "                         ... \n",
      "Himejicity Hyogo            1\n",
      "The Hague                   1\n",
      "Farnham                     1\n",
      "Roseland                    1\n",
      "Kisko                       1\n",
      "Amity                       1\n",
      "Moonee Ponds                1\n",
      "Yarm                        1\n",
      "Greenlawn                   1\n",
      "Hygiene                     1\n",
      "Selangor                    1\n",
      "Belo Horizonte, Mg.         1\n",
      "River Ridge                 1\n",
      "Moon Township               1\n",
      "Birkenwerder                1\n",
      "Justin                      1\n",
      "Lytle                       1\n",
      "Lauderdale By The Sea       1\n",
      "Cowbridge                   1\n",
      "Sandown                     1\n",
      "Alava                       1\n",
      "Centerton                   1\n",
      "St. Helena                  1\n",
      "Reykjavík                   1\n",
      "Mcknightstown               1\n",
      "Beaver Dam                  1\n",
      "Brookshire                  1\n",
      "Brockport                   1\n",
      "Cayuga                      1\n",
      "Ampang                      1\n",
      "Name: city, Length: 5790, dtype: int64\n",
      "##################################################\n"
     ]
    }
   ],
   "source": [
    "# xem cac tan suat cac gia tri cua cac cot\n",
    "for catg in cat_var:\n",
    "    print(data_trans[catg].value_counts())\n",
    "    print('#'*50)"
   ]
  },
  {
   "cell_type": "code",
   "execution_count": 19,
   "metadata": {},
   "outputs": [
    {
     "data": {
      "text/plain": [
       "<matplotlib.axes._subplots.AxesSubplot at 0x160235c9a90>"
      ]
     },
     "execution_count": 19,
     "metadata": {},
     "output_type": "execute_result"
    },
    {
     "data": {
      "image/png": "[encoded data removed]",
      "text/plain": [
       "<Figure size 432x288 with 1 Axes>"
      ]
     },
     "metadata": {
      "needs_background": "light"
     },
     "output_type": "display_data"
    }
   ],
   "source": [
    "# ve bieu do cho cot gender, cac cot con lai co gia tri phan tan lon nen khong ve bieu do\n",
    "sns.countplot(data_trans['gender'])"
   ]
  },
  {
   "cell_type": "markdown",
   "metadata": {},
   "source": [
    "So luong nam tham gia cuoc thi nhieu hon nu"
   ]
  },
  {
   "cell_type": "markdown",
   "metadata": {},
   "source": [
    "## Check and treat missing value"
   ]
  },
  {
   "cell_type": "code",
   "execution_count": 20,
   "metadata": {},
   "outputs": [
    {
     "data": {
      "text/html": [
       "<div>\n",
       "<style scoped>\n",
       "    .dataframe tbody tr th:only-of-type {\n",
       "        vertical-align: middle;\n",
       "    }\n",
       "\n",
       "    .dataframe tbody tr th {\n",
       "        vertical-align: top;\n",
       "    }\n",
       "\n",
       "    .dataframe thead th {\n",
       "        text-align: right;\n",
       "    }\n",
       "</style>\n",
       "<table border=\"1\" class=\"dataframe\">\n",
       "  <thead>\n",
       "    <tr style=\"text-align: right;\">\n",
       "      <th></th>\n",
       "      <th>Total</th>\n",
       "      <th>Percent</th>\n",
       "    </tr>\n",
       "  </thead>\n",
       "  <tbody>\n",
       "    <tr>\n",
       "      <th>10k</th>\n",
       "      <td>50</td>\n",
       "      <td>0.156328</td>\n",
       "    </tr>\n",
       "    <tr>\n",
       "      <th>division</th>\n",
       "      <td>0</td>\n",
       "      <td>0.000000</td>\n",
       "    </tr>\n",
       "    <tr>\n",
       "      <th>25k</th>\n",
       "      <td>216</td>\n",
       "      <td>0.675338</td>\n",
       "    </tr>\n",
       "    <tr>\n",
       "      <th>gender</th>\n",
       "      <td>0</td>\n",
       "      <td>0.000000</td>\n",
       "    </tr>\n",
       "    <tr>\n",
       "      <th>age</th>\n",
       "      <td>0</td>\n",
       "      <td>0.000000</td>\n",
       "    </tr>\n",
       "    <tr>\n",
       "      <th>official</th>\n",
       "      <td>0</td>\n",
       "      <td>0.000000</td>\n",
       "    </tr>\n",
       "    <tr>\n",
       "      <th>genderdiv</th>\n",
       "      <td>0</td>\n",
       "      <td>0.000000</td>\n",
       "    </tr>\n",
       "    <tr>\n",
       "      <th>ctz</th>\n",
       "      <td>30740</td>\n",
       "      <td>96.110555</td>\n",
       "    </tr>\n",
       "    <tr>\n",
       "      <th>35k</th>\n",
       "      <td>34</td>\n",
       "      <td>0.106303</td>\n",
       "    </tr>\n",
       "    <tr>\n",
       "      <th>overall</th>\n",
       "      <td>0</td>\n",
       "      <td>0.000000</td>\n",
       "    </tr>\n",
       "    <tr>\n",
       "      <th>pace</th>\n",
       "      <td>0</td>\n",
       "      <td>0.000000</td>\n",
       "    </tr>\n",
       "    <tr>\n",
       "      <th>state</th>\n",
       "      <td>2576</td>\n",
       "      <td>8.054027</td>\n",
       "    </tr>\n",
       "    <tr>\n",
       "      <th>30k</th>\n",
       "      <td>40</td>\n",
       "      <td>0.125063</td>\n",
       "    </tr>\n",
       "    <tr>\n",
       "      <th>5k</th>\n",
       "      <td>52</td>\n",
       "      <td>0.162581</td>\n",
       "    </tr>\n",
       "    <tr>\n",
       "      <th>half</th>\n",
       "      <td>72</td>\n",
       "      <td>0.225113</td>\n",
       "    </tr>\n",
       "    <tr>\n",
       "      <th>20k</th>\n",
       "      <td>51</td>\n",
       "      <td>0.159455</td>\n",
       "    </tr>\n",
       "    <tr>\n",
       "      <th>country</th>\n",
       "      <td>0</td>\n",
       "      <td>0.000000</td>\n",
       "    </tr>\n",
       "    <tr>\n",
       "      <th>city</th>\n",
       "      <td>201</td>\n",
       "      <td>0.628439</td>\n",
       "    </tr>\n",
       "    <tr>\n",
       "      <th>40k</th>\n",
       "      <td>39</td>\n",
       "      <td>0.121936</td>\n",
       "    </tr>\n",
       "  </tbody>\n",
       "</table>\n",
       "</div>"
      ],
      "text/plain": [
       "           Total    Percent\n",
       "10k           50   0.156328\n",
       "division       0   0.000000\n",
       "25k          216   0.675338\n",
       "gender         0   0.000000\n",
       "age            0   0.000000\n",
       "official       0   0.000000\n",
       "genderdiv      0   0.000000\n",
       "ctz        30740  96.110555\n",
       "35k           34   0.106303\n",
       "overall        0   0.000000\n",
       "pace           0   0.000000\n",
       "state       2576   8.054027\n",
       "30k           40   0.125063\n",
       "5k            52   0.162581\n",
       "half          72   0.225113\n",
       "20k           51   0.159455\n",
       "country        0   0.000000\n",
       "city         201   0.628439\n",
       "40k           39   0.121936"
      ]
     },
     "execution_count": 20,
     "metadata": {},
     "output_type": "execute_result"
    }
   ],
   "source": [
    "total = data_trans.isnull().sum()\n",
    "percent = data_trans.isnull().sum()/len(data)*100\n",
    "missing_data = pd.concat([total,percent], axis=1,keys=['Total', 'Percent'])\n",
    "missing_data"
   ]
  },
  {
   "cell_type": "code",
   "execution_count": 21,
   "metadata": {},
   "outputs": [],
   "source": [
    "# vi cot ctz co % missing value rat lon nen ta loai bo cot nay\n",
    "data_trans.drop(['ctz'], axis = 1, inplace = True)\n",
    "cat_var.remove('ctz')\n",
    "# thay the cac Nan trong state bang unknown\n",
    "data_trans['state'].replace(np.nan, 'unknown', inplace=True, regex=True)"
   ]
  },
  {
   "cell_type": "code",
   "execution_count": 22,
   "metadata": {},
   "outputs": [],
   "source": [
    "# cac feature con lai co % missing value rat nho len ta drop het cac gia tri NaN nay\n",
    "data_trans.dropna(inplace = True)"
   ]
  },
  {
   "cell_type": "code",
   "execution_count": 23,
   "metadata": {},
   "outputs": [
    {
     "data": {
      "text/plain": [
       "0"
      ]
     },
     "execution_count": 23,
     "metadata": {},
     "output_type": "execute_result"
    }
   ],
   "source": [
    "data_trans.isnull().sum().sum()"
   ]
  },
  {
   "cell_type": "code",
   "execution_count": 24,
   "metadata": {},
   "outputs": [
    {
     "data": {
      "text/plain": [
       "(31449, 18)"
      ]
     },
     "execution_count": 24,
     "metadata": {},
     "output_type": "execute_result"
    }
   ],
   "source": [
    "data_trans.shape"
   ]
  },
  {
   "cell_type": "code",
   "execution_count": 25,
   "metadata": {},
   "outputs": [
    {
     "data": {
      "text/plain": [
       "98.32728864432217"
      ]
     },
     "execution_count": 25,
     "metadata": {},
     "output_type": "execute_result"
    }
   ],
   "source": [
    "# % du lieu con lai so voi du lieu ban dau\n",
    "data_trans.shape[0]/data.shape[0]*100"
   ]
  },
  {
   "cell_type": "markdown",
   "metadata": {},
   "source": [
    "## Relation of numerical features to finishing time"
   ]
  },
  {
   "cell_type": "code",
   "execution_count": 26,
   "metadata": {},
   "outputs": [
    {
     "data": {
      "image/png": "[encoded data removed]",
      "text/plain": [
       "<Figure size 576x360 with 1 Axes>"
      ]
     },
     "metadata": {
      "needs_background": "light"
     },
     "output_type": "display_data"
    },
    {
     "data": {
      "image/png": "[encoded data removed]",
      "text/plain": [
       "<Figure size 576x360 with 1 Axes>"
      ]
     },
     "metadata": {
      "needs_background": "light"
     },
     "output_type": "display_data"
    },
    {
     "data": {
      "image/png": "[encoded data removed]",
      "text/plain": [
       "<Figure size 576x360 with 1 Axes>"
      ]
     },
     "metadata": {
      "needs_background": "light"
     },
     "output_type": "display_data"
    },
    {
     "data": {
      "image/png": "[encoded data removed]",
      "text/plain": [
       "<Figure size 576x360 with 1 Axes>"
      ]
     },
     "metadata": {
      "needs_background": "light"
     },
     "output_type": "display_data"
    },
    {
     "data": {
      "image/png": "[encoded data removed]",
      "text/plain": [
       "<Figure size 576x360 with 1 Axes>"
      ]
     },
     "metadata": {
      "needs_background": "light"
     },
     "output_type": "display_data"
    },
    {
     "data": {
      "image/png": "[encoded data removed]",
      "text/plain": [
       "<Figure size 576x360 with 1 Axes>"
      ]
     },
     "metadata": {
      "needs_background": "light"
     },
     "output_type": "display_data"
    },
    {
     "data": {
      "image/png": "[encoded data removed]",
      "text/plain": [
       "<Figure size 576x360 with 1 Axes>"
      ]
     },
     "metadata": {
      "needs_background": "light"
     },
     "output_type": "display_data"
    },
    {
     "data": {
      "image/png": "[encoded data removed]",
      "text/plain": [
       "<Figure size 576x360 with 1 Axes>"
      ]
     },
     "metadata": {
      "needs_background": "light"
     },
     "output_type": "display_data"
    },
    {
     "data": {
      "image/png": "[encoded data removed]",
      "text/plain": [
       "<Figure size 576x360 with 1 Axes>"
      ]
     },
     "metadata": {
      "needs_background": "light"
     },
     "output_type": "display_data"
    },
    {
     "data": {
      "image/png": "[encoded data removed]",
      "text/plain": [
       "<Figure size 576x360 with 1 Axes>"
      ]
     },
     "metadata": {
      "needs_background": "light"
     },
     "output_type": "display_data"
    },
    {
     "data": {
      "image/png": "[encoded data removed]",
      "text/plain": [
       "<Figure size 576x360 with 1 Axes>"
      ]
     },
     "metadata": {
      "needs_background": "light"
     },
     "output_type": "display_data"
    }
   ],
   "source": [
    "for i in num_var:\n",
    "    plt.figure(figsize=(8,5))\n",
    "    plt.scatter(data_trans[i],data_trans['official'])\n",
    "    plt.title('relation of ' + i +' and finishing time')"
   ]
  },
  {
   "cell_type": "code",
   "execution_count": 27,
   "metadata": {},
   "outputs": [
    {
     "data": {
      "text/plain": [
       "<matplotlib.axes._subplots.AxesSubplot at 0x16023824358>"
      ]
     },
     "execution_count": 27,
     "metadata": {},
     "output_type": "execute_result"
    },
    {
     "data": {
      "image/png": "[encoded data removed]",
      "text/plain": [
       "<Figure size 720x504 with 2 Axes>"
      ]
     },
     "metadata": {
      "needs_background": "light"
     },
     "output_type": "display_data"
    }
   ],
   "source": [
    "plt.figure(figsize=(10,7))\n",
    "sns.heatmap(data_trans.corr(), vmax = 1.0, vmin=-1.0, annot = True)"
   ]
  },
  {
   "cell_type": "markdown",
   "metadata": {},
   "source": [
    "- vi he so tuon quan giua official, 5k, 10k, 20k, 25k, 30k, 35k, 40k, half rat lon (>0.9) nen ta chi can chon 1 feature de phan tich cac dac diem cua cac cluster cung nhu build model => Chon official"
   ]
  },
  {
   "cell_type": "markdown",
   "metadata": {},
   "source": [
    "## Relation of Categorical features to finishing time"
   ]
  },
  {
   "cell_type": "code",
   "execution_count": 28,
   "metadata": {},
   "outputs": [
    {
     "data": {
      "text/plain": [
       "Text(0, 0.5, 'finishing time in minute')"
      ]
     },
     "execution_count": 28,
     "metadata": {},
     "output_type": "execute_result"
    },
    {
     "data": {
      "image/png": "[encoded data removed]",
      "text/plain": [
       "<Figure size 576x360 with 1 Axes>"
      ]
     },
     "metadata": {
      "needs_background": "light"
     },
     "output_type": "display_data"
    }
   ],
   "source": [
    "plt.figure(figsize=(8,5))\n",
    "plt.scatter(data_trans['division'],data_trans['official'])\n",
    "plt.title('relation of division and finishing time')\n",
    "plt.xlabel(\"runner's rank in divisions\")\n",
    "plt.ylabel('finishing time in minute')"
   ]
  },
  {
   "cell_type": "code",
   "execution_count": 29,
   "metadata": {},
   "outputs": [
    {
     "data": {
      "text/plain": [
       "Text(0, 0.5, 'finishing time in minute')"
      ]
     },
     "execution_count": 29,
     "metadata": {},
     "output_type": "execute_result"
    },
    {
     "data": {
      "image/png": "[encoded data removed]",
      "text/plain": [
       "<Figure size 576x360 with 1 Axes>"
      ]
     },
     "metadata": {
      "needs_background": "light"
     },
     "output_type": "display_data"
    }
   ],
   "source": [
    "plt.figure(figsize=(8,5))\n",
    "plt.scatter(data_trans['genderdiv'],data_trans['official'])\n",
    "plt.title('relation of genderdiv and finishing time')\n",
    "plt.xlabel(\"runner's rank in gender divisions\")\n",
    "plt.ylabel('finishing time in minute')"
   ]
  },
  {
   "cell_type": "code",
   "execution_count": 30,
   "metadata": {},
   "outputs": [
    {
     "data": {
      "text/plain": [
       "Text(0, 0.5, 'finishing time in minute')"
      ]
     },
     "execution_count": 30,
     "metadata": {},
     "output_type": "execute_result"
    },
    {
     "data": {
      "image/png": "[encoded data removed]",
      "text/plain": [
       "<Figure size 576x360 with 1 Axes>"
      ]
     },
     "metadata": {
      "needs_background": "light"
     },
     "output_type": "display_data"
    }
   ],
   "source": [
    "plt.figure(figsize=(8,5))\n",
    "plt.scatter(data_trans['overall'],data_trans['official'])\n",
    "plt.title('relation of overall and finishing time')\n",
    "plt.xlabel(\"runner's overall rank\")\n",
    "plt.ylabel('finishing time in minute')"
   ]
  },
  {
   "cell_type": "code",
   "execution_count": 31,
   "metadata": {},
   "outputs": [
    {
     "data": {
      "text/plain": [
       "<matplotlib.axes._subplots.AxesSubplot at 0x16025b20a90>"
      ]
     },
     "execution_count": 31,
     "metadata": {},
     "output_type": "execute_result"
    },
    {
     "data": {
      "image/png": "[encoded data removed]",
      "text/plain": [
       "<Figure size 720x360 with 1 Axes>"
      ]
     },
     "metadata": {
      "needs_background": "light"
     },
     "output_type": "display_data"
    }
   ],
   "source": [
    "plt.figure(figsize=(10,5))\n",
    "sns.boxplot(x='gender', y='official', data=data_trans)"
   ]
  },
  {
   "cell_type": "code",
   "execution_count": 32,
   "metadata": {},
   "outputs": [
    {
     "data": {
      "text/plain": [
       "<matplotlib.axes._subplots.AxesSubplot at 0x160259156d8>"
      ]
     },
     "execution_count": 32,
     "metadata": {},
     "output_type": "execute_result"
    },
    {
     "data": {
      "image/png": "[encoded data removed]",
      "text/plain": [
       "<Figure size 1440x720 with 1 Axes>"
      ]
     },
     "metadata": {
      "needs_background": "light"
     },
     "output_type": "display_data"
    }
   ],
   "source": [
    "plt.figure(figsize=(20,10))\n",
    "sns.boxplot(x='state', y='official', data=data_trans)"
   ]
  },
  {
   "cell_type": "code",
   "execution_count": 33,
   "metadata": {},
   "outputs": [
    {
     "data": {
      "text/plain": [
       "<matplotlib.axes._subplots.AxesSubplot at 0x1602438a860>"
      ]
     },
     "execution_count": 33,
     "metadata": {},
     "output_type": "execute_result"
    },
    {
     "data": {
      "image/png": "[encoded data removed]",
      "text/plain": [
       "<Figure size 1440x720 with 1 Axes>"
      ]
     },
     "metadata": {
      "needs_background": "light"
     },
     "output_type": "display_data"
    }
   ],
   "source": [
    "plt.figure(figsize=(20,10))\n",
    "sns.boxplot(x='country', y='official', data=data_trans)"
   ]
  },
  {
   "cell_type": "markdown",
   "metadata": {},
   "source": [
    "Thoi gian trung binh hoan thanh cuoc dua cua nam nho hon cua nu"
   ]
  },
  {
   "cell_type": "markdown",
   "metadata": {},
   "source": [
    "## Check and treat outlier"
   ]
  },
  {
   "cell_type": "code",
   "execution_count": 34,
   "metadata": {},
   "outputs": [],
   "source": [
    "dataset = data_trans"
   ]
  },
  {
   "cell_type": "code",
   "execution_count": 35,
   "metadata": {},
   "outputs": [
    {
     "data": {
      "text/html": [
       "<div>\n",
       "<style scoped>\n",
       "    .dataframe tbody tr th:only-of-type {\n",
       "        vertical-align: middle;\n",
       "    }\n",
       "\n",
       "    .dataframe tbody tr th {\n",
       "        vertical-align: top;\n",
       "    }\n",
       "\n",
       "    .dataframe thead th {\n",
       "        text-align: right;\n",
       "    }\n",
       "</style>\n",
       "<table border=\"1\" class=\"dataframe\">\n",
       "  <thead>\n",
       "    <tr style=\"text-align: right;\">\n",
       "      <th></th>\n",
       "      <th>Total</th>\n",
       "      <th>Percent</th>\n",
       "    </tr>\n",
       "  </thead>\n",
       "  <tbody>\n",
       "    <tr>\n",
       "      <th>10k</th>\n",
       "      <td>386</td>\n",
       "      <td>1.227384</td>\n",
       "    </tr>\n",
       "    <tr>\n",
       "      <th>division</th>\n",
       "      <td>0</td>\n",
       "      <td>0.000000</td>\n",
       "    </tr>\n",
       "    <tr>\n",
       "      <th>25k</th>\n",
       "      <td>729</td>\n",
       "      <td>2.318039</td>\n",
       "    </tr>\n",
       "    <tr>\n",
       "      <th>gender</th>\n",
       "      <td>0</td>\n",
       "      <td>0.000000</td>\n",
       "    </tr>\n",
       "    <tr>\n",
       "      <th>age</th>\n",
       "      <td>35</td>\n",
       "      <td>0.111291</td>\n",
       "    </tr>\n",
       "    <tr>\n",
       "      <th>official</th>\n",
       "      <td>513</td>\n",
       "      <td>1.631212</td>\n",
       "    </tr>\n",
       "    <tr>\n",
       "      <th>genderdiv</th>\n",
       "      <td>0</td>\n",
       "      <td>0.000000</td>\n",
       "    </tr>\n",
       "    <tr>\n",
       "      <th>35k</th>\n",
       "      <td>665</td>\n",
       "      <td>2.114535</td>\n",
       "    </tr>\n",
       "    <tr>\n",
       "      <th>overall</th>\n",
       "      <td>0</td>\n",
       "      <td>0.000000</td>\n",
       "    </tr>\n",
       "    <tr>\n",
       "      <th>pace</th>\n",
       "      <td>494</td>\n",
       "      <td>1.570797</td>\n",
       "    </tr>\n",
       "    <tr>\n",
       "      <th>state</th>\n",
       "      <td>0</td>\n",
       "      <td>0.000000</td>\n",
       "    </tr>\n",
       "    <tr>\n",
       "      <th>30k</th>\n",
       "      <td>746</td>\n",
       "      <td>2.372095</td>\n",
       "    </tr>\n",
       "    <tr>\n",
       "      <th>5k</th>\n",
       "      <td>303</td>\n",
       "      <td>0.963465</td>\n",
       "    </tr>\n",
       "    <tr>\n",
       "      <th>half</th>\n",
       "      <td>641</td>\n",
       "      <td>2.038221</td>\n",
       "    </tr>\n",
       "    <tr>\n",
       "      <th>20k</th>\n",
       "      <td>634</td>\n",
       "      <td>2.015962</td>\n",
       "    </tr>\n",
       "    <tr>\n",
       "      <th>country</th>\n",
       "      <td>0</td>\n",
       "      <td>0.000000</td>\n",
       "    </tr>\n",
       "    <tr>\n",
       "      <th>city</th>\n",
       "      <td>0</td>\n",
       "      <td>0.000000</td>\n",
       "    </tr>\n",
       "    <tr>\n",
       "      <th>40k</th>\n",
       "      <td>549</td>\n",
       "      <td>1.745683</td>\n",
       "    </tr>\n",
       "  </tbody>\n",
       "</table>\n",
       "</div>"
      ],
      "text/plain": [
       "           Total   Percent\n",
       "10k          386  1.227384\n",
       "division       0  0.000000\n",
       "25k          729  2.318039\n",
       "gender         0  0.000000\n",
       "age           35  0.111291\n",
       "official     513  1.631212\n",
       "genderdiv      0  0.000000\n",
       "35k          665  2.114535\n",
       "overall        0  0.000000\n",
       "pace         494  1.570797\n",
       "state          0  0.000000\n",
       "30k          746  2.372095\n",
       "5k           303  0.963465\n",
       "half         641  2.038221\n",
       "20k          634  2.015962\n",
       "country        0  0.000000\n",
       "city           0  0.000000\n",
       "40k          549  1.745683"
      ]
     },
     "execution_count": 35,
     "metadata": {},
     "output_type": "execute_result"
    }
   ],
   "source": [
    "q1 = dataset.quantile(0.25)\n",
    "q3 = dataset.quantile(0.75)\n",
    "iqr = q3 - q1\n",
    "dataset = dataset[~((dataset < (q1 - 1.5 * iqr)) |(dataset > (q3 + 1.5 * iqr)))]\n",
    "total = dataset.isnull().sum()\n",
    "percent = dataset.isnull().sum()/len(dataset)*100\n",
    "missing_dataset = pd.concat([total,percent], axis=1,keys=['Total', 'Percent'])\n",
    "missing_dataset"
   ]
  },
  {
   "cell_type": "code",
   "execution_count": 36,
   "metadata": {},
   "outputs": [],
   "source": [
    "# vi ti le cac gia tri missing value xuat hien sau khi xu ly outlier rat nho nen ta xoa cac dong missing value\n",
    "dataset = dataset.dropna()"
   ]
  },
  {
   "cell_type": "code",
   "execution_count": 37,
   "metadata": {},
   "outputs": [
    {
     "data": {
      "text/plain": [
       "0"
      ]
     },
     "execution_count": 37,
     "metadata": {},
     "output_type": "execute_result"
    }
   ],
   "source": [
    "dataset.isnull().sum().sum()"
   ]
  },
  {
   "cell_type": "code",
   "execution_count": 38,
   "metadata": {},
   "outputs": [
    {
     "name": "stdout",
     "output_type": "stream",
     "text": [
      "(30424, 18)\n"
     ]
    },
    {
     "data": {
      "text/plain": [
       "95.12256128064031"
      ]
     },
     "execution_count": 38,
     "metadata": {},
     "output_type": "execute_result"
    }
   ],
   "source": [
    "print(dataset.shape)\n",
    "# % du lieu con lai so voi du lieu ban dau\n",
    "dataset.shape[0]/data.shape[0]*100"
   ]
  },
  {
   "cell_type": "code",
   "execution_count": 39,
   "metadata": {},
   "outputs": [
    {
     "data": {
      "text/html": [
       "<div>\n",
       "<style scoped>\n",
       "    .dataframe tbody tr th:only-of-type {\n",
       "        vertical-align: middle;\n",
       "    }\n",
       "\n",
       "    .dataframe tbody tr th {\n",
       "        vertical-align: top;\n",
       "    }\n",
       "\n",
       "    .dataframe thead th {\n",
       "        text-align: right;\n",
       "    }\n",
       "</style>\n",
       "<table border=\"1\" class=\"dataframe\">\n",
       "  <thead>\n",
       "    <tr style=\"text-align: right;\">\n",
       "      <th></th>\n",
       "      <th>10k</th>\n",
       "      <th>25k</th>\n",
       "      <th>age</th>\n",
       "      <th>official</th>\n",
       "      <th>35k</th>\n",
       "      <th>pace</th>\n",
       "      <th>30k</th>\n",
       "      <th>5k</th>\n",
       "      <th>half</th>\n",
       "      <th>20k</th>\n",
       "      <th>40k</th>\n",
       "    </tr>\n",
       "  </thead>\n",
       "  <tbody>\n",
       "    <tr>\n",
       "      <th>count</th>\n",
       "      <td>30424.000000</td>\n",
       "      <td>30424.000000</td>\n",
       "      <td>30424.000000</td>\n",
       "      <td>30424.000000</td>\n",
       "      <td>30424.000000</td>\n",
       "      <td>30424.000000</td>\n",
       "      <td>30424.000000</td>\n",
       "      <td>30424.000000</td>\n",
       "      <td>30424.000000</td>\n",
       "      <td>30424.000000</td>\n",
       "      <td>30424.000000</td>\n",
       "    </tr>\n",
       "    <tr>\n",
       "      <th>mean</th>\n",
       "      <td>51.046054</td>\n",
       "      <td>131.609369</td>\n",
       "      <td>42.297923</td>\n",
       "      <td>238.148918</td>\n",
       "      <td>192.868566</td>\n",
       "      <td>9.091420</td>\n",
       "      <td>161.327737</td>\n",
       "      <td>25.415469</td>\n",
       "      <td>109.690817</td>\n",
       "      <td>103.893199</td>\n",
       "      <td>224.558834</td>\n",
       "    </tr>\n",
       "    <tr>\n",
       "      <th>std</th>\n",
       "      <td>7.869989</td>\n",
       "      <td>22.606950</td>\n",
       "      <td>11.186563</td>\n",
       "      <td>45.511190</td>\n",
       "      <td>36.174294</td>\n",
       "      <td>1.735893</td>\n",
       "      <td>29.065214</td>\n",
       "      <td>3.830616</td>\n",
       "      <td>18.035240</td>\n",
       "      <td>17.030435</td>\n",
       "      <td>42.936809</td>\n",
       "    </tr>\n",
       "    <tr>\n",
       "      <th>min</th>\n",
       "      <td>30.480000</td>\n",
       "      <td>76.000000</td>\n",
       "      <td>18.000000</td>\n",
       "      <td>128.620000</td>\n",
       "      <td>106.620000</td>\n",
       "      <td>4.920000</td>\n",
       "      <td>91.170000</td>\n",
       "      <td>15.150000</td>\n",
       "      <td>64.350000</td>\n",
       "      <td>61.080000</td>\n",
       "      <td>121.820000</td>\n",
       "    </tr>\n",
       "    <tr>\n",
       "      <th>10%</th>\n",
       "      <td>41.620000</td>\n",
       "      <td>104.930000</td>\n",
       "      <td>27.000000</td>\n",
       "      <td>184.120000</td>\n",
       "      <td>150.220000</td>\n",
       "      <td>7.030000</td>\n",
       "      <td>127.180000</td>\n",
       "      <td>20.820000</td>\n",
       "      <td>88.250000</td>\n",
       "      <td>83.650000</td>\n",
       "      <td>173.700000</td>\n",
       "    </tr>\n",
       "    <tr>\n",
       "      <th>25%</th>\n",
       "      <td>45.200000</td>\n",
       "      <td>115.020000</td>\n",
       "      <td>33.000000</td>\n",
       "      <td>204.627500</td>\n",
       "      <td>166.400000</td>\n",
       "      <td>7.820000</td>\n",
       "      <td>140.050000</td>\n",
       "      <td>22.550000</td>\n",
       "      <td>96.420000</td>\n",
       "      <td>91.345000</td>\n",
       "      <td>192.980000</td>\n",
       "    </tr>\n",
       "    <tr>\n",
       "      <th>50%</th>\n",
       "      <td>50.010000</td>\n",
       "      <td>128.020000</td>\n",
       "      <td>42.000000</td>\n",
       "      <td>230.350000</td>\n",
       "      <td>186.500000</td>\n",
       "      <td>8.800000</td>\n",
       "      <td>156.380000</td>\n",
       "      <td>24.920000</td>\n",
       "      <td>107.030000</td>\n",
       "      <td>101.390000</td>\n",
       "      <td>216.990000</td>\n",
       "    </tr>\n",
       "    <tr>\n",
       "      <th>75%</th>\n",
       "      <td>56.220000</td>\n",
       "      <td>145.422500</td>\n",
       "      <td>50.000000</td>\n",
       "      <td>267.600000</td>\n",
       "      <td>215.520000</td>\n",
       "      <td>10.220000</td>\n",
       "      <td>179.155000</td>\n",
       "      <td>28.020000</td>\n",
       "      <td>120.920000</td>\n",
       "      <td>114.520000</td>\n",
       "      <td>252.105000</td>\n",
       "    </tr>\n",
       "    <tr>\n",
       "      <th>95%</th>\n",
       "      <td>65.400000</td>\n",
       "      <td>174.917000</td>\n",
       "      <td>61.000000</td>\n",
       "      <td>326.317000</td>\n",
       "      <td>262.914000</td>\n",
       "      <td>12.450000</td>\n",
       "      <td>217.997000</td>\n",
       "      <td>32.230000</td>\n",
       "      <td>143.728500</td>\n",
       "      <td>135.950000</td>\n",
       "      <td>307.597000</td>\n",
       "    </tr>\n",
       "    <tr>\n",
       "      <th>99%</th>\n",
       "      <td>70.080000</td>\n",
       "      <td>188.927700</td>\n",
       "      <td>67.000000</td>\n",
       "      <td>349.950000</td>\n",
       "      <td>283.820000</td>\n",
       "      <td>13.350000</td>\n",
       "      <td>235.395400</td>\n",
       "      <td>34.530000</td>\n",
       "      <td>154.550000</td>\n",
       "      <td>146.295400</td>\n",
       "      <td>330.727700</td>\n",
       "    </tr>\n",
       "    <tr>\n",
       "      <th>max</th>\n",
       "      <td>74.370000</td>\n",
       "      <td>196.230000</td>\n",
       "      <td>75.000000</td>\n",
       "      <td>372.480000</td>\n",
       "      <td>298.120000</td>\n",
       "      <td>14.220000</td>\n",
       "      <td>244.630000</td>\n",
       "      <td>37.050000</td>\n",
       "      <td>161.600000</td>\n",
       "      <td>152.770000</td>\n",
       "      <td>351.080000</td>\n",
       "    </tr>\n",
       "  </tbody>\n",
       "</table>\n",
       "</div>"
      ],
      "text/plain": [
       "                10k           25k           age      official           35k  \\\n",
       "count  30424.000000  30424.000000  30424.000000  30424.000000  30424.000000   \n",
       "mean      51.046054    131.609369     42.297923    238.148918    192.868566   \n",
       "std        7.869989     22.606950     11.186563     45.511190     36.174294   \n",
       "min       30.480000     76.000000     18.000000    128.620000    106.620000   \n",
       "10%       41.620000    104.930000     27.000000    184.120000    150.220000   \n",
       "25%       45.200000    115.020000     33.000000    204.627500    166.400000   \n",
       "50%       50.010000    128.020000     42.000000    230.350000    186.500000   \n",
       "75%       56.220000    145.422500     50.000000    267.600000    215.520000   \n",
       "95%       65.400000    174.917000     61.000000    326.317000    262.914000   \n",
       "99%       70.080000    188.927700     67.000000    349.950000    283.820000   \n",
       "max       74.370000    196.230000     75.000000    372.480000    298.120000   \n",
       "\n",
       "               pace           30k            5k          half           20k  \\\n",
       "count  30424.000000  30424.000000  30424.000000  30424.000000  30424.000000   \n",
       "mean       9.091420    161.327737     25.415469    109.690817    103.893199   \n",
       "std        1.735893     29.065214      3.830616     18.035240     17.030435   \n",
       "min        4.920000     91.170000     15.150000     64.350000     61.080000   \n",
       "10%        7.030000    127.180000     20.820000     88.250000     83.650000   \n",
       "25%        7.820000    140.050000     22.550000     96.420000     91.345000   \n",
       "50%        8.800000    156.380000     24.920000    107.030000    101.390000   \n",
       "75%       10.220000    179.155000     28.020000    120.920000    114.520000   \n",
       "95%       12.450000    217.997000     32.230000    143.728500    135.950000   \n",
       "99%       13.350000    235.395400     34.530000    154.550000    146.295400   \n",
       "max       14.220000    244.630000     37.050000    161.600000    152.770000   \n",
       "\n",
       "                40k  \n",
       "count  30424.000000  \n",
       "mean     224.558834  \n",
       "std       42.936809  \n",
       "min      121.820000  \n",
       "10%      173.700000  \n",
       "25%      192.980000  \n",
       "50%      216.990000  \n",
       "75%      252.105000  \n",
       "95%      307.597000  \n",
       "99%      330.727700  \n",
       "max      351.080000  "
      ]
     },
     "execution_count": 39,
     "metadata": {},
     "output_type": "execute_result"
    }
   ],
   "source": [
    "dataset.describe(percentiles=[.1,.25,.50,.75,.95,.99])"
   ]
  },
  {
   "cell_type": "markdown",
   "metadata": {},
   "source": [
    "# 2. Cluster"
   ]
  },
  {
   "cell_type": "markdown",
   "metadata": {},
   "source": [
    "- K-means: clustering gender\n",
    "- K-modes: clustering age\n",
    "- K-prototypes: clustering finishing time"
   ]
  },
  {
   "cell_type": "markdown",
   "metadata": {},
   "source": [
    "## 2.1 K-means"
   ]
  },
  {
   "cell_type": "markdown",
   "metadata": {},
   "source": [
    "### Clustering gender"
   ]
  },
  {
   "cell_type": "code",
   "execution_count": 40,
   "metadata": {},
   "outputs": [],
   "source": [
    "Xnum = dataset[['age','pace']]"
   ]
  },
  {
   "cell_type": "code",
   "execution_count": 41,
   "metadata": {},
   "outputs": [],
   "source": [
    "X_means = MinMaxScaler().fit_transform(Xnum)"
   ]
  },
  {
   "cell_type": "markdown",
   "metadata": {},
   "source": [
    "### Su dung phuong phap elbow method de chon so cluster toi uu"
   ]
  },
  {
   "cell_type": "code",
   "execution_count": 42,
   "metadata": {},
   "outputs": [],
   "source": [
    "from sklearn.cluster import KMeans"
   ]
  },
  {
   "cell_type": "code",
   "execution_count": 43,
   "metadata": {},
   "outputs": [
    {
     "data": {
      "text/plain": [
       "Text(0, 0.5, 'Inertia')"
      ]
     },
     "execution_count": 43,
     "metadata": {},
     "output_type": "execute_result"
    },
    {
     "data": {
      "image/png": "[encoded data removed]",
      "text/plain": [
       "<Figure size 720x504 with 1 Axes>"
      ]
     },
     "metadata": {
      "needs_background": "light"
     },
     "output_type": "display_data"
    }
   ],
   "source": [
    "inertia = []\n",
    "for i in range(1,20):\n",
    "    kmeans = KMeans(n_clusters = i)\n",
    "    kmeans.fit(X_means)\n",
    "    inertia.append(kmeans.inertia_)\n",
    "plt.figure(figsize=(10,7))    \n",
    "plt.plot(range(1,20), inertia)\n",
    "plt.title('The elbow method')\n",
    "plt.xlabel('number of clusters')\n",
    "plt.ylabel('Inertia')"
   ]
  },
  {
   "cell_type": "code",
   "execution_count": 44,
   "metadata": {},
   "outputs": [],
   "source": [
    "# Chon cluster = 5\n",
    "cluster_means = 5"
   ]
  },
  {
   "cell_type": "markdown",
   "metadata": {},
   "source": [
    "Training the K-means model"
   ]
  },
  {
   "cell_type": "code",
   "execution_count": 45,
   "metadata": {},
   "outputs": [],
   "source": [
    "kmeans = KMeans(n_clusters = cluster_means, random_state = 42)\n",
    "y_means = kmeans.fit_predict(X_means)"
   ]
  },
  {
   "cell_type": "code",
   "execution_count": 46,
   "metadata": {},
   "outputs": [],
   "source": [
    "dataset['cluster_kmeans'] = y_means"
   ]
  },
  {
   "cell_type": "code",
   "execution_count": 47,
   "metadata": {},
   "outputs": [
    {
     "data": {
      "text/html": [
       "<div>\n",
       "<style scoped>\n",
       "    .dataframe tbody tr th:only-of-type {\n",
       "        vertical-align: middle;\n",
       "    }\n",
       "\n",
       "    .dataframe tbody tr th {\n",
       "        vertical-align: top;\n",
       "    }\n",
       "\n",
       "    .dataframe thead th {\n",
       "        text-align: right;\n",
       "    }\n",
       "</style>\n",
       "<table border=\"1\" class=\"dataframe\">\n",
       "  <thead>\n",
       "    <tr style=\"text-align: right;\">\n",
       "      <th></th>\n",
       "      <th>M</th>\n",
       "      <th>F</th>\n",
       "    </tr>\n",
       "  </thead>\n",
       "  <tbody>\n",
       "    <tr>\n",
       "      <th>cluster_0</th>\n",
       "      <td>2003</td>\n",
       "      <td>1693</td>\n",
       "    </tr>\n",
       "    <tr>\n",
       "      <th>cluster_1</th>\n",
       "      <td>5903</td>\n",
       "      <td>4101</td>\n",
       "    </tr>\n",
       "    <tr>\n",
       "      <th>cluster_2</th>\n",
       "      <td>3772</td>\n",
       "      <td>3374</td>\n",
       "    </tr>\n",
       "    <tr>\n",
       "      <th>cluster_3</th>\n",
       "      <td>3441</td>\n",
       "      <td>1581</td>\n",
       "    </tr>\n",
       "    <tr>\n",
       "      <th>cluster_4</th>\n",
       "      <td>3441</td>\n",
       "      <td>1581</td>\n",
       "    </tr>\n",
       "  </tbody>\n",
       "</table>\n",
       "</div>"
      ],
      "text/plain": [
       "              M     F\n",
       "cluster_0  2003  1693\n",
       "cluster_1  5903  4101\n",
       "cluster_2  3772  3374\n",
       "cluster_3  3441  1581\n",
       "cluster_4  3441  1581"
      ]
     },
     "execution_count": 47,
     "metadata": {},
     "output_type": "execute_result"
    }
   ],
   "source": [
    "gender = pd.DataFrame(columns=['M', 'F'])\n",
    "gender.loc['cluster_0'] = dataset[dataset['cluster_kmeans']==0].groupby('gender').count()['cluster_kmeans']\n",
    "gender.loc['cluster_1'] = dataset[dataset['cluster_kmeans']==1].groupby('gender').count()['cluster_kmeans']\n",
    "gender.loc['cluster_2'] = dataset[dataset['cluster_kmeans']==2].groupby('gender').count()['cluster_kmeans']\n",
    "gender.loc['cluster_3'] = dataset[dataset['cluster_kmeans']==3].groupby('gender').count()['cluster_kmeans']\n",
    "gender.loc['cluster_4'] = dataset[dataset['cluster_kmeans']==3].groupby('gender').count()['cluster_kmeans']\n",
    "gender"
   ]
  },
  {
   "cell_type": "code",
   "execution_count": 48,
   "metadata": {},
   "outputs": [
    {
     "data": {
      "text/plain": [
       "<matplotlib.axes._subplots.AxesSubplot at 0x1602409e128>"
      ]
     },
     "execution_count": 48,
     "metadata": {},
     "output_type": "execute_result"
    },
    {
     "data": {
      "image/png": "[encoded data removed]",
      "text/plain": [
       "<Figure size 720x360 with 2 Axes>"
      ]
     },
     "metadata": {
      "needs_background": "light"
     },
     "output_type": "display_data"
    }
   ],
   "source": [
    "plt.figure(figsize=(10, 5))\n",
    "plt.subplot(1, 2, 1)\n",
    "sns.countplot(dataset['cluster_kmeans'])\n",
    "plt.subplot(1, 2, 2)\n",
    "sns.countplot(x='cluster_kmeans',hue='gender', data = dataset)"
   ]
  },
  {
   "cell_type": "markdown",
   "metadata": {},
   "source": [
    "### Nhan xet:\n",
    "- tu cac bieu do cluster 1 co so luong runner nhieu nhat, cluster 0,3 co so luong runner it nhat\n",
    "- Nhom cluster 1,2 co nhieu female nhat, nhom cluster 1 co nhieu male nhat"
   ]
  },
  {
   "cell_type": "markdown",
   "metadata": {},
   "source": [
    "### Characteristic"
   ]
  },
  {
   "cell_type": "code",
   "execution_count": 49,
   "metadata": {},
   "outputs": [
    {
     "data": {
      "text/plain": [
       "Text(0.5, 1.0, 'age by cluster number')"
      ]
     },
     "execution_count": 49,
     "metadata": {},
     "output_type": "execute_result"
    },
    {
     "data": {
      "image/png": "[encoded data removed]",
      "text/plain": [
       "<Figure size 720x360 with 2 Axes>"
      ]
     },
     "metadata": {
      "needs_background": "light"
     },
     "output_type": "display_data"
    }
   ],
   "source": [
    "plt.figure(figsize=(10, 5))\n",
    "\n",
    "plt.subplot(1, 2, 1)\n",
    "sns.boxplot(x='cluster_kmeans', y='official', hue='gender', data=dataset)\n",
    "plt.title('{} times by cluster number'.format('official'))\n",
    "plt.subplot(1, 2, 2)\n",
    "sns.boxplot(x='cluster_kmeans', y='age', hue='gender', data=dataset)\n",
    "plt.title('{} by cluster number'.format('age'))"
   ]
  },
  {
   "cell_type": "markdown",
   "metadata": {},
   "source": [
    "- Do tuoi trung binh cua cac female nho hon male o tat ca cac cluster.\n",
    "- Nhom cluster 1,2 va 3: thoi gian trung binh hoan thanh cuoc dua cua female lon hon male (tuc female chay cham hon male)"
   ]
  },
  {
   "cell_type": "markdown",
   "metadata": {},
   "source": [
    "### Performance"
   ]
  },
  {
   "cell_type": "code",
   "execution_count": 50,
   "metadata": {},
   "outputs": [],
   "source": [
    "from sklearn.metrics import silhouette_score"
   ]
  },
  {
   "cell_type": "code",
   "execution_count": 51,
   "metadata": {},
   "outputs": [
    {
     "name": "stdout",
     "output_type": "stream",
     "text": [
      "For n_clusters = 5, silhouette score is 0.35272801482509064)\n"
     ]
    }
   ],
   "source": [
    "score = silhouette_score(X_means, y_means)\n",
    "print(\"For n_clusters = {}, silhouette score is {})\".format(cluster_means, score))"
   ]
  },
  {
   "cell_type": "markdown",
   "metadata": {},
   "source": [
    "# 2.2.K-modes"
   ]
  },
  {
   "cell_type": "code",
   "execution_count": 52,
   "metadata": {},
   "outputs": [],
   "source": [
    "from kmodes.kmodes import KModes"
   ]
  },
  {
   "cell_type": "markdown",
   "metadata": {},
   "source": [
    "### Clustering age"
   ]
  },
  {
   "cell_type": "code",
   "execution_count": 53,
   "metadata": {},
   "outputs": [],
   "source": [
    "# chia cac nhom tuoi\n",
    "def age_group(age):\n",
    "    if age >=18 and age <=25:\n",
    "        return '18-25'\n",
    "    elif age >25 and age <=40:\n",
    "        return '26-40'\n",
    "    elif age >40 and age <=70:\n",
    "        return '41-70'\n",
    "    else:\n",
    "        return '> 70'\n",
    "dataset['age'] = dataset['age'].astype(int)\n",
    "dataset['age_group'] = dataset['age'].apply(age_group)"
   ]
  },
  {
   "cell_type": "code",
   "execution_count": 54,
   "metadata": {},
   "outputs": [
    {
     "data": {
      "text/plain": [
       "41-70    16947\n",
       "26-40    11426\n",
       "18-25     1932\n",
       "> 70       119\n",
       "Name: age_group, dtype: int64"
      ]
     },
     "execution_count": 54,
     "metadata": {},
     "output_type": "execute_result"
    }
   ],
   "source": [
    "dataset['age_group'].value_counts()"
   ]
  },
  {
   "cell_type": "code",
   "execution_count": 55,
   "metadata": {},
   "outputs": [
    {
     "data": {
      "text/plain": [
       "Index(['gender', 'country', 'city'], dtype='object')"
      ]
     },
     "execution_count": 55,
     "metadata": {},
     "output_type": "execute_result"
    }
   ],
   "source": [
    "Xcat = dataset[['gender','country','city']]\n",
    "Xcat.columns"
   ]
  },
  {
   "cell_type": "code",
   "execution_count": 56,
   "metadata": {},
   "outputs": [
    {
     "data": {
      "text/plain": [
       "Text(0, 0.5, 'cost')"
      ]
     },
     "execution_count": 56,
     "metadata": {},
     "output_type": "execute_result"
    },
    {
     "data": {
      "image/png": "[encoded data removed]",
      "text/plain": [
       "<Figure size 720x504 with 1 Axes>"
      ]
     },
     "metadata": {
      "needs_background": "light"
     },
     "output_type": "display_data"
    }
   ],
   "source": [
    "cost = []\n",
    "for i in range(1,20):\n",
    "    kmodes = KModes(n_clusters = i, n_jobs = -1, n_init = 5)\n",
    "    kmodes.fit(Xcat)\n",
    "    cost.append(kmodes.cost_)\n",
    "plt.figure(figsize=(10,7))    \n",
    "plt.plot(range(1,20), cost)\n",
    "plt.title('The elbow method')\n",
    "plt.xlabel('number of clusters')\n",
    "plt.ylabel('cost')    "
   ]
  },
  {
   "cell_type": "code",
   "execution_count": 57,
   "metadata": {},
   "outputs": [],
   "source": [
    "# select cluster\n",
    "cluster_kmodes = 2"
   ]
  },
  {
   "cell_type": "code",
   "execution_count": 58,
   "metadata": {},
   "outputs": [],
   "source": [
    "kmodes = KModes(n_clusters = cluster_kmodes, n_jobs = -1, n_init = 5)\n",
    "y_modes = kmodes.fit_predict(Xcat)"
   ]
  },
  {
   "cell_type": "code",
   "execution_count": 59,
   "metadata": {},
   "outputs": [],
   "source": [
    "dataset['cluster_kmodes'] = y_modes"
   ]
  },
  {
   "cell_type": "code",
   "execution_count": 60,
   "metadata": {},
   "outputs": [
    {
     "data": {
      "text/plain": [
       "<matplotlib.axes._subplots.AxesSubplot at 0x1602785af60>"
      ]
     },
     "execution_count": 60,
     "metadata": {},
     "output_type": "execute_result"
    },
    {
     "data": {
      "image/png": "[encoded data removed]",
      "text/plain": [
       "<Figure size 720x360 with 2 Axes>"
      ]
     },
     "metadata": {
      "needs_background": "light"
     },
     "output_type": "display_data"
    }
   ],
   "source": [
    "plt.figure(figsize=(10, 5))\n",
    "plt.subplot(1, 2, 1)\n",
    "sns.countplot(dataset['cluster_kmodes'])\n",
    "plt.subplot(1, 2, 2)\n",
    "sns.countplot(x='cluster_kmodes',hue='age_group', data = dataset)"
   ]
  },
  {
   "cell_type": "code",
   "execution_count": 61,
   "metadata": {},
   "outputs": [
    {
     "data": {
      "text/html": [
       "<div>\n",
       "<style scoped>\n",
       "    .dataframe tbody tr th:only-of-type {\n",
       "        vertical-align: middle;\n",
       "    }\n",
       "\n",
       "    .dataframe tbody tr th {\n",
       "        vertical-align: top;\n",
       "    }\n",
       "\n",
       "    .dataframe thead th {\n",
       "        text-align: right;\n",
       "    }\n",
       "</style>\n",
       "<table border=\"1\" class=\"dataframe\">\n",
       "  <thead>\n",
       "    <tr style=\"text-align: right;\">\n",
       "      <th></th>\n",
       "      <th>18-25</th>\n",
       "      <th>26-40</th>\n",
       "      <th>41-70</th>\n",
       "      <th>&gt; 70</th>\n",
       "    </tr>\n",
       "  </thead>\n",
       "  <tbody>\n",
       "    <tr>\n",
       "      <th>cluster_0</th>\n",
       "      <td>869</td>\n",
       "      <td>5848</td>\n",
       "      <td>10584</td>\n",
       "      <td>112</td>\n",
       "    </tr>\n",
       "    <tr>\n",
       "      <th>cluster_1</th>\n",
       "      <td>1063</td>\n",
       "      <td>5578</td>\n",
       "      <td>6363</td>\n",
       "      <td>7</td>\n",
       "    </tr>\n",
       "  </tbody>\n",
       "</table>\n",
       "</div>"
      ],
      "text/plain": [
       "          18-25 26-40  41-70 > 70\n",
       "cluster_0   869  5848  10584  112\n",
       "cluster_1  1063  5578   6363    7"
      ]
     },
     "execution_count": 61,
     "metadata": {},
     "output_type": "execute_result"
    }
   ],
   "source": [
    "age_group = pd.DataFrame(columns=['18-25', '26-40','41-70','> 70'])\n",
    "age_group.loc['cluster_0'] = dataset[dataset['cluster_kmodes']==0].groupby('age_group').count()['cluster_kmodes']\n",
    "age_group.loc['cluster_1'] = dataset[dataset['cluster_kmodes']==1].groupby('age_group').count()['cluster_kmodes']\n",
    "# age_group.loc['cluster_3'] = dataset[dataset['cluster_kmodes']==2].groupby('age_group').count()['cluster_kmodes']\n",
    "age_group"
   ]
  },
  {
   "cell_type": "markdown",
   "metadata": {},
   "source": [
    "### Nhan xet\n",
    "- Tu bieu do tren ta thay cluster 0 co so luong nhieu nhat\n",
    "- Cluster 1 co nhieu nguoi tre tuoi nhat, cluster 0 co nhieu nguoi lon tuoi nhat"
   ]
  },
  {
   "cell_type": "markdown",
   "metadata": {},
   "source": [
    "### Characteristic"
   ]
  },
  {
   "cell_type": "code",
   "execution_count": 62,
   "metadata": {},
   "outputs": [
    {
     "data": {
      "image/png": "[encoded data removed]",
      "text/plain": [
       "<Figure size 864x504 with 1 Axes>"
      ]
     },
     "metadata": {
      "needs_background": "light"
     },
     "output_type": "display_data"
    }
   ],
   "source": [
    "plt.figure(figsize=(12, 7))\n",
    "sns.boxplot(x='cluster_kmodes', y='overall', hue='age_group', data=dataset)\n",
    "plt.title('{} times by cluster number'.format('overall'))\n",
    "\n",
    "plt.show()"
   ]
  },
  {
   "cell_type": "markdown",
   "metadata": {},
   "source": [
    "- Nhom cluster 0 co trung binh xep hang cao nhat\n",
    "- Nguoi o do tuoi 26-40 co trung binh xep hang cao nhat o tat ca cac cluster\n",
    "- So luong nguoi o do tuoi > 70 thi trung binh xep hang la thap nhat o tat cac nhom cluster "
   ]
  },
  {
   "cell_type": "markdown",
   "metadata": {},
   "source": [
    "### Performance"
   ]
  },
  {
   "cell_type": "code",
   "execution_count": 63,
   "metadata": {},
   "outputs": [],
   "source": [
    "le = preprocessing.LabelEncoder()\n",
    "Xcat = Xcat.apply(le.fit_transform)"
   ]
  },
  {
   "cell_type": "code",
   "execution_count": 64,
   "metadata": {},
   "outputs": [
    {
     "name": "stdout",
     "output_type": "stream",
     "text": [
      "For n_clusters = 2, silhouette score is 0.4196874841521435)\n"
     ]
    }
   ],
   "source": [
    "score = silhouette_score(Xcat, y_modes, metric='hamming')\n",
    "print(\"For n_clusters = {}, silhouette score is {})\".format(cluster_kmodes, score))"
   ]
  },
  {
   "cell_type": "markdown",
   "metadata": {},
   "source": [
    "# 2.3. K-prototype"
   ]
  },
  {
   "cell_type": "code",
   "execution_count": 65,
   "metadata": {},
   "outputs": [],
   "source": [
    "from kmodes.kprototypes import KPrototypes"
   ]
  },
  {
   "cell_type": "markdown",
   "metadata": {},
   "source": [
    "## 2.3.1 Clustering finishing time"
   ]
  },
  {
   "cell_type": "code",
   "execution_count": 66,
   "metadata": {},
   "outputs": [
    {
     "data": {
      "text/plain": [
       "Index(['gender', 'country', 'state', 'city', 'age'], dtype='object')"
      ]
     },
     "execution_count": 66,
     "metadata": {},
     "output_type": "execute_result"
    }
   ],
   "source": [
    "# chon cac feature de clustering\n",
    "X_cat = dataset[['gender','country','state','city']]\n",
    "X_num = dataset[['age']]\n",
    "X_kp = dataset[X_cat.columns.tolist() + X_num.columns.tolist()]\n",
    "X_kp.columns"
   ]
  },
  {
   "cell_type": "code",
   "execution_count": 67,
   "metadata": {},
   "outputs": [
    {
     "data": {
      "text/plain": [
       "[0, 1, 2, 3]"
      ]
     },
     "execution_count": 67,
     "metadata": {},
     "output_type": "execute_result"
    }
   ],
   "source": [
    "dnumcolums = []\n",
    "for col in X_kp.columns:\n",
    "    if col in X_cat.columns:\n",
    "        dnumcolums.append(X_kp.columns.tolist().index(col))\n",
    "dnumcolums"
   ]
  },
  {
   "cell_type": "code",
   "execution_count": 68,
   "metadata": {},
   "outputs": [
    {
     "data": {
      "text/plain": [
       "Text(0, 0.5, 'cost')"
      ]
     },
     "execution_count": 68,
     "metadata": {},
     "output_type": "execute_result"
    },
    {
     "data": {
      "image/png": "[encoded data removed]",
      "text/plain": [
       "<Figure size 720x504 with 1 Axes>"
      ]
     },
     "metadata": {
      "needs_background": "light"
     },
     "output_type": "display_data"
    }
   ],
   "source": [
    "cost = []\n",
    "for i in range(1,20):\n",
    "    kproto = KPrototypes(n_clusters=i, init='Huang', n_jobs=-1, n_init=5) \n",
    "    kproto.fit(X_kp,categorical=dnumcolums)\n",
    "    cost.append(kproto.cost_)\n",
    "plt.figure(figsize=(10,7))\n",
    "plt.plot(range(1,20), cost)\n",
    "plt.title('The elbow method')\n",
    "plt.xlabel('number of clusters')\n",
    "plt.ylabel('cost')"
   ]
  },
  {
   "cell_type": "code",
   "execution_count": 69,
   "metadata": {},
   "outputs": [],
   "source": [
    "# chon so luong cluster\n",
    "cluster_kp = 5"
   ]
  },
  {
   "cell_type": "code",
   "execution_count": 70,
   "metadata": {},
   "outputs": [],
   "source": [
    "kproto = KPrototypes(n_clusters=cluster_kp, init='Huang', n_jobs=-1, n_init=5, random_state = 42)\n",
    "y_kp = kproto.fit_predict(X_kp,categorical=dnumcolums)"
   ]
  },
  {
   "cell_type": "code",
   "execution_count": 71,
   "metadata": {},
   "outputs": [],
   "source": [
    "dataset['cluster_kp'] = y_kp"
   ]
  },
  {
   "cell_type": "code",
   "execution_count": 72,
   "metadata": {},
   "outputs": [],
   "source": [
    "# group time finishing time thanh 3 nhom:\n",
    "# nhom 1: < 200, nhom 2: 200-400, nhom 3: >400 \n",
    "def finishing_time_group(time):\n",
    "    if time < 200.0:\n",
    "        return '<200'\n",
    "    elif time >= 200.0 and time < 300.0:\n",
    "        return '200-300'\n",
    "    else:\n",
    "        return '>300'\n",
    "dataset['finish_time'] = dataset['official'].apply(finishing_time_group)"
   ]
  },
  {
   "cell_type": "code",
   "execution_count": 73,
   "metadata": {},
   "outputs": [
    {
     "data": {
      "text/plain": [
       "200-300    20512\n",
       "<200        6405\n",
       ">300        3507\n",
       "Name: finish_time, dtype: int64"
      ]
     },
     "execution_count": 73,
     "metadata": {},
     "output_type": "execute_result"
    }
   ],
   "source": [
    "dataset['finish_time'].value_counts()"
   ]
  },
  {
   "cell_type": "code",
   "execution_count": 74,
   "metadata": {},
   "outputs": [
    {
     "data": {
      "text/plain": [
       "<matplotlib.axes._subplots.AxesSubplot at 0x16027fab6d8>"
      ]
     },
     "execution_count": 74,
     "metadata": {},
     "output_type": "execute_result"
    },
    {
     "data": {
      "image/png": "[encoded data removed]",
      "text/plain": [
       "<Figure size 720x360 with 2 Axes>"
      ]
     },
     "metadata": {
      "needs_background": "light"
     },
     "output_type": "display_data"
    }
   ],
   "source": [
    "plt.figure(figsize=(10, 5))\n",
    "plt.subplot(1, 2, 1)\n",
    "sns.countplot(dataset['cluster_kp'])\n",
    "plt.subplot(1, 2, 2)\n",
    "sns.countplot(x='cluster_kp',hue='finish_time', data = dataset)"
   ]
  },
  {
   "cell_type": "code",
   "execution_count": 75,
   "metadata": {},
   "outputs": [
    {
     "data": {
      "text/html": [
       "<div>\n",
       "<style scoped>\n",
       "    .dataframe tbody tr th:only-of-type {\n",
       "        vertical-align: middle;\n",
       "    }\n",
       "\n",
       "    .dataframe tbody tr th {\n",
       "        vertical-align: top;\n",
       "    }\n",
       "\n",
       "    .dataframe thead th {\n",
       "        text-align: right;\n",
       "    }\n",
       "</style>\n",
       "<table border=\"1\" class=\"dataframe\">\n",
       "  <thead>\n",
       "    <tr style=\"text-align: right;\">\n",
       "      <th></th>\n",
       "      <th>&lt;200</th>\n",
       "      <th>200-300</th>\n",
       "      <th>&gt;300</th>\n",
       "    </tr>\n",
       "  </thead>\n",
       "  <tbody>\n",
       "    <tr>\n",
       "      <th>cluster_0</th>\n",
       "      <td>74</td>\n",
       "      <td>2199</td>\n",
       "      <td>520</td>\n",
       "    </tr>\n",
       "    <tr>\n",
       "      <th>cluster_1</th>\n",
       "      <td>1646</td>\n",
       "      <td>3436</td>\n",
       "      <td>756</td>\n",
       "    </tr>\n",
       "    <tr>\n",
       "      <th>cluster_2</th>\n",
       "      <td>720</td>\n",
       "      <td>4986</td>\n",
       "      <td>685</td>\n",
       "    </tr>\n",
       "    <tr>\n",
       "      <th>cluster_3</th>\n",
       "      <td>1944</td>\n",
       "      <td>6161</td>\n",
       "      <td>808</td>\n",
       "    </tr>\n",
       "    <tr>\n",
       "      <th>cluster_4</th>\n",
       "      <td>2021</td>\n",
       "      <td>3730</td>\n",
       "      <td>738</td>\n",
       "    </tr>\n",
       "  </tbody>\n",
       "</table>\n",
       "</div>"
      ],
      "text/plain": [
       "           <200 200-300 >300\n",
       "cluster_0    74    2199  520\n",
       "cluster_1  1646    3436  756\n",
       "cluster_2   720    4986  685\n",
       "cluster_3  1944    6161  808\n",
       "cluster_4  2021    3730  738"
      ]
     },
     "execution_count": 75,
     "metadata": {},
     "output_type": "execute_result"
    }
   ],
   "source": [
    "finish_time = pd.DataFrame(columns=['<200', '200-300','>300'])\n",
    "finish_time.loc['cluster_0'] = dataset[dataset['cluster_kp']==0].groupby('finish_time').count()['cluster_kp']\n",
    "finish_time.loc['cluster_1'] = dataset[dataset['cluster_kp']==1].groupby('finish_time').count()['cluster_kp']\n",
    "finish_time.loc['cluster_2'] = dataset[dataset['cluster_kp']==2].groupby('finish_time').count()['cluster_kp']\n",
    "finish_time.loc['cluster_3'] = dataset[dataset['cluster_kp']==3].groupby('finish_time').count()['cluster_kp']\n",
    "finish_time.loc['cluster_4'] = dataset[dataset['cluster_kp']==4].groupby('finish_time').count()['cluster_kp']\n",
    "finish_time"
   ]
  },
  {
   "cell_type": "markdown",
   "metadata": {},
   "source": [
    "### Nhan xet\n",
    "- Cluster 3 co so luong nhieu nhat, cluster 0 co so luong it nhat\n",
    "- Cluster 3,4 co nhieu nguoi chay nhanh nhat"
   ]
  },
  {
   "cell_type": "markdown",
   "metadata": {},
   "source": [
    "## 2.3.2 Performance"
   ]
  },
  {
   "cell_type": "code",
   "execution_count": 76,
   "metadata": {},
   "outputs": [],
   "source": [
    "le = preprocessing.LabelEncoder()\n",
    "X_cat = X_cat.apply(le.fit_transform)"
   ]
  },
  {
   "cell_type": "code",
   "execution_count": 77,
   "metadata": {},
   "outputs": [
    {
     "name": "stdout",
     "output_type": "stream",
     "text": [
      "For n_clusters = 5, silhouette score is -0.04945310156234084)\n"
     ]
    }
   ],
   "source": [
    "# caculating silhouette_score for K_modes\n",
    "silscore_kp_modes = silhouette_score(X_cat, y_kp, metric='hamming')\n",
    "print(\"For n_clusters = {}, silhouette score is {})\".format(cluster_kp, silscore_kp_modes))"
   ]
  },
  {
   "cell_type": "code",
   "execution_count": 78,
   "metadata": {},
   "outputs": [
    {
     "name": "stdout",
     "output_type": "stream",
     "text": [
      "For n_clusters = 5, silhouette score is 0.5368327713223086)\n"
     ]
    }
   ],
   "source": [
    "# caculating silhouette_score for K_means\n",
    "silscore_kp_means = silhouette_score(X_num, y_kp, metric='euclidean')\n",
    "print(\"For n_clusters = {}, silhouette score is {})\".format(cluster_kp, silscore_kp_means))"
   ]
  },
  {
   "cell_type": "code",
   "execution_count": 130,
   "metadata": {},
   "outputs": [],
   "source": [
    "# silscore_kproto = silscore_kp_modes*kproto.gamma + silscore_kp_means*(1-kproto.gamma)\n",
    "# silscore_kproto"
   ]
  },
  {
   "cell_type": "code",
   "execution_count": 80,
   "metadata": {},
   "outputs": [
    {
     "name": "stdout",
     "output_type": "stream",
     "text": [
      "For n_clusters = 5, silhouette score of K-prototype is 0.24368983487998386)\n"
     ]
    }
   ],
   "source": [
    "silscore_kproto = (silscore_kp_modes + silscore_kp_means)/2\n",
    "print(\"For n_clusters = {}, silhouette score of K-prototype is {})\".format(cluster_kp, silscore_kproto))"
   ]
  },
  {
   "cell_type": "markdown",
   "metadata": {},
   "source": [
    "## 2.3.3 Persona"
   ]
  },
  {
   "cell_type": "code",
   "execution_count": 81,
   "metadata": {},
   "outputs": [],
   "source": [
    "# 'gender', 'country', 'state', 'city', 'age'"
   ]
  },
  {
   "cell_type": "code",
   "execution_count": 82,
   "metadata": {},
   "outputs": [],
   "source": [
    "persona = pd.DataFrame(index=['cluster_0','cluster_1','cluster_2','cluster_3','cluster_4'])"
   ]
  },
  {
   "cell_type": "markdown",
   "metadata": {},
   "source": [
    "### state"
   ]
  },
  {
   "cell_type": "code",
   "execution_count": 83,
   "metadata": {},
   "outputs": [
    {
     "data": {
      "text/html": [
       "<div>\n",
       "<style scoped>\n",
       "    .dataframe tbody tr th:only-of-type {\n",
       "        vertical-align: middle;\n",
       "    }\n",
       "\n",
       "    .dataframe tbody tr th {\n",
       "        vertical-align: top;\n",
       "    }\n",
       "\n",
       "    .dataframe thead th {\n",
       "        text-align: right;\n",
       "    }\n",
       "</style>\n",
       "<table border=\"1\" class=\"dataframe\">\n",
       "  <thead>\n",
       "    <tr style=\"text-align: right;\">\n",
       "      <th></th>\n",
       "      <th>MA</th>\n",
       "      <th>unknown</th>\n",
       "      <th>CA</th>\n",
       "      <th>NY</th>\n",
       "      <th>ON</th>\n",
       "      <th>PA</th>\n",
       "      <th>TX</th>\n",
       "      <th>IL</th>\n",
       "      <th>OH</th>\n",
       "      <th>FL</th>\n",
       "      <th>...</th>\n",
       "      <th>PE</th>\n",
       "      <th>WY</th>\n",
       "      <th>PR</th>\n",
       "      <th>NL</th>\n",
       "      <th>AE</th>\n",
       "      <th>YT</th>\n",
       "      <th>NT</th>\n",
       "      <th>GU</th>\n",
       "      <th>AP</th>\n",
       "      <th>AA</th>\n",
       "    </tr>\n",
       "  </thead>\n",
       "  <tbody>\n",
       "    <tr>\n",
       "      <th>cluster_0</th>\n",
       "      <td>292.0</td>\n",
       "      <td>308.0</td>\n",
       "      <td>250.0</td>\n",
       "      <td>131.0</td>\n",
       "      <td>152.0</td>\n",
       "      <td>89.0</td>\n",
       "      <td>90.0</td>\n",
       "      <td>71.0</td>\n",
       "      <td>80.0</td>\n",
       "      <td>98.0</td>\n",
       "      <td>...</td>\n",
       "      <td>3.0</td>\n",
       "      <td>5.0</td>\n",
       "      <td>5.0</td>\n",
       "      <td>4.0</td>\n",
       "      <td>NaN</td>\n",
       "      <td>NaN</td>\n",
       "      <td>NaN</td>\n",
       "      <td>1.0</td>\n",
       "      <td>NaN</td>\n",
       "      <td>NaN</td>\n",
       "    </tr>\n",
       "    <tr>\n",
       "      <th>cluster_1</th>\n",
       "      <td>2187.0</td>\n",
       "      <td>148.0</td>\n",
       "      <td>373.0</td>\n",
       "      <td>383.0</td>\n",
       "      <td>96.0</td>\n",
       "      <td>194.0</td>\n",
       "      <td>134.0</td>\n",
       "      <td>184.0</td>\n",
       "      <td>131.0</td>\n",
       "      <td>77.0</td>\n",
       "      <td>...</td>\n",
       "      <td>2.0</td>\n",
       "      <td>1.0</td>\n",
       "      <td>NaN</td>\n",
       "      <td>NaN</td>\n",
       "      <td>1.0</td>\n",
       "      <td>1.0</td>\n",
       "      <td>NaN</td>\n",
       "      <td>NaN</td>\n",
       "      <td>NaN</td>\n",
       "      <td>NaN</td>\n",
       "    </tr>\n",
       "    <tr>\n",
       "      <th>cluster_2</th>\n",
       "      <td>985.0</td>\n",
       "      <td>640.0</td>\n",
       "      <td>496.0</td>\n",
       "      <td>293.0</td>\n",
       "      <td>315.0</td>\n",
       "      <td>215.0</td>\n",
       "      <td>205.0</td>\n",
       "      <td>187.0</td>\n",
       "      <td>147.0</td>\n",
       "      <td>190.0</td>\n",
       "      <td>...</td>\n",
       "      <td>10.0</td>\n",
       "      <td>8.0</td>\n",
       "      <td>2.0</td>\n",
       "      <td>4.0</td>\n",
       "      <td>2.0</td>\n",
       "      <td>2.0</td>\n",
       "      <td>NaN</td>\n",
       "      <td>NaN</td>\n",
       "      <td>NaN</td>\n",
       "      <td>NaN</td>\n",
       "    </tr>\n",
       "    <tr>\n",
       "      <th>cluster_3</th>\n",
       "      <td>1716.0</td>\n",
       "      <td>872.0</td>\n",
       "      <td>664.0</td>\n",
       "      <td>353.0</td>\n",
       "      <td>312.0</td>\n",
       "      <td>292.0</td>\n",
       "      <td>328.0</td>\n",
       "      <td>247.0</td>\n",
       "      <td>240.0</td>\n",
       "      <td>220.0</td>\n",
       "      <td>...</td>\n",
       "      <td>6.0</td>\n",
       "      <td>5.0</td>\n",
       "      <td>6.0</td>\n",
       "      <td>8.0</td>\n",
       "      <td>2.0</td>\n",
       "      <td>2.0</td>\n",
       "      <td>NaN</td>\n",
       "      <td>NaN</td>\n",
       "      <td>1.0</td>\n",
       "      <td>1.0</td>\n",
       "    </tr>\n",
       "    <tr>\n",
       "      <th>cluster_4</th>\n",
       "      <td>1710.0</td>\n",
       "      <td>460.0</td>\n",
       "      <td>452.0</td>\n",
       "      <td>357.0</td>\n",
       "      <td>157.0</td>\n",
       "      <td>202.0</td>\n",
       "      <td>213.0</td>\n",
       "      <td>185.0</td>\n",
       "      <td>148.0</td>\n",
       "      <td>139.0</td>\n",
       "      <td>...</td>\n",
       "      <td>2.0</td>\n",
       "      <td>3.0</td>\n",
       "      <td>3.0</td>\n",
       "      <td>NaN</td>\n",
       "      <td>2.0</td>\n",
       "      <td>NaN</td>\n",
       "      <td>3.0</td>\n",
       "      <td>NaN</td>\n",
       "      <td>NaN</td>\n",
       "      <td>NaN</td>\n",
       "    </tr>\n",
       "  </tbody>\n",
       "</table>\n",
       "<p>5 rows × 69 columns</p>\n",
       "</div>"
      ],
      "text/plain": [
       "               MA  unknown     CA     NY     ON     PA     TX     IL     OH  \\\n",
       "cluster_0   292.0    308.0  250.0  131.0  152.0   89.0   90.0   71.0   80.0   \n",
       "cluster_1  2187.0    148.0  373.0  383.0   96.0  194.0  134.0  184.0  131.0   \n",
       "cluster_2   985.0    640.0  496.0  293.0  315.0  215.0  205.0  187.0  147.0   \n",
       "cluster_3  1716.0    872.0  664.0  353.0  312.0  292.0  328.0  247.0  240.0   \n",
       "cluster_4  1710.0    460.0  452.0  357.0  157.0  202.0  213.0  185.0  148.0   \n",
       "\n",
       "              FL  ...    PE   WY   PR   NL   AE   YT   NT   GU   AP   AA  \n",
       "cluster_0   98.0  ...   3.0  5.0  5.0  4.0  NaN  NaN  NaN  1.0  NaN  NaN  \n",
       "cluster_1   77.0  ...   2.0  1.0  NaN  NaN  1.0  1.0  NaN  NaN  NaN  NaN  \n",
       "cluster_2  190.0  ...  10.0  8.0  2.0  4.0  2.0  2.0  NaN  NaN  NaN  NaN  \n",
       "cluster_3  220.0  ...   6.0  5.0  6.0  8.0  2.0  2.0  NaN  NaN  1.0  1.0  \n",
       "cluster_4  139.0  ...   2.0  3.0  3.0  NaN  2.0  NaN  3.0  NaN  NaN  NaN  \n",
       "\n",
       "[5 rows x 69 columns]"
      ]
     },
     "execution_count": 83,
     "metadata": {},
     "output_type": "execute_result"
    }
   ],
   "source": [
    "#state \n",
    "state = pd.DataFrame(columns=dataset['state'].value_counts().index.tolist())\n",
    "state.loc['cluster_0'] = dataset[dataset['cluster_kp']==0].groupby('state').count()['cluster_kp']\n",
    "state.loc['cluster_1'] = dataset[dataset['cluster_kp']==1].groupby('state').count()['cluster_kp']\n",
    "state.loc['cluster_2'] = dataset[dataset['cluster_kp']==2].groupby('state').count()['cluster_kp']\n",
    "state.loc['cluster_3'] = dataset[dataset['cluster_kp']==3].groupby('state').count()['cluster_kp']\n",
    "state.loc['cluster_4'] = dataset[dataset['cluster_kp']==4].groupby('state').count()['cluster_kp']\n",
    "state"
   ]
  },
  {
   "cell_type": "code",
   "execution_count": 84,
   "metadata": {},
   "outputs": [],
   "source": [
    "persona['state'] = state.idxmax(axis = 1).values"
   ]
  },
  {
   "cell_type": "markdown",
   "metadata": {},
   "source": [
    "### country"
   ]
  },
  {
   "cell_type": "code",
   "execution_count": 85,
   "metadata": {
    "scrolled": true
   },
   "outputs": [
    {
     "data": {
      "text/html": [
       "<div>\n",
       "<style scoped>\n",
       "    .dataframe tbody tr th:only-of-type {\n",
       "        vertical-align: middle;\n",
       "    }\n",
       "\n",
       "    .dataframe tbody tr th {\n",
       "        vertical-align: top;\n",
       "    }\n",
       "\n",
       "    .dataframe thead th {\n",
       "        text-align: right;\n",
       "    }\n",
       "</style>\n",
       "<table border=\"1\" class=\"dataframe\">\n",
       "  <thead>\n",
       "    <tr style=\"text-align: right;\">\n",
       "      <th></th>\n",
       "      <th>USA</th>\n",
       "      <th>CAN</th>\n",
       "      <th>GBR</th>\n",
       "      <th>MEX</th>\n",
       "      <th>ITA</th>\n",
       "      <th>GER</th>\n",
       "      <th>JPN</th>\n",
       "      <th>AUS</th>\n",
       "      <th>IRL</th>\n",
       "      <th>FRA</th>\n",
       "      <th>...</th>\n",
       "      <th>MAR</th>\n",
       "      <th>CRO</th>\n",
       "      <th>ZIM</th>\n",
       "      <th>EST</th>\n",
       "      <th>BAR</th>\n",
       "      <th>LIE</th>\n",
       "      <th>BLR</th>\n",
       "      <th>TAN</th>\n",
       "      <th>CAY</th>\n",
       "      <th>URU</th>\n",
       "    </tr>\n",
       "  </thead>\n",
       "  <tbody>\n",
       "    <tr>\n",
       "      <th>cluster_0</th>\n",
       "      <td>2183.0</td>\n",
       "      <td>302.0</td>\n",
       "      <td>31.0</td>\n",
       "      <td>16.0</td>\n",
       "      <td>38.0</td>\n",
       "      <td>36.0</td>\n",
       "      <td>56.0</td>\n",
       "      <td>6.0</td>\n",
       "      <td>4.0</td>\n",
       "      <td>10.0</td>\n",
       "      <td>...</td>\n",
       "      <td>NaN</td>\n",
       "      <td>NaN</td>\n",
       "      <td>NaN</td>\n",
       "      <td>NaN</td>\n",
       "      <td>NaN</td>\n",
       "      <td>NaN</td>\n",
       "      <td>NaN</td>\n",
       "      <td>NaN</td>\n",
       "      <td>NaN</td>\n",
       "      <td>NaN</td>\n",
       "    </tr>\n",
       "    <tr>\n",
       "      <th>cluster_1</th>\n",
       "      <td>5527.0</td>\n",
       "      <td>163.0</td>\n",
       "      <td>28.0</td>\n",
       "      <td>10.0</td>\n",
       "      <td>4.0</td>\n",
       "      <td>5.0</td>\n",
       "      <td>7.0</td>\n",
       "      <td>10.0</td>\n",
       "      <td>18.0</td>\n",
       "      <td>3.0</td>\n",
       "      <td>...</td>\n",
       "      <td>NaN</td>\n",
       "      <td>NaN</td>\n",
       "      <td>NaN</td>\n",
       "      <td>1.0</td>\n",
       "      <td>NaN</td>\n",
       "      <td>NaN</td>\n",
       "      <td>1.0</td>\n",
       "      <td>NaN</td>\n",
       "      <td>NaN</td>\n",
       "      <td>NaN</td>\n",
       "    </tr>\n",
       "    <tr>\n",
       "      <th>cluster_2</th>\n",
       "      <td>5142.0</td>\n",
       "      <td>609.0</td>\n",
       "      <td>70.0</td>\n",
       "      <td>39.0</td>\n",
       "      <td>50.0</td>\n",
       "      <td>78.0</td>\n",
       "      <td>34.0</td>\n",
       "      <td>43.0</td>\n",
       "      <td>18.0</td>\n",
       "      <td>36.0</td>\n",
       "      <td>...</td>\n",
       "      <td>NaN</td>\n",
       "      <td>NaN</td>\n",
       "      <td>NaN</td>\n",
       "      <td>NaN</td>\n",
       "      <td>NaN</td>\n",
       "      <td>1.0</td>\n",
       "      <td>NaN</td>\n",
       "      <td>NaN</td>\n",
       "      <td>NaN</td>\n",
       "      <td>1.0</td>\n",
       "    </tr>\n",
       "    <tr>\n",
       "      <th>cluster_3</th>\n",
       "      <td>7403.0</td>\n",
       "      <td>638.0</td>\n",
       "      <td>124.0</td>\n",
       "      <td>75.0</td>\n",
       "      <td>83.0</td>\n",
       "      <td>38.0</td>\n",
       "      <td>30.0</td>\n",
       "      <td>33.0</td>\n",
       "      <td>45.0</td>\n",
       "      <td>38.0</td>\n",
       "      <td>...</td>\n",
       "      <td>NaN</td>\n",
       "      <td>NaN</td>\n",
       "      <td>1.0</td>\n",
       "      <td>NaN</td>\n",
       "      <td>1.0</td>\n",
       "      <td>NaN</td>\n",
       "      <td>NaN</td>\n",
       "      <td>1.0</td>\n",
       "      <td>NaN</td>\n",
       "      <td>NaN</td>\n",
       "    </tr>\n",
       "    <tr>\n",
       "      <th>cluster_4</th>\n",
       "      <td>5721.0</td>\n",
       "      <td>308.0</td>\n",
       "      <td>85.0</td>\n",
       "      <td>61.0</td>\n",
       "      <td>17.0</td>\n",
       "      <td>14.0</td>\n",
       "      <td>11.0</td>\n",
       "      <td>30.0</td>\n",
       "      <td>31.0</td>\n",
       "      <td>14.0</td>\n",
       "      <td>...</td>\n",
       "      <td>1.0</td>\n",
       "      <td>1.0</td>\n",
       "      <td>NaN</td>\n",
       "      <td>NaN</td>\n",
       "      <td>NaN</td>\n",
       "      <td>NaN</td>\n",
       "      <td>NaN</td>\n",
       "      <td>NaN</td>\n",
       "      <td>1.0</td>\n",
       "      <td>NaN</td>\n",
       "    </tr>\n",
       "  </tbody>\n",
       "</table>\n",
       "<p>5 rows × 77 columns</p>\n",
       "</div>"
      ],
      "text/plain": [
       "              USA    CAN    GBR   MEX   ITA   GER   JPN   AUS   IRL   FRA  \\\n",
       "cluster_0  2183.0  302.0   31.0  16.0  38.0  36.0  56.0   6.0   4.0  10.0   \n",
       "cluster_1  5527.0  163.0   28.0  10.0   4.0   5.0   7.0  10.0  18.0   3.0   \n",
       "cluster_2  5142.0  609.0   70.0  39.0  50.0  78.0  34.0  43.0  18.0  36.0   \n",
       "cluster_3  7403.0  638.0  124.0  75.0  83.0  38.0  30.0  33.0  45.0  38.0   \n",
       "cluster_4  5721.0  308.0   85.0  61.0  17.0  14.0  11.0  30.0  31.0  14.0   \n",
       "\n",
       "           ...  MAR  CRO  ZIM  EST  BAR  LIE  BLR  TAN  CAY  URU  \n",
       "cluster_0  ...  NaN  NaN  NaN  NaN  NaN  NaN  NaN  NaN  NaN  NaN  \n",
       "cluster_1  ...  NaN  NaN  NaN  1.0  NaN  NaN  1.0  NaN  NaN  NaN  \n",
       "cluster_2  ...  NaN  NaN  NaN  NaN  NaN  1.0  NaN  NaN  NaN  1.0  \n",
       "cluster_3  ...  NaN  NaN  1.0  NaN  1.0  NaN  NaN  1.0  NaN  NaN  \n",
       "cluster_4  ...  1.0  1.0  NaN  NaN  NaN  NaN  NaN  NaN  1.0  NaN  \n",
       "\n",
       "[5 rows x 77 columns]"
      ]
     },
     "execution_count": 85,
     "metadata": {},
     "output_type": "execute_result"
    }
   ],
   "source": [
    "country = pd.DataFrame(columns=dataset['country'].value_counts().index.tolist())\n",
    "country.loc['cluster_0'] = dataset[dataset['cluster_kp']==0].groupby('country').count()['cluster_kp']\n",
    "country.loc['cluster_1'] = dataset[dataset['cluster_kp']==1].groupby('country').count()['cluster_kp']\n",
    "country.loc['cluster_2'] = dataset[dataset['cluster_kp']==2].groupby('country').count()['cluster_kp']\n",
    "country.loc['cluster_3'] = dataset[dataset['cluster_kp']==3].groupby('country').count()['cluster_kp']\n",
    "country.loc['cluster_4'] = dataset[dataset['cluster_kp']==4].groupby('country').count()['cluster_kp']\n",
    "country"
   ]
  },
  {
   "cell_type": "code",
   "execution_count": 86,
   "metadata": {},
   "outputs": [],
   "source": [
    "persona['country'] = country.idxmax(axis = 1).values"
   ]
  },
  {
   "cell_type": "markdown",
   "metadata": {},
   "source": [
    "### gender"
   ]
  },
  {
   "cell_type": "code",
   "execution_count": 87,
   "metadata": {},
   "outputs": [
    {
     "data": {
      "text/html": [
       "<div>\n",
       "<style scoped>\n",
       "    .dataframe tbody tr th:only-of-type {\n",
       "        vertical-align: middle;\n",
       "    }\n",
       "\n",
       "    .dataframe tbody tr th {\n",
       "        vertical-align: top;\n",
       "    }\n",
       "\n",
       "    .dataframe thead th {\n",
       "        text-align: right;\n",
       "    }\n",
       "</style>\n",
       "<table border=\"1\" class=\"dataframe\">\n",
       "  <thead>\n",
       "    <tr style=\"text-align: right;\">\n",
       "      <th></th>\n",
       "      <th>M</th>\n",
       "      <th>F</th>\n",
       "    </tr>\n",
       "  </thead>\n",
       "  <tbody>\n",
       "    <tr>\n",
       "      <th>cluster_0</th>\n",
       "      <td>2166</td>\n",
       "      <td>627</td>\n",
       "    </tr>\n",
       "    <tr>\n",
       "      <th>cluster_1</th>\n",
       "      <td>2240</td>\n",
       "      <td>3598</td>\n",
       "    </tr>\n",
       "    <tr>\n",
       "      <th>cluster_2</th>\n",
       "      <td>4089</td>\n",
       "      <td>2302</td>\n",
       "    </tr>\n",
       "    <tr>\n",
       "      <th>cluster_3</th>\n",
       "      <td>4892</td>\n",
       "      <td>4021</td>\n",
       "    </tr>\n",
       "    <tr>\n",
       "      <th>cluster_4</th>\n",
       "      <td>3492</td>\n",
       "      <td>2997</td>\n",
       "    </tr>\n",
       "  </tbody>\n",
       "</table>\n",
       "</div>"
      ],
      "text/plain": [
       "              M     F\n",
       "cluster_0  2166   627\n",
       "cluster_1  2240  3598\n",
       "cluster_2  4089  2302\n",
       "cluster_3  4892  4021\n",
       "cluster_4  3492  2997"
      ]
     },
     "execution_count": 87,
     "metadata": {},
     "output_type": "execute_result"
    }
   ],
   "source": [
    "#gender \n",
    "gender = pd.DataFrame(columns=dataset['gender'].value_counts().index.tolist())\n",
    "gender.loc['cluster_0'] = dataset[dataset['cluster_kp']==0].groupby('gender').count()['cluster_kp']\n",
    "gender.loc['cluster_1'] = dataset[dataset['cluster_kp']==1].groupby('gender').count()['cluster_kp']\n",
    "gender.loc['cluster_2'] = dataset[dataset['cluster_kp']==2].groupby('gender').count()['cluster_kp']\n",
    "gender.loc['cluster_3'] = dataset[dataset['cluster_kp']==3].groupby('gender').count()['cluster_kp']\n",
    "gender.loc['cluster_4'] = dataset[dataset['cluster_kp']==4].groupby('gender').count()['cluster_kp']\n",
    "gender"
   ]
  },
  {
   "cell_type": "code",
   "execution_count": 128,
   "metadata": {},
   "outputs": [
    {
     "data": {
      "text/plain": [
       "<matplotlib.axes._subplots.AxesSubplot at 0x1602a487550>"
      ]
     },
     "execution_count": 128,
     "metadata": {},
     "output_type": "execute_result"
    },
    {
     "data": {
      "image/png": "[encoded data removed]",
      "text/plain": [
       "<Figure size 432x288 with 1 Axes>"
      ]
     },
     "metadata": {
      "needs_background": "light"
     },
     "output_type": "display_data"
    }
   ],
   "source": [
    "sns.countplot(x='cluster_kp',hue='gender', data = dataset)"
   ]
  },
  {
   "cell_type": "code",
   "execution_count": 88,
   "metadata": {},
   "outputs": [],
   "source": [
    "# gender.idxmax(axis = 1)\n",
    "gender_mode = []\n",
    "for i in range(cluster_kp):\n",
    "    if gender['M'][i] > gender['F'][i]:\n",
    "        gender_mode.append('M')\n",
    "    else:\n",
    "        gender_mode.append('F')\n",
    "persona['gender'] = gender_mode"
   ]
  },
  {
   "cell_type": "markdown",
   "metadata": {},
   "source": [
    "### city"
   ]
  },
  {
   "cell_type": "code",
   "execution_count": 89,
   "metadata": {},
   "outputs": [
    {
     "data": {
      "text/html": [
       "<div>\n",
       "<style scoped>\n",
       "    .dataframe tbody tr th:only-of-type {\n",
       "        vertical-align: middle;\n",
       "    }\n",
       "\n",
       "    .dataframe tbody tr th {\n",
       "        vertical-align: top;\n",
       "    }\n",
       "\n",
       "    .dataframe thead th {\n",
       "        text-align: right;\n",
       "    }\n",
       "</style>\n",
       "<table border=\"1\" class=\"dataframe\">\n",
       "  <thead>\n",
       "    <tr style=\"text-align: right;\">\n",
       "      <th></th>\n",
       "      <th>Boston</th>\n",
       "      <th>New York</th>\n",
       "      <th>Chicago</th>\n",
       "      <th>Cambridge</th>\n",
       "      <th>Toronto</th>\n",
       "      <th>Somerville</th>\n",
       "      <th>Brookline</th>\n",
       "      <th>Washington</th>\n",
       "      <th>Austin</th>\n",
       "      <th>San Francisco</th>\n",
       "      <th>...</th>\n",
       "      <th>Trinity</th>\n",
       "      <th>Bellville</th>\n",
       "      <th>Lansdowne</th>\n",
       "      <th>Newcomb</th>\n",
       "      <th>Rego Park</th>\n",
       "      <th>Lanesborough</th>\n",
       "      <th>Red Lodge</th>\n",
       "      <th>Puebla, Puebla</th>\n",
       "      <th>brookline</th>\n",
       "      <th>St Clair Shores</th>\n",
       "    </tr>\n",
       "  </thead>\n",
       "  <tbody>\n",
       "    <tr>\n",
       "      <th>cluster_0</th>\n",
       "      <td>11.0</td>\n",
       "      <td>21.0</td>\n",
       "      <td>9.0</td>\n",
       "      <td>13.0</td>\n",
       "      <td>23.0</td>\n",
       "      <td>3.0</td>\n",
       "      <td>6.0</td>\n",
       "      <td>9.0</td>\n",
       "      <td>13.0</td>\n",
       "      <td>3.0</td>\n",
       "      <td>...</td>\n",
       "      <td>NaN</td>\n",
       "      <td>NaN</td>\n",
       "      <td>NaN</td>\n",
       "      <td>NaN</td>\n",
       "      <td>NaN</td>\n",
       "      <td>NaN</td>\n",
       "      <td>NaN</td>\n",
       "      <td>NaN</td>\n",
       "      <td>NaN</td>\n",
       "      <td>NaN</td>\n",
       "    </tr>\n",
       "    <tr>\n",
       "      <th>cluster_1</th>\n",
       "      <td>537.0</td>\n",
       "      <td>180.0</td>\n",
       "      <td>103.0</td>\n",
       "      <td>158.0</td>\n",
       "      <td>30.0</td>\n",
       "      <td>134.0</td>\n",
       "      <td>90.0</td>\n",
       "      <td>84.0</td>\n",
       "      <td>32.0</td>\n",
       "      <td>72.0</td>\n",
       "      <td>...</td>\n",
       "      <td>NaN</td>\n",
       "      <td>NaN</td>\n",
       "      <td>NaN</td>\n",
       "      <td>NaN</td>\n",
       "      <td>NaN</td>\n",
       "      <td>NaN</td>\n",
       "      <td>NaN</td>\n",
       "      <td>NaN</td>\n",
       "      <td>1.0</td>\n",
       "      <td>NaN</td>\n",
       "    </tr>\n",
       "    <tr>\n",
       "      <th>cluster_2</th>\n",
       "      <td>45.0</td>\n",
       "      <td>55.0</td>\n",
       "      <td>35.0</td>\n",
       "      <td>23.0</td>\n",
       "      <td>71.0</td>\n",
       "      <td>8.0</td>\n",
       "      <td>20.0</td>\n",
       "      <td>15.0</td>\n",
       "      <td>33.0</td>\n",
       "      <td>19.0</td>\n",
       "      <td>...</td>\n",
       "      <td>NaN</td>\n",
       "      <td>NaN</td>\n",
       "      <td>NaN</td>\n",
       "      <td>NaN</td>\n",
       "      <td>1.0</td>\n",
       "      <td>1.0</td>\n",
       "      <td>1.0</td>\n",
       "      <td>NaN</td>\n",
       "      <td>NaN</td>\n",
       "      <td>1.0</td>\n",
       "    </tr>\n",
       "    <tr>\n",
       "      <th>cluster_3</th>\n",
       "      <td>105.0</td>\n",
       "      <td>79.0</td>\n",
       "      <td>68.0</td>\n",
       "      <td>33.0</td>\n",
       "      <td>62.0</td>\n",
       "      <td>16.0</td>\n",
       "      <td>42.0</td>\n",
       "      <td>36.0</td>\n",
       "      <td>64.0</td>\n",
       "      <td>31.0</td>\n",
       "      <td>...</td>\n",
       "      <td>1.0</td>\n",
       "      <td>1.0</td>\n",
       "      <td>1.0</td>\n",
       "      <td>NaN</td>\n",
       "      <td>NaN</td>\n",
       "      <td>NaN</td>\n",
       "      <td>NaN</td>\n",
       "      <td>NaN</td>\n",
       "      <td>NaN</td>\n",
       "      <td>NaN</td>\n",
       "    </tr>\n",
       "    <tr>\n",
       "      <th>cluster_4</th>\n",
       "      <td>251.0</td>\n",
       "      <td>156.0</td>\n",
       "      <td>90.0</td>\n",
       "      <td>65.0</td>\n",
       "      <td>50.0</td>\n",
       "      <td>62.0</td>\n",
       "      <td>49.0</td>\n",
       "      <td>57.0</td>\n",
       "      <td>49.0</td>\n",
       "      <td>63.0</td>\n",
       "      <td>...</td>\n",
       "      <td>NaN</td>\n",
       "      <td>NaN</td>\n",
       "      <td>NaN</td>\n",
       "      <td>1.0</td>\n",
       "      <td>NaN</td>\n",
       "      <td>NaN</td>\n",
       "      <td>NaN</td>\n",
       "      <td>1.0</td>\n",
       "      <td>NaN</td>\n",
       "      <td>NaN</td>\n",
       "    </tr>\n",
       "  </tbody>\n",
       "</table>\n",
       "<p>5 rows × 5695 columns</p>\n",
       "</div>"
      ],
      "text/plain": [
       "           Boston  New York  Chicago  Cambridge  Toronto  Somerville  \\\n",
       "cluster_0    11.0      21.0      9.0       13.0     23.0         3.0   \n",
       "cluster_1   537.0     180.0    103.0      158.0     30.0       134.0   \n",
       "cluster_2    45.0      55.0     35.0       23.0     71.0         8.0   \n",
       "cluster_3   105.0      79.0     68.0       33.0     62.0        16.0   \n",
       "cluster_4   251.0     156.0     90.0       65.0     50.0        62.0   \n",
       "\n",
       "           Brookline  Washington  Austin  San Francisco  ...  Trinity  \\\n",
       "cluster_0        6.0         9.0    13.0            3.0  ...      NaN   \n",
       "cluster_1       90.0        84.0    32.0           72.0  ...      NaN   \n",
       "cluster_2       20.0        15.0    33.0           19.0  ...      NaN   \n",
       "cluster_3       42.0        36.0    64.0           31.0  ...      1.0   \n",
       "cluster_4       49.0        57.0    49.0           63.0  ...      NaN   \n",
       "\n",
       "           Bellville  Lansdowne  Newcomb  Rego Park  Lanesborough  Red Lodge  \\\n",
       "cluster_0        NaN        NaN      NaN        NaN           NaN        NaN   \n",
       "cluster_1        NaN        NaN      NaN        NaN           NaN        NaN   \n",
       "cluster_2        NaN        NaN      NaN        1.0           1.0        1.0   \n",
       "cluster_3        1.0        1.0      NaN        NaN           NaN        NaN   \n",
       "cluster_4        NaN        NaN      1.0        NaN           NaN        NaN   \n",
       "\n",
       "           Puebla, Puebla  brookline  St Clair Shores  \n",
       "cluster_0             NaN        NaN              NaN  \n",
       "cluster_1             NaN        1.0              NaN  \n",
       "cluster_2             NaN        NaN              1.0  \n",
       "cluster_3             NaN        NaN              NaN  \n",
       "cluster_4             1.0        NaN              NaN  \n",
       "\n",
       "[5 rows x 5695 columns]"
      ]
     },
     "execution_count": 89,
     "metadata": {},
     "output_type": "execute_result"
    }
   ],
   "source": [
    "city = pd.DataFrame(columns=dataset['city'].value_counts().index.tolist())\n",
    "city.loc['cluster_0'] = dataset[dataset['cluster_kp']==0].groupby('city').count()['cluster_kp']\n",
    "city.loc['cluster_1'] = dataset[dataset['cluster_kp']==1].groupby('city').count()['cluster_kp']\n",
    "city.loc['cluster_2'] = dataset[dataset['cluster_kp']==2].groupby('city').count()['cluster_kp']\n",
    "city.loc['cluster_3'] = dataset[dataset['cluster_kp']==3].groupby('city').count()['cluster_kp']\n",
    "city.loc['cluster_4'] = dataset[dataset['cluster_kp']==4].groupby('city').count()['cluster_kp']\n",
    "city"
   ]
  },
  {
   "cell_type": "code",
   "execution_count": 90,
   "metadata": {},
   "outputs": [
    {
     "data": {
      "text/plain": [
       "cluster_0    Toronto\n",
       "cluster_1     Boston\n",
       "cluster_2    Toronto\n",
       "cluster_3     Boston\n",
       "cluster_4     Boston\n",
       "dtype: object"
      ]
     },
     "execution_count": 90,
     "metadata": {},
     "output_type": "execute_result"
    }
   ],
   "source": [
    "city.idxmax(axis = 1)"
   ]
  },
  {
   "cell_type": "code",
   "execution_count": 91,
   "metadata": {},
   "outputs": [],
   "source": [
    "persona['city'] = city.idxmax(axis = 1).values"
   ]
  },
  {
   "cell_type": "markdown",
   "metadata": {},
   "source": [
    "### age"
   ]
  },
  {
   "cell_type": "code",
   "execution_count": 92,
   "metadata": {},
   "outputs": [],
   "source": [
    "age_mean = []\n",
    "for i in range(cluster_kp):\n",
    "    age_mean.append(dataset[dataset['cluster_kp']==i]['age'].mean())\n",
    "persona['age'] = age_mean     "
   ]
  },
  {
   "cell_type": "code",
   "execution_count": 93,
   "metadata": {},
   "outputs": [
    {
     "data": {
      "text/html": [
       "<div>\n",
       "<style scoped>\n",
       "    .dataframe tbody tr th:only-of-type {\n",
       "        vertical-align: middle;\n",
       "    }\n",
       "\n",
       "    .dataframe tbody tr th {\n",
       "        vertical-align: top;\n",
       "    }\n",
       "\n",
       "    .dataframe thead th {\n",
       "        text-align: right;\n",
       "    }\n",
       "</style>\n",
       "<table border=\"1\" class=\"dataframe\">\n",
       "  <thead>\n",
       "    <tr style=\"text-align: right;\">\n",
       "      <th></th>\n",
       "      <th>state</th>\n",
       "      <th>country</th>\n",
       "      <th>gender</th>\n",
       "      <th>city</th>\n",
       "      <th>age</th>\n",
       "    </tr>\n",
       "  </thead>\n",
       "  <tbody>\n",
       "    <tr>\n",
       "      <th>cluster_0</th>\n",
       "      <td>unknown</td>\n",
       "      <td>USA</td>\n",
       "      <td>M</td>\n",
       "      <td>Toronto</td>\n",
       "      <td>62.471536</td>\n",
       "    </tr>\n",
       "    <tr>\n",
       "      <th>cluster_1</th>\n",
       "      <td>MA</td>\n",
       "      <td>USA</td>\n",
       "      <td>F</td>\n",
       "      <td>Boston</td>\n",
       "      <td>26.603118</td>\n",
       "    </tr>\n",
       "    <tr>\n",
       "      <th>cluster_2</th>\n",
       "      <td>MA</td>\n",
       "      <td>USA</td>\n",
       "      <td>M</td>\n",
       "      <td>Toronto</td>\n",
       "      <td>52.495697</td>\n",
       "    </tr>\n",
       "    <tr>\n",
       "      <th>cluster_3</th>\n",
       "      <td>MA</td>\n",
       "      <td>USA</td>\n",
       "      <td>M</td>\n",
       "      <td>Boston</td>\n",
       "      <td>44.000673</td>\n",
       "    </tr>\n",
       "    <tr>\n",
       "      <th>cluster_4</th>\n",
       "      <td>MA</td>\n",
       "      <td>USA</td>\n",
       "      <td>M</td>\n",
       "      <td>Boston</td>\n",
       "      <td>35.352443</td>\n",
       "    </tr>\n",
       "  </tbody>\n",
       "</table>\n",
       "</div>"
      ],
      "text/plain": [
       "             state country gender     city        age\n",
       "cluster_0  unknown     USA      M  Toronto  62.471536\n",
       "cluster_1       MA     USA      F   Boston  26.603118\n",
       "cluster_2       MA     USA      M  Toronto  52.495697\n",
       "cluster_3       MA     USA      M   Boston  44.000673\n",
       "cluster_4       MA     USA      M   Boston  35.352443"
      ]
     },
     "execution_count": 93,
     "metadata": {},
     "output_type": "execute_result"
    }
   ],
   "source": [
    "persona"
   ]
  },
  {
   "cell_type": "code",
   "execution_count": 129,
   "metadata": {},
   "outputs": [
    {
     "data": {
      "text/plain": [
       "<matplotlib.axes._subplots.AxesSubplot at 0x1602a47b2b0>"
      ]
     },
     "execution_count": 129,
     "metadata": {},
     "output_type": "execute_result"
    },
    {
     "data": {
      "image/png": "[encoded data removed]",
      "text/plain": [
       "<Figure size 864x504 with 1 Axes>"
      ]
     },
     "metadata": {
      "needs_background": "light"
     },
     "output_type": "display_data"
    }
   ],
   "source": [
    "plt.figure(figsize=(12, 7))\n",
    "sns.boxplot(x='cluster_kp', y='age', data=dataset)"
   ]
  },
  {
   "cell_type": "code",
   "execution_count": 94,
   "metadata": {},
   "outputs": [],
   "source": [
    "persona2 = persona.drop(['country'],axis=1) \n",
    "# add columns: cluster_size and cluster_size_%\n",
    "cluster_size = []\n",
    "for i in range(cluster_kp):\n",
    "    cluster_size.append(dataset[dataset['cluster_kp']==i].shape[0])\n",
    "persona2['cluster_size'] = cluster_size\n",
    "persona2['cluster_size_%'] = persona2['cluster_size']/len(dataset)*100"
   ]
  },
  {
   "cell_type": "code",
   "execution_count": 95,
   "metadata": {},
   "outputs": [],
   "source": [
    "# chia cac nhom tuoi\n",
    "def age_gr(age):\n",
    "    if age <30:\n",
    "        return 'young(<30 years)'\n",
    "    elif age >=30 and age <50:\n",
    "        return 'medium(30-50)'\n",
    "    else:\n",
    "        return 'old(>50)'\n",
    "persona2['age'] = persona['age'].apply(age_gr)    "
   ]
  },
  {
   "cell_type": "code",
   "execution_count": 96,
   "metadata": {},
   "outputs": [],
   "source": [
    "# vi cot country co gia tri duy nhat la USA nen ta xet them % so luong nguoi la USA trong cot nay de phan biet giua cac cluster\n",
    "percent = []\n",
    "for i in range(cluster_kp):\n",
    "    percent.append(dataset[(dataset['cluster_kp']==i) & (dataset['country']=='USA')].shape[0]/cluster_size[i]*100)\n",
    "persona2['country_USA_%'] = percent"
   ]
  },
  {
   "cell_type": "code",
   "execution_count": 97,
   "metadata": {},
   "outputs": [
    {
     "data": {
      "text/html": [
       "<div>\n",
       "<style scoped>\n",
       "    .dataframe tbody tr th:only-of-type {\n",
       "        vertical-align: middle;\n",
       "    }\n",
       "\n",
       "    .dataframe tbody tr th {\n",
       "        vertical-align: top;\n",
       "    }\n",
       "\n",
       "    .dataframe thead th {\n",
       "        text-align: right;\n",
       "    }\n",
       "</style>\n",
       "<table border=\"1\" class=\"dataframe\">\n",
       "  <thead>\n",
       "    <tr style=\"text-align: right;\">\n",
       "      <th></th>\n",
       "      <th>age</th>\n",
       "      <th>gender</th>\n",
       "      <th>state</th>\n",
       "      <th>city</th>\n",
       "      <th>country_USA_%</th>\n",
       "      <th>cluster_size</th>\n",
       "      <th>cluster_size_%</th>\n",
       "    </tr>\n",
       "  </thead>\n",
       "  <tbody>\n",
       "    <tr>\n",
       "      <th>cluster_0</th>\n",
       "      <td>old(&gt;50)</td>\n",
       "      <td>M</td>\n",
       "      <td>unknown</td>\n",
       "      <td>Toronto</td>\n",
       "      <td>78.159685</td>\n",
       "      <td>2793</td>\n",
       "      <td>9.180252</td>\n",
       "    </tr>\n",
       "    <tr>\n",
       "      <th>cluster_1</th>\n",
       "      <td>young(&lt;30 years)</td>\n",
       "      <td>F</td>\n",
       "      <td>MA</td>\n",
       "      <td>Boston</td>\n",
       "      <td>94.672833</td>\n",
       "      <td>5838</td>\n",
       "      <td>19.188798</td>\n",
       "    </tr>\n",
       "    <tr>\n",
       "      <th>cluster_2</th>\n",
       "      <td>old(&gt;50)</td>\n",
       "      <td>M</td>\n",
       "      <td>MA</td>\n",
       "      <td>Toronto</td>\n",
       "      <td>80.456893</td>\n",
       "      <td>6391</td>\n",
       "      <td>21.006442</td>\n",
       "    </tr>\n",
       "    <tr>\n",
       "      <th>cluster_3</th>\n",
       "      <td>medium(30-50)</td>\n",
       "      <td>M</td>\n",
       "      <td>MA</td>\n",
       "      <td>Boston</td>\n",
       "      <td>83.058454</td>\n",
       "      <td>8913</td>\n",
       "      <td>29.295951</td>\n",
       "    </tr>\n",
       "    <tr>\n",
       "      <th>cluster_4</th>\n",
       "      <td>medium(30-50)</td>\n",
       "      <td>M</td>\n",
       "      <td>MA</td>\n",
       "      <td>Boston</td>\n",
       "      <td>88.164586</td>\n",
       "      <td>6489</td>\n",
       "      <td>21.328556</td>\n",
       "    </tr>\n",
       "  </tbody>\n",
       "</table>\n",
       "</div>"
      ],
      "text/plain": [
       "                        age gender    state     city  country_USA_%  \\\n",
       "cluster_0          old(>50)      M  unknown  Toronto      78.159685   \n",
       "cluster_1  young(<30 years)      F       MA   Boston      94.672833   \n",
       "cluster_2          old(>50)      M       MA  Toronto      80.456893   \n",
       "cluster_3     medium(30-50)      M       MA   Boston      83.058454   \n",
       "cluster_4     medium(30-50)      M       MA   Boston      88.164586   \n",
       "\n",
       "           cluster_size  cluster_size_%  \n",
       "cluster_0          2793        9.180252  \n",
       "cluster_1          5838       19.188798  \n",
       "cluster_2          6391       21.006442  \n",
       "cluster_3          8913       29.295951  \n",
       "cluster_4          6489       21.328556  "
      ]
     },
     "execution_count": 97,
     "metadata": {},
     "output_type": "execute_result"
    }
   ],
   "source": [
    "persona2 = persona2[['age','gender','state','city','country_USA_%','cluster_size','cluster_size_%']] \n",
    "persona2"
   ]
  },
  {
   "cell_type": "markdown",
   "metadata": {},
   "source": [
    "## 2.3.4 Characteristic"
   ]
  },
  {
   "cell_type": "code",
   "execution_count": 98,
   "metadata": {},
   "outputs": [],
   "source": [
    "# ch = ['division','genderdiv','overall', 'pace','5k', '10k', '20k','half','25k', '30k', '35k','40k','official']\n",
    "# vi he so tuon quan giua official, 5k, 10k, 20k, 25k, 30k, 35k, 40k, half rat lon (>0.9) nen ta chi can chon official de phan tich cac dac diem cua cac cluster\n",
    "ch = ['division','genderdiv','overall', 'official']"
   ]
  },
  {
   "cell_type": "code",
   "execution_count": 99,
   "metadata": {},
   "outputs": [
    {
     "data": {
      "text/html": [
       "<div>\n",
       "<style scoped>\n",
       "    .dataframe tbody tr th:only-of-type {\n",
       "        vertical-align: middle;\n",
       "    }\n",
       "\n",
       "    .dataframe tbody tr th {\n",
       "        vertical-align: top;\n",
       "    }\n",
       "\n",
       "    .dataframe thead th {\n",
       "        text-align: right;\n",
       "    }\n",
       "</style>\n",
       "<table border=\"1\" class=\"dataframe\">\n",
       "  <thead>\n",
       "    <tr style=\"text-align: right;\">\n",
       "      <th></th>\n",
       "      <th>division</th>\n",
       "      <th>genderdiv</th>\n",
       "      <th>overall</th>\n",
       "      <th>official</th>\n",
       "    </tr>\n",
       "  </thead>\n",
       "  <tbody>\n",
       "    <tr>\n",
       "      <th>cluster_0</th>\n",
       "      <td>446.994987</td>\n",
       "      <td>11680.404941</td>\n",
       "      <td>21088.567132</td>\n",
       "      <td>264.964730</td>\n",
       "    </tr>\n",
       "    <tr>\n",
       "      <th>cluster_1</th>\n",
       "      <td>3132.822371</td>\n",
       "      <td>6445.888147</td>\n",
       "      <td>14344.118876</td>\n",
       "      <td>234.133964</td>\n",
       "    </tr>\n",
       "    <tr>\n",
       "      <th>cluster_2</th>\n",
       "      <td>982.662651</td>\n",
       "      <td>8977.637615</td>\n",
       "      <td>16742.436238</td>\n",
       "      <td>243.431352</td>\n",
       "    </tr>\n",
       "    <tr>\n",
       "      <th>cluster_3</th>\n",
       "      <td>1243.072591</td>\n",
       "      <td>7455.842253</td>\n",
       "      <td>14726.266465</td>\n",
       "      <td>234.572695</td>\n",
       "    </tr>\n",
       "    <tr>\n",
       "      <th>cluster_4</th>\n",
       "      <td>3110.161658</td>\n",
       "      <td>6604.826784</td>\n",
       "      <td>13475.096625</td>\n",
       "      <td>229.928479</td>\n",
       "    </tr>\n",
       "  </tbody>\n",
       "</table>\n",
       "</div>"
      ],
      "text/plain": [
       "              division     genderdiv       overall    official\n",
       "cluster_0   446.994987  11680.404941  21088.567132  264.964730\n",
       "cluster_1  3132.822371   6445.888147  14344.118876  234.133964\n",
       "cluster_2   982.662651   8977.637615  16742.436238  243.431352\n",
       "cluster_3  1243.072591   7455.842253  14726.266465  234.572695\n",
       "cluster_4  3110.161658   6604.826784  13475.096625  229.928479"
      ]
     },
     "execution_count": 99,
     "metadata": {},
     "output_type": "execute_result"
    }
   ],
   "source": [
    "characteristic = pd.DataFrame(index=['cluster_0','cluster_1','cluster_2','cluster_3','cluster_4'])\n",
    "for c in ch: \n",
    "    avg = []\n",
    "    for i in range(cluster_kp):\n",
    "        avg.append(dataset[dataset['cluster_kp']==i][c].mean())\n",
    "    characteristic[c] = avg    \n",
    "characteristic"
   ]
  },
  {
   "cell_type": "code",
   "execution_count": 100,
   "metadata": {},
   "outputs": [],
   "source": [
    "characteristic2 = characteristic\n",
    "# chia cac nhom division\n",
    "def division_gr(division):\n",
    "    if division < 1000:\n",
    "        return 'high(<1000)'\n",
    "    elif division >= 1000 and division < 2000:\n",
    "        return 'medium(1000-2000)'\n",
    "    else:\n",
    "        return 'low(>2000)'\n",
    "characteristic2['division'] = characteristic['division'].apply(division_gr)   "
   ]
  },
  {
   "cell_type": "code",
   "execution_count": 101,
   "metadata": {},
   "outputs": [],
   "source": [
    "# chia cac nhom genderdiv\n",
    "def genderdiv_gr(genderdiv):\n",
    "    if genderdiv < 7000:\n",
    "        return 'high(<7000)'\n",
    "    elif genderdiv >= 7000 and genderdiv < 9000:\n",
    "        return 'medium(7000-9000)'\n",
    "    else:\n",
    "        return 'low(>9000)'\n",
    "characteristic2['genderdiv'] = characteristic['genderdiv'].apply(genderdiv_gr)"
   ]
  },
  {
   "cell_type": "code",
   "execution_count": 102,
   "metadata": {},
   "outputs": [],
   "source": [
    "# chia cac nhom overall\n",
    "def overall_gr(overall):\n",
    "    if overall < 15000:\n",
    "        return 'high(<15000)'\n",
    "    elif overall >= 15000 and overall < 20000:\n",
    "        return 'medium(15000-20000)'\n",
    "    else:\n",
    "        return 'low(>20000)'\n",
    "characteristic2['overall'] = characteristic['overall'].apply(overall_gr)"
   ]
  },
  {
   "cell_type": "code",
   "execution_count": 103,
   "metadata": {},
   "outputs": [],
   "source": [
    "# chia cac nhom official\n",
    "def official_gr(official):\n",
    "    if official < 230:\n",
    "        return 'fast(<230 min)'\n",
    "    elif official >= 230 and official < 250:\n",
    "        return 'medium(230-250 min)'\n",
    "    else:\n",
    "        return 'slow(>250)'\n",
    "characteristic2['official'] = characteristic['official'].apply(official_gr)"
   ]
  },
  {
   "cell_type": "code",
   "execution_count": 104,
   "metadata": {},
   "outputs": [
    {
     "data": {
      "text/html": [
       "<div>\n",
       "<style scoped>\n",
       "    .dataframe tbody tr th:only-of-type {\n",
       "        vertical-align: middle;\n",
       "    }\n",
       "\n",
       "    .dataframe tbody tr th {\n",
       "        vertical-align: top;\n",
       "    }\n",
       "\n",
       "    .dataframe thead th {\n",
       "        text-align: right;\n",
       "    }\n",
       "</style>\n",
       "<table border=\"1\" class=\"dataframe\">\n",
       "  <thead>\n",
       "    <tr style=\"text-align: right;\">\n",
       "      <th></th>\n",
       "      <th>division</th>\n",
       "      <th>genderdiv</th>\n",
       "      <th>overall</th>\n",
       "      <th>official</th>\n",
       "    </tr>\n",
       "  </thead>\n",
       "  <tbody>\n",
       "    <tr>\n",
       "      <th>cluster_0</th>\n",
       "      <td>high(&lt;1000)</td>\n",
       "      <td>low(&gt;9000)</td>\n",
       "      <td>low(&gt;20000)</td>\n",
       "      <td>slow(&gt;250)</td>\n",
       "    </tr>\n",
       "    <tr>\n",
       "      <th>cluster_1</th>\n",
       "      <td>low(&gt;2000)</td>\n",
       "      <td>high(&lt;7000)</td>\n",
       "      <td>high(&lt;15000)</td>\n",
       "      <td>medium(230-250 min)</td>\n",
       "    </tr>\n",
       "    <tr>\n",
       "      <th>cluster_2</th>\n",
       "      <td>high(&lt;1000)</td>\n",
       "      <td>medium(7000-9000)</td>\n",
       "      <td>medium(15000-20000)</td>\n",
       "      <td>medium(230-250 min)</td>\n",
       "    </tr>\n",
       "    <tr>\n",
       "      <th>cluster_3</th>\n",
       "      <td>medium(1000-2000)</td>\n",
       "      <td>medium(7000-9000)</td>\n",
       "      <td>high(&lt;15000)</td>\n",
       "      <td>medium(230-250 min)</td>\n",
       "    </tr>\n",
       "    <tr>\n",
       "      <th>cluster_4</th>\n",
       "      <td>low(&gt;2000)</td>\n",
       "      <td>high(&lt;7000)</td>\n",
       "      <td>high(&lt;15000)</td>\n",
       "      <td>fast(&lt;230 min)</td>\n",
       "    </tr>\n",
       "  </tbody>\n",
       "</table>\n",
       "</div>"
      ],
      "text/plain": [
       "                    division          genderdiv              overall  \\\n",
       "cluster_0        high(<1000)         low(>9000)          low(>20000)   \n",
       "cluster_1         low(>2000)        high(<7000)         high(<15000)   \n",
       "cluster_2        high(<1000)  medium(7000-9000)  medium(15000-20000)   \n",
       "cluster_3  medium(1000-2000)  medium(7000-9000)         high(<15000)   \n",
       "cluster_4         low(>2000)        high(<7000)         high(<15000)   \n",
       "\n",
       "                      official  \n",
       "cluster_0           slow(>250)  \n",
       "cluster_1  medium(230-250 min)  \n",
       "cluster_2  medium(230-250 min)  \n",
       "cluster_3  medium(230-250 min)  \n",
       "cluster_4       fast(<230 min)  "
      ]
     },
     "execution_count": 104,
     "metadata": {},
     "output_type": "execute_result"
    }
   ],
   "source": [
    "characteristic2"
   ]
  },
  {
   "cell_type": "markdown",
   "metadata": {},
   "source": [
    "## 2.3.5 SUMMARY"
   ]
  },
  {
   "cell_type": "code",
   "execution_count": 105,
   "metadata": {},
   "outputs": [
    {
     "data": {
      "text/html": [
       "<div>\n",
       "<style scoped>\n",
       "    .dataframe tbody tr th:only-of-type {\n",
       "        vertical-align: middle;\n",
       "    }\n",
       "\n",
       "    .dataframe tbody tr th {\n",
       "        vertical-align: top;\n",
       "    }\n",
       "\n",
       "    .dataframe thead th {\n",
       "        text-align: right;\n",
       "    }\n",
       "</style>\n",
       "<table border=\"1\" class=\"dataframe\">\n",
       "  <thead>\n",
       "    <tr style=\"text-align: right;\">\n",
       "      <th></th>\n",
       "      <th>age</th>\n",
       "      <th>gender</th>\n",
       "      <th>state</th>\n",
       "      <th>city</th>\n",
       "      <th>country_USA_%</th>\n",
       "      <th>cluster_size</th>\n",
       "      <th>cluster_size_%</th>\n",
       "      <th>division</th>\n",
       "      <th>genderdiv</th>\n",
       "      <th>overall</th>\n",
       "      <th>official</th>\n",
       "    </tr>\n",
       "  </thead>\n",
       "  <tbody>\n",
       "    <tr>\n",
       "      <th>cluster_0</th>\n",
       "      <td>old(&gt;50)</td>\n",
       "      <td>M</td>\n",
       "      <td>unknown</td>\n",
       "      <td>Toronto</td>\n",
       "      <td>78.159685</td>\n",
       "      <td>2793</td>\n",
       "      <td>9.180252</td>\n",
       "      <td>high(&lt;1000)</td>\n",
       "      <td>low(&gt;9000)</td>\n",
       "      <td>low(&gt;20000)</td>\n",
       "      <td>slow(&gt;250)</td>\n",
       "    </tr>\n",
       "    <tr>\n",
       "      <th>cluster_1</th>\n",
       "      <td>young(&lt;30 years)</td>\n",
       "      <td>F</td>\n",
       "      <td>MA</td>\n",
       "      <td>Boston</td>\n",
       "      <td>94.672833</td>\n",
       "      <td>5838</td>\n",
       "      <td>19.188798</td>\n",
       "      <td>low(&gt;2000)</td>\n",
       "      <td>high(&lt;7000)</td>\n",
       "      <td>high(&lt;15000)</td>\n",
       "      <td>medium(230-250 min)</td>\n",
       "    </tr>\n",
       "    <tr>\n",
       "      <th>cluster_2</th>\n",
       "      <td>old(&gt;50)</td>\n",
       "      <td>M</td>\n",
       "      <td>MA</td>\n",
       "      <td>Toronto</td>\n",
       "      <td>80.456893</td>\n",
       "      <td>6391</td>\n",
       "      <td>21.006442</td>\n",
       "      <td>high(&lt;1000)</td>\n",
       "      <td>medium(7000-9000)</td>\n",
       "      <td>medium(15000-20000)</td>\n",
       "      <td>medium(230-250 min)</td>\n",
       "    </tr>\n",
       "    <tr>\n",
       "      <th>cluster_3</th>\n",
       "      <td>medium(30-50)</td>\n",
       "      <td>M</td>\n",
       "      <td>MA</td>\n",
       "      <td>Boston</td>\n",
       "      <td>83.058454</td>\n",
       "      <td>8913</td>\n",
       "      <td>29.295951</td>\n",
       "      <td>medium(1000-2000)</td>\n",
       "      <td>medium(7000-9000)</td>\n",
       "      <td>high(&lt;15000)</td>\n",
       "      <td>medium(230-250 min)</td>\n",
       "    </tr>\n",
       "    <tr>\n",
       "      <th>cluster_4</th>\n",
       "      <td>medium(30-50)</td>\n",
       "      <td>M</td>\n",
       "      <td>MA</td>\n",
       "      <td>Boston</td>\n",
       "      <td>88.164586</td>\n",
       "      <td>6489</td>\n",
       "      <td>21.328556</td>\n",
       "      <td>low(&gt;2000)</td>\n",
       "      <td>high(&lt;7000)</td>\n",
       "      <td>high(&lt;15000)</td>\n",
       "      <td>fast(&lt;230 min)</td>\n",
       "    </tr>\n",
       "  </tbody>\n",
       "</table>\n",
       "</div>"
      ],
      "text/plain": [
       "                        age gender    state     city  country_USA_%  \\\n",
       "cluster_0          old(>50)      M  unknown  Toronto      78.159685   \n",
       "cluster_1  young(<30 years)      F       MA   Boston      94.672833   \n",
       "cluster_2          old(>50)      M       MA  Toronto      80.456893   \n",
       "cluster_3     medium(30-50)      M       MA   Boston      83.058454   \n",
       "cluster_4     medium(30-50)      M       MA   Boston      88.164586   \n",
       "\n",
       "           cluster_size  cluster_size_%           division          genderdiv  \\\n",
       "cluster_0          2793        9.180252        high(<1000)         low(>9000)   \n",
       "cluster_1          5838       19.188798         low(>2000)        high(<7000)   \n",
       "cluster_2          6391       21.006442        high(<1000)  medium(7000-9000)   \n",
       "cluster_3          8913       29.295951  medium(1000-2000)  medium(7000-9000)   \n",
       "cluster_4          6489       21.328556         low(>2000)        high(<7000)   \n",
       "\n",
       "                       overall             official  \n",
       "cluster_0          low(>20000)           slow(>250)  \n",
       "cluster_1         high(<15000)  medium(230-250 min)  \n",
       "cluster_2  medium(15000-20000)  medium(230-250 min)  \n",
       "cluster_3         high(<15000)  medium(230-250 min)  \n",
       "cluster_4         high(<15000)       fast(<230 min)  "
      ]
     },
     "execution_count": 105,
     "metadata": {},
     "output_type": "execute_result"
    }
   ],
   "source": [
    "summary = pd.concat([persona2,characteristic2], axis=1)\n",
    "summary"
   ]
  }
 ],
 "metadata": {
  "kernelspec": {
   "display_name": "Python 3",
   "language": "python",
   "name": "python3"
  },
  "language_info": {
   "codemirror_mode": {
    "name": "ipython",
    "version": 3
   },
   "file_extension": ".py",
   "mimetype": "text/x-python",
   "name": "python",
   "nbconvert_exporter": "python",
   "pygments_lexer": "ipython3",
   "version": "3.7.3"
  }
 },
 "nbformat": 4,
 "nbformat_minor": 2
}
