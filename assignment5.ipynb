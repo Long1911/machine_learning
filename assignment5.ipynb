{
 "cells": [
  {
   "cell_type": "markdown",
   "metadata": {},
   "source": [
    "# Introduction: Airline Arrivals Project\n",
    "* Yeu cau:\n",
    "    Use this dataset of airline arrival information to predict how late flights will be. A flight only counts as late if it is more than 30 minutes late.\n",
    "    1. The project should follow guideline as previous projects.\n",
    "    2. Apply models in Naïve Bayes, Logistic Regression, Decision Tree, Random Forest, Gradient Boosting and SVM.\n",
    "    3. Apply PCA, SelectKBest and RFE for feature selections.\n",
    "    4. Using gridsearchCV to obtain best parameters for models.\n",
    "    5. Compare performances among models, write up analysis why the model is good or bad in the algorithmic approach (explain why the algorithm is good or bad for the dataset structure, can you do something to improve the model?)\n",
    "    6. Include the conclusions."
   ]
  },
  {
   "cell_type": "markdown",
   "metadata": {},
   "source": [
    "Variable descriptions\n",
    "- 1\tYear\t1987-2008\n",
    "- 2\tMonth\t1-12\n",
    "- 3\tDayofMonth\t1-31\n",
    "- 4\tDayOfWeek\t1 (Monday) - 7 (Sunday)\n",
    "- 5\tDepTime\tactual departure time (local, hhmm)\n",
    "- 6\tCRSDepTime\tscheduled departure time (local, hhmm)\n",
    "- 7\tArrTime\tactual arrival time (local, hhmm)\n",
    "- 8\tCRSArrTime\tscheduled arrival time (local, hhmm)\n",
    "- 9\tUniqueCarrier\tunique carrier code\n",
    "- 10\tFlightNum\tflight number\n",
    "- 11\tTailNum\tplane tail number\n",
    "- 12\tActualElapsedTime\tin minutes\n",
    "- 13\tCRSElapsedTime\tin minutes\n",
    "- 14\tAirTime\tin minutes\n",
    "- 15\tArrDelay\tarrival delay, in minutes\n",
    "- 16\tDepDelay\tdeparture delay, in minutes\n",
    "- 17\tOrigin\torigin IATA airport code\n",
    "- 18\tDest\tdestination IATA airport code\n",
    "- 19\tDistance\tin miles\n",
    "- 20\tTaxiIn\ttaxi in time, in minutes\n",
    "- 21\tTaxiOut\ttaxi out time in minutes\n",
    "- 22\tCancelled\twas the flight cancelled?\n",
    "- 23\tCancellationCode\treason for cancellation (A = carrier, B = weather, C = NAS, D = security)\n",
    "- 24\tDiverted\t1 = yes, 0 = no\n",
    "- 25\tCarrierDelay\tin minutes: Carrier delay is within the control of the air carrier. Examples of occurrences that may determine carrier delay are: aircraft cleaning, aircraft damage, awaiting the arrival of connecting passengers or crew, baggage, bird strike, cargo loading, catering, computer, outage-carrier equipment, crew legality (pilot or attendant rest), damage by hazardous goods, engineering inspection, fueling, handling disabled passengers, late crew, lavatory servicing, maintenance, oversales, potable water servicing, removal of unruly passenger, slow boarding or seating, stowing carry-on baggage, weight and balance delays.\n",
    "- 26\tWeatherDelay\tin minutes: Weather delay is caused by extreme or hazardous weather conditions that are forecasted or manifest themselves on point of departure, enroute, or on point of arrival.\n",
    "- 27\tNASDelay\tin minutes: Delay that is within the control of the National Airspace System (NAS) may include: non-extreme weather conditions, airport operations, heavy traffic volume, air traffic control, etc.\n",
    "- 28\tSecurityDelay\tin minutes: Security delay is caused by evacuation of a terminal or concourse, re-boarding of aircraft because of security breach, inoperative screening equipment and/or long lines in excess of 29 minutes at screening areas.\n",
    "- 29\tLateAircraftDelay\tin minutes: Arrival delay at an airport due to the late arrival of the same aircraft at a previous airport. The ripple effect of an earlier delay at downstream airports is referred to as delay propagation."
   ]
  },
  {
   "cell_type": "code",
   "execution_count": 1,
   "metadata": {},
   "outputs": [],
   "source": [
    "import pandas as pd\n",
    "import numpy as np\n",
    "from scipy import stats\n",
    "import matplotlib.pyplot as plt \n",
    "import seaborn as sns\n",
    "from scipy.stats import f_oneway\n",
    "from sklearn.model_selection import train_test_split\n",
    "from sklearn import metrics\n",
    "from sklearn.decomposition import PCA \n",
    "from sklearn.preprocessing import StandardScaler\n",
    "from sklearn.preprocessing import LabelEncoder\n",
    "# from sklearn.model_selection import cross_validate\n",
    "from sklearn.model_selection import GridSearchCV\n",
    "import pandas_profiling\n",
    "from sklearn.linear_model import LogisticRegression\n",
    "from sklearn.naive_bayes import GaussianNB\n",
    "from sklearn.tree import DecisionTreeClassifier\n",
    "from sklearn.ensemble import RandomForestClassifier\n",
    "from sklearn.ensemble import GradientBoostingClassifier\n",
    "from sklearn import svm\n",
    "from sklearn.svm import SVC\n",
    "from sklearn.metrics import classification_report\n",
    "from sklearn.metrics import roc_auc_score\n",
    "from sklearn.neighbors import KNeighborsClassifier\n",
    "from sklearn.feature_selection import SelectKBest, f_classif\n",
    "from sklearn.feature_selection import RFE\n",
    "from sklearn import metrics\n",
    "from sklearn.metrics import confusion_matrix, accuracy_score\n",
    "from xgboost import XGBClassifier\n",
    "from lightgbm import LGBMClassifier"
   ]
  },
  {
   "cell_type": "code",
   "execution_count": 2,
   "metadata": {},
   "outputs": [
    {
     "data": {
      "text/plain": [
       "(1936758, 30)"
      ]
     },
     "execution_count": 2,
     "metadata": {},
     "output_type": "execute_result"
    }
   ],
   "source": [
    "data = pd.read_csv('D:/machine learning/project/airlinedelaycauses/DelayedFlights.csv')\n",
    "data.shape"
   ]
  },
  {
   "cell_type": "code",
   "execution_count": 3,
   "metadata": {},
   "outputs": [
    {
     "data": {
      "text/html": [
       "<div>\n",
       "<style scoped>\n",
       "    .dataframe tbody tr th:only-of-type {\n",
       "        vertical-align: middle;\n",
       "    }\n",
       "\n",
       "    .dataframe tbody tr th {\n",
       "        vertical-align: top;\n",
       "    }\n",
       "\n",
       "    .dataframe thead th {\n",
       "        text-align: right;\n",
       "    }\n",
       "</style>\n",
       "<table border=\"1\" class=\"dataframe\">\n",
       "  <thead>\n",
       "    <tr style=\"text-align: right;\">\n",
       "      <th></th>\n",
       "      <th>Unnamed: 0</th>\n",
       "      <th>Year</th>\n",
       "      <th>Month</th>\n",
       "      <th>DayofMonth</th>\n",
       "      <th>DayOfWeek</th>\n",
       "      <th>DepTime</th>\n",
       "      <th>CRSDepTime</th>\n",
       "      <th>ArrTime</th>\n",
       "      <th>CRSArrTime</th>\n",
       "      <th>UniqueCarrier</th>\n",
       "      <th>...</th>\n",
       "      <th>TaxiIn</th>\n",
       "      <th>TaxiOut</th>\n",
       "      <th>Cancelled</th>\n",
       "      <th>CancellationCode</th>\n",
       "      <th>Diverted</th>\n",
       "      <th>CarrierDelay</th>\n",
       "      <th>WeatherDelay</th>\n",
       "      <th>NASDelay</th>\n",
       "      <th>SecurityDelay</th>\n",
       "      <th>LateAircraftDelay</th>\n",
       "    </tr>\n",
       "  </thead>\n",
       "  <tbody>\n",
       "    <tr>\n",
       "      <th>0</th>\n",
       "      <td>0</td>\n",
       "      <td>2008</td>\n",
       "      <td>1</td>\n",
       "      <td>3</td>\n",
       "      <td>4</td>\n",
       "      <td>2003.0</td>\n",
       "      <td>1955</td>\n",
       "      <td>2211.0</td>\n",
       "      <td>2225</td>\n",
       "      <td>WN</td>\n",
       "      <td>...</td>\n",
       "      <td>4.0</td>\n",
       "      <td>8.0</td>\n",
       "      <td>0</td>\n",
       "      <td>N</td>\n",
       "      <td>0</td>\n",
       "      <td>NaN</td>\n",
       "      <td>NaN</td>\n",
       "      <td>NaN</td>\n",
       "      <td>NaN</td>\n",
       "      <td>NaN</td>\n",
       "    </tr>\n",
       "    <tr>\n",
       "      <th>1</th>\n",
       "      <td>1</td>\n",
       "      <td>2008</td>\n",
       "      <td>1</td>\n",
       "      <td>3</td>\n",
       "      <td>4</td>\n",
       "      <td>754.0</td>\n",
       "      <td>735</td>\n",
       "      <td>1002.0</td>\n",
       "      <td>1000</td>\n",
       "      <td>WN</td>\n",
       "      <td>...</td>\n",
       "      <td>5.0</td>\n",
       "      <td>10.0</td>\n",
       "      <td>0</td>\n",
       "      <td>N</td>\n",
       "      <td>0</td>\n",
       "      <td>NaN</td>\n",
       "      <td>NaN</td>\n",
       "      <td>NaN</td>\n",
       "      <td>NaN</td>\n",
       "      <td>NaN</td>\n",
       "    </tr>\n",
       "    <tr>\n",
       "      <th>2</th>\n",
       "      <td>2</td>\n",
       "      <td>2008</td>\n",
       "      <td>1</td>\n",
       "      <td>3</td>\n",
       "      <td>4</td>\n",
       "      <td>628.0</td>\n",
       "      <td>620</td>\n",
       "      <td>804.0</td>\n",
       "      <td>750</td>\n",
       "      <td>WN</td>\n",
       "      <td>...</td>\n",
       "      <td>3.0</td>\n",
       "      <td>17.0</td>\n",
       "      <td>0</td>\n",
       "      <td>N</td>\n",
       "      <td>0</td>\n",
       "      <td>NaN</td>\n",
       "      <td>NaN</td>\n",
       "      <td>NaN</td>\n",
       "      <td>NaN</td>\n",
       "      <td>NaN</td>\n",
       "    </tr>\n",
       "    <tr>\n",
       "      <th>3</th>\n",
       "      <td>4</td>\n",
       "      <td>2008</td>\n",
       "      <td>1</td>\n",
       "      <td>3</td>\n",
       "      <td>4</td>\n",
       "      <td>1829.0</td>\n",
       "      <td>1755</td>\n",
       "      <td>1959.0</td>\n",
       "      <td>1925</td>\n",
       "      <td>WN</td>\n",
       "      <td>...</td>\n",
       "      <td>3.0</td>\n",
       "      <td>10.0</td>\n",
       "      <td>0</td>\n",
       "      <td>N</td>\n",
       "      <td>0</td>\n",
       "      <td>2.0</td>\n",
       "      <td>0.0</td>\n",
       "      <td>0.0</td>\n",
       "      <td>0.0</td>\n",
       "      <td>32.0</td>\n",
       "    </tr>\n",
       "    <tr>\n",
       "      <th>4</th>\n",
       "      <td>5</td>\n",
       "      <td>2008</td>\n",
       "      <td>1</td>\n",
       "      <td>3</td>\n",
       "      <td>4</td>\n",
       "      <td>1940.0</td>\n",
       "      <td>1915</td>\n",
       "      <td>2121.0</td>\n",
       "      <td>2110</td>\n",
       "      <td>WN</td>\n",
       "      <td>...</td>\n",
       "      <td>4.0</td>\n",
       "      <td>10.0</td>\n",
       "      <td>0</td>\n",
       "      <td>N</td>\n",
       "      <td>0</td>\n",
       "      <td>NaN</td>\n",
       "      <td>NaN</td>\n",
       "      <td>NaN</td>\n",
       "      <td>NaN</td>\n",
       "      <td>NaN</td>\n",
       "    </tr>\n",
       "  </tbody>\n",
       "</table>\n",
       "<p>5 rows × 30 columns</p>\n",
       "</div>"
      ],
      "text/plain": [
       "   Unnamed: 0  Year  Month  DayofMonth  DayOfWeek  DepTime  CRSDepTime  \\\n",
       "0           0  2008      1           3          4   2003.0        1955   \n",
       "1           1  2008      1           3          4    754.0         735   \n",
       "2           2  2008      1           3          4    628.0         620   \n",
       "3           4  2008      1           3          4   1829.0        1755   \n",
       "4           5  2008      1           3          4   1940.0        1915   \n",
       "\n",
       "   ArrTime  CRSArrTime UniqueCarrier  ...  TaxiIn TaxiOut  Cancelled  \\\n",
       "0   2211.0        2225            WN  ...     4.0     8.0          0   \n",
       "1   1002.0        1000            WN  ...     5.0    10.0          0   \n",
       "2    804.0         750            WN  ...     3.0    17.0          0   \n",
       "3   1959.0        1925            WN  ...     3.0    10.0          0   \n",
       "4   2121.0        2110            WN  ...     4.0    10.0          0   \n",
       "\n",
       "   CancellationCode  Diverted  CarrierDelay  WeatherDelay NASDelay  \\\n",
       "0                 N         0           NaN           NaN      NaN   \n",
       "1                 N         0           NaN           NaN      NaN   \n",
       "2                 N         0           NaN           NaN      NaN   \n",
       "3                 N         0           2.0           0.0      0.0   \n",
       "4                 N         0           NaN           NaN      NaN   \n",
       "\n",
       "  SecurityDelay  LateAircraftDelay  \n",
       "0           NaN                NaN  \n",
       "1           NaN                NaN  \n",
       "2           NaN                NaN  \n",
       "3           0.0               32.0  \n",
       "4           NaN                NaN  \n",
       "\n",
       "[5 rows x 30 columns]"
      ]
     },
     "execution_count": 3,
     "metadata": {},
     "output_type": "execute_result"
    }
   ],
   "source": [
    "data.head()"
   ]
  },
  {
   "cell_type": "code",
   "execution_count": 4,
   "metadata": {},
   "outputs": [],
   "source": [
    "# xoa cot Unnamed khong su dung\n",
    "data_trans = data.drop(\"Unnamed: 0\", axis = 1) "
   ]
  },
  {
   "cell_type": "code",
   "execution_count": 5,
   "metadata": {},
   "outputs": [
    {
     "data": {
      "text/html": [
       "<div>\n",
       "<style scoped>\n",
       "    .dataframe tbody tr th:only-of-type {\n",
       "        vertical-align: middle;\n",
       "    }\n",
       "\n",
       "    .dataframe tbody tr th {\n",
       "        vertical-align: top;\n",
       "    }\n",
       "\n",
       "    .dataframe thead th {\n",
       "        text-align: right;\n",
       "    }\n",
       "</style>\n",
       "<table border=\"1\" class=\"dataframe\">\n",
       "  <thead>\n",
       "    <tr style=\"text-align: right;\">\n",
       "      <th></th>\n",
       "      <th>Year</th>\n",
       "      <th>Month</th>\n",
       "      <th>DayofMonth</th>\n",
       "      <th>DayOfWeek</th>\n",
       "      <th>DepTime</th>\n",
       "      <th>CRSDepTime</th>\n",
       "      <th>ArrTime</th>\n",
       "      <th>CRSArrTime</th>\n",
       "      <th>FlightNum</th>\n",
       "      <th>ActualElapsedTime</th>\n",
       "      <th>...</th>\n",
       "      <th>Distance</th>\n",
       "      <th>TaxiIn</th>\n",
       "      <th>TaxiOut</th>\n",
       "      <th>Cancelled</th>\n",
       "      <th>Diverted</th>\n",
       "      <th>CarrierDelay</th>\n",
       "      <th>WeatherDelay</th>\n",
       "      <th>NASDelay</th>\n",
       "      <th>SecurityDelay</th>\n",
       "      <th>LateAircraftDelay</th>\n",
       "    </tr>\n",
       "  </thead>\n",
       "  <tbody>\n",
       "    <tr>\n",
       "      <th>count</th>\n",
       "      <td>1936758.0</td>\n",
       "      <td>1.936758e+06</td>\n",
       "      <td>1.936758e+06</td>\n",
       "      <td>1.936758e+06</td>\n",
       "      <td>1.936758e+06</td>\n",
       "      <td>1.936758e+06</td>\n",
       "      <td>1.929648e+06</td>\n",
       "      <td>1.936758e+06</td>\n",
       "      <td>1.936758e+06</td>\n",
       "      <td>1.928371e+06</td>\n",
       "      <td>...</td>\n",
       "      <td>1.936758e+06</td>\n",
       "      <td>1.929648e+06</td>\n",
       "      <td>1.936303e+06</td>\n",
       "      <td>1.936758e+06</td>\n",
       "      <td>1.936758e+06</td>\n",
       "      <td>1.247488e+06</td>\n",
       "      <td>1.247488e+06</td>\n",
       "      <td>1.247488e+06</td>\n",
       "      <td>1.247488e+06</td>\n",
       "      <td>1.247488e+06</td>\n",
       "    </tr>\n",
       "    <tr>\n",
       "      <th>mean</th>\n",
       "      <td>2008.0</td>\n",
       "      <td>6.111106e+00</td>\n",
       "      <td>1.575347e+01</td>\n",
       "      <td>3.984827e+00</td>\n",
       "      <td>1.518534e+03</td>\n",
       "      <td>1.467473e+03</td>\n",
       "      <td>1.610141e+03</td>\n",
       "      <td>1.634225e+03</td>\n",
       "      <td>2.184263e+03</td>\n",
       "      <td>1.333059e+02</td>\n",
       "      <td>...</td>\n",
       "      <td>7.656862e+02</td>\n",
       "      <td>6.812975e+00</td>\n",
       "      <td>1.823220e+01</td>\n",
       "      <td>3.268348e-04</td>\n",
       "      <td>4.003598e-03</td>\n",
       "      <td>1.917940e+01</td>\n",
       "      <td>3.703571e+00</td>\n",
       "      <td>1.502164e+01</td>\n",
       "      <td>9.013714e-02</td>\n",
       "      <td>2.529647e+01</td>\n",
       "    </tr>\n",
       "    <tr>\n",
       "      <th>std</th>\n",
       "      <td>0.0</td>\n",
       "      <td>3.482546e+00</td>\n",
       "      <td>8.776272e+00</td>\n",
       "      <td>1.995966e+00</td>\n",
       "      <td>4.504853e+02</td>\n",
       "      <td>4.247668e+02</td>\n",
       "      <td>5.481781e+02</td>\n",
       "      <td>4.646347e+02</td>\n",
       "      <td>1.944702e+03</td>\n",
       "      <td>7.206007e+01</td>\n",
       "      <td>...</td>\n",
       "      <td>5.744797e+02</td>\n",
       "      <td>5.273595e+00</td>\n",
       "      <td>1.433853e+01</td>\n",
       "      <td>1.807562e-02</td>\n",
       "      <td>6.314722e-02</td>\n",
       "      <td>4.354621e+01</td>\n",
       "      <td>2.149290e+01</td>\n",
       "      <td>3.383305e+01</td>\n",
       "      <td>2.022714e+00</td>\n",
       "      <td>4.205486e+01</td>\n",
       "    </tr>\n",
       "    <tr>\n",
       "      <th>min</th>\n",
       "      <td>2008.0</td>\n",
       "      <td>1.000000e+00</td>\n",
       "      <td>1.000000e+00</td>\n",
       "      <td>1.000000e+00</td>\n",
       "      <td>1.000000e+00</td>\n",
       "      <td>0.000000e+00</td>\n",
       "      <td>1.000000e+00</td>\n",
       "      <td>0.000000e+00</td>\n",
       "      <td>1.000000e+00</td>\n",
       "      <td>1.400000e+01</td>\n",
       "      <td>...</td>\n",
       "      <td>1.100000e+01</td>\n",
       "      <td>0.000000e+00</td>\n",
       "      <td>0.000000e+00</td>\n",
       "      <td>0.000000e+00</td>\n",
       "      <td>0.000000e+00</td>\n",
       "      <td>0.000000e+00</td>\n",
       "      <td>0.000000e+00</td>\n",
       "      <td>0.000000e+00</td>\n",
       "      <td>0.000000e+00</td>\n",
       "      <td>0.000000e+00</td>\n",
       "    </tr>\n",
       "    <tr>\n",
       "      <th>10%</th>\n",
       "      <td>2008.0</td>\n",
       "      <td>2.000000e+00</td>\n",
       "      <td>4.000000e+00</td>\n",
       "      <td>1.000000e+00</td>\n",
       "      <td>9.140000e+02</td>\n",
       "      <td>8.500000e+02</td>\n",
       "      <td>9.400000e+02</td>\n",
       "      <td>1.020000e+03</td>\n",
       "      <td>2.320000e+02</td>\n",
       "      <td>6.100000e+01</td>\n",
       "      <td>...</td>\n",
       "      <td>2.160000e+02</td>\n",
       "      <td>3.000000e+00</td>\n",
       "      <td>8.000000e+00</td>\n",
       "      <td>0.000000e+00</td>\n",
       "      <td>0.000000e+00</td>\n",
       "      <td>0.000000e+00</td>\n",
       "      <td>0.000000e+00</td>\n",
       "      <td>0.000000e+00</td>\n",
       "      <td>0.000000e+00</td>\n",
       "      <td>0.000000e+00</td>\n",
       "    </tr>\n",
       "    <tr>\n",
       "      <th>25%</th>\n",
       "      <td>2008.0</td>\n",
       "      <td>3.000000e+00</td>\n",
       "      <td>8.000000e+00</td>\n",
       "      <td>2.000000e+00</td>\n",
       "      <td>1.203000e+03</td>\n",
       "      <td>1.135000e+03</td>\n",
       "      <td>1.316000e+03</td>\n",
       "      <td>1.325000e+03</td>\n",
       "      <td>6.100000e+02</td>\n",
       "      <td>8.000000e+01</td>\n",
       "      <td>...</td>\n",
       "      <td>3.380000e+02</td>\n",
       "      <td>4.000000e+00</td>\n",
       "      <td>1.000000e+01</td>\n",
       "      <td>0.000000e+00</td>\n",
       "      <td>0.000000e+00</td>\n",
       "      <td>0.000000e+00</td>\n",
       "      <td>0.000000e+00</td>\n",
       "      <td>0.000000e+00</td>\n",
       "      <td>0.000000e+00</td>\n",
       "      <td>0.000000e+00</td>\n",
       "    </tr>\n",
       "    <tr>\n",
       "      <th>50%</th>\n",
       "      <td>2008.0</td>\n",
       "      <td>6.000000e+00</td>\n",
       "      <td>1.600000e+01</td>\n",
       "      <td>4.000000e+00</td>\n",
       "      <td>1.545000e+03</td>\n",
       "      <td>1.510000e+03</td>\n",
       "      <td>1.715000e+03</td>\n",
       "      <td>1.705000e+03</td>\n",
       "      <td>1.543000e+03</td>\n",
       "      <td>1.160000e+02</td>\n",
       "      <td>...</td>\n",
       "      <td>6.060000e+02</td>\n",
       "      <td>6.000000e+00</td>\n",
       "      <td>1.400000e+01</td>\n",
       "      <td>0.000000e+00</td>\n",
       "      <td>0.000000e+00</td>\n",
       "      <td>2.000000e+00</td>\n",
       "      <td>0.000000e+00</td>\n",
       "      <td>2.000000e+00</td>\n",
       "      <td>0.000000e+00</td>\n",
       "      <td>8.000000e+00</td>\n",
       "    </tr>\n",
       "    <tr>\n",
       "      <th>75%</th>\n",
       "      <td>2008.0</td>\n",
       "      <td>9.000000e+00</td>\n",
       "      <td>2.300000e+01</td>\n",
       "      <td>6.000000e+00</td>\n",
       "      <td>1.900000e+03</td>\n",
       "      <td>1.815000e+03</td>\n",
       "      <td>2.030000e+03</td>\n",
       "      <td>2.014000e+03</td>\n",
       "      <td>3.422000e+03</td>\n",
       "      <td>1.650000e+02</td>\n",
       "      <td>...</td>\n",
       "      <td>9.980000e+02</td>\n",
       "      <td>8.000000e+00</td>\n",
       "      <td>2.100000e+01</td>\n",
       "      <td>0.000000e+00</td>\n",
       "      <td>0.000000e+00</td>\n",
       "      <td>2.100000e+01</td>\n",
       "      <td>0.000000e+00</td>\n",
       "      <td>1.500000e+01</td>\n",
       "      <td>0.000000e+00</td>\n",
       "      <td>3.300000e+01</td>\n",
       "    </tr>\n",
       "    <tr>\n",
       "      <th>95%</th>\n",
       "      <td>2008.0</td>\n",
       "      <td>1.200000e+01</td>\n",
       "      <td>2.900000e+01</td>\n",
       "      <td>7.000000e+00</td>\n",
       "      <td>2.156000e+03</td>\n",
       "      <td>2.115000e+03</td>\n",
       "      <td>2.308000e+03</td>\n",
       "      <td>2.255000e+03</td>\n",
       "      <td>6.066000e+03</td>\n",
       "      <td>2.830000e+02</td>\n",
       "      <td>...</td>\n",
       "      <td>1.999000e+03</td>\n",
       "      <td>1.500000e+01</td>\n",
       "      <td>4.200000e+01</td>\n",
       "      <td>0.000000e+00</td>\n",
       "      <td>0.000000e+00</td>\n",
       "      <td>8.800000e+01</td>\n",
       "      <td>1.700000e+01</td>\n",
       "      <td>7.600000e+01</td>\n",
       "      <td>0.000000e+00</td>\n",
       "      <td>1.090000e+02</td>\n",
       "    </tr>\n",
       "    <tr>\n",
       "      <th>99%</th>\n",
       "      <td>2008.0</td>\n",
       "      <td>1.200000e+01</td>\n",
       "      <td>3.100000e+01</td>\n",
       "      <td>7.000000e+00</td>\n",
       "      <td>2.312000e+03</td>\n",
       "      <td>2.230000e+03</td>\n",
       "      <td>2.349000e+03</td>\n",
       "      <td>2.348000e+03</td>\n",
       "      <td>7.246000e+03</td>\n",
       "      <td>3.650000e+02</td>\n",
       "      <td>...</td>\n",
       "      <td>2.565000e+03</td>\n",
       "      <td>2.700000e+01</td>\n",
       "      <td>7.700000e+01</td>\n",
       "      <td>0.000000e+00</td>\n",
       "      <td>0.000000e+00</td>\n",
       "      <td>1.930000e+02</td>\n",
       "      <td>9.800000e+01</td>\n",
       "      <td>1.670000e+02</td>\n",
       "      <td>0.000000e+00</td>\n",
       "      <td>1.960000e+02</td>\n",
       "    </tr>\n",
       "    <tr>\n",
       "      <th>max</th>\n",
       "      <td>2008.0</td>\n",
       "      <td>1.200000e+01</td>\n",
       "      <td>3.100000e+01</td>\n",
       "      <td>7.000000e+00</td>\n",
       "      <td>2.400000e+03</td>\n",
       "      <td>2.359000e+03</td>\n",
       "      <td>2.400000e+03</td>\n",
       "      <td>2.400000e+03</td>\n",
       "      <td>9.742000e+03</td>\n",
       "      <td>1.114000e+03</td>\n",
       "      <td>...</td>\n",
       "      <td>4.962000e+03</td>\n",
       "      <td>2.400000e+02</td>\n",
       "      <td>4.220000e+02</td>\n",
       "      <td>1.000000e+00</td>\n",
       "      <td>1.000000e+00</td>\n",
       "      <td>2.436000e+03</td>\n",
       "      <td>1.352000e+03</td>\n",
       "      <td>1.357000e+03</td>\n",
       "      <td>3.920000e+02</td>\n",
       "      <td>1.316000e+03</td>\n",
       "    </tr>\n",
       "  </tbody>\n",
       "</table>\n",
       "<p>11 rows × 24 columns</p>\n",
       "</div>"
      ],
      "text/plain": [
       "            Year         Month    DayofMonth     DayOfWeek       DepTime  \\\n",
       "count  1936758.0  1.936758e+06  1.936758e+06  1.936758e+06  1.936758e+06   \n",
       "mean      2008.0  6.111106e+00  1.575347e+01  3.984827e+00  1.518534e+03   \n",
       "std          0.0  3.482546e+00  8.776272e+00  1.995966e+00  4.504853e+02   \n",
       "min       2008.0  1.000000e+00  1.000000e+00  1.000000e+00  1.000000e+00   \n",
       "10%       2008.0  2.000000e+00  4.000000e+00  1.000000e+00  9.140000e+02   \n",
       "25%       2008.0  3.000000e+00  8.000000e+00  2.000000e+00  1.203000e+03   \n",
       "50%       2008.0  6.000000e+00  1.600000e+01  4.000000e+00  1.545000e+03   \n",
       "75%       2008.0  9.000000e+00  2.300000e+01  6.000000e+00  1.900000e+03   \n",
       "95%       2008.0  1.200000e+01  2.900000e+01  7.000000e+00  2.156000e+03   \n",
       "99%       2008.0  1.200000e+01  3.100000e+01  7.000000e+00  2.312000e+03   \n",
       "max       2008.0  1.200000e+01  3.100000e+01  7.000000e+00  2.400000e+03   \n",
       "\n",
       "         CRSDepTime       ArrTime    CRSArrTime     FlightNum  \\\n",
       "count  1.936758e+06  1.929648e+06  1.936758e+06  1.936758e+06   \n",
       "mean   1.467473e+03  1.610141e+03  1.634225e+03  2.184263e+03   \n",
       "std    4.247668e+02  5.481781e+02  4.646347e+02  1.944702e+03   \n",
       "min    0.000000e+00  1.000000e+00  0.000000e+00  1.000000e+00   \n",
       "10%    8.500000e+02  9.400000e+02  1.020000e+03  2.320000e+02   \n",
       "25%    1.135000e+03  1.316000e+03  1.325000e+03  6.100000e+02   \n",
       "50%    1.510000e+03  1.715000e+03  1.705000e+03  1.543000e+03   \n",
       "75%    1.815000e+03  2.030000e+03  2.014000e+03  3.422000e+03   \n",
       "95%    2.115000e+03  2.308000e+03  2.255000e+03  6.066000e+03   \n",
       "99%    2.230000e+03  2.349000e+03  2.348000e+03  7.246000e+03   \n",
       "max    2.359000e+03  2.400000e+03  2.400000e+03  9.742000e+03   \n",
       "\n",
       "       ActualElapsedTime  ...      Distance        TaxiIn       TaxiOut  \\\n",
       "count       1.928371e+06  ...  1.936758e+06  1.929648e+06  1.936303e+06   \n",
       "mean        1.333059e+02  ...  7.656862e+02  6.812975e+00  1.823220e+01   \n",
       "std         7.206007e+01  ...  5.744797e+02  5.273595e+00  1.433853e+01   \n",
       "min         1.400000e+01  ...  1.100000e+01  0.000000e+00  0.000000e+00   \n",
       "10%         6.100000e+01  ...  2.160000e+02  3.000000e+00  8.000000e+00   \n",
       "25%         8.000000e+01  ...  3.380000e+02  4.000000e+00  1.000000e+01   \n",
       "50%         1.160000e+02  ...  6.060000e+02  6.000000e+00  1.400000e+01   \n",
       "75%         1.650000e+02  ...  9.980000e+02  8.000000e+00  2.100000e+01   \n",
       "95%         2.830000e+02  ...  1.999000e+03  1.500000e+01  4.200000e+01   \n",
       "99%         3.650000e+02  ...  2.565000e+03  2.700000e+01  7.700000e+01   \n",
       "max         1.114000e+03  ...  4.962000e+03  2.400000e+02  4.220000e+02   \n",
       "\n",
       "          Cancelled      Diverted  CarrierDelay  WeatherDelay      NASDelay  \\\n",
       "count  1.936758e+06  1.936758e+06  1.247488e+06  1.247488e+06  1.247488e+06   \n",
       "mean   3.268348e-04  4.003598e-03  1.917940e+01  3.703571e+00  1.502164e+01   \n",
       "std    1.807562e-02  6.314722e-02  4.354621e+01  2.149290e+01  3.383305e+01   \n",
       "min    0.000000e+00  0.000000e+00  0.000000e+00  0.000000e+00  0.000000e+00   \n",
       "10%    0.000000e+00  0.000000e+00  0.000000e+00  0.000000e+00  0.000000e+00   \n",
       "25%    0.000000e+00  0.000000e+00  0.000000e+00  0.000000e+00  0.000000e+00   \n",
       "50%    0.000000e+00  0.000000e+00  2.000000e+00  0.000000e+00  2.000000e+00   \n",
       "75%    0.000000e+00  0.000000e+00  2.100000e+01  0.000000e+00  1.500000e+01   \n",
       "95%    0.000000e+00  0.000000e+00  8.800000e+01  1.700000e+01  7.600000e+01   \n",
       "99%    0.000000e+00  0.000000e+00  1.930000e+02  9.800000e+01  1.670000e+02   \n",
       "max    1.000000e+00  1.000000e+00  2.436000e+03  1.352000e+03  1.357000e+03   \n",
       "\n",
       "       SecurityDelay  LateAircraftDelay  \n",
       "count   1.247488e+06       1.247488e+06  \n",
       "mean    9.013714e-02       2.529647e+01  \n",
       "std     2.022714e+00       4.205486e+01  \n",
       "min     0.000000e+00       0.000000e+00  \n",
       "10%     0.000000e+00       0.000000e+00  \n",
       "25%     0.000000e+00       0.000000e+00  \n",
       "50%     0.000000e+00       8.000000e+00  \n",
       "75%     0.000000e+00       3.300000e+01  \n",
       "95%     0.000000e+00       1.090000e+02  \n",
       "99%     0.000000e+00       1.960000e+02  \n",
       "max     3.920000e+02       1.316000e+03  \n",
       "\n",
       "[11 rows x 24 columns]"
      ]
     },
     "execution_count": 5,
     "metadata": {},
     "output_type": "execute_result"
    }
   ],
   "source": [
    "data_trans.describe(percentiles = [.1,.25,.5,.75,.95,.99])"
   ]
  },
  {
   "cell_type": "code",
   "execution_count": 6,
   "metadata": {},
   "outputs": [
    {
     "data": {
      "text/plain": [
       "Year                      0\n",
       "Month                     0\n",
       "DayofMonth                0\n",
       "DayOfWeek                 0\n",
       "DepTime                   0\n",
       "CRSDepTime                0\n",
       "ArrTime                7110\n",
       "CRSArrTime                0\n",
       "UniqueCarrier             0\n",
       "FlightNum                 0\n",
       "TailNum                   5\n",
       "ActualElapsedTime      8387\n",
       "CRSElapsedTime          198\n",
       "AirTime                8387\n",
       "ArrDelay               8387\n",
       "DepDelay                  0\n",
       "Origin                    0\n",
       "Dest                      0\n",
       "Distance                  0\n",
       "TaxiIn                 7110\n",
       "TaxiOut                 455\n",
       "Cancelled                 0\n",
       "CancellationCode          0\n",
       "Diverted                  0\n",
       "CarrierDelay         689270\n",
       "WeatherDelay         689270\n",
       "NASDelay             689270\n",
       "SecurityDelay        689270\n",
       "LateAircraftDelay    689270\n",
       "dtype: int64"
      ]
     },
     "execution_count": 6,
     "metadata": {},
     "output_type": "execute_result"
    }
   ],
   "source": [
    "data_trans.isnull().sum()"
   ]
  },
  {
   "cell_type": "code",
   "execution_count": 7,
   "metadata": {},
   "outputs": [
    {
     "name": "stdout",
     "output_type": "stream",
     "text": [
      "<class 'pandas.core.frame.DataFrame'>\n",
      "RangeIndex: 1936758 entries, 0 to 1936757\n",
      "Data columns (total 29 columns):\n",
      "Year                 int64\n",
      "Month                int64\n",
      "DayofMonth           int64\n",
      "DayOfWeek            int64\n",
      "DepTime              float64\n",
      "CRSDepTime           int64\n",
      "ArrTime              float64\n",
      "CRSArrTime           int64\n",
      "UniqueCarrier        object\n",
      "FlightNum            int64\n",
      "TailNum              object\n",
      "ActualElapsedTime    float64\n",
      "CRSElapsedTime       float64\n",
      "AirTime              float64\n",
      "ArrDelay             float64\n",
      "DepDelay             float64\n",
      "Origin               object\n",
      "Dest                 object\n",
      "Distance             int64\n",
      "TaxiIn               float64\n",
      "TaxiOut              float64\n",
      "Cancelled            int64\n",
      "CancellationCode     object\n",
      "Diverted             int64\n",
      "CarrierDelay         float64\n",
      "WeatherDelay         float64\n",
      "NASDelay             float64\n",
      "SecurityDelay        float64\n",
      "LateAircraftDelay    float64\n",
      "dtypes: float64(14), int64(10), object(5)\n",
      "memory usage: 428.5+ MB\n"
     ]
    }
   ],
   "source": [
    "data_trans.info()"
   ]
  },
  {
   "cell_type": "markdown",
   "metadata": {},
   "source": [
    "Từ các bảng dữ liệu trên ta thấy:\n",
    "- Year chỉ có giá trị 1 năm là 2008 nên ta có thể xóa cột này khi eda và build model\n",
    "- Target la ArrDelay kieu numeric\n",
    "- Cac numerical features la DepTime, CRSDepTime, ArrTime, CRSArrTime, ActualElapsedTime, CRSElapsedTime, AirTime, DepDelay, Distance, TaxiIn, TaxiOut, CarrierDelay, WeatherDelay, NASDelay, SecurityDelay, LateAircraftDelay\n",
    "- Cac feature nhu Year, Month, DayofMonth, DayofWeek, Cancelled, Diverted tuy o bang thong tin o tren ta thay gia tri cua no la kieu int64, nhung ban chat la category nen ta xep vao nhom categorical features\n",
    "- Do do các biến categorical features là Month, DayofMonth, DayofWeek, UniqueCarrier, FlightNum, TailNum, Origin, Dest, Cancelled, CancellationCode, Diverted  "
   ]
  },
  {
   "cell_type": "code",
   "execution_count": 8,
   "metadata": {},
   "outputs": [],
   "source": [
    "data_trans = data_trans.drop('Year',axis = 1)"
   ]
  },
  {
   "cell_type": "code",
   "execution_count": 9,
   "metadata": {},
   "outputs": [],
   "source": [
    "num_feature = ['DepTime', 'CRSDepTime', 'ArrTime', 'CRSArrTime', 'ActualElapsedTime', 'CRSElapsedTime', 'AirTime', \n",
    "               'DepDelay', 'Distance', 'TaxiIn', 'TaxiOut', 'CarrierDelay', 'WeatherDelay', 'NASDelay', \n",
    "               'SecurityDelay', 'LateAircraftDelay']\n",
    "cat_feature = ['Month', 'DayofMonth', 'DayOfWeek', 'UniqueCarrier', 'FlightNum', 'TailNum', 'Origin', 'Dest', 'Cancelled', \n",
    "               'CancellationCode', 'Diverted']"
   ]
  },
  {
   "cell_type": "markdown",
   "metadata": {},
   "source": [
    "# Phan tich bien ArrDelay"
   ]
  },
  {
   "cell_type": "code",
   "execution_count": 10,
   "metadata": {},
   "outputs": [
    {
     "data": {
      "text/plain": [
       "0   -14.0\n",
       "1     2.0\n",
       "2    14.0\n",
       "3    34.0\n",
       "4    11.0\n",
       "5    57.0\n",
       "6     1.0\n",
       "7    80.0\n",
       "8    11.0\n",
       "9    15.0\n",
       "Name: ArrDelay, dtype: float64"
      ]
     },
     "execution_count": 10,
     "metadata": {},
     "output_type": "execute_result"
    }
   ],
   "source": [
    "data['ArrDelay'].head(10)"
   ]
  },
  {
   "cell_type": "code",
   "execution_count": 11,
   "metadata": {},
   "outputs": [
    {
     "name": "stdout",
     "output_type": "stream",
     "text": [
      "count    1.928371e+06\n",
      "mean     4.219988e+01\n",
      "std      5.678472e+01\n",
      "min     -1.090000e+02\n",
      "10%      0.000000e+00\n",
      "25%      9.000000e+00\n",
      "50%      2.400000e+01\n",
      "75%      5.600000e+01\n",
      "95%      1.480000e+02\n",
      "99%      2.560000e+02\n",
      "max      2.461000e+03\n",
      "Name: ArrDelay, dtype: float64\n"
     ]
    },
    {
     "data": {
      "text/plain": [
       "<matplotlib.axes._subplots.AxesSubplot at 0x1bf06ec9f98>"
      ]
     },
     "execution_count": 11,
     "metadata": {},
     "output_type": "execute_result"
    },
    {
     "data": {
      "image/png": "[encoded data removed]",
      "text/plain": [
       "<Figure size 1080x360 with 1 Axes>"
      ]
     },
     "metadata": {
      "needs_background": "light"
     },
     "output_type": "display_data"
    }
   ],
   "source": [
    "print(data['ArrDelay'].describe(percentiles=[.1,.25,.50,.75,.95,.99]))\n",
    "plt.figure(figsize=(15,5))\n",
    "sns.distplot(data['ArrDelay'])"
   ]
  },
  {
   "cell_type": "markdown",
   "metadata": {},
   "source": [
    "# Phan tich cac numerical features"
   ]
  },
  {
   "cell_type": "code",
   "execution_count": 12,
   "metadata": {},
   "outputs": [
    {
     "data": {
      "text/html": [
       "<div>\n",
       "<style scoped>\n",
       "    .dataframe tbody tr th:only-of-type {\n",
       "        vertical-align: middle;\n",
       "    }\n",
       "\n",
       "    .dataframe tbody tr th {\n",
       "        vertical-align: top;\n",
       "    }\n",
       "\n",
       "    .dataframe thead th {\n",
       "        text-align: right;\n",
       "    }\n",
       "</style>\n",
       "<table border=\"1\" class=\"dataframe\">\n",
       "  <thead>\n",
       "    <tr style=\"text-align: right;\">\n",
       "      <th></th>\n",
       "      <th>DepTime</th>\n",
       "      <th>CRSDepTime</th>\n",
       "      <th>ArrTime</th>\n",
       "      <th>CRSArrTime</th>\n",
       "      <th>ActualElapsedTime</th>\n",
       "      <th>CRSElapsedTime</th>\n",
       "      <th>AirTime</th>\n",
       "      <th>DepDelay</th>\n",
       "      <th>Distance</th>\n",
       "      <th>TaxiIn</th>\n",
       "      <th>TaxiOut</th>\n",
       "      <th>CarrierDelay</th>\n",
       "      <th>WeatherDelay</th>\n",
       "      <th>NASDelay</th>\n",
       "      <th>SecurityDelay</th>\n",
       "      <th>LateAircraftDelay</th>\n",
       "      <th>ArrDelay</th>\n",
       "    </tr>\n",
       "  </thead>\n",
       "  <tbody>\n",
       "    <tr>\n",
       "      <th>0</th>\n",
       "      <td>2003.0</td>\n",
       "      <td>1955</td>\n",
       "      <td>2211.0</td>\n",
       "      <td>2225</td>\n",
       "      <td>128.0</td>\n",
       "      <td>150.0</td>\n",
       "      <td>116.0</td>\n",
       "      <td>8.0</td>\n",
       "      <td>810</td>\n",
       "      <td>4.0</td>\n",
       "      <td>8.0</td>\n",
       "      <td>NaN</td>\n",
       "      <td>NaN</td>\n",
       "      <td>NaN</td>\n",
       "      <td>NaN</td>\n",
       "      <td>NaN</td>\n",
       "      <td>-14.0</td>\n",
       "    </tr>\n",
       "    <tr>\n",
       "      <th>1</th>\n",
       "      <td>754.0</td>\n",
       "      <td>735</td>\n",
       "      <td>1002.0</td>\n",
       "      <td>1000</td>\n",
       "      <td>128.0</td>\n",
       "      <td>145.0</td>\n",
       "      <td>113.0</td>\n",
       "      <td>19.0</td>\n",
       "      <td>810</td>\n",
       "      <td>5.0</td>\n",
       "      <td>10.0</td>\n",
       "      <td>NaN</td>\n",
       "      <td>NaN</td>\n",
       "      <td>NaN</td>\n",
       "      <td>NaN</td>\n",
       "      <td>NaN</td>\n",
       "      <td>2.0</td>\n",
       "    </tr>\n",
       "    <tr>\n",
       "      <th>2</th>\n",
       "      <td>628.0</td>\n",
       "      <td>620</td>\n",
       "      <td>804.0</td>\n",
       "      <td>750</td>\n",
       "      <td>96.0</td>\n",
       "      <td>90.0</td>\n",
       "      <td>76.0</td>\n",
       "      <td>8.0</td>\n",
       "      <td>515</td>\n",
       "      <td>3.0</td>\n",
       "      <td>17.0</td>\n",
       "      <td>NaN</td>\n",
       "      <td>NaN</td>\n",
       "      <td>NaN</td>\n",
       "      <td>NaN</td>\n",
       "      <td>NaN</td>\n",
       "      <td>14.0</td>\n",
       "    </tr>\n",
       "    <tr>\n",
       "      <th>3</th>\n",
       "      <td>1829.0</td>\n",
       "      <td>1755</td>\n",
       "      <td>1959.0</td>\n",
       "      <td>1925</td>\n",
       "      <td>90.0</td>\n",
       "      <td>90.0</td>\n",
       "      <td>77.0</td>\n",
       "      <td>34.0</td>\n",
       "      <td>515</td>\n",
       "      <td>3.0</td>\n",
       "      <td>10.0</td>\n",
       "      <td>2.0</td>\n",
       "      <td>0.0</td>\n",
       "      <td>0.0</td>\n",
       "      <td>0.0</td>\n",
       "      <td>32.0</td>\n",
       "      <td>34.0</td>\n",
       "    </tr>\n",
       "    <tr>\n",
       "      <th>4</th>\n",
       "      <td>1940.0</td>\n",
       "      <td>1915</td>\n",
       "      <td>2121.0</td>\n",
       "      <td>2110</td>\n",
       "      <td>101.0</td>\n",
       "      <td>115.0</td>\n",
       "      <td>87.0</td>\n",
       "      <td>25.0</td>\n",
       "      <td>688</td>\n",
       "      <td>4.0</td>\n",
       "      <td>10.0</td>\n",
       "      <td>NaN</td>\n",
       "      <td>NaN</td>\n",
       "      <td>NaN</td>\n",
       "      <td>NaN</td>\n",
       "      <td>NaN</td>\n",
       "      <td>11.0</td>\n",
       "    </tr>\n",
       "    <tr>\n",
       "      <th>5</th>\n",
       "      <td>1937.0</td>\n",
       "      <td>1830</td>\n",
       "      <td>2037.0</td>\n",
       "      <td>1940</td>\n",
       "      <td>240.0</td>\n",
       "      <td>250.0</td>\n",
       "      <td>230.0</td>\n",
       "      <td>67.0</td>\n",
       "      <td>1591</td>\n",
       "      <td>3.0</td>\n",
       "      <td>7.0</td>\n",
       "      <td>10.0</td>\n",
       "      <td>0.0</td>\n",
       "      <td>0.0</td>\n",
       "      <td>0.0</td>\n",
       "      <td>47.0</td>\n",
       "      <td>57.0</td>\n",
       "    </tr>\n",
       "    <tr>\n",
       "      <th>6</th>\n",
       "      <td>706.0</td>\n",
       "      <td>700</td>\n",
       "      <td>916.0</td>\n",
       "      <td>915</td>\n",
       "      <td>130.0</td>\n",
       "      <td>135.0</td>\n",
       "      <td>106.0</td>\n",
       "      <td>6.0</td>\n",
       "      <td>828</td>\n",
       "      <td>5.0</td>\n",
       "      <td>19.0</td>\n",
       "      <td>NaN</td>\n",
       "      <td>NaN</td>\n",
       "      <td>NaN</td>\n",
       "      <td>NaN</td>\n",
       "      <td>NaN</td>\n",
       "      <td>1.0</td>\n",
       "    </tr>\n",
       "    <tr>\n",
       "      <th>7</th>\n",
       "      <td>1644.0</td>\n",
       "      <td>1510</td>\n",
       "      <td>1845.0</td>\n",
       "      <td>1725</td>\n",
       "      <td>121.0</td>\n",
       "      <td>135.0</td>\n",
       "      <td>107.0</td>\n",
       "      <td>94.0</td>\n",
       "      <td>828</td>\n",
       "      <td>6.0</td>\n",
       "      <td>8.0</td>\n",
       "      <td>8.0</td>\n",
       "      <td>0.0</td>\n",
       "      <td>0.0</td>\n",
       "      <td>0.0</td>\n",
       "      <td>72.0</td>\n",
       "      <td>80.0</td>\n",
       "    </tr>\n",
       "    <tr>\n",
       "      <th>8</th>\n",
       "      <td>1029.0</td>\n",
       "      <td>1020</td>\n",
       "      <td>1021.0</td>\n",
       "      <td>1010</td>\n",
       "      <td>52.0</td>\n",
       "      <td>50.0</td>\n",
       "      <td>37.0</td>\n",
       "      <td>9.0</td>\n",
       "      <td>162</td>\n",
       "      <td>6.0</td>\n",
       "      <td>9.0</td>\n",
       "      <td>NaN</td>\n",
       "      <td>NaN</td>\n",
       "      <td>NaN</td>\n",
       "      <td>NaN</td>\n",
       "      <td>NaN</td>\n",
       "      <td>11.0</td>\n",
       "    </tr>\n",
       "    <tr>\n",
       "      <th>9</th>\n",
       "      <td>1452.0</td>\n",
       "      <td>1425</td>\n",
       "      <td>1640.0</td>\n",
       "      <td>1625</td>\n",
       "      <td>228.0</td>\n",
       "      <td>240.0</td>\n",
       "      <td>213.0</td>\n",
       "      <td>27.0</td>\n",
       "      <td>1489</td>\n",
       "      <td>7.0</td>\n",
       "      <td>8.0</td>\n",
       "      <td>3.0</td>\n",
       "      <td>0.0</td>\n",
       "      <td>0.0</td>\n",
       "      <td>0.0</td>\n",
       "      <td>12.0</td>\n",
       "      <td>15.0</td>\n",
       "    </tr>\n",
       "  </tbody>\n",
       "</table>\n",
       "</div>"
      ],
      "text/plain": [
       "   DepTime  CRSDepTime  ArrTime  CRSArrTime  ActualElapsedTime  \\\n",
       "0   2003.0        1955   2211.0        2225              128.0   \n",
       "1    754.0         735   1002.0        1000              128.0   \n",
       "2    628.0         620    804.0         750               96.0   \n",
       "3   1829.0        1755   1959.0        1925               90.0   \n",
       "4   1940.0        1915   2121.0        2110              101.0   \n",
       "5   1937.0        1830   2037.0        1940              240.0   \n",
       "6    706.0         700    916.0         915              130.0   \n",
       "7   1644.0        1510   1845.0        1725              121.0   \n",
       "8   1029.0        1020   1021.0        1010               52.0   \n",
       "9   1452.0        1425   1640.0        1625              228.0   \n",
       "\n",
       "   CRSElapsedTime  AirTime  DepDelay  Distance  TaxiIn  TaxiOut  CarrierDelay  \\\n",
       "0           150.0    116.0       8.0       810     4.0      8.0           NaN   \n",
       "1           145.0    113.0      19.0       810     5.0     10.0           NaN   \n",
       "2            90.0     76.0       8.0       515     3.0     17.0           NaN   \n",
       "3            90.0     77.0      34.0       515     3.0     10.0           2.0   \n",
       "4           115.0     87.0      25.0       688     4.0     10.0           NaN   \n",
       "5           250.0    230.0      67.0      1591     3.0      7.0          10.0   \n",
       "6           135.0    106.0       6.0       828     5.0     19.0           NaN   \n",
       "7           135.0    107.0      94.0       828     6.0      8.0           8.0   \n",
       "8            50.0     37.0       9.0       162     6.0      9.0           NaN   \n",
       "9           240.0    213.0      27.0      1489     7.0      8.0           3.0   \n",
       "\n",
       "   WeatherDelay  NASDelay  SecurityDelay  LateAircraftDelay  ArrDelay  \n",
       "0           NaN       NaN            NaN                NaN     -14.0  \n",
       "1           NaN       NaN            NaN                NaN       2.0  \n",
       "2           NaN       NaN            NaN                NaN      14.0  \n",
       "3           0.0       0.0            0.0               32.0      34.0  \n",
       "4           NaN       NaN            NaN                NaN      11.0  \n",
       "5           0.0       0.0            0.0               47.0      57.0  \n",
       "6           NaN       NaN            NaN                NaN       1.0  \n",
       "7           0.0       0.0            0.0               72.0      80.0  \n",
       "8           NaN       NaN            NaN                NaN      11.0  \n",
       "9           0.0       0.0            0.0               12.0      15.0  "
      ]
     },
     "execution_count": 12,
     "metadata": {},
     "output_type": "execute_result"
    }
   ],
   "source": [
    "data_trans[num_feature + ['ArrDelay']].head(10)"
   ]
  },
  {
   "cell_type": "code",
   "execution_count": 13,
   "metadata": {},
   "outputs": [
    {
     "data": {
      "text/html": [
       "<div>\n",
       "<style scoped>\n",
       "    .dataframe tbody tr th:only-of-type {\n",
       "        vertical-align: middle;\n",
       "    }\n",
       "\n",
       "    .dataframe tbody tr th {\n",
       "        vertical-align: top;\n",
       "    }\n",
       "\n",
       "    .dataframe thead th {\n",
       "        text-align: right;\n",
       "    }\n",
       "</style>\n",
       "<table border=\"1\" class=\"dataframe\">\n",
       "  <thead>\n",
       "    <tr style=\"text-align: right;\">\n",
       "      <th></th>\n",
       "      <th>DepTime</th>\n",
       "      <th>CRSDepTime</th>\n",
       "      <th>ArrTime</th>\n",
       "      <th>CRSArrTime</th>\n",
       "      <th>ActualElapsedTime</th>\n",
       "      <th>CRSElapsedTime</th>\n",
       "      <th>AirTime</th>\n",
       "      <th>DepDelay</th>\n",
       "      <th>Distance</th>\n",
       "      <th>TaxiIn</th>\n",
       "      <th>TaxiOut</th>\n",
       "      <th>CarrierDelay</th>\n",
       "      <th>WeatherDelay</th>\n",
       "      <th>NASDelay</th>\n",
       "      <th>SecurityDelay</th>\n",
       "      <th>LateAircraftDelay</th>\n",
       "    </tr>\n",
       "  </thead>\n",
       "  <tbody>\n",
       "    <tr>\n",
       "      <th>count</th>\n",
       "      <td>1.936758e+06</td>\n",
       "      <td>1.936758e+06</td>\n",
       "      <td>1.929648e+06</td>\n",
       "      <td>1.936758e+06</td>\n",
       "      <td>1.928371e+06</td>\n",
       "      <td>1.936560e+06</td>\n",
       "      <td>1.928371e+06</td>\n",
       "      <td>1.936758e+06</td>\n",
       "      <td>1.936758e+06</td>\n",
       "      <td>1.929648e+06</td>\n",
       "      <td>1.936303e+06</td>\n",
       "      <td>1.247488e+06</td>\n",
       "      <td>1.247488e+06</td>\n",
       "      <td>1.247488e+06</td>\n",
       "      <td>1.247488e+06</td>\n",
       "      <td>1.247488e+06</td>\n",
       "    </tr>\n",
       "    <tr>\n",
       "      <th>mean</th>\n",
       "      <td>1.518534e+03</td>\n",
       "      <td>1.467473e+03</td>\n",
       "      <td>1.610141e+03</td>\n",
       "      <td>1.634225e+03</td>\n",
       "      <td>1.333059e+02</td>\n",
       "      <td>1.343027e+02</td>\n",
       "      <td>1.082771e+02</td>\n",
       "      <td>4.318518e+01</td>\n",
       "      <td>7.656862e+02</td>\n",
       "      <td>6.812975e+00</td>\n",
       "      <td>1.823220e+01</td>\n",
       "      <td>1.917940e+01</td>\n",
       "      <td>3.703571e+00</td>\n",
       "      <td>1.502164e+01</td>\n",
       "      <td>9.013714e-02</td>\n",
       "      <td>2.529647e+01</td>\n",
       "    </tr>\n",
       "    <tr>\n",
       "      <th>std</th>\n",
       "      <td>4.504853e+02</td>\n",
       "      <td>4.247668e+02</td>\n",
       "      <td>5.481781e+02</td>\n",
       "      <td>4.646347e+02</td>\n",
       "      <td>7.206007e+01</td>\n",
       "      <td>7.134144e+01</td>\n",
       "      <td>6.864261e+01</td>\n",
       "      <td>5.340250e+01</td>\n",
       "      <td>5.744797e+02</td>\n",
       "      <td>5.273595e+00</td>\n",
       "      <td>1.433853e+01</td>\n",
       "      <td>4.354621e+01</td>\n",
       "      <td>2.149290e+01</td>\n",
       "      <td>3.383305e+01</td>\n",
       "      <td>2.022714e+00</td>\n",
       "      <td>4.205486e+01</td>\n",
       "    </tr>\n",
       "    <tr>\n",
       "      <th>min</th>\n",
       "      <td>1.000000e+00</td>\n",
       "      <td>0.000000e+00</td>\n",
       "      <td>1.000000e+00</td>\n",
       "      <td>0.000000e+00</td>\n",
       "      <td>1.400000e+01</td>\n",
       "      <td>-2.500000e+01</td>\n",
       "      <td>0.000000e+00</td>\n",
       "      <td>6.000000e+00</td>\n",
       "      <td>1.100000e+01</td>\n",
       "      <td>0.000000e+00</td>\n",
       "      <td>0.000000e+00</td>\n",
       "      <td>0.000000e+00</td>\n",
       "      <td>0.000000e+00</td>\n",
       "      <td>0.000000e+00</td>\n",
       "      <td>0.000000e+00</td>\n",
       "      <td>0.000000e+00</td>\n",
       "    </tr>\n",
       "    <tr>\n",
       "      <th>10%</th>\n",
       "      <td>9.140000e+02</td>\n",
       "      <td>8.500000e+02</td>\n",
       "      <td>9.400000e+02</td>\n",
       "      <td>1.020000e+03</td>\n",
       "      <td>6.100000e+01</td>\n",
       "      <td>6.500000e+01</td>\n",
       "      <td>4.200000e+01</td>\n",
       "      <td>8.000000e+00</td>\n",
       "      <td>2.160000e+02</td>\n",
       "      <td>3.000000e+00</td>\n",
       "      <td>8.000000e+00</td>\n",
       "      <td>0.000000e+00</td>\n",
       "      <td>0.000000e+00</td>\n",
       "      <td>0.000000e+00</td>\n",
       "      <td>0.000000e+00</td>\n",
       "      <td>0.000000e+00</td>\n",
       "    </tr>\n",
       "    <tr>\n",
       "      <th>25%</th>\n",
       "      <td>1.203000e+03</td>\n",
       "      <td>1.135000e+03</td>\n",
       "      <td>1.316000e+03</td>\n",
       "      <td>1.325000e+03</td>\n",
       "      <td>8.000000e+01</td>\n",
       "      <td>8.200000e+01</td>\n",
       "      <td>5.800000e+01</td>\n",
       "      <td>1.200000e+01</td>\n",
       "      <td>3.380000e+02</td>\n",
       "      <td>4.000000e+00</td>\n",
       "      <td>1.000000e+01</td>\n",
       "      <td>0.000000e+00</td>\n",
       "      <td>0.000000e+00</td>\n",
       "      <td>0.000000e+00</td>\n",
       "      <td>0.000000e+00</td>\n",
       "      <td>0.000000e+00</td>\n",
       "    </tr>\n",
       "    <tr>\n",
       "      <th>50%</th>\n",
       "      <td>1.545000e+03</td>\n",
       "      <td>1.510000e+03</td>\n",
       "      <td>1.715000e+03</td>\n",
       "      <td>1.705000e+03</td>\n",
       "      <td>1.160000e+02</td>\n",
       "      <td>1.160000e+02</td>\n",
       "      <td>9.000000e+01</td>\n",
       "      <td>2.400000e+01</td>\n",
       "      <td>6.060000e+02</td>\n",
       "      <td>6.000000e+00</td>\n",
       "      <td>1.400000e+01</td>\n",
       "      <td>2.000000e+00</td>\n",
       "      <td>0.000000e+00</td>\n",
       "      <td>2.000000e+00</td>\n",
       "      <td>0.000000e+00</td>\n",
       "      <td>8.000000e+00</td>\n",
       "    </tr>\n",
       "    <tr>\n",
       "      <th>75%</th>\n",
       "      <td>1.900000e+03</td>\n",
       "      <td>1.815000e+03</td>\n",
       "      <td>2.030000e+03</td>\n",
       "      <td>2.014000e+03</td>\n",
       "      <td>1.650000e+02</td>\n",
       "      <td>1.650000e+02</td>\n",
       "      <td>1.370000e+02</td>\n",
       "      <td>5.300000e+01</td>\n",
       "      <td>9.980000e+02</td>\n",
       "      <td>8.000000e+00</td>\n",
       "      <td>2.100000e+01</td>\n",
       "      <td>2.100000e+01</td>\n",
       "      <td>0.000000e+00</td>\n",
       "      <td>1.500000e+01</td>\n",
       "      <td>0.000000e+00</td>\n",
       "      <td>3.300000e+01</td>\n",
       "    </tr>\n",
       "    <tr>\n",
       "      <th>95%</th>\n",
       "      <td>2.156000e+03</td>\n",
       "      <td>2.115000e+03</td>\n",
       "      <td>2.308000e+03</td>\n",
       "      <td>2.255000e+03</td>\n",
       "      <td>2.830000e+02</td>\n",
       "      <td>2.840000e+02</td>\n",
       "      <td>2.540000e+02</td>\n",
       "      <td>1.430000e+02</td>\n",
       "      <td>1.999000e+03</td>\n",
       "      <td>1.500000e+01</td>\n",
       "      <td>4.200000e+01</td>\n",
       "      <td>8.800000e+01</td>\n",
       "      <td>1.700000e+01</td>\n",
       "      <td>7.600000e+01</td>\n",
       "      <td>0.000000e+00</td>\n",
       "      <td>1.090000e+02</td>\n",
       "    </tr>\n",
       "    <tr>\n",
       "      <th>99%</th>\n",
       "      <td>2.312000e+03</td>\n",
       "      <td>2.230000e+03</td>\n",
       "      <td>2.349000e+03</td>\n",
       "      <td>2.348000e+03</td>\n",
       "      <td>3.650000e+02</td>\n",
       "      <td>3.670000e+02</td>\n",
       "      <td>3.290000e+02</td>\n",
       "      <td>2.490000e+02</td>\n",
       "      <td>2.565000e+03</td>\n",
       "      <td>2.700000e+01</td>\n",
       "      <td>7.700000e+01</td>\n",
       "      <td>1.930000e+02</td>\n",
       "      <td>9.800000e+01</td>\n",
       "      <td>1.670000e+02</td>\n",
       "      <td>0.000000e+00</td>\n",
       "      <td>1.960000e+02</td>\n",
       "    </tr>\n",
       "    <tr>\n",
       "      <th>max</th>\n",
       "      <td>2.400000e+03</td>\n",
       "      <td>2.359000e+03</td>\n",
       "      <td>2.400000e+03</td>\n",
       "      <td>2.400000e+03</td>\n",
       "      <td>1.114000e+03</td>\n",
       "      <td>6.600000e+02</td>\n",
       "      <td>1.091000e+03</td>\n",
       "      <td>2.467000e+03</td>\n",
       "      <td>4.962000e+03</td>\n",
       "      <td>2.400000e+02</td>\n",
       "      <td>4.220000e+02</td>\n",
       "      <td>2.436000e+03</td>\n",
       "      <td>1.352000e+03</td>\n",
       "      <td>1.357000e+03</td>\n",
       "      <td>3.920000e+02</td>\n",
       "      <td>1.316000e+03</td>\n",
       "    </tr>\n",
       "  </tbody>\n",
       "</table>\n",
       "</div>"
      ],
      "text/plain": [
       "            DepTime    CRSDepTime       ArrTime    CRSArrTime  \\\n",
       "count  1.936758e+06  1.936758e+06  1.929648e+06  1.936758e+06   \n",
       "mean   1.518534e+03  1.467473e+03  1.610141e+03  1.634225e+03   \n",
       "std    4.504853e+02  4.247668e+02  5.481781e+02  4.646347e+02   \n",
       "min    1.000000e+00  0.000000e+00  1.000000e+00  0.000000e+00   \n",
       "10%    9.140000e+02  8.500000e+02  9.400000e+02  1.020000e+03   \n",
       "25%    1.203000e+03  1.135000e+03  1.316000e+03  1.325000e+03   \n",
       "50%    1.545000e+03  1.510000e+03  1.715000e+03  1.705000e+03   \n",
       "75%    1.900000e+03  1.815000e+03  2.030000e+03  2.014000e+03   \n",
       "95%    2.156000e+03  2.115000e+03  2.308000e+03  2.255000e+03   \n",
       "99%    2.312000e+03  2.230000e+03  2.349000e+03  2.348000e+03   \n",
       "max    2.400000e+03  2.359000e+03  2.400000e+03  2.400000e+03   \n",
       "\n",
       "       ActualElapsedTime  CRSElapsedTime       AirTime      DepDelay  \\\n",
       "count       1.928371e+06    1.936560e+06  1.928371e+06  1.936758e+06   \n",
       "mean        1.333059e+02    1.343027e+02  1.082771e+02  4.318518e+01   \n",
       "std         7.206007e+01    7.134144e+01  6.864261e+01  5.340250e+01   \n",
       "min         1.400000e+01   -2.500000e+01  0.000000e+00  6.000000e+00   \n",
       "10%         6.100000e+01    6.500000e+01  4.200000e+01  8.000000e+00   \n",
       "25%         8.000000e+01    8.200000e+01  5.800000e+01  1.200000e+01   \n",
       "50%         1.160000e+02    1.160000e+02  9.000000e+01  2.400000e+01   \n",
       "75%         1.650000e+02    1.650000e+02  1.370000e+02  5.300000e+01   \n",
       "95%         2.830000e+02    2.840000e+02  2.540000e+02  1.430000e+02   \n",
       "99%         3.650000e+02    3.670000e+02  3.290000e+02  2.490000e+02   \n",
       "max         1.114000e+03    6.600000e+02  1.091000e+03  2.467000e+03   \n",
       "\n",
       "           Distance        TaxiIn       TaxiOut  CarrierDelay  WeatherDelay  \\\n",
       "count  1.936758e+06  1.929648e+06  1.936303e+06  1.247488e+06  1.247488e+06   \n",
       "mean   7.656862e+02  6.812975e+00  1.823220e+01  1.917940e+01  3.703571e+00   \n",
       "std    5.744797e+02  5.273595e+00  1.433853e+01  4.354621e+01  2.149290e+01   \n",
       "min    1.100000e+01  0.000000e+00  0.000000e+00  0.000000e+00  0.000000e+00   \n",
       "10%    2.160000e+02  3.000000e+00  8.000000e+00  0.000000e+00  0.000000e+00   \n",
       "25%    3.380000e+02  4.000000e+00  1.000000e+01  0.000000e+00  0.000000e+00   \n",
       "50%    6.060000e+02  6.000000e+00  1.400000e+01  2.000000e+00  0.000000e+00   \n",
       "75%    9.980000e+02  8.000000e+00  2.100000e+01  2.100000e+01  0.000000e+00   \n",
       "95%    1.999000e+03  1.500000e+01  4.200000e+01  8.800000e+01  1.700000e+01   \n",
       "99%    2.565000e+03  2.700000e+01  7.700000e+01  1.930000e+02  9.800000e+01   \n",
       "max    4.962000e+03  2.400000e+02  4.220000e+02  2.436000e+03  1.352000e+03   \n",
       "\n",
       "           NASDelay  SecurityDelay  LateAircraftDelay  \n",
       "count  1.247488e+06   1.247488e+06       1.247488e+06  \n",
       "mean   1.502164e+01   9.013714e-02       2.529647e+01  \n",
       "std    3.383305e+01   2.022714e+00       4.205486e+01  \n",
       "min    0.000000e+00   0.000000e+00       0.000000e+00  \n",
       "10%    0.000000e+00   0.000000e+00       0.000000e+00  \n",
       "25%    0.000000e+00   0.000000e+00       0.000000e+00  \n",
       "50%    2.000000e+00   0.000000e+00       8.000000e+00  \n",
       "75%    1.500000e+01   0.000000e+00       3.300000e+01  \n",
       "95%    7.600000e+01   0.000000e+00       1.090000e+02  \n",
       "99%    1.670000e+02   0.000000e+00       1.960000e+02  \n",
       "max    1.357000e+03   3.920000e+02       1.316000e+03  "
      ]
     },
     "execution_count": 13,
     "metadata": {},
     "output_type": "execute_result"
    }
   ],
   "source": [
    "data_trans[num_feature].describe(percentiles = [.1,.25,.5,.75,.95,.99])"
   ]
  },
  {
   "cell_type": "code",
   "execution_count": 14,
   "metadata": {},
   "outputs": [
    {
     "data": {
      "text/html": [
       "<div>\n",
       "<style scoped>\n",
       "    .dataframe tbody tr th:only-of-type {\n",
       "        vertical-align: middle;\n",
       "    }\n",
       "\n",
       "    .dataframe tbody tr th {\n",
       "        vertical-align: top;\n",
       "    }\n",
       "\n",
       "    .dataframe thead th {\n",
       "        text-align: right;\n",
       "    }\n",
       "</style>\n",
       "<table border=\"1\" class=\"dataframe\">\n",
       "  <thead>\n",
       "    <tr style=\"text-align: right;\">\n",
       "      <th></th>\n",
       "      <th>DepDelay</th>\n",
       "      <th>ArrDelay</th>\n",
       "    </tr>\n",
       "  </thead>\n",
       "  <tbody>\n",
       "    <tr>\n",
       "      <th>0</th>\n",
       "      <td>8.0</td>\n",
       "      <td>-14.0</td>\n",
       "    </tr>\n",
       "    <tr>\n",
       "      <th>1</th>\n",
       "      <td>19.0</td>\n",
       "      <td>2.0</td>\n",
       "    </tr>\n",
       "    <tr>\n",
       "      <th>2</th>\n",
       "      <td>8.0</td>\n",
       "      <td>14.0</td>\n",
       "    </tr>\n",
       "    <tr>\n",
       "      <th>3</th>\n",
       "      <td>34.0</td>\n",
       "      <td>34.0</td>\n",
       "    </tr>\n",
       "    <tr>\n",
       "      <th>4</th>\n",
       "      <td>25.0</td>\n",
       "      <td>11.0</td>\n",
       "    </tr>\n",
       "    <tr>\n",
       "      <th>5</th>\n",
       "      <td>67.0</td>\n",
       "      <td>57.0</td>\n",
       "    </tr>\n",
       "    <tr>\n",
       "      <th>6</th>\n",
       "      <td>6.0</td>\n",
       "      <td>1.0</td>\n",
       "    </tr>\n",
       "    <tr>\n",
       "      <th>7</th>\n",
       "      <td>94.0</td>\n",
       "      <td>80.0</td>\n",
       "    </tr>\n",
       "    <tr>\n",
       "      <th>8</th>\n",
       "      <td>9.0</td>\n",
       "      <td>11.0</td>\n",
       "    </tr>\n",
       "    <tr>\n",
       "      <th>9</th>\n",
       "      <td>27.0</td>\n",
       "      <td>15.0</td>\n",
       "    </tr>\n",
       "  </tbody>\n",
       "</table>\n",
       "</div>"
      ],
      "text/plain": [
       "   DepDelay  ArrDelay\n",
       "0       8.0     -14.0\n",
       "1      19.0       2.0\n",
       "2       8.0      14.0\n",
       "3      34.0      34.0\n",
       "4      25.0      11.0\n",
       "5      67.0      57.0\n",
       "6       6.0       1.0\n",
       "7      94.0      80.0\n",
       "8       9.0      11.0\n",
       "9      27.0      15.0"
      ]
     },
     "execution_count": 14,
     "metadata": {},
     "output_type": "execute_result"
    }
   ],
   "source": [
    "data_trans[['DepDelay','ArrDelay']].head(10)"
   ]
  },
  {
   "cell_type": "markdown",
   "metadata": {},
   "source": [
    "- Tu bang du lieu tren ta thay co cac feature: CarrierDelay, WeatherDelay, NASDelay, SecurityDelay, LateAircraftDelay day la cac khoang delay do nhieu yeu to khac nhau la: Carrier, Weather, NAS, Security, LateAircraft \n",
    "- Ngoai ra ta cung thay rang ArrDelay = CarrierDelay + WeatherDelay + NASDelay + SecurityDelay + LateAircraftDelay. Nghia la thoi gian bi delay cua chuyen bay chinh la tong thoi gian delay cua cac yeu to tren\n",
    "- O day ta chi xem xet tong thoi gian bi delay (ArrDelay) de xem chuyen bay co bi tre hay ko. Do do ta khong su dung cac cot thoi gian delay cua tung yeu to tren va se xoa cac cot: CarrierDelay, WeatherDelay, NASDelay, SecurityDelay, LateAircraftDelay\n",
    "- Ta xoa cot DepDelay vi khi gia tri DepDelay da biet thi ta gan nhu biet duoc chuyen bay do co bi tre hay ko, do do ta ko dua feature nay vao build cac model"
   ]
  },
  {
   "cell_type": "code",
   "execution_count": 15,
   "metadata": {},
   "outputs": [],
   "source": [
    "data_trans.drop(['CarrierDelay', 'WeatherDelay', 'NASDelay', 'SecurityDelay', 'LateAircraftDelay', 'DepDelay'], axis = 1, inplace = True)"
   ]
  },
  {
   "cell_type": "code",
   "execution_count": 16,
   "metadata": {},
   "outputs": [],
   "source": [
    "# update lai cac numerical feature\n",
    "num_feature = ['DepTime', 'CRSDepTime', 'ArrTime', 'CRSArrTime', 'ActualElapsedTime', 'CRSElapsedTime', 'AirTime', \n",
    "               'Distance', 'TaxiIn', 'TaxiOut']"
   ]
  },
  {
   "cell_type": "markdown",
   "metadata": {},
   "source": [
    "### Bieu do phan phoi cac numerical features"
   ]
  },
  {
   "cell_type": "code",
   "execution_count": 17,
   "metadata": {},
   "outputs": [
    {
     "data": {
      "text/plain": [
       "array([[<matplotlib.axes._subplots.AxesSubplot object at 0x000001BF071C48D0>,\n",
       "        <matplotlib.axes._subplots.AxesSubplot object at 0x000001BF06FFB9B0>,\n",
       "        <matplotlib.axes._subplots.AxesSubplot object at 0x000001BF0702BF60>],\n",
       "       [<matplotlib.axes._subplots.AxesSubplot object at 0x000001BF07068550>,\n",
       "        <matplotlib.axes._subplots.AxesSubplot object at 0x000001BF07098B00>,\n",
       "        <matplotlib.axes._subplots.AxesSubplot object at 0x000001BF070CCFD0>],\n",
       "       [<matplotlib.axes._subplots.AxesSubplot object at 0x000001BF07106588>,\n",
       "        <matplotlib.axes._subplots.AxesSubplot object at 0x000001BF0713AB70>,\n",
       "        <matplotlib.axes._subplots.AxesSubplot object at 0x000001BF0713ABA8>],\n",
       "       [<matplotlib.axes._subplots.AxesSubplot object at 0x000001BF211766D8>,\n",
       "        <matplotlib.axes._subplots.AxesSubplot object at 0x000001BF211A9C88>,\n",
       "        <matplotlib.axes._subplots.AxesSubplot object at 0x000001BF211E6198>]],\n",
       "      dtype=object)"
      ]
     },
     "execution_count": 17,
     "metadata": {},
     "output_type": "execute_result"
    },
    {
     "data": {
      "image/png": "[encoded data removed]",
      "text/plain": [
       "<Figure size 1080x1080 with 12 Axes>"
      ]
     },
     "metadata": {
      "needs_background": "light"
     },
     "output_type": "display_data"
    }
   ],
   "source": [
    "data_trans[num_feature].hist(figsize=(15, 15), bins=50)"
   ]
  },
  {
   "cell_type": "markdown",
   "metadata": {},
   "source": [
    "# Phan tich cac Categorical features"
   ]
  },
  {
   "cell_type": "code",
   "execution_count": 18,
   "metadata": {},
   "outputs": [
    {
     "data": {
      "text/html": [
       "<div>\n",
       "<style scoped>\n",
       "    .dataframe tbody tr th:only-of-type {\n",
       "        vertical-align: middle;\n",
       "    }\n",
       "\n",
       "    .dataframe tbody tr th {\n",
       "        vertical-align: top;\n",
       "    }\n",
       "\n",
       "    .dataframe thead th {\n",
       "        text-align: right;\n",
       "    }\n",
       "</style>\n",
       "<table border=\"1\" class=\"dataframe\">\n",
       "  <thead>\n",
       "    <tr style=\"text-align: right;\">\n",
       "      <th></th>\n",
       "      <th>Month</th>\n",
       "      <th>DayofMonth</th>\n",
       "      <th>DayOfWeek</th>\n",
       "      <th>UniqueCarrier</th>\n",
       "      <th>FlightNum</th>\n",
       "      <th>TailNum</th>\n",
       "      <th>Origin</th>\n",
       "      <th>Dest</th>\n",
       "      <th>Cancelled</th>\n",
       "      <th>CancellationCode</th>\n",
       "      <th>Diverted</th>\n",
       "    </tr>\n",
       "  </thead>\n",
       "  <tbody>\n",
       "    <tr>\n",
       "      <th>count</th>\n",
       "      <td>1.936758e+06</td>\n",
       "      <td>1.936758e+06</td>\n",
       "      <td>1.936758e+06</td>\n",
       "      <td>1936758</td>\n",
       "      <td>1.936758e+06</td>\n",
       "      <td>1936753</td>\n",
       "      <td>1936758</td>\n",
       "      <td>1936758</td>\n",
       "      <td>1.936758e+06</td>\n",
       "      <td>1936758</td>\n",
       "      <td>1.936758e+06</td>\n",
       "    </tr>\n",
       "    <tr>\n",
       "      <th>unique</th>\n",
       "      <td>NaN</td>\n",
       "      <td>NaN</td>\n",
       "      <td>NaN</td>\n",
       "      <td>20</td>\n",
       "      <td>NaN</td>\n",
       "      <td>5366</td>\n",
       "      <td>303</td>\n",
       "      <td>304</td>\n",
       "      <td>NaN</td>\n",
       "      <td>4</td>\n",
       "      <td>NaN</td>\n",
       "    </tr>\n",
       "    <tr>\n",
       "      <th>top</th>\n",
       "      <td>NaN</td>\n",
       "      <td>NaN</td>\n",
       "      <td>NaN</td>\n",
       "      <td>WN</td>\n",
       "      <td>NaN</td>\n",
       "      <td>N325SW</td>\n",
       "      <td>ATL</td>\n",
       "      <td>ORD</td>\n",
       "      <td>NaN</td>\n",
       "      <td>N</td>\n",
       "      <td>NaN</td>\n",
       "    </tr>\n",
       "    <tr>\n",
       "      <th>freq</th>\n",
       "      <td>NaN</td>\n",
       "      <td>NaN</td>\n",
       "      <td>NaN</td>\n",
       "      <td>377602</td>\n",
       "      <td>NaN</td>\n",
       "      <td>965</td>\n",
       "      <td>131613</td>\n",
       "      <td>108984</td>\n",
       "      <td>NaN</td>\n",
       "      <td>1936125</td>\n",
       "      <td>NaN</td>\n",
       "    </tr>\n",
       "    <tr>\n",
       "      <th>mean</th>\n",
       "      <td>6.111106e+00</td>\n",
       "      <td>1.575347e+01</td>\n",
       "      <td>3.984827e+00</td>\n",
       "      <td>NaN</td>\n",
       "      <td>2.184263e+03</td>\n",
       "      <td>NaN</td>\n",
       "      <td>NaN</td>\n",
       "      <td>NaN</td>\n",
       "      <td>3.268348e-04</td>\n",
       "      <td>NaN</td>\n",
       "      <td>4.003598e-03</td>\n",
       "    </tr>\n",
       "    <tr>\n",
       "      <th>std</th>\n",
       "      <td>3.482546e+00</td>\n",
       "      <td>8.776272e+00</td>\n",
       "      <td>1.995966e+00</td>\n",
       "      <td>NaN</td>\n",
       "      <td>1.944702e+03</td>\n",
       "      <td>NaN</td>\n",
       "      <td>NaN</td>\n",
       "      <td>NaN</td>\n",
       "      <td>1.807562e-02</td>\n",
       "      <td>NaN</td>\n",
       "      <td>6.314722e-02</td>\n",
       "    </tr>\n",
       "    <tr>\n",
       "      <th>min</th>\n",
       "      <td>1.000000e+00</td>\n",
       "      <td>1.000000e+00</td>\n",
       "      <td>1.000000e+00</td>\n",
       "      <td>NaN</td>\n",
       "      <td>1.000000e+00</td>\n",
       "      <td>NaN</td>\n",
       "      <td>NaN</td>\n",
       "      <td>NaN</td>\n",
       "      <td>0.000000e+00</td>\n",
       "      <td>NaN</td>\n",
       "      <td>0.000000e+00</td>\n",
       "    </tr>\n",
       "    <tr>\n",
       "      <th>10%</th>\n",
       "      <td>2.000000e+00</td>\n",
       "      <td>4.000000e+00</td>\n",
       "      <td>1.000000e+00</td>\n",
       "      <td>NaN</td>\n",
       "      <td>2.320000e+02</td>\n",
       "      <td>NaN</td>\n",
       "      <td>NaN</td>\n",
       "      <td>NaN</td>\n",
       "      <td>0.000000e+00</td>\n",
       "      <td>NaN</td>\n",
       "      <td>0.000000e+00</td>\n",
       "    </tr>\n",
       "    <tr>\n",
       "      <th>25%</th>\n",
       "      <td>3.000000e+00</td>\n",
       "      <td>8.000000e+00</td>\n",
       "      <td>2.000000e+00</td>\n",
       "      <td>NaN</td>\n",
       "      <td>6.100000e+02</td>\n",
       "      <td>NaN</td>\n",
       "      <td>NaN</td>\n",
       "      <td>NaN</td>\n",
       "      <td>0.000000e+00</td>\n",
       "      <td>NaN</td>\n",
       "      <td>0.000000e+00</td>\n",
       "    </tr>\n",
       "    <tr>\n",
       "      <th>50%</th>\n",
       "      <td>6.000000e+00</td>\n",
       "      <td>1.600000e+01</td>\n",
       "      <td>4.000000e+00</td>\n",
       "      <td>NaN</td>\n",
       "      <td>1.543000e+03</td>\n",
       "      <td>NaN</td>\n",
       "      <td>NaN</td>\n",
       "      <td>NaN</td>\n",
       "      <td>0.000000e+00</td>\n",
       "      <td>NaN</td>\n",
       "      <td>0.000000e+00</td>\n",
       "    </tr>\n",
       "    <tr>\n",
       "      <th>75%</th>\n",
       "      <td>9.000000e+00</td>\n",
       "      <td>2.300000e+01</td>\n",
       "      <td>6.000000e+00</td>\n",
       "      <td>NaN</td>\n",
       "      <td>3.422000e+03</td>\n",
       "      <td>NaN</td>\n",
       "      <td>NaN</td>\n",
       "      <td>NaN</td>\n",
       "      <td>0.000000e+00</td>\n",
       "      <td>NaN</td>\n",
       "      <td>0.000000e+00</td>\n",
       "    </tr>\n",
       "    <tr>\n",
       "      <th>95%</th>\n",
       "      <td>1.200000e+01</td>\n",
       "      <td>2.900000e+01</td>\n",
       "      <td>7.000000e+00</td>\n",
       "      <td>NaN</td>\n",
       "      <td>6.066000e+03</td>\n",
       "      <td>NaN</td>\n",
       "      <td>NaN</td>\n",
       "      <td>NaN</td>\n",
       "      <td>0.000000e+00</td>\n",
       "      <td>NaN</td>\n",
       "      <td>0.000000e+00</td>\n",
       "    </tr>\n",
       "    <tr>\n",
       "      <th>99%</th>\n",
       "      <td>1.200000e+01</td>\n",
       "      <td>3.100000e+01</td>\n",
       "      <td>7.000000e+00</td>\n",
       "      <td>NaN</td>\n",
       "      <td>7.246000e+03</td>\n",
       "      <td>NaN</td>\n",
       "      <td>NaN</td>\n",
       "      <td>NaN</td>\n",
       "      <td>0.000000e+00</td>\n",
       "      <td>NaN</td>\n",
       "      <td>0.000000e+00</td>\n",
       "    </tr>\n",
       "    <tr>\n",
       "      <th>max</th>\n",
       "      <td>1.200000e+01</td>\n",
       "      <td>3.100000e+01</td>\n",
       "      <td>7.000000e+00</td>\n",
       "      <td>NaN</td>\n",
       "      <td>9.742000e+03</td>\n",
       "      <td>NaN</td>\n",
       "      <td>NaN</td>\n",
       "      <td>NaN</td>\n",
       "      <td>1.000000e+00</td>\n",
       "      <td>NaN</td>\n",
       "      <td>1.000000e+00</td>\n",
       "    </tr>\n",
       "  </tbody>\n",
       "</table>\n",
       "</div>"
      ],
      "text/plain": [
       "               Month    DayofMonth     DayOfWeek UniqueCarrier     FlightNum  \\\n",
       "count   1.936758e+06  1.936758e+06  1.936758e+06       1936758  1.936758e+06   \n",
       "unique           NaN           NaN           NaN            20           NaN   \n",
       "top              NaN           NaN           NaN            WN           NaN   \n",
       "freq             NaN           NaN           NaN        377602           NaN   \n",
       "mean    6.111106e+00  1.575347e+01  3.984827e+00           NaN  2.184263e+03   \n",
       "std     3.482546e+00  8.776272e+00  1.995966e+00           NaN  1.944702e+03   \n",
       "min     1.000000e+00  1.000000e+00  1.000000e+00           NaN  1.000000e+00   \n",
       "10%     2.000000e+00  4.000000e+00  1.000000e+00           NaN  2.320000e+02   \n",
       "25%     3.000000e+00  8.000000e+00  2.000000e+00           NaN  6.100000e+02   \n",
       "50%     6.000000e+00  1.600000e+01  4.000000e+00           NaN  1.543000e+03   \n",
       "75%     9.000000e+00  2.300000e+01  6.000000e+00           NaN  3.422000e+03   \n",
       "95%     1.200000e+01  2.900000e+01  7.000000e+00           NaN  6.066000e+03   \n",
       "99%     1.200000e+01  3.100000e+01  7.000000e+00           NaN  7.246000e+03   \n",
       "max     1.200000e+01  3.100000e+01  7.000000e+00           NaN  9.742000e+03   \n",
       "\n",
       "        TailNum   Origin     Dest     Cancelled CancellationCode      Diverted  \n",
       "count   1936753  1936758  1936758  1.936758e+06          1936758  1.936758e+06  \n",
       "unique     5366      303      304           NaN                4           NaN  \n",
       "top      N325SW      ATL      ORD           NaN                N           NaN  \n",
       "freq        965   131613   108984           NaN          1936125           NaN  \n",
       "mean        NaN      NaN      NaN  3.268348e-04              NaN  4.003598e-03  \n",
       "std         NaN      NaN      NaN  1.807562e-02              NaN  6.314722e-02  \n",
       "min         NaN      NaN      NaN  0.000000e+00              NaN  0.000000e+00  \n",
       "10%         NaN      NaN      NaN  0.000000e+00              NaN  0.000000e+00  \n",
       "25%         NaN      NaN      NaN  0.000000e+00              NaN  0.000000e+00  \n",
       "50%         NaN      NaN      NaN  0.000000e+00              NaN  0.000000e+00  \n",
       "75%         NaN      NaN      NaN  0.000000e+00              NaN  0.000000e+00  \n",
       "95%         NaN      NaN      NaN  0.000000e+00              NaN  0.000000e+00  \n",
       "99%         NaN      NaN      NaN  0.000000e+00              NaN  0.000000e+00  \n",
       "max         NaN      NaN      NaN  1.000000e+00              NaN  1.000000e+00  "
      ]
     },
     "execution_count": 18,
     "metadata": {},
     "output_type": "execute_result"
    }
   ],
   "source": [
    "data_trans[cat_feature].describe(percentiles = [.1,.25,.5,.75,.95,.99], include = 'all')"
   ]
  },
  {
   "cell_type": "code",
   "execution_count": 19,
   "metadata": {},
   "outputs": [
    {
     "data": {
      "text/html": [
       "<div>\n",
       "<style scoped>\n",
       "    .dataframe tbody tr th:only-of-type {\n",
       "        vertical-align: middle;\n",
       "    }\n",
       "\n",
       "    .dataframe tbody tr th {\n",
       "        vertical-align: top;\n",
       "    }\n",
       "\n",
       "    .dataframe thead th {\n",
       "        text-align: right;\n",
       "    }\n",
       "</style>\n",
       "<table border=\"1\" class=\"dataframe\">\n",
       "  <thead>\n",
       "    <tr style=\"text-align: right;\">\n",
       "      <th></th>\n",
       "      <th>Month</th>\n",
       "      <th>DayofMonth</th>\n",
       "      <th>DayOfWeek</th>\n",
       "      <th>UniqueCarrier</th>\n",
       "      <th>FlightNum</th>\n",
       "      <th>TailNum</th>\n",
       "      <th>Origin</th>\n",
       "      <th>Dest</th>\n",
       "      <th>Cancelled</th>\n",
       "      <th>CancellationCode</th>\n",
       "      <th>Diverted</th>\n",
       "    </tr>\n",
       "  </thead>\n",
       "  <tbody>\n",
       "    <tr>\n",
       "      <th>0</th>\n",
       "      <td>1</td>\n",
       "      <td>3</td>\n",
       "      <td>4</td>\n",
       "      <td>WN</td>\n",
       "      <td>335</td>\n",
       "      <td>N712SW</td>\n",
       "      <td>IAD</td>\n",
       "      <td>TPA</td>\n",
       "      <td>0</td>\n",
       "      <td>N</td>\n",
       "      <td>0</td>\n",
       "    </tr>\n",
       "    <tr>\n",
       "      <th>1</th>\n",
       "      <td>1</td>\n",
       "      <td>3</td>\n",
       "      <td>4</td>\n",
       "      <td>WN</td>\n",
       "      <td>3231</td>\n",
       "      <td>N772SW</td>\n",
       "      <td>IAD</td>\n",
       "      <td>TPA</td>\n",
       "      <td>0</td>\n",
       "      <td>N</td>\n",
       "      <td>0</td>\n",
       "    </tr>\n",
       "    <tr>\n",
       "      <th>2</th>\n",
       "      <td>1</td>\n",
       "      <td>3</td>\n",
       "      <td>4</td>\n",
       "      <td>WN</td>\n",
       "      <td>448</td>\n",
       "      <td>N428WN</td>\n",
       "      <td>IND</td>\n",
       "      <td>BWI</td>\n",
       "      <td>0</td>\n",
       "      <td>N</td>\n",
       "      <td>0</td>\n",
       "    </tr>\n",
       "    <tr>\n",
       "      <th>3</th>\n",
       "      <td>1</td>\n",
       "      <td>3</td>\n",
       "      <td>4</td>\n",
       "      <td>WN</td>\n",
       "      <td>3920</td>\n",
       "      <td>N464WN</td>\n",
       "      <td>IND</td>\n",
       "      <td>BWI</td>\n",
       "      <td>0</td>\n",
       "      <td>N</td>\n",
       "      <td>0</td>\n",
       "    </tr>\n",
       "    <tr>\n",
       "      <th>4</th>\n",
       "      <td>1</td>\n",
       "      <td>3</td>\n",
       "      <td>4</td>\n",
       "      <td>WN</td>\n",
       "      <td>378</td>\n",
       "      <td>N726SW</td>\n",
       "      <td>IND</td>\n",
       "      <td>JAX</td>\n",
       "      <td>0</td>\n",
       "      <td>N</td>\n",
       "      <td>0</td>\n",
       "    </tr>\n",
       "    <tr>\n",
       "      <th>5</th>\n",
       "      <td>1</td>\n",
       "      <td>3</td>\n",
       "      <td>4</td>\n",
       "      <td>WN</td>\n",
       "      <td>509</td>\n",
       "      <td>N763SW</td>\n",
       "      <td>IND</td>\n",
       "      <td>LAS</td>\n",
       "      <td>0</td>\n",
       "      <td>N</td>\n",
       "      <td>0</td>\n",
       "    </tr>\n",
       "    <tr>\n",
       "      <th>6</th>\n",
       "      <td>1</td>\n",
       "      <td>3</td>\n",
       "      <td>4</td>\n",
       "      <td>WN</td>\n",
       "      <td>100</td>\n",
       "      <td>N690SW</td>\n",
       "      <td>IND</td>\n",
       "      <td>MCO</td>\n",
       "      <td>0</td>\n",
       "      <td>N</td>\n",
       "      <td>0</td>\n",
       "    </tr>\n",
       "    <tr>\n",
       "      <th>7</th>\n",
       "      <td>1</td>\n",
       "      <td>3</td>\n",
       "      <td>4</td>\n",
       "      <td>WN</td>\n",
       "      <td>1333</td>\n",
       "      <td>N334SW</td>\n",
       "      <td>IND</td>\n",
       "      <td>MCO</td>\n",
       "      <td>0</td>\n",
       "      <td>N</td>\n",
       "      <td>0</td>\n",
       "    </tr>\n",
       "    <tr>\n",
       "      <th>8</th>\n",
       "      <td>1</td>\n",
       "      <td>3</td>\n",
       "      <td>4</td>\n",
       "      <td>WN</td>\n",
       "      <td>2272</td>\n",
       "      <td>N263WN</td>\n",
       "      <td>IND</td>\n",
       "      <td>MDW</td>\n",
       "      <td>0</td>\n",
       "      <td>N</td>\n",
       "      <td>0</td>\n",
       "    </tr>\n",
       "    <tr>\n",
       "      <th>9</th>\n",
       "      <td>1</td>\n",
       "      <td>3</td>\n",
       "      <td>4</td>\n",
       "      <td>WN</td>\n",
       "      <td>675</td>\n",
       "      <td>N286WN</td>\n",
       "      <td>IND</td>\n",
       "      <td>PHX</td>\n",
       "      <td>0</td>\n",
       "      <td>N</td>\n",
       "      <td>0</td>\n",
       "    </tr>\n",
       "  </tbody>\n",
       "</table>\n",
       "</div>"
      ],
      "text/plain": [
       "   Month  DayofMonth  DayOfWeek UniqueCarrier  FlightNum TailNum Origin Dest  \\\n",
       "0      1           3          4            WN        335  N712SW    IAD  TPA   \n",
       "1      1           3          4            WN       3231  N772SW    IAD  TPA   \n",
       "2      1           3          4            WN        448  N428WN    IND  BWI   \n",
       "3      1           3          4            WN       3920  N464WN    IND  BWI   \n",
       "4      1           3          4            WN        378  N726SW    IND  JAX   \n",
       "5      1           3          4            WN        509  N763SW    IND  LAS   \n",
       "6      1           3          4            WN        100  N690SW    IND  MCO   \n",
       "7      1           3          4            WN       1333  N334SW    IND  MCO   \n",
       "8      1           3          4            WN       2272  N263WN    IND  MDW   \n",
       "9      1           3          4            WN        675  N286WN    IND  PHX   \n",
       "\n",
       "   Cancelled CancellationCode  Diverted  \n",
       "0          0                N         0  \n",
       "1          0                N         0  \n",
       "2          0                N         0  \n",
       "3          0                N         0  \n",
       "4          0                N         0  \n",
       "5          0                N         0  \n",
       "6          0                N         0  \n",
       "7          0                N         0  \n",
       "8          0                N         0  \n",
       "9          0                N         0  "
      ]
     },
     "execution_count": 19,
     "metadata": {},
     "output_type": "execute_result"
    }
   ],
   "source": [
    "data_trans[cat_feature].head(10)"
   ]
  },
  {
   "cell_type": "markdown",
   "metadata": {},
   "source": [
    "#### Xet cac chuyen bay Cancelled, Diverted"
   ]
  },
  {
   "cell_type": "code",
   "execution_count": 20,
   "metadata": {},
   "outputs": [
    {
     "data": {
      "text/plain": [
       "count    0.0\n",
       "mean     NaN\n",
       "std      NaN\n",
       "min      NaN\n",
       "25%      NaN\n",
       "50%      NaN\n",
       "75%      NaN\n",
       "max      NaN\n",
       "Name: ArrDelay, dtype: float64"
      ]
     },
     "execution_count": 20,
     "metadata": {},
     "output_type": "execute_result"
    }
   ],
   "source": [
    "data_trans[data_trans['Cancelled']==1]['ArrDelay'].describe()"
   ]
  },
  {
   "cell_type": "code",
   "execution_count": 21,
   "metadata": {},
   "outputs": [
    {
     "data": {
      "text/plain": [
       "count    0.0\n",
       "mean     NaN\n",
       "std      NaN\n",
       "min      NaN\n",
       "25%      NaN\n",
       "50%      NaN\n",
       "75%      NaN\n",
       "max      NaN\n",
       "Name: ArrDelay, dtype: float64"
      ]
     },
     "execution_count": 21,
     "metadata": {},
     "output_type": "execute_result"
    }
   ],
   "source": [
    "data_trans[data_trans['Diverted']==1]['ArrDelay'].describe()"
   ]
  },
  {
   "cell_type": "markdown",
   "metadata": {},
   "source": [
    "- Tu bang du lieu tren ta thay doi voi cac chuyen bay bi Cancelled hay Diverted thi bien ArrDelay = NaN, tuc la cac chuyen bay nay khong duoc cho la delay\n",
    "- Do do ta loai bo cac hang du lieu cua chuyen bay bi Cancelled hoac Diverted (tuc la Cancelled = 1 hoac Diverted = 1) vi khong anh huong den bien target\n",
    "- Luc nay Cancelled va Diverted chi con gia tri bang 0 nen ta loai bo cac cot feature nay va feature CancellationCode "
   ]
  },
  {
   "cell_type": "code",
   "execution_count": 22,
   "metadata": {},
   "outputs": [
    {
     "data": {
      "text/plain": [
       "(1928371, 22)"
      ]
     },
     "execution_count": 22,
     "metadata": {},
     "output_type": "execute_result"
    }
   ],
   "source": [
    "# chi lay data co du lieu ma chuyen bay khong bi Cancelled va khong bi Diverted\n",
    "data_trans = data_trans[(data_trans['Cancelled'] == 0) & (data_trans['Diverted'] == 0)]\n",
    "data_trans.shape"
   ]
  },
  {
   "cell_type": "code",
   "execution_count": 23,
   "metadata": {},
   "outputs": [],
   "source": [
    "# xoa cac feature 'Cancelled','Diverted','CancellationCode'\n",
    "data_trans.drop(['Cancelled','Diverted','CancellationCode'], axis = 1, inplace = True)"
   ]
  },
  {
   "cell_type": "code",
   "execution_count": 24,
   "metadata": {},
   "outputs": [],
   "source": [
    "# update lai cac categorical feature\n",
    "cat_feature = ['Month', 'DayofMonth', 'DayOfWeek', 'UniqueCarrier', 'FlightNum', 'TailNum', 'Origin', 'Dest']"
   ]
  },
  {
   "cell_type": "code",
   "execution_count": 25,
   "metadata": {},
   "outputs": [
    {
     "name": "stdout",
     "output_type": "stream",
     "text": [
      "12    201508\n",
      "3     200116\n",
      "6     199888\n",
      "2     188625\n",
      "1     182915\n",
      "7     182171\n",
      "8     161974\n",
      "4     154783\n",
      "5     152711\n",
      "11    105148\n",
      "10    103181\n",
      "9      95351\n",
      "Name: Month, dtype: int64\n",
      "##################################################\n",
      "22    71331\n",
      "21    69897\n",
      "1     67618\n",
      "7     67203\n",
      "15    65311\n",
      "27    65056\n",
      "20    64829\n",
      "18    64776\n",
      "19    64232\n",
      "14    64129\n",
      "24    64025\n",
      "2     63152\n",
      "10    63082\n",
      "11    63080\n",
      "23    62980\n",
      "17    62816\n",
      "8     62592\n",
      "4     62252\n",
      "26    62198\n",
      "9     61826\n",
      "6     61514\n",
      "12    61316\n",
      "13    61035\n",
      "16    60870\n",
      "28    60863\n",
      "3     60219\n",
      "5     59753\n",
      "25    58757\n",
      "29    56687\n",
      "30    56433\n",
      "31    38539\n",
      "Name: DayofMonth, dtype: int64\n",
      "##################################################\n",
      "5    321982\n",
      "1    289822\n",
      "4    288344\n",
      "7    284940\n",
      "3    261498\n",
      "2    259584\n",
      "6    222201\n",
      "Name: DayOfWeek, dtype: int64\n",
      "##################################################\n",
      "WN    376201\n",
      "AA    190910\n",
      "MQ    141223\n",
      "UA    140904\n",
      "OO    131780\n",
      "DL    113728\n",
      "XE    103147\n",
      "CO     99731\n",
      "US     98007\n",
      "EV     81762\n",
      "NW     78843\n",
      "FL     70969\n",
      "YV     66769\n",
      "B6     54925\n",
      "OH     52453\n",
      "9E     51569\n",
      "AS     39010\n",
      "F9     28224\n",
      "HA      7472\n",
      "AQ       744\n",
      "Name: UniqueCarrier, dtype: int64\n",
      "##################################################\n",
      "16      1575\n",
      "50      1539\n",
      "40      1499\n",
      "15      1464\n",
      "44      1440\n",
      "52      1404\n",
      "47      1353\n",
      "75      1352\n",
      "62      1351\n",
      "321     1346\n",
      "51      1338\n",
      "152     1317\n",
      "29      1315\n",
      "12      1307\n",
      "65      1306\n",
      "88      1281\n",
      "55      1271\n",
      "701     1262\n",
      "28      1262\n",
      "41      1255\n",
      "36      1252\n",
      "511     1246\n",
      "720     1239\n",
      "369     1237\n",
      "378     1233\n",
      "307     1232\n",
      "467     1227\n",
      "46      1219\n",
      "39      1203\n",
      "312     1195\n",
      "        ... \n",
      "9741       1\n",
      "7720       1\n",
      "7405       1\n",
      "6909       1\n",
      "8403       1\n",
      "7712       1\n",
      "6877       1\n",
      "6231       1\n",
      "7449       1\n",
      "7650       1\n",
      "7452       1\n",
      "6191       1\n",
      "7695       1\n",
      "7032       1\n",
      "9002       1\n",
      "7490       1\n",
      "7459       1\n",
      "7450       1\n",
      "7658       1\n",
      "6893       1\n",
      "5272       1\n",
      "6856       1\n",
      "6874       1\n",
      "7477       1\n",
      "6947       1\n",
      "6914       1\n",
      "6249       1\n",
      "7458       1\n",
      "6204       1\n",
      "7688       1\n",
      "Name: FlightNum, Length: 7498, dtype: int64\n",
      "##################################################\n",
      "N325SW    961\n",
      "N676SW    948\n",
      "N658SW    940\n",
      "N313SW    933\n",
      "N308SA    931\n",
      "N641SW    927\n",
      "N656SW    920\n",
      "N340LV    908\n",
      "N347SW    907\n",
      "N612SW    900\n",
      "N333SW    896\n",
      "N350SW    893\n",
      "N382SW    890\n",
      "N395SW    887\n",
      "N349SW    886\n",
      "N331SW    886\n",
      "N683SW    884\n",
      "N506SW    876\n",
      "N663SW    871\n",
      "N398SW    865\n",
      "N662SW    863\n",
      "N330SW    862\n",
      "N329SW    861\n",
      "N692SW    860\n",
      "N611SW    860\n",
      "N388SW    858\n",
      "N608SW    858\n",
      "N653SW    856\n",
      "N365SW    855\n",
      "N312SW    855\n",
      "         ... \n",
      "N195UA      3\n",
      "N845MH      3\n",
      "N854NW      3\n",
      "N736MQ      3\n",
      "N78017      2\n",
      "N171UA      2\n",
      "N809NW      2\n",
      "N77014      2\n",
      "N127UA      2\n",
      "N78009      2\n",
      "N118UA      2\n",
      "N77019      2\n",
      "N2AEMQ      2\n",
      "N37018      2\n",
      "N119UA      2\n",
      "N199UA      2\n",
      "N194UA      1\n",
      "N78008      1\n",
      "N104UA      1\n",
      "N859NW      1\n",
      "N74007      1\n",
      "N193UA      1\n",
      "N77006      1\n",
      "N76010      1\n",
      "N623US      1\n",
      "N826MH      1\n",
      "N27015      1\n",
      "N856NW      1\n",
      "N853NW      1\n",
      "N702DN      1\n",
      "Name: TailNum, Length: 5360, dtype: int64\n",
      "##################################################\n",
      "ATL    131213\n",
      "ORD    125451\n",
      "DFW     95058\n",
      "DEN     74033\n",
      "LAX     58545\n",
      "IAH     56571\n",
      "PHX     55506\n",
      "LAS     53536\n",
      "EWR     52756\n",
      "DTW     43721\n",
      "SFO     43635\n",
      "MCO     35959\n",
      "CLT     34942\n",
      "JFK     34477\n",
      "MSP     32293\n",
      "LGA     31062\n",
      "SEA     30928\n",
      "BWI     30604\n",
      "PHL     30188\n",
      "MDW     29121\n",
      "SLC     28501\n",
      "BOS     28024\n",
      "SAN     24737\n",
      "CVG     23785\n",
      "MIA     23176\n",
      "IAD     22040\n",
      "TPA     20113\n",
      "HOU     19575\n",
      "FLL     19255\n",
      "DAL     18645\n",
      "        ...  \n",
      "LWS        86\n",
      "SLE        85\n",
      "SCE        82\n",
      "LYH        81\n",
      "AKN        70\n",
      "DLG        65\n",
      "CDC        64\n",
      "BTM        58\n",
      "YKM        55\n",
      "ADK        53\n",
      "TEX        52\n",
      "LWB        48\n",
      "GST        40\n",
      "CMX        34\n",
      "RFD        33\n",
      "RHI        33\n",
      "ALO        31\n",
      "ACY        29\n",
      "ITH        29\n",
      "BPT        27\n",
      "SUX        22\n",
      "PLN        21\n",
      "HTS        10\n",
      "WYS        10\n",
      "BJI         4\n",
      "BLI         4\n",
      "PIR         3\n",
      "PUB         2\n",
      "INL         1\n",
      "TUP         1\n",
      "Name: Origin, Length: 303, dtype: int64\n",
      "##################################################\n",
      "ORD    108265\n",
      "ATL    106540\n",
      "DFW     70181\n",
      "DEN     62850\n",
      "LAX     59843\n",
      "EWR     55492\n",
      "LAS     48610\n",
      "PHX     47693\n",
      "SFO     46752\n",
      "IAH     43629\n",
      "LGA     37740\n",
      "MCO     36326\n",
      "JFK     35234\n",
      "DTW     34697\n",
      "BOS     31878\n",
      "SEA     31441\n",
      "PHL     30615\n",
      "BWI     29549\n",
      "SLC     29133\n",
      "MSP     28005\n",
      "CLT     26784\n",
      "SAN     26439\n",
      "MDW     25002\n",
      "IAD     22691\n",
      "TPA     22585\n",
      "FLL     20249\n",
      "CVG     20023\n",
      "DCA     19668\n",
      "MIA     19661\n",
      "STL     18508\n",
      "        ...  \n",
      "IYK       124\n",
      "ADQ       103\n",
      "MKG        98\n",
      "BTM        85\n",
      "CDC        78\n",
      "LWS        67\n",
      "BPT        65\n",
      "RFD        60\n",
      "SLE        54\n",
      "ALO        54\n",
      "PLN        51\n",
      "CMX        49\n",
      "YKM        47\n",
      "GST        46\n",
      "RHI        44\n",
      "AKN        43\n",
      "DLG        42\n",
      "ACY        38\n",
      "LWB        35\n",
      "HTS        33\n",
      "WYS        31\n",
      "TEX        30\n",
      "ADK        29\n",
      "SUX        27\n",
      "ITH        16\n",
      "BLI        13\n",
      "BJI        12\n",
      "INL         9\n",
      "PIR         3\n",
      "TUP         1\n",
      "Name: Dest, Length: 302, dtype: int64\n",
      "##################################################\n"
     ]
    }
   ],
   "source": [
    "# xem cac gia tri cua cac features\n",
    "for catg in cat_feature:\n",
    "    print(data_trans[catg].value_counts())\n",
    "    print('#'*50)"
   ]
  },
  {
   "cell_type": "code",
   "execution_count": 26,
   "metadata": {},
   "outputs": [
    {
     "data": {
      "image/png": "[encoded data removed]",
      "text/plain": [
       "<Figure size 576x504 with 1 Axes>"
      ]
     },
     "metadata": {
      "needs_background": "light"
     },
     "output_type": "display_data"
    },
    {
     "data": {
      "image/png": "[encoded data removed]",
      "text/plain": [
       "<Figure size 576x504 with 1 Axes>"
      ]
     },
     "metadata": {
      "needs_background": "light"
     },
     "output_type": "display_data"
    },
    {
     "data": {
      "image/png": "[encoded data removed]",
      "text/plain": [
       "<Figure size 576x504 with 1 Axes>"
      ]
     },
     "metadata": {
      "needs_background": "light"
     },
     "output_type": "display_data"
    },
    {
     "data": {
      "image/png": "[encoded data removed]",
      "text/plain": [
       "<Figure size 576x504 with 1 Axes>"
      ]
     },
     "metadata": {
      "needs_background": "light"
     },
     "output_type": "display_data"
    }
   ],
   "source": [
    "# cac feature 'FlightNum', 'TailNum', 'Origin', 'Dest' co so luong gia tri lon nen ko ve bieu do thong ke cac gia tri\n",
    "for i in cat_feature[:4]:\n",
    "    plt.figure(figsize=(8,7))\n",
    "    f = data_trans[i].value_counts()\n",
    "    plt.bar(f.index,f, align='center')\n",
    "    plt.title(i)"
   ]
  },
  {
   "cell_type": "markdown",
   "metadata": {},
   "source": [
    "# Check and treat missing value"
   ]
  },
  {
   "cell_type": "code",
   "execution_count": 27,
   "metadata": {},
   "outputs": [
    {
     "data": {
      "text/html": [
       "<div>\n",
       "<style scoped>\n",
       "    .dataframe tbody tr th:only-of-type {\n",
       "        vertical-align: middle;\n",
       "    }\n",
       "\n",
       "    .dataframe tbody tr th {\n",
       "        vertical-align: top;\n",
       "    }\n",
       "\n",
       "    .dataframe thead th {\n",
       "        text-align: right;\n",
       "    }\n",
       "</style>\n",
       "<table border=\"1\" class=\"dataframe\">\n",
       "  <thead>\n",
       "    <tr style=\"text-align: right;\">\n",
       "      <th></th>\n",
       "      <th>Total</th>\n",
       "      <th>Percent</th>\n",
       "    </tr>\n",
       "  </thead>\n",
       "  <tbody>\n",
       "    <tr>\n",
       "      <th>Month</th>\n",
       "      <td>0</td>\n",
       "      <td>0.000000</td>\n",
       "    </tr>\n",
       "    <tr>\n",
       "      <th>DayofMonth</th>\n",
       "      <td>0</td>\n",
       "      <td>0.000000</td>\n",
       "    </tr>\n",
       "    <tr>\n",
       "      <th>DayOfWeek</th>\n",
       "      <td>0</td>\n",
       "      <td>0.000000</td>\n",
       "    </tr>\n",
       "    <tr>\n",
       "      <th>DepTime</th>\n",
       "      <td>0</td>\n",
       "      <td>0.000000</td>\n",
       "    </tr>\n",
       "    <tr>\n",
       "      <th>CRSDepTime</th>\n",
       "      <td>0</td>\n",
       "      <td>0.000000</td>\n",
       "    </tr>\n",
       "    <tr>\n",
       "      <th>ArrTime</th>\n",
       "      <td>0</td>\n",
       "      <td>0.000000</td>\n",
       "    </tr>\n",
       "    <tr>\n",
       "      <th>CRSArrTime</th>\n",
       "      <td>0</td>\n",
       "      <td>0.000000</td>\n",
       "    </tr>\n",
       "    <tr>\n",
       "      <th>UniqueCarrier</th>\n",
       "      <td>0</td>\n",
       "      <td>0.000000</td>\n",
       "    </tr>\n",
       "    <tr>\n",
       "      <th>FlightNum</th>\n",
       "      <td>0</td>\n",
       "      <td>0.000000</td>\n",
       "    </tr>\n",
       "    <tr>\n",
       "      <th>TailNum</th>\n",
       "      <td>3</td>\n",
       "      <td>0.000155</td>\n",
       "    </tr>\n",
       "    <tr>\n",
       "      <th>ActualElapsedTime</th>\n",
       "      <td>0</td>\n",
       "      <td>0.000000</td>\n",
       "    </tr>\n",
       "    <tr>\n",
       "      <th>CRSElapsedTime</th>\n",
       "      <td>0</td>\n",
       "      <td>0.000000</td>\n",
       "    </tr>\n",
       "    <tr>\n",
       "      <th>AirTime</th>\n",
       "      <td>0</td>\n",
       "      <td>0.000000</td>\n",
       "    </tr>\n",
       "    <tr>\n",
       "      <th>ArrDelay</th>\n",
       "      <td>0</td>\n",
       "      <td>0.000000</td>\n",
       "    </tr>\n",
       "    <tr>\n",
       "      <th>Origin</th>\n",
       "      <td>0</td>\n",
       "      <td>0.000000</td>\n",
       "    </tr>\n",
       "    <tr>\n",
       "      <th>Dest</th>\n",
       "      <td>0</td>\n",
       "      <td>0.000000</td>\n",
       "    </tr>\n",
       "    <tr>\n",
       "      <th>Distance</th>\n",
       "      <td>0</td>\n",
       "      <td>0.000000</td>\n",
       "    </tr>\n",
       "    <tr>\n",
       "      <th>TaxiIn</th>\n",
       "      <td>0</td>\n",
       "      <td>0.000000</td>\n",
       "    </tr>\n",
       "    <tr>\n",
       "      <th>TaxiOut</th>\n",
       "      <td>0</td>\n",
       "      <td>0.000000</td>\n",
       "    </tr>\n",
       "  </tbody>\n",
       "</table>\n",
       "</div>"
      ],
      "text/plain": [
       "                   Total   Percent\n",
       "Month                  0  0.000000\n",
       "DayofMonth             0  0.000000\n",
       "DayOfWeek              0  0.000000\n",
       "DepTime                0  0.000000\n",
       "CRSDepTime             0  0.000000\n",
       "ArrTime                0  0.000000\n",
       "CRSArrTime             0  0.000000\n",
       "UniqueCarrier          0  0.000000\n",
       "FlightNum              0  0.000000\n",
       "TailNum                3  0.000155\n",
       "ActualElapsedTime      0  0.000000\n",
       "CRSElapsedTime         0  0.000000\n",
       "AirTime                0  0.000000\n",
       "ArrDelay               0  0.000000\n",
       "Origin                 0  0.000000\n",
       "Dest                   0  0.000000\n",
       "Distance               0  0.000000\n",
       "TaxiIn                 0  0.000000\n",
       "TaxiOut                0  0.000000"
      ]
     },
     "execution_count": 27,
     "metadata": {},
     "output_type": "execute_result"
    }
   ],
   "source": [
    "# dataset = data_trans\n",
    "total = data_trans.isnull().sum()\n",
    "percent = data_trans.isnull().sum()/len(data)*100\n",
    "missing_data = pd.concat([total,percent], axis=1,keys=['Total', 'Percent'])\n",
    "missing_data"
   ]
  },
  {
   "cell_type": "code",
   "execution_count": 28,
   "metadata": {},
   "outputs": [],
   "source": [
    "# xoa cac missing value\n",
    "data_trans = data_trans.dropna()"
   ]
  },
  {
   "cell_type": "code",
   "execution_count": 29,
   "metadata": {},
   "outputs": [
    {
     "data": {
      "text/plain": [
       "0"
      ]
     },
     "execution_count": 29,
     "metadata": {},
     "output_type": "execute_result"
    }
   ],
   "source": [
    "data_trans.isnull().sum().sum()"
   ]
  },
  {
   "cell_type": "code",
   "execution_count": 30,
   "metadata": {},
   "outputs": [
    {
     "data": {
      "text/plain": [
       "(1928368, 19)"
      ]
     },
     "execution_count": 30,
     "metadata": {},
     "output_type": "execute_result"
    }
   ],
   "source": [
    "data_trans.shape"
   ]
  },
  {
   "cell_type": "markdown",
   "metadata": {},
   "source": [
    "# Tao cot bien target"
   ]
  },
  {
   "cell_type": "code",
   "execution_count": 31,
   "metadata": {},
   "outputs": [],
   "source": [
    "# Xoa cac missing o ArrDelay roi sau do moi tao target, vi neu de missing value thi khi ap dung doan code phia duoi cac chuyen bay co ArrDelay =NaN lam cho target = 0 la ko dung\n",
    "# cac chuyen bay co ArrDelay <30 thi khong duoc xem la late, set = 0 va >=30 set = 1\n",
    "data_trans['target'] = data_trans['ArrDelay'].apply(lambda x: 1 if x>=30 else 0)"
   ]
  },
  {
   "cell_type": "code",
   "execution_count": 32,
   "metadata": {},
   "outputs": [
    {
     "data": {
      "text/html": [
       "<div>\n",
       "<style scoped>\n",
       "    .dataframe tbody tr th:only-of-type {\n",
       "        vertical-align: middle;\n",
       "    }\n",
       "\n",
       "    .dataframe tbody tr th {\n",
       "        vertical-align: top;\n",
       "    }\n",
       "\n",
       "    .dataframe thead th {\n",
       "        text-align: right;\n",
       "    }\n",
       "</style>\n",
       "<table border=\"1\" class=\"dataframe\">\n",
       "  <thead>\n",
       "    <tr style=\"text-align: right;\">\n",
       "      <th></th>\n",
       "      <th>ArrDelay</th>\n",
       "      <th>target</th>\n",
       "    </tr>\n",
       "  </thead>\n",
       "  <tbody>\n",
       "    <tr>\n",
       "      <th>0</th>\n",
       "      <td>-14.0</td>\n",
       "      <td>0</td>\n",
       "    </tr>\n",
       "    <tr>\n",
       "      <th>1</th>\n",
       "      <td>2.0</td>\n",
       "      <td>0</td>\n",
       "    </tr>\n",
       "    <tr>\n",
       "      <th>2</th>\n",
       "      <td>14.0</td>\n",
       "      <td>0</td>\n",
       "    </tr>\n",
       "    <tr>\n",
       "      <th>3</th>\n",
       "      <td>34.0</td>\n",
       "      <td>1</td>\n",
       "    </tr>\n",
       "    <tr>\n",
       "      <th>4</th>\n",
       "      <td>11.0</td>\n",
       "      <td>0</td>\n",
       "    </tr>\n",
       "    <tr>\n",
       "      <th>5</th>\n",
       "      <td>57.0</td>\n",
       "      <td>1</td>\n",
       "    </tr>\n",
       "    <tr>\n",
       "      <th>6</th>\n",
       "      <td>1.0</td>\n",
       "      <td>0</td>\n",
       "    </tr>\n",
       "    <tr>\n",
       "      <th>7</th>\n",
       "      <td>80.0</td>\n",
       "      <td>1</td>\n",
       "    </tr>\n",
       "    <tr>\n",
       "      <th>8</th>\n",
       "      <td>11.0</td>\n",
       "      <td>0</td>\n",
       "    </tr>\n",
       "    <tr>\n",
       "      <th>9</th>\n",
       "      <td>15.0</td>\n",
       "      <td>0</td>\n",
       "    </tr>\n",
       "  </tbody>\n",
       "</table>\n",
       "</div>"
      ],
      "text/plain": [
       "   ArrDelay  target\n",
       "0     -14.0       0\n",
       "1       2.0       0\n",
       "2      14.0       0\n",
       "3      34.0       1\n",
       "4      11.0       0\n",
       "5      57.0       1\n",
       "6       1.0       0\n",
       "7      80.0       1\n",
       "8      11.0       0\n",
       "9      15.0       0"
      ]
     },
     "execution_count": 32,
     "metadata": {},
     "output_type": "execute_result"
    }
   ],
   "source": [
    "data_trans[['ArrDelay','target']].head(10)"
   ]
  },
  {
   "cell_type": "code",
   "execution_count": 33,
   "metadata": {},
   "outputs": [],
   "source": [
    "# xoa ArrDelay\n",
    "data_trans.drop(['ArrDelay'], axis = 1, inplace = True)"
   ]
  },
  {
   "cell_type": "code",
   "execution_count": 34,
   "metadata": {},
   "outputs": [
    {
     "data": {
      "text/plain": [
       "<matplotlib.axes._subplots.AxesSubplot at 0x1bf61628320>"
      ]
     },
     "execution_count": 34,
     "metadata": {},
     "output_type": "execute_result"
    },
    {
     "data": {
      "image/png": "[encoded data removed]",
      "text/plain": [
       "<Figure size 504x504 with 1 Axes>"
      ]
     },
     "metadata": {
      "needs_background": "light"
     },
     "output_type": "display_data"
    }
   ],
   "source": [
    "plt.figure(figsize=(7,7))\n",
    "sns.countplot(data_trans['target'])"
   ]
  },
  {
   "cell_type": "markdown",
   "metadata": {},
   "source": [
    "# Relation of numerical features to target"
   ]
  },
  {
   "cell_type": "code",
   "execution_count": 35,
   "metadata": {},
   "outputs": [
    {
     "data": {
      "text/plain": [
       "['DepTime',\n",
       " 'CRSDepTime',\n",
       " 'ArrTime',\n",
       " 'CRSArrTime',\n",
       " 'ActualElapsedTime',\n",
       " 'CRSElapsedTime',\n",
       " 'AirTime',\n",
       " 'Distance',\n",
       " 'TaxiIn',\n",
       " 'TaxiOut']"
      ]
     },
     "execution_count": 35,
     "metadata": {},
     "output_type": "execute_result"
    }
   ],
   "source": [
    "num_feature"
   ]
  },
  {
   "cell_type": "code",
   "execution_count": 36,
   "metadata": {},
   "outputs": [
    {
     "data": {
      "image/png": "[encoded data removed]",
      "text/plain": [
       "<Figure size 864x648 with 2 Axes>"
      ]
     },
     "metadata": {
      "needs_background": "light"
     },
     "output_type": "display_data"
    }
   ],
   "source": [
    "#correlation matrix\n",
    "corrmat = data_trans[num_feature + ['target']].corr()\n",
    "f, ax = plt.subplots(figsize=(12, 9))\n",
    "sns.heatmap(corrmat, vmax=1.0, vmin=-1.0, annot = True);\n",
    "plt.show()"
   ]
  },
  {
   "cell_type": "markdown",
   "metadata": {},
   "source": [
    "- Nhan xet: cac feature Distance, ActualElapsedTime, CRSElapsedTime, AirTime co he so tuong quan rat cao (>=0.95) nen ta chi chon 1 feature dai dien de build model => chon Distance"
   ]
  },
  {
   "cell_type": "code",
   "execution_count": 37,
   "metadata": {},
   "outputs": [
    {
     "data": {
      "text/plain": [
       "['DepTime',\n",
       " 'CRSDepTime',\n",
       " 'ArrTime',\n",
       " 'CRSArrTime',\n",
       " 'Distance',\n",
       " 'TaxiIn',\n",
       " 'TaxiOut']"
      ]
     },
     "execution_count": 37,
     "metadata": {},
     "output_type": "execute_result"
    }
   ],
   "source": [
    "# update lai num_feature\n",
    "num_feature.remove('ActualElapsedTime') \n",
    "num_feature.remove('CRSElapsedTime') \n",
    "num_feature.remove('AirTime') \n",
    "num_feature"
   ]
  },
  {
   "cell_type": "code",
   "execution_count": 38,
   "metadata": {},
   "outputs": [],
   "source": [
    "data_trans.drop(['ActualElapsedTime','CRSElapsedTime','AirTime'], axis = 1, inplace = True)"
   ]
  },
  {
   "cell_type": "markdown",
   "metadata": {},
   "source": [
    "# Relation of Categorical features to target"
   ]
  },
  {
   "cell_type": "markdown",
   "metadata": {},
   "source": [
    "Cac feature nhu TailNum, Origin, Dest, FlightNum co rat nhieu gia tri nen ta se kho visualize, do do ta nhom cac gia tri nay thanh tung nhom khac nhau de ve bieu do xem xet su lien he cua chung voi target"
   ]
  },
  {
   "cell_type": "code",
   "execution_count": 39,
   "metadata": {},
   "outputs": [
    {
     "data": {
      "text/plain": [
       "2     300282\n",
       "3     276186\n",
       "10    231545\n",
       "6     183987\n",
       "7     182353\n",
       "5     180724\n",
       "4     171494\n",
       "8     168743\n",
       "1     117652\n",
       "9     115402\n",
       "Name: FlightNum_level, dtype: int64"
      ]
     },
     "execution_count": 39,
     "metadata": {},
     "output_type": "execute_result"
    }
   ],
   "source": [
    "#FlightNum\n",
    "# phan loai FlightNum thanh cac nhom co so luong chuyen bay khac nhau, voi khoang phan loai la <1000, >1000, >2000, >3000, >4000\n",
    "FlightNum_frame = data_trans['FlightNum'].value_counts().to_frame()\n",
    "FlightNum_lower100 = list(FlightNum_frame[FlightNum_frame['FlightNum'] < 100].index)\n",
    "FlightNum_upper100 = list(FlightNum_frame[(FlightNum_frame['FlightNum'] >= 100) & (FlightNum_frame['FlightNum'] < 200)].index)\n",
    "FlightNum_upper200 = list(FlightNum_frame[(FlightNum_frame['FlightNum'] >= 200) & (FlightNum_frame['FlightNum'] < 300)].index)\n",
    "FlightNum_upper300 = list(FlightNum_frame[(FlightNum_frame['FlightNum'] >= 300) & (FlightNum_frame['FlightNum'] < 400)].index)\n",
    "FlightNum_upper400 = list(FlightNum_frame[(FlightNum_frame['FlightNum'] >= 400) & (FlightNum_frame['FlightNum'] < 500)].index)\n",
    "FlightNum_upper500 = list(FlightNum_frame[(FlightNum_frame['FlightNum'] >= 500) & (FlightNum_frame['FlightNum'] < 600)].index)\n",
    "FlightNum_upper600 = list(FlightNum_frame[(FlightNum_frame['FlightNum'] >= 600) & (FlightNum_frame['FlightNum'] < 700)].index)\n",
    "FlightNum_upper700 = list(FlightNum_frame[(FlightNum_frame['FlightNum'] >= 700) & (FlightNum_frame['FlightNum'] < 800)].index)\n",
    "FlightNum_upper800 = list(FlightNum_frame[(FlightNum_frame['FlightNum'] >= 800) & (FlightNum_frame['FlightNum'] < 900)].index)\n",
    "FlightNum_upper900 = list(FlightNum_frame[(FlightNum_frame['FlightNum'] > 900)].index)\n",
    "\n",
    "data_trans['FlightNum_level'] = 1\n",
    "data_trans.loc[(data_trans['FlightNum'].isin(FlightNum_upper100)), 'FlightNum_level'] = 2\n",
    "data_trans.loc[(data_trans['FlightNum'].isin(FlightNum_upper200)), 'FlightNum_level'] = 3\n",
    "data_trans.loc[(data_trans['FlightNum'].isin(FlightNum_upper300)), 'FlightNum_level'] = 4\n",
    "data_trans.loc[(data_trans['FlightNum'].isin(FlightNum_upper400)), 'FlightNum_level'] = 5\n",
    "data_trans.loc[(data_trans['FlightNum'].isin(FlightNum_upper500)), 'FlightNum_level'] = 6\n",
    "data_trans.loc[(data_trans['FlightNum'].isin(FlightNum_upper600)), 'FlightNum_level'] = 7\n",
    "data_trans.loc[(data_trans['FlightNum'].isin(FlightNum_upper700)), 'FlightNum_level'] = 8\n",
    "data_trans.loc[(data_trans['FlightNum'].isin(FlightNum_upper800)), 'FlightNum_level'] = 9  \n",
    "data_trans.loc[(data_trans['FlightNum'].isin(FlightNum_upper900)), 'FlightNum_level'] = 10   \n",
    "data_trans['FlightNum_level'].value_counts()"
   ]
  },
  {
   "cell_type": "code",
   "execution_count": 40,
   "metadata": {},
   "outputs": [
    {
     "data": {
      "text/plain": [
       "4     511266\n",
       "5     396853\n",
       "3     246923\n",
       "6     245111\n",
       "7     229619\n",
       "8     125557\n",
       "9      77446\n",
       "2      65909\n",
       "1      21309\n",
       "10      8375\n",
       "Name: TailNum_level, dtype: int64"
      ]
     },
     "execution_count": 40,
     "metadata": {},
     "output_type": "execute_result"
    }
   ],
   "source": [
    "#TailNum\n",
    "# phan loai TailNum thanh cac nhom co so luong chuyen bay khac nhau, voi khoang phan loai la <1000, >1000, >2000, >3000, >4000\n",
    "TailNum_frame = data_trans['TailNum'].value_counts().to_frame()\n",
    "TailNum_lower100 = list(TailNum_frame[TailNum_frame['TailNum'] < 100].index)\n",
    "TailNum_upper100 = list(TailNum_frame[(TailNum_frame['TailNum'] >= 100) & (TailNum_frame['TailNum'] < 200)].index)\n",
    "TailNum_upper200 = list(TailNum_frame[(TailNum_frame['TailNum'] >= 200) & (TailNum_frame['TailNum'] < 300)].index)\n",
    "TailNum_upper300 = list(TailNum_frame[(TailNum_frame['TailNum'] >= 300) & (TailNum_frame['TailNum'] < 400)].index)\n",
    "TailNum_upper400 = list(TailNum_frame[(TailNum_frame['TailNum'] >= 400) & (TailNum_frame['TailNum'] < 500)].index)\n",
    "TailNum_upper500 = list(TailNum_frame[(TailNum_frame['TailNum'] >= 500) & (TailNum_frame['TailNum'] < 600)].index)\n",
    "TailNum_upper600 = list(TailNum_frame[(TailNum_frame['TailNum'] >= 600) & (TailNum_frame['TailNum'] < 700)].index)\n",
    "TailNum_upper700 = list(TailNum_frame[(TailNum_frame['TailNum'] >= 700) & (TailNum_frame['TailNum'] < 800)].index)\n",
    "TailNum_upper800 = list(TailNum_frame[(TailNum_frame['TailNum'] >= 800) & (TailNum_frame['TailNum'] < 900)].index)\n",
    "TailNum_upper900 = list(TailNum_frame[(TailNum_frame['TailNum'] > 900)].index)\n",
    "\n",
    "data_trans['TailNum_level'] = 1\n",
    "data_trans.loc[(data_trans['TailNum'].isin(TailNum_upper100)), 'TailNum_level'] = 2\n",
    "data_trans.loc[(data_trans['TailNum'].isin(TailNum_upper200)), 'TailNum_level'] = 3\n",
    "data_trans.loc[(data_trans['TailNum'].isin(TailNum_upper300)), 'TailNum_level'] = 4\n",
    "data_trans.loc[(data_trans['TailNum'].isin(TailNum_upper400)), 'TailNum_level'] = 5\n",
    "data_trans.loc[(data_trans['TailNum'].isin(TailNum_upper500)), 'TailNum_level'] = 6\n",
    "data_trans.loc[(data_trans['TailNum'].isin(TailNum_upper600)), 'TailNum_level'] = 7\n",
    "data_trans.loc[(data_trans['TailNum'].isin(TailNum_upper700)), 'TailNum_level'] = 8\n",
    "data_trans.loc[(data_trans['TailNum'].isin(TailNum_upper800)), 'TailNum_level'] = 9  \n",
    "data_trans.loc[(data_trans['TailNum'].isin(TailNum_upper900)), 'TailNum_level'] = 10   \n",
    "data_trans['TailNum_level'].value_counts()"
   ]
  },
  {
   "cell_type": "code",
   "execution_count": 41,
   "metadata": {},
   "outputs": [
    {
     "data": {
      "text/plain": [
       "1    368883\n",
       "8    351722\n",
       "2    309511\n",
       "6    276914\n",
       "4    260453\n",
       "3    199496\n",
       "5     87356\n",
       "7     74033\n",
       "Name: Origin_level, dtype: int64"
      ]
     },
     "execution_count": 41,
     "metadata": {},
     "output_type": "execute_result"
    }
   ],
   "source": [
    "#Origin\n",
    "# phan loai Origin thanh cac nhom co so luong chuyen bay khac nhau, voi khoang phan loai la <1000, >1000, >2000, >3000, >4000\n",
    "Origin_frame = data_trans['Origin'].value_counts().to_frame()\n",
    "Origin_lower10k = list(Origin_frame[Origin_frame['Origin'] < 10000].index)\n",
    "Origin_upper10k = list(Origin_frame[(Origin_frame['Origin'] >= 10000) & (Origin_frame['Origin'] < 20000)].index)\n",
    "Origin_upper20k = list(Origin_frame[(Origin_frame['Origin'] >= 20000) & (Origin_frame['Origin'] < 30000)].index)\n",
    "Origin_upper30k = list(Origin_frame[(Origin_frame['Origin'] >= 30000) & (Origin_frame['Origin'] < 40000)].index)\n",
    "Origin_upper40k = list(Origin_frame[(Origin_frame['Origin'] >= 40000) & (Origin_frame['Origin'] < 50000)].index)\n",
    "Origin_upper50k = list(Origin_frame[(Origin_frame['Origin'] >= 50000) & (Origin_frame['Origin'] < 60000)].index)\n",
    "Origin_upper60k = list(Origin_frame[(Origin_frame['Origin'] >= 60000) & (Origin_frame['Origin'] < 90000)].index)\n",
    "# Origin_upper70k = list(Origin_frame[(Origin_frame['Origin'] >= 70000) & (Origin_frame['Origin'] < 80000)].index)\n",
    "# Origin_upper80k = list(Origin_frame[(Origin_frame['Origin'] >= 80000) & (Origin_frame['Origin'] < 90000)].index)\n",
    "Origin_upper90k = list(Origin_frame[(Origin_frame['Origin'] > 90000)].index)\n",
    "\n",
    "data_trans['Origin_level'] = 1\n",
    "data_trans.loc[(data_trans['Origin'].isin(Origin_upper10k)), 'Origin_level'] = 2\n",
    "data_trans.loc[(data_trans['Origin'].isin(Origin_upper20k)), 'Origin_level'] = 3\n",
    "data_trans.loc[(data_trans['Origin'].isin(Origin_upper30k)), 'Origin_level'] = 4\n",
    "data_trans.loc[(data_trans['Origin'].isin(Origin_upper40k)), 'Origin_level'] = 5\n",
    "data_trans.loc[(data_trans['Origin'].isin(Origin_upper50k)), 'Origin_level'] = 6\n",
    "data_trans.loc[(data_trans['Origin'].isin(Origin_upper60k)), 'Origin_level'] = 7\n",
    "# data_trans.loc[(data_trans['Origin'].isin(Origin_upper70k)), 'Origin_level'] = 8\n",
    "# data_trans.loc[(data_trans['Origin'].isin(Origin_upper80k)), 'Origin_level'] = 9  \n",
    "data_trans.loc[(data_trans['Origin'].isin(Origin_upper90k)), 'Origin_level'] = 8   \n",
    "data_trans['Origin_level'].value_counts()"
   ]
  },
  {
   "cell_type": "code",
   "execution_count": 42,
   "metadata": {},
   "outputs": [
    {
     "data": {
      "text/plain": [
       "1    415351\n",
       "2    374773\n",
       "3    250460\n",
       "4    237929\n",
       "9    214805\n",
       "5    186684\n",
       "6    115335\n",
       "8     70181\n",
       "7     62850\n",
       "Name: Dest_level, dtype: int64"
      ]
     },
     "execution_count": 42,
     "metadata": {},
     "output_type": "execute_result"
    }
   ],
   "source": [
    "#Dest\n",
    "# phan loai Dest thanh cac nhom co so luong chuyen bay khac nhau, voi khoang phan loai la <1000, >1000, >2000, >3000, >4000\n",
    "Dest_frame = data_trans['Dest'].value_counts().to_frame()\n",
    "Dest_lower10k = list(Dest_frame[Dest_frame['Dest'] < 10000].index)\n",
    "Dest_upper10k = list(Dest_frame[(Dest_frame['Dest'] >= 10000) & (Dest_frame['Dest'] < 20000)].index)\n",
    "Dest_upper20k = list(Dest_frame[(Dest_frame['Dest'] >= 20000) & (Dest_frame['Dest'] < 30000)].index)\n",
    "Dest_upper30k = list(Dest_frame[(Dest_frame['Dest'] >= 30000) & (Dest_frame['Dest'] < 40000)].index)\n",
    "Dest_upper40k = list(Dest_frame[(Dest_frame['Dest'] >= 40000) & (Dest_frame['Dest'] < 50000)].index)\n",
    "Dest_upper50k = list(Dest_frame[(Dest_frame['Dest'] >= 50000) & (Dest_frame['Dest'] < 60000)].index)\n",
    "Dest_upper60k = list(Dest_frame[(Dest_frame['Dest'] >= 60000) & (Dest_frame['Dest'] < 70000)].index)\n",
    "Dest_upper70k = list(Dest_frame[(Dest_frame['Dest'] >= 70000) & (Dest_frame['Dest'] < 80000)].index)\n",
    "# Dest_upper80k = list(Dest_frame[(Dest_frame['Dest'] >= 80000) & (Dest_frame['Dest'] < 90000)].index)\n",
    "Dest_upper80k = list(Dest_frame[(Dest_frame['Dest'] >= 80000)].index)\n",
    "\n",
    "data_trans['Dest_level'] = 1\n",
    "data_trans.loc[(data_trans['Dest'].isin(Dest_upper10k)), 'Dest_level'] = 2\n",
    "data_trans.loc[(data_trans['Dest'].isin(Dest_upper20k)), 'Dest_level'] = 3\n",
    "data_trans.loc[(data_trans['Dest'].isin(Dest_upper30k)), 'Dest_level'] = 4\n",
    "data_trans.loc[(data_trans['Dest'].isin(Dest_upper40k)), 'Dest_level'] = 5\n",
    "data_trans.loc[(data_trans['Dest'].isin(Dest_upper50k)), 'Dest_level'] = 6\n",
    "data_trans.loc[(data_trans['Dest'].isin(Dest_upper60k)), 'Dest_level'] = 7\n",
    "data_trans.loc[(data_trans['Dest'].isin(Dest_upper70k)), 'Dest_level'] = 8\n",
    "data_trans.loc[(data_trans['Dest'].isin(Dest_upper80k)), 'Dest_level'] = 9  \n",
    "# data_trans.loc[(data_trans['Dest'].isin(Dest_upper90k)), 'Dest_level'] = 10   \n",
    "data_trans['Dest_level'].value_counts()"
   ]
  },
  {
   "cell_type": "code",
   "execution_count": 43,
   "metadata": {},
   "outputs": [
    {
     "data": {
      "text/plain": [
       "['Month',\n",
       " 'DayofMonth',\n",
       " 'DayOfWeek',\n",
       " 'UniqueCarrier',\n",
       " 'FlightNum',\n",
       " 'TailNum',\n",
       " 'Origin',\n",
       " 'Dest']"
      ]
     },
     "execution_count": 43,
     "metadata": {},
     "output_type": "execute_result"
    }
   ],
   "source": [
    "cat_feature"
   ]
  },
  {
   "cell_type": "code",
   "execution_count": 44,
   "metadata": {},
   "outputs": [
    {
     "data": {
      "image/png": "[encoded data removed]",
      "text/plain": [
       "<Figure size 720x360 with 1 Axes>"
      ]
     },
     "metadata": {
      "needs_background": "light"
     },
     "output_type": "display_data"
    },
    {
     "data": {
      "image/png": "[encoded data removed]",
      "text/plain": [
       "<Figure size 720x360 with 1 Axes>"
      ]
     },
     "metadata": {
      "needs_background": "light"
     },
     "output_type": "display_data"
    },
    {
     "data": {
      "image/png": "[encoded data removed]",
      "text/plain": [
       "<Figure size 720x360 with 1 Axes>"
      ]
     },
     "metadata": {
      "needs_background": "light"
     },
     "output_type": "display_data"
    },
    {
     "data": {
      "image/png": "[encoded data removed]",
      "text/plain": [
       "<Figure size 720x360 with 1 Axes>"
      ]
     },
     "metadata": {
      "needs_background": "light"
     },
     "output_type": "display_data"
    },
    {
     "data": {
      "image/png": "[encoded data removed]",
      "text/plain": [
       "<Figure size 720x360 with 1 Axes>"
      ]
     },
     "metadata": {
      "needs_background": "light"
     },
     "output_type": "display_data"
    },
    {
     "data": {
      "image/png": "[encoded data removed]",
      "text/plain": [
       "<Figure size 720x360 with 1 Axes>"
      ]
     },
     "metadata": {
      "needs_background": "light"
     },
     "output_type": "display_data"
    },
    {
     "data": {
      "image/png": "[encoded data removed]",
      "text/plain": [
       "<Figure size 720x360 with 1 Axes>"
      ]
     },
     "metadata": {
      "needs_background": "light"
     },
     "output_type": "display_data"
    },
    {
     "data": {
      "image/png": "[encoded data removed]",
      "text/plain": [
       "<Figure size 720x360 with 1 Axes>"
      ]
     },
     "metadata": {
      "needs_background": "light"
     },
     "output_type": "display_data"
    }
   ],
   "source": [
    "list_plot = ['Month','DayofMonth','DayOfWeek','UniqueCarrier', 'FlightNum_level', 'TailNum_level', 'Origin_level', 'Dest_level']\n",
    "late_flight = data_trans[data_trans['target']==1]\n",
    "for i in list_plot:\n",
    "    plt.figure(figsize=(10,5))\n",
    "    late = late_flight['target'].groupby(data_trans[i]).count()\n",
    "    total = data_trans['target'].groupby(data_trans[i]).count()\n",
    "    freq = np.divide(late,total)\n",
    "    plt.bar(freq.index,freq*100, align='center')\n",
    "    plt.ylabel('Percentage of Flights Cancelled')\n",
    "    plt.title(i)"
   ]
  },
  {
   "cell_type": "markdown",
   "metadata": {},
   "source": [
    "# Xu ly outlier"
   ]
  },
  {
   "cell_type": "code",
   "execution_count": 45,
   "metadata": {},
   "outputs": [
    {
     "data": {
      "text/plain": [
       "(1928368, 16)"
      ]
     },
     "execution_count": 45,
     "metadata": {},
     "output_type": "execute_result"
    }
   ],
   "source": [
    "dataset = data_trans.drop(['FlightNum_level','TailNum_level','Origin_level','Dest_level'], axis = 1)\n",
    "dataset.shape"
   ]
  },
  {
   "cell_type": "code",
   "execution_count": 46,
   "metadata": {},
   "outputs": [
    {
     "data": {
      "text/html": [
       "<div>\n",
       "<style scoped>\n",
       "    .dataframe tbody tr th:only-of-type {\n",
       "        vertical-align: middle;\n",
       "    }\n",
       "\n",
       "    .dataframe tbody tr th {\n",
       "        vertical-align: top;\n",
       "    }\n",
       "\n",
       "    .dataframe thead th {\n",
       "        text-align: right;\n",
       "    }\n",
       "</style>\n",
       "<table border=\"1\" class=\"dataframe\">\n",
       "  <thead>\n",
       "    <tr style=\"text-align: right;\">\n",
       "      <th></th>\n",
       "      <th>Month</th>\n",
       "      <th>DayofMonth</th>\n",
       "      <th>DayOfWeek</th>\n",
       "      <th>DepTime</th>\n",
       "      <th>CRSDepTime</th>\n",
       "      <th>ArrTime</th>\n",
       "      <th>CRSArrTime</th>\n",
       "      <th>FlightNum</th>\n",
       "      <th>Distance</th>\n",
       "      <th>TaxiIn</th>\n",
       "      <th>TaxiOut</th>\n",
       "      <th>target</th>\n",
       "    </tr>\n",
       "  </thead>\n",
       "  <tbody>\n",
       "    <tr>\n",
       "      <th>count</th>\n",
       "      <td>1.928368e+06</td>\n",
       "      <td>1.928368e+06</td>\n",
       "      <td>1.928368e+06</td>\n",
       "      <td>1.928368e+06</td>\n",
       "      <td>1.928368e+06</td>\n",
       "      <td>1.928368e+06</td>\n",
       "      <td>1.928368e+06</td>\n",
       "      <td>1.928368e+06</td>\n",
       "      <td>1.928368e+06</td>\n",
       "      <td>1.928368e+06</td>\n",
       "      <td>1.928368e+06</td>\n",
       "      <td>1.928368e+06</td>\n",
       "    </tr>\n",
       "    <tr>\n",
       "      <th>mean</th>\n",
       "      <td>6.107858e+00</td>\n",
       "      <td>1.575206e+01</td>\n",
       "      <td>3.984999e+00</td>\n",
       "      <td>1.518648e+03</td>\n",
       "      <td>1.467717e+03</td>\n",
       "      <td>1.610242e+03</td>\n",
       "      <td>1.634196e+03</td>\n",
       "      <td>2.184292e+03</td>\n",
       "      <td>7.649490e+02</td>\n",
       "      <td>6.811386e+00</td>\n",
       "      <td>1.821731e+01</td>\n",
       "      <td>4.413177e-01</td>\n",
       "    </tr>\n",
       "    <tr>\n",
       "      <th>std</th>\n",
       "      <td>3.480755e+00</td>\n",
       "      <td>8.776564e+00</td>\n",
       "      <td>1.996051e+00</td>\n",
       "      <td>4.504355e+02</td>\n",
       "      <td>4.247283e+02</td>\n",
       "      <td>5.480012e+02</td>\n",
       "      <td>4.646287e+02</td>\n",
       "      <td>1.944448e+03</td>\n",
       "      <td>5.738861e+02</td>\n",
       "      <td>5.268054e+00</td>\n",
       "      <td>1.430838e+01</td>\n",
       "      <td>4.965446e-01</td>\n",
       "    </tr>\n",
       "    <tr>\n",
       "      <th>min</th>\n",
       "      <td>1.000000e+00</td>\n",
       "      <td>1.000000e+00</td>\n",
       "      <td>1.000000e+00</td>\n",
       "      <td>1.000000e+00</td>\n",
       "      <td>0.000000e+00</td>\n",
       "      <td>1.000000e+00</td>\n",
       "      <td>0.000000e+00</td>\n",
       "      <td>1.000000e+00</td>\n",
       "      <td>1.100000e+01</td>\n",
       "      <td>0.000000e+00</td>\n",
       "      <td>0.000000e+00</td>\n",
       "      <td>0.000000e+00</td>\n",
       "    </tr>\n",
       "    <tr>\n",
       "      <th>25%</th>\n",
       "      <td>3.000000e+00</td>\n",
       "      <td>8.000000e+00</td>\n",
       "      <td>2.000000e+00</td>\n",
       "      <td>1.203000e+03</td>\n",
       "      <td>1.135000e+03</td>\n",
       "      <td>1.316000e+03</td>\n",
       "      <td>1.325000e+03</td>\n",
       "      <td>6.110000e+02</td>\n",
       "      <td>3.380000e+02</td>\n",
       "      <td>4.000000e+00</td>\n",
       "      <td>1.000000e+01</td>\n",
       "      <td>0.000000e+00</td>\n",
       "    </tr>\n",
       "    <tr>\n",
       "      <th>50%</th>\n",
       "      <td>6.000000e+00</td>\n",
       "      <td>1.600000e+01</td>\n",
       "      <td>4.000000e+00</td>\n",
       "      <td>1.545000e+03</td>\n",
       "      <td>1.510000e+03</td>\n",
       "      <td>1.715000e+03</td>\n",
       "      <td>1.705000e+03</td>\n",
       "      <td>1.543000e+03</td>\n",
       "      <td>6.060000e+02</td>\n",
       "      <td>6.000000e+00</td>\n",
       "      <td>1.400000e+01</td>\n",
       "      <td>0.000000e+00</td>\n",
       "    </tr>\n",
       "    <tr>\n",
       "      <th>75%</th>\n",
       "      <td>9.000000e+00</td>\n",
       "      <td>2.300000e+01</td>\n",
       "      <td>6.000000e+00</td>\n",
       "      <td>1.900000e+03</td>\n",
       "      <td>1.815000e+03</td>\n",
       "      <td>2.030000e+03</td>\n",
       "      <td>2.014000e+03</td>\n",
       "      <td>3.423000e+03</td>\n",
       "      <td>9.970000e+02</td>\n",
       "      <td>8.000000e+00</td>\n",
       "      <td>2.100000e+01</td>\n",
       "      <td>1.000000e+00</td>\n",
       "    </tr>\n",
       "    <tr>\n",
       "      <th>max</th>\n",
       "      <td>1.200000e+01</td>\n",
       "      <td>3.100000e+01</td>\n",
       "      <td>7.000000e+00</td>\n",
       "      <td>2.400000e+03</td>\n",
       "      <td>2.359000e+03</td>\n",
       "      <td>2.400000e+03</td>\n",
       "      <td>2.359000e+03</td>\n",
       "      <td>9.741000e+03</td>\n",
       "      <td>4.962000e+03</td>\n",
       "      <td>2.400000e+02</td>\n",
       "      <td>4.220000e+02</td>\n",
       "      <td>1.000000e+00</td>\n",
       "    </tr>\n",
       "  </tbody>\n",
       "</table>\n",
       "</div>"
      ],
      "text/plain": [
       "              Month    DayofMonth     DayOfWeek       DepTime    CRSDepTime  \\\n",
       "count  1.928368e+06  1.928368e+06  1.928368e+06  1.928368e+06  1.928368e+06   \n",
       "mean   6.107858e+00  1.575206e+01  3.984999e+00  1.518648e+03  1.467717e+03   \n",
       "std    3.480755e+00  8.776564e+00  1.996051e+00  4.504355e+02  4.247283e+02   \n",
       "min    1.000000e+00  1.000000e+00  1.000000e+00  1.000000e+00  0.000000e+00   \n",
       "25%    3.000000e+00  8.000000e+00  2.000000e+00  1.203000e+03  1.135000e+03   \n",
       "50%    6.000000e+00  1.600000e+01  4.000000e+00  1.545000e+03  1.510000e+03   \n",
       "75%    9.000000e+00  2.300000e+01  6.000000e+00  1.900000e+03  1.815000e+03   \n",
       "max    1.200000e+01  3.100000e+01  7.000000e+00  2.400000e+03  2.359000e+03   \n",
       "\n",
       "            ArrTime    CRSArrTime     FlightNum      Distance        TaxiIn  \\\n",
       "count  1.928368e+06  1.928368e+06  1.928368e+06  1.928368e+06  1.928368e+06   \n",
       "mean   1.610242e+03  1.634196e+03  2.184292e+03  7.649490e+02  6.811386e+00   \n",
       "std    5.480012e+02  4.646287e+02  1.944448e+03  5.738861e+02  5.268054e+00   \n",
       "min    1.000000e+00  0.000000e+00  1.000000e+00  1.100000e+01  0.000000e+00   \n",
       "25%    1.316000e+03  1.325000e+03  6.110000e+02  3.380000e+02  4.000000e+00   \n",
       "50%    1.715000e+03  1.705000e+03  1.543000e+03  6.060000e+02  6.000000e+00   \n",
       "75%    2.030000e+03  2.014000e+03  3.423000e+03  9.970000e+02  8.000000e+00   \n",
       "max    2.400000e+03  2.359000e+03  9.741000e+03  4.962000e+03  2.400000e+02   \n",
       "\n",
       "            TaxiOut        target  \n",
       "count  1.928368e+06  1.928368e+06  \n",
       "mean   1.821731e+01  4.413177e-01  \n",
       "std    1.430838e+01  4.965446e-01  \n",
       "min    0.000000e+00  0.000000e+00  \n",
       "25%    1.000000e+01  0.000000e+00  \n",
       "50%    1.400000e+01  0.000000e+00  \n",
       "75%    2.100000e+01  1.000000e+00  \n",
       "max    4.220000e+02  1.000000e+00  "
      ]
     },
     "execution_count": 46,
     "metadata": {},
     "output_type": "execute_result"
    }
   ],
   "source": [
    "dataset.describe()"
   ]
  },
  {
   "cell_type": "code",
   "execution_count": 47,
   "metadata": {},
   "outputs": [
    {
     "data": {
      "text/html": [
       "<div>\n",
       "<style scoped>\n",
       "    .dataframe tbody tr th:only-of-type {\n",
       "        vertical-align: middle;\n",
       "    }\n",
       "\n",
       "    .dataframe tbody tr th {\n",
       "        vertical-align: top;\n",
       "    }\n",
       "\n",
       "    .dataframe thead th {\n",
       "        text-align: right;\n",
       "    }\n",
       "</style>\n",
       "<table border=\"1\" class=\"dataframe\">\n",
       "  <thead>\n",
       "    <tr style=\"text-align: right;\">\n",
       "      <th></th>\n",
       "      <th>Total</th>\n",
       "      <th>Percent</th>\n",
       "    </tr>\n",
       "  </thead>\n",
       "  <tbody>\n",
       "    <tr>\n",
       "      <th>Month</th>\n",
       "      <td>0</td>\n",
       "      <td>0.000000</td>\n",
       "    </tr>\n",
       "    <tr>\n",
       "      <th>DayofMonth</th>\n",
       "      <td>0</td>\n",
       "      <td>0.000000</td>\n",
       "    </tr>\n",
       "    <tr>\n",
       "      <th>DayOfWeek</th>\n",
       "      <td>0</td>\n",
       "      <td>0.000000</td>\n",
       "    </tr>\n",
       "    <tr>\n",
       "      <th>DepTime</th>\n",
       "      <td>16558</td>\n",
       "      <td>0.858654</td>\n",
       "    </tr>\n",
       "    <tr>\n",
       "      <th>CRSDepTime</th>\n",
       "      <td>2403</td>\n",
       "      <td>0.124613</td>\n",
       "    </tr>\n",
       "    <tr>\n",
       "      <th>ArrTime</th>\n",
       "      <td>95476</td>\n",
       "      <td>4.951130</td>\n",
       "    </tr>\n",
       "    <tr>\n",
       "      <th>CRSArrTime</th>\n",
       "      <td>25503</td>\n",
       "      <td>1.322517</td>\n",
       "    </tr>\n",
       "    <tr>\n",
       "      <th>UniqueCarrier</th>\n",
       "      <td>0</td>\n",
       "      <td>0.000000</td>\n",
       "    </tr>\n",
       "    <tr>\n",
       "      <th>FlightNum</th>\n",
       "      <td>6154</td>\n",
       "      <td>0.319130</td>\n",
       "    </tr>\n",
       "    <tr>\n",
       "      <th>TailNum</th>\n",
       "      <td>0</td>\n",
       "      <td>0.000000</td>\n",
       "    </tr>\n",
       "    <tr>\n",
       "      <th>Origin</th>\n",
       "      <td>0</td>\n",
       "      <td>0.000000</td>\n",
       "    </tr>\n",
       "    <tr>\n",
       "      <th>Dest</th>\n",
       "      <td>0</td>\n",
       "      <td>0.000000</td>\n",
       "    </tr>\n",
       "    <tr>\n",
       "      <th>Distance</th>\n",
       "      <td>97904</td>\n",
       "      <td>5.077039</td>\n",
       "    </tr>\n",
       "    <tr>\n",
       "      <th>TaxiIn</th>\n",
       "      <td>101191</td>\n",
       "      <td>5.247494</td>\n",
       "    </tr>\n",
       "    <tr>\n",
       "      <th>TaxiOut</th>\n",
       "      <td>128352</td>\n",
       "      <td>6.655991</td>\n",
       "    </tr>\n",
       "    <tr>\n",
       "      <th>target</th>\n",
       "      <td>0</td>\n",
       "      <td>0.000000</td>\n",
       "    </tr>\n",
       "  </tbody>\n",
       "</table>\n",
       "</div>"
      ],
      "text/plain": [
       "                Total   Percent\n",
       "Month               0  0.000000\n",
       "DayofMonth          0  0.000000\n",
       "DayOfWeek           0  0.000000\n",
       "DepTime         16558  0.858654\n",
       "CRSDepTime       2403  0.124613\n",
       "ArrTime         95476  4.951130\n",
       "CRSArrTime      25503  1.322517\n",
       "UniqueCarrier       0  0.000000\n",
       "FlightNum        6154  0.319130\n",
       "TailNum             0  0.000000\n",
       "Origin              0  0.000000\n",
       "Dest                0  0.000000\n",
       "Distance        97904  5.077039\n",
       "TaxiIn         101191  5.247494\n",
       "TaxiOut        128352  6.655991\n",
       "target              0  0.000000"
      ]
     },
     "execution_count": 47,
     "metadata": {},
     "output_type": "execute_result"
    }
   ],
   "source": [
    "q1 = dataset.quantile(0.25)\n",
    "q3 = dataset.quantile(0.75)\n",
    "iqr = q3 - q1\n",
    "dataset = dataset[~((dataset < (q1 - 1.5 * iqr)) |(dataset > (q3 + 1.5 * iqr)))]\n",
    "total = dataset.isnull().sum()\n",
    "percent = dataset.isnull().sum()/len(dataset)*100\n",
    "missing_dataset = pd.concat([total,percent], axis=1,keys=['Total', 'Percent'])\n",
    "missing_dataset"
   ]
  },
  {
   "cell_type": "code",
   "execution_count": 48,
   "metadata": {},
   "outputs": [],
   "source": [
    "dataset = pd.concat([dataset,data_trans[['FlightNum_level','TailNum_level','Origin_level','Dest_level']]], axis=1)"
   ]
  },
  {
   "cell_type": "code",
   "execution_count": 49,
   "metadata": {},
   "outputs": [
    {
     "data": {
      "text/plain": [
       "(1928368, 20)"
      ]
     },
     "execution_count": 49,
     "metadata": {},
     "output_type": "execute_result"
    }
   ],
   "source": [
    "dataset.shape"
   ]
  },
  {
   "cell_type": "code",
   "execution_count": 50,
   "metadata": {},
   "outputs": [],
   "source": [
    "dataset = dataset.dropna()"
   ]
  },
  {
   "cell_type": "code",
   "execution_count": 51,
   "metadata": {},
   "outputs": [
    {
     "data": {
      "text/plain": [
       "(1539221, 20)"
      ]
     },
     "execution_count": 51,
     "metadata": {},
     "output_type": "execute_result"
    }
   ],
   "source": [
    "dataset.shape"
   ]
  },
  {
   "cell_type": "code",
   "execution_count": 52,
   "metadata": {},
   "outputs": [
    {
     "data": {
      "text/plain": [
       "Month              0\n",
       "DayofMonth         0\n",
       "DayOfWeek          0\n",
       "DepTime            0\n",
       "CRSDepTime         0\n",
       "ArrTime            0\n",
       "CRSArrTime         0\n",
       "UniqueCarrier      0\n",
       "FlightNum          0\n",
       "TailNum            0\n",
       "Origin             0\n",
       "Dest               0\n",
       "Distance           0\n",
       "TaxiIn             0\n",
       "TaxiOut            0\n",
       "target             0\n",
       "FlightNum_level    0\n",
       "TailNum_level      0\n",
       "Origin_level       0\n",
       "Dest_level         0\n",
       "dtype: int64"
      ]
     },
     "execution_count": 52,
     "metadata": {},
     "output_type": "execute_result"
    }
   ],
   "source": [
    "dataset.isnull().sum()"
   ]
  },
  {
   "cell_type": "code",
   "execution_count": 53,
   "metadata": {},
   "outputs": [
    {
     "data": {
      "text/html": [
       "<div>\n",
       "<style scoped>\n",
       "    .dataframe tbody tr th:only-of-type {\n",
       "        vertical-align: middle;\n",
       "    }\n",
       "\n",
       "    .dataframe tbody tr th {\n",
       "        vertical-align: top;\n",
       "    }\n",
       "\n",
       "    .dataframe thead th {\n",
       "        text-align: right;\n",
       "    }\n",
       "</style>\n",
       "<table border=\"1\" class=\"dataframe\">\n",
       "  <thead>\n",
       "    <tr style=\"text-align: right;\">\n",
       "      <th></th>\n",
       "      <th>Month</th>\n",
       "      <th>DayofMonth</th>\n",
       "      <th>DayOfWeek</th>\n",
       "      <th>DepTime</th>\n",
       "      <th>CRSDepTime</th>\n",
       "      <th>ArrTime</th>\n",
       "      <th>CRSArrTime</th>\n",
       "      <th>FlightNum</th>\n",
       "      <th>Distance</th>\n",
       "      <th>TaxiIn</th>\n",
       "      <th>TaxiOut</th>\n",
       "      <th>target</th>\n",
       "      <th>FlightNum_level</th>\n",
       "      <th>TailNum_level</th>\n",
       "      <th>Origin_level</th>\n",
       "      <th>Dest_level</th>\n",
       "    </tr>\n",
       "  </thead>\n",
       "  <tbody>\n",
       "    <tr>\n",
       "      <th>count</th>\n",
       "      <td>1.539221e+06</td>\n",
       "      <td>1.539221e+06</td>\n",
       "      <td>1.539221e+06</td>\n",
       "      <td>1.539221e+06</td>\n",
       "      <td>1.539221e+06</td>\n",
       "      <td>1.539221e+06</td>\n",
       "      <td>1.539221e+06</td>\n",
       "      <td>1.539221e+06</td>\n",
       "      <td>1.539221e+06</td>\n",
       "      <td>1.539221e+06</td>\n",
       "      <td>1.539221e+06</td>\n",
       "      <td>1.539221e+06</td>\n",
       "      <td>1.539221e+06</td>\n",
       "      <td>1.539221e+06</td>\n",
       "      <td>1.539221e+06</td>\n",
       "      <td>1.539221e+06</td>\n",
       "    </tr>\n",
       "    <tr>\n",
       "      <th>mean</th>\n",
       "      <td>6.093900e+00</td>\n",
       "      <td>1.575112e+01</td>\n",
       "      <td>3.978118e+00</td>\n",
       "      <td>1.500450e+03</td>\n",
       "      <td>1.438534e+03</td>\n",
       "      <td>1.689237e+03</td>\n",
       "      <td>1.633413e+03</td>\n",
       "      <td>2.252663e+03</td>\n",
       "      <td>6.630659e+02</td>\n",
       "      <td>5.887774e+00</td>\n",
       "      <td>1.515925e+01</td>\n",
       "      <td>3.834719e-01</td>\n",
       "      <td>5.162251e+00</td>\n",
       "      <td>5.244986e+00</td>\n",
       "      <td>4.121379e+00</td>\n",
       "      <td>3.730030e+00</td>\n",
       "    </tr>\n",
       "    <tr>\n",
       "      <th>std</th>\n",
       "      <td>3.485377e+00</td>\n",
       "      <td>8.772446e+00</td>\n",
       "      <td>1.997265e+00</td>\n",
       "      <td>4.154984e+02</td>\n",
       "      <td>4.076245e+02</td>\n",
       "      <td>4.151136e+02</td>\n",
       "      <td>4.091349e+02</td>\n",
       "      <td>1.928080e+03</td>\n",
       "      <td>4.278661e+02</td>\n",
       "      <td>2.734986e+00</td>\n",
       "      <td>6.942001e+00</td>\n",
       "      <td>4.862318e-01</td>\n",
       "      <td>2.828293e+00</td>\n",
       "      <td>1.806840e+00</td>\n",
       "      <td>2.561788e+00</td>\n",
       "      <td>2.601680e+00</td>\n",
       "    </tr>\n",
       "    <tr>\n",
       "      <th>min</th>\n",
       "      <td>1.000000e+00</td>\n",
       "      <td>1.000000e+00</td>\n",
       "      <td>1.000000e+00</td>\n",
       "      <td>1.580000e+02</td>\n",
       "      <td>1.150000e+02</td>\n",
       "      <td>2.450000e+02</td>\n",
       "      <td>3.040000e+02</td>\n",
       "      <td>1.000000e+00</td>\n",
       "      <td>1.100000e+01</td>\n",
       "      <td>0.000000e+00</td>\n",
       "      <td>0.000000e+00</td>\n",
       "      <td>0.000000e+00</td>\n",
       "      <td>1.000000e+00</td>\n",
       "      <td>1.000000e+00</td>\n",
       "      <td>1.000000e+00</td>\n",
       "      <td>1.000000e+00</td>\n",
       "    </tr>\n",
       "    <tr>\n",
       "      <th>10%</th>\n",
       "      <td>2.000000e+00</td>\n",
       "      <td>4.000000e+00</td>\n",
       "      <td>1.000000e+00</td>\n",
       "      <td>9.220000e+02</td>\n",
       "      <td>8.500000e+02</td>\n",
       "      <td>1.111000e+03</td>\n",
       "      <td>1.040000e+03</td>\n",
       "      <td>2.820000e+02</td>\n",
       "      <td>2.120000e+02</td>\n",
       "      <td>3.000000e+00</td>\n",
       "      <td>8.000000e+00</td>\n",
       "      <td>0.000000e+00</td>\n",
       "      <td>2.000000e+00</td>\n",
       "      <td>3.000000e+00</td>\n",
       "      <td>1.000000e+00</td>\n",
       "      <td>1.000000e+00</td>\n",
       "    </tr>\n",
       "    <tr>\n",
       "      <th>25%</th>\n",
       "      <td>3.000000e+00</td>\n",
       "      <td>8.000000e+00</td>\n",
       "      <td>2.000000e+00</td>\n",
       "      <td>1.158000e+03</td>\n",
       "      <td>1.125000e+03</td>\n",
       "      <td>1.359000e+03</td>\n",
       "      <td>1.328000e+03</td>\n",
       "      <td>6.560000e+02</td>\n",
       "      <td>3.280000e+02</td>\n",
       "      <td>4.000000e+00</td>\n",
       "      <td>1.000000e+01</td>\n",
       "      <td>0.000000e+00</td>\n",
       "      <td>3.000000e+00</td>\n",
       "      <td>4.000000e+00</td>\n",
       "      <td>2.000000e+00</td>\n",
       "      <td>2.000000e+00</td>\n",
       "    </tr>\n",
       "    <tr>\n",
       "      <th>50%</th>\n",
       "      <td>6.000000e+00</td>\n",
       "      <td>1.600000e+01</td>\n",
       "      <td>4.000000e+00</td>\n",
       "      <td>1.527000e+03</td>\n",
       "      <td>1.450000e+03</td>\n",
       "      <td>1.726000e+03</td>\n",
       "      <td>1.650000e+03</td>\n",
       "      <td>1.616000e+03</td>\n",
       "      <td>5.750000e+02</td>\n",
       "      <td>5.000000e+00</td>\n",
       "      <td>1.400000e+01</td>\n",
       "      <td>0.000000e+00</td>\n",
       "      <td>5.000000e+00</td>\n",
       "      <td>5.000000e+00</td>\n",
       "      <td>4.000000e+00</td>\n",
       "      <td>3.000000e+00</td>\n",
       "    </tr>\n",
       "    <tr>\n",
       "      <th>75%</th>\n",
       "      <td>9.000000e+00</td>\n",
       "      <td>2.300000e+01</td>\n",
       "      <td>6.000000e+00</td>\n",
       "      <td>1.837000e+03</td>\n",
       "      <td>1.753000e+03</td>\n",
       "      <td>2.032000e+03</td>\n",
       "      <td>1.955000e+03</td>\n",
       "      <td>3.570000e+03</td>\n",
       "      <td>9.190000e+02</td>\n",
       "      <td>7.000000e+00</td>\n",
       "      <td>1.900000e+01</td>\n",
       "      <td>1.000000e+00</td>\n",
       "      <td>7.000000e+00</td>\n",
       "      <td>7.000000e+00</td>\n",
       "      <td>6.000000e+00</td>\n",
       "      <td>5.000000e+00</td>\n",
       "    </tr>\n",
       "    <tr>\n",
       "      <th>95%</th>\n",
       "      <td>1.200000e+01</td>\n",
       "      <td>2.900000e+01</td>\n",
       "      <td>7.000000e+00</td>\n",
       "      <td>2.126000e+03</td>\n",
       "      <td>2.045000e+03</td>\n",
       "      <td>2.309000e+03</td>\n",
       "      <td>2.234000e+03</td>\n",
       "      <td>6.037000e+03</td>\n",
       "      <td>1.587000e+03</td>\n",
       "      <td>1.100000e+01</td>\n",
       "      <td>3.000000e+01</td>\n",
       "      <td>1.000000e+00</td>\n",
       "      <td>1.000000e+01</td>\n",
       "      <td>9.000000e+00</td>\n",
       "      <td>8.000000e+00</td>\n",
       "      <td>9.000000e+00</td>\n",
       "    </tr>\n",
       "    <tr>\n",
       "      <th>99%</th>\n",
       "      <td>1.200000e+01</td>\n",
       "      <td>3.100000e+01</td>\n",
       "      <td>7.000000e+00</td>\n",
       "      <td>2.225000e+03</td>\n",
       "      <td>2.145000e+03</td>\n",
       "      <td>2.348000e+03</td>\n",
       "      <td>2.325000e+03</td>\n",
       "      <td>7.199000e+03</td>\n",
       "      <td>1.864000e+03</td>\n",
       "      <td>1.400000e+01</td>\n",
       "      <td>3.500000e+01</td>\n",
       "      <td>1.000000e+00</td>\n",
       "      <td>1.000000e+01</td>\n",
       "      <td>9.000000e+00</td>\n",
       "      <td>8.000000e+00</td>\n",
       "      <td>9.000000e+00</td>\n",
       "    </tr>\n",
       "    <tr>\n",
       "      <th>max</th>\n",
       "      <td>1.200000e+01</td>\n",
       "      <td>3.100000e+01</td>\n",
       "      <td>7.000000e+00</td>\n",
       "      <td>2.400000e+03</td>\n",
       "      <td>2.359000e+03</td>\n",
       "      <td>2.400000e+03</td>\n",
       "      <td>2.359000e+03</td>\n",
       "      <td>7.499000e+03</td>\n",
       "      <td>1.984000e+03</td>\n",
       "      <td>1.400000e+01</td>\n",
       "      <td>3.700000e+01</td>\n",
       "      <td>1.000000e+00</td>\n",
       "      <td>1.000000e+01</td>\n",
       "      <td>1.000000e+01</td>\n",
       "      <td>8.000000e+00</td>\n",
       "      <td>9.000000e+00</td>\n",
       "    </tr>\n",
       "  </tbody>\n",
       "</table>\n",
       "</div>"
      ],
      "text/plain": [
       "              Month    DayofMonth     DayOfWeek       DepTime    CRSDepTime  \\\n",
       "count  1.539221e+06  1.539221e+06  1.539221e+06  1.539221e+06  1.539221e+06   \n",
       "mean   6.093900e+00  1.575112e+01  3.978118e+00  1.500450e+03  1.438534e+03   \n",
       "std    3.485377e+00  8.772446e+00  1.997265e+00  4.154984e+02  4.076245e+02   \n",
       "min    1.000000e+00  1.000000e+00  1.000000e+00  1.580000e+02  1.150000e+02   \n",
       "10%    2.000000e+00  4.000000e+00  1.000000e+00  9.220000e+02  8.500000e+02   \n",
       "25%    3.000000e+00  8.000000e+00  2.000000e+00  1.158000e+03  1.125000e+03   \n",
       "50%    6.000000e+00  1.600000e+01  4.000000e+00  1.527000e+03  1.450000e+03   \n",
       "75%    9.000000e+00  2.300000e+01  6.000000e+00  1.837000e+03  1.753000e+03   \n",
       "95%    1.200000e+01  2.900000e+01  7.000000e+00  2.126000e+03  2.045000e+03   \n",
       "99%    1.200000e+01  3.100000e+01  7.000000e+00  2.225000e+03  2.145000e+03   \n",
       "max    1.200000e+01  3.100000e+01  7.000000e+00  2.400000e+03  2.359000e+03   \n",
       "\n",
       "            ArrTime    CRSArrTime     FlightNum      Distance        TaxiIn  \\\n",
       "count  1.539221e+06  1.539221e+06  1.539221e+06  1.539221e+06  1.539221e+06   \n",
       "mean   1.689237e+03  1.633413e+03  2.252663e+03  6.630659e+02  5.887774e+00   \n",
       "std    4.151136e+02  4.091349e+02  1.928080e+03  4.278661e+02  2.734986e+00   \n",
       "min    2.450000e+02  3.040000e+02  1.000000e+00  1.100000e+01  0.000000e+00   \n",
       "10%    1.111000e+03  1.040000e+03  2.820000e+02  2.120000e+02  3.000000e+00   \n",
       "25%    1.359000e+03  1.328000e+03  6.560000e+02  3.280000e+02  4.000000e+00   \n",
       "50%    1.726000e+03  1.650000e+03  1.616000e+03  5.750000e+02  5.000000e+00   \n",
       "75%    2.032000e+03  1.955000e+03  3.570000e+03  9.190000e+02  7.000000e+00   \n",
       "95%    2.309000e+03  2.234000e+03  6.037000e+03  1.587000e+03  1.100000e+01   \n",
       "99%    2.348000e+03  2.325000e+03  7.199000e+03  1.864000e+03  1.400000e+01   \n",
       "max    2.400000e+03  2.359000e+03  7.499000e+03  1.984000e+03  1.400000e+01   \n",
       "\n",
       "            TaxiOut        target  FlightNum_level  TailNum_level  \\\n",
       "count  1.539221e+06  1.539221e+06     1.539221e+06   1.539221e+06   \n",
       "mean   1.515925e+01  3.834719e-01     5.162251e+00   5.244986e+00   \n",
       "std    6.942001e+00  4.862318e-01     2.828293e+00   1.806840e+00   \n",
       "min    0.000000e+00  0.000000e+00     1.000000e+00   1.000000e+00   \n",
       "10%    8.000000e+00  0.000000e+00     2.000000e+00   3.000000e+00   \n",
       "25%    1.000000e+01  0.000000e+00     3.000000e+00   4.000000e+00   \n",
       "50%    1.400000e+01  0.000000e+00     5.000000e+00   5.000000e+00   \n",
       "75%    1.900000e+01  1.000000e+00     7.000000e+00   7.000000e+00   \n",
       "95%    3.000000e+01  1.000000e+00     1.000000e+01   9.000000e+00   \n",
       "99%    3.500000e+01  1.000000e+00     1.000000e+01   9.000000e+00   \n",
       "max    3.700000e+01  1.000000e+00     1.000000e+01   1.000000e+01   \n",
       "\n",
       "       Origin_level    Dest_level  \n",
       "count  1.539221e+06  1.539221e+06  \n",
       "mean   4.121379e+00  3.730030e+00  \n",
       "std    2.561788e+00  2.601680e+00  \n",
       "min    1.000000e+00  1.000000e+00  \n",
       "10%    1.000000e+00  1.000000e+00  \n",
       "25%    2.000000e+00  2.000000e+00  \n",
       "50%    4.000000e+00  3.000000e+00  \n",
       "75%    6.000000e+00  5.000000e+00  \n",
       "95%    8.000000e+00  9.000000e+00  \n",
       "99%    8.000000e+00  9.000000e+00  \n",
       "max    8.000000e+00  9.000000e+00  "
      ]
     },
     "execution_count": 53,
     "metadata": {},
     "output_type": "execute_result"
    }
   ],
   "source": [
    "dataset.describe(percentiles=[.1,.25,.50,.75,.95,.99])"
   ]
  },
  {
   "cell_type": "markdown",
   "metadata": {},
   "source": [
    "# 2. Models"
   ]
  },
  {
   "cell_type": "code",
   "execution_count": 54,
   "metadata": {},
   "outputs": [],
   "source": [
    "scaler = StandardScaler()"
   ]
  },
  {
   "cell_type": "code",
   "execution_count": 55,
   "metadata": {},
   "outputs": [],
   "source": [
    "# label encoder\n",
    "dataset['Dest'] = dataset['Dest'].astype('category').cat.codes\n",
    "dataset['Origin']= dataset['Origin'].astype('category').cat.codes\n",
    "dataset['TailNum']= dataset['TailNum'].astype('category').cat.codes\n",
    "dataset['UniqueCarrier']= dataset['UniqueCarrier'].astype('category').cat.codes"
   ]
  },
  {
   "cell_type": "code",
   "execution_count": 56,
   "metadata": {},
   "outputs": [],
   "source": [
    "# Split\n",
    "# Create features variable \n",
    "X = dataset.drop(['target', 'TailNum_level', 'Origin_level', 'FlightNum_level', 'Dest_level'],axis = 1)\n",
    "# Create target variable\n",
    "y = dataset['target']"
   ]
  },
  {
   "cell_type": "code",
   "execution_count": 57,
   "metadata": {},
   "outputs": [
    {
     "data": {
      "text/plain": [
       "(1539221, 15)"
      ]
     },
     "execution_count": 57,
     "metadata": {},
     "output_type": "execute_result"
    }
   ],
   "source": [
    "X.shape"
   ]
  },
  {
   "cell_type": "code",
   "execution_count": 286,
   "metadata": {},
   "outputs": [
    {
     "data": {
      "text/plain": [
       "Index(['Month', 'DayofMonth', 'DayOfWeek', 'DepTime', 'CRSDepTime', 'ArrTime',\n",
       "       'CRSArrTime', 'UniqueCarrier', 'FlightNum', 'TailNum', 'Origin', 'Dest',\n",
       "       'Distance', 'TaxiIn', 'TaxiOut'],\n",
       "      dtype='object')"
      ]
     },
     "execution_count": 286,
     "metadata": {},
     "output_type": "execute_result"
    }
   ],
   "source": [
    "X.columns"
   ]
  },
  {
   "cell_type": "code",
   "execution_count": 58,
   "metadata": {},
   "outputs": [],
   "source": [
    "# # Train, test, split\n",
    "X_train, X_test, y_train, y_test = train_test_split(X,y, test_size = .20, random_state= 0)"
   ]
  },
  {
   "cell_type": "code",
   "execution_count": 59,
   "metadata": {},
   "outputs": [],
   "source": [
    "# X_train_tf = scaler.fit_transform(X_train)\n",
    "X_train_tf = X_train\n",
    "# X_test_tf = scaler.fit_transform(X_test)\n",
    "X_test_tf = X_test"
   ]
  },
  {
   "cell_type": "markdown",
   "metadata": {},
   "source": [
    "### 2.1 Logistic regression"
   ]
  },
  {
   "cell_type": "code",
   "execution_count": 60,
   "metadata": {},
   "outputs": [
    {
     "data": {
      "text/plain": [
       "LogisticRegression(C=1.0, class_weight=None, dual=False, fit_intercept=True,\n",
       "                   intercept_scaling=1, l1_ratio=None, max_iter=100,\n",
       "                   multi_class='warn', n_jobs=8, penalty='l2',\n",
       "                   random_state=None, solver='lbfgs', tol=0.0001, verbose=0,\n",
       "                   warm_start=False)"
      ]
     },
     "execution_count": 60,
     "metadata": {},
     "output_type": "execute_result"
    }
   ],
   "source": [
    "# # Logistic regression\n",
    "lr = LogisticRegression(n_jobs=8, solver = 'lbfgs')\n",
    "lr.fit(X_train_tf,y_train)"
   ]
  },
  {
   "cell_type": "code",
   "execution_count": 61,
   "metadata": {},
   "outputs": [],
   "source": [
    "y_pred = lr.predict(X_test_tf)"
   ]
  },
  {
   "cell_type": "code",
   "execution_count": 62,
   "metadata": {},
   "outputs": [
    {
     "name": "stdout",
     "output_type": "stream",
     "text": [
      "              precision    recall  f1-score   support\n",
      "\n",
      "           0       0.90      0.94      0.92    189764\n",
      "           1       0.90      0.84      0.87    118081\n",
      "\n",
      "    accuracy                           0.90    307845\n",
      "   macro avg       0.90      0.89      0.90    307845\n",
      "weighted avg       0.90      0.90      0.90    307845\n",
      "\n",
      "auc: 0.8917118990545532\n",
      "gini: 0.7834237981091063\n"
     ]
    }
   ],
   "source": [
    "clf_report_lr = classification_report(y_test, y_pred, output_dict = True)\n",
    "print(classification_report(y_test, y_pred))\n",
    "auc_lr = roc_auc_score(y_test, y_pred)\n",
    "print('auc: '+ str(auc_lr))\n",
    "gini_lr = 2*auc_lr - 1\n",
    "print('gini: ' + str(gini_lr))"
   ]
  },
  {
   "cell_type": "markdown",
   "metadata": {},
   "source": [
    "#### Making the Confusion Matrix"
   ]
  },
  {
   "cell_type": "code",
   "execution_count": 63,
   "metadata": {},
   "outputs": [
    {
     "name": "stdout",
     "output_type": "stream",
     "text": [
      "[[179224  10540]\n",
      " [ 19015  99066]]\n"
     ]
    },
    {
     "data": {
      "text/plain": [
       "0.9039938930305835"
      ]
     },
     "execution_count": 63,
     "metadata": {},
     "output_type": "execute_result"
    }
   ],
   "source": [
    "cm_lr = confusion_matrix(y_test, y_pred)\n",
    "print(cm_lr)\n",
    "accuracy_score(y_test, y_pred)"
   ]
  },
  {
   "cell_type": "markdown",
   "metadata": {},
   "source": [
    "### 2.2 Naives Bayes"
   ]
  },
  {
   "cell_type": "code",
   "execution_count": 64,
   "metadata": {},
   "outputs": [],
   "source": [
    "# Naives Bayes\n",
    "nb = GaussianNB()"
   ]
  },
  {
   "cell_type": "code",
   "execution_count": 65,
   "metadata": {},
   "outputs": [
    {
     "data": {
      "text/plain": [
       "GaussianNB(priors=None, var_smoothing=1e-09)"
      ]
     },
     "execution_count": 65,
     "metadata": {},
     "output_type": "execute_result"
    }
   ],
   "source": [
    "nb.fit(X_train_tf, y_train)"
   ]
  },
  {
   "cell_type": "code",
   "execution_count": 66,
   "metadata": {},
   "outputs": [],
   "source": [
    "y_pred = nb.predict(X_test_tf)"
   ]
  },
  {
   "cell_type": "code",
   "execution_count": 67,
   "metadata": {},
   "outputs": [
    {
     "name": "stdout",
     "output_type": "stream",
     "text": [
      "              precision    recall  f1-score   support\n",
      "\n",
      "           0       0.68      0.80      0.73    189764\n",
      "           1       0.54      0.38      0.45    118081\n",
      "\n",
      "    accuracy                           0.64    307845\n",
      "   macro avg       0.61      0.59      0.59    307845\n",
      "weighted avg       0.62      0.64      0.62    307845\n",
      "\n",
      "auc: 0.5910822312250015\n",
      "gini: 0.18216446245000295\n"
     ]
    }
   ],
   "source": [
    "clf_report_nb = classification_report(y_test, y_pred, output_dict = True)\n",
    "print(classification_report(y_test, y_pred))\n",
    "auc_nb = roc_auc_score(y_test, y_pred)\n",
    "print('auc: '+ str(auc_nb))\n",
    "gini_nb = 2*auc_nb - 1\n",
    "print('gini: ' + str(gini_nb))"
   ]
  },
  {
   "cell_type": "markdown",
   "metadata": {},
   "source": [
    "#### Making the Confusion Matrix"
   ]
  },
  {
   "cell_type": "code",
   "execution_count": 68,
   "metadata": {},
   "outputs": [
    {
     "name": "stdout",
     "output_type": "stream",
     "text": [
      "[[151725  38039]\n",
      " [ 72901  45180]]\n"
     ]
    },
    {
     "data": {
      "text/plain": [
       "0.6396238366710519"
      ]
     },
     "execution_count": 68,
     "metadata": {},
     "output_type": "execute_result"
    }
   ],
   "source": [
    "cm_nb = confusion_matrix(y_test, y_pred)\n",
    "print(cm_nb)\n",
    "accuracy_score(y_test, y_pred)"
   ]
  },
  {
   "cell_type": "markdown",
   "metadata": {},
   "source": [
    "### 2.3 Decision tree"
   ]
  },
  {
   "cell_type": "code",
   "execution_count": 69,
   "metadata": {},
   "outputs": [],
   "source": [
    "#decision tree\n",
    "tree = DecisionTreeClassifier(max_depth=10)"
   ]
  },
  {
   "cell_type": "code",
   "execution_count": 70,
   "metadata": {},
   "outputs": [
    {
     "data": {
      "text/plain": [
       "DecisionTreeClassifier(class_weight=None, criterion='gini', max_depth=10,\n",
       "                       max_features=None, max_leaf_nodes=None,\n",
       "                       min_impurity_decrease=0.0, min_impurity_split=None,\n",
       "                       min_samples_leaf=1, min_samples_split=2,\n",
       "                       min_weight_fraction_leaf=0.0, presort=False,\n",
       "                       random_state=None, splitter='best')"
      ]
     },
     "execution_count": 70,
     "metadata": {},
     "output_type": "execute_result"
    }
   ],
   "source": [
    "tree.fit(X_train_tf,y_train)"
   ]
  },
  {
   "cell_type": "code",
   "execution_count": 71,
   "metadata": {},
   "outputs": [],
   "source": [
    "y_pred = tree.predict(X_test_tf)"
   ]
  },
  {
   "cell_type": "code",
   "execution_count": 72,
   "metadata": {},
   "outputs": [
    {
     "name": "stdout",
     "output_type": "stream",
     "text": [
      "              precision    recall  f1-score   support\n",
      "\n",
      "           0       0.78      0.96      0.86    189764\n",
      "           1       0.91      0.56      0.69    118081\n",
      "\n",
      "    accuracy                           0.81    307845\n",
      "   macro avg       0.84      0.76      0.78    307845\n",
      "weighted avg       0.83      0.81      0.80    307845\n",
      "\n",
      "auc: 0.7619180526728676\n",
      "gini: 0.5238361053457352\n"
     ]
    }
   ],
   "source": [
    "clf_report_tree = classification_report(y_test, y_pred, output_dict = True)\n",
    "print(classification_report(y_test, y_pred))\n",
    "auc_tree = roc_auc_score(y_test, y_pred)\n",
    "print('auc: '+ str(auc_tree))\n",
    "gini_tree = 2*auc_tree - 1\n",
    "print('gini: ' + str(gini_tree))"
   ]
  },
  {
   "cell_type": "markdown",
   "metadata": {},
   "source": [
    "#### Making the Confusion Matrix"
   ]
  },
  {
   "cell_type": "code",
   "execution_count": 73,
   "metadata": {},
   "outputs": [
    {
     "name": "stdout",
     "output_type": "stream",
     "text": [
      "[[183090   6674]\n",
      " [ 52073  66008]]\n"
     ]
    },
    {
     "data": {
      "text/plain": [
       "0.8091669509006155"
      ]
     },
     "execution_count": 73,
     "metadata": {},
     "output_type": "execute_result"
    }
   ],
   "source": [
    "cm_tree = confusion_matrix(y_test, y_pred)\n",
    "print(cm_tree)\n",
    "accuracy_score(y_test, y_pred)"
   ]
  },
  {
   "cell_type": "markdown",
   "metadata": {},
   "source": [
    "### 2.4 RandomForest"
   ]
  },
  {
   "cell_type": "code",
   "execution_count": 74,
   "metadata": {},
   "outputs": [
    {
     "data": {
      "text/plain": [
       "RandomForestClassifier(bootstrap=True, class_weight=None, criterion='gini',\n",
       "                       max_depth=None, max_features='auto', max_leaf_nodes=None,\n",
       "                       min_impurity_decrease=0.0, min_impurity_split=None,\n",
       "                       min_samples_leaf=1, min_samples_split=2,\n",
       "                       min_weight_fraction_leaf=0.0, n_estimators=100, n_jobs=8,\n",
       "                       oob_score=False, random_state=0, verbose=0,\n",
       "                       warm_start=False)"
      ]
     },
     "execution_count": 74,
     "metadata": {},
     "output_type": "execute_result"
    }
   ],
   "source": [
    "#RandomForest\n",
    "rf = RandomForestClassifier(n_estimators=100, random_state=0, n_jobs=8)\n",
    "rf.fit(X_train_tf,y_train)"
   ]
  },
  {
   "cell_type": "code",
   "execution_count": 75,
   "metadata": {},
   "outputs": [],
   "source": [
    "y_pred = rf.predict(X_test_tf)"
   ]
  },
  {
   "cell_type": "code",
   "execution_count": 76,
   "metadata": {},
   "outputs": [
    {
     "name": "stdout",
     "output_type": "stream",
     "text": [
      "              precision    recall  f1-score   support\n",
      "\n",
      "           0       0.95      0.99      0.97    189764\n",
      "           1       0.98      0.92      0.95    118081\n",
      "\n",
      "    accuracy                           0.96    307845\n",
      "   macro avg       0.97      0.95      0.96    307845\n",
      "weighted avg       0.96      0.96      0.96    307845\n",
      "\n",
      "auc: 0.9527661796674661\n",
      "gini: 0.9055323593349323\n"
     ]
    }
   ],
   "source": [
    "clf_report_rf = classification_report(y_test, y_pred, output_dict = True)\n",
    "print(classification_report(y_test, y_pred))\n",
    "auc_rf = roc_auc_score(y_test, y_pred)\n",
    "print('auc: '+ str(auc_rf))\n",
    "gini_rf = 2*auc_rf - 1\n",
    "print('gini: ' + str(gini_rf))"
   ]
  },
  {
   "cell_type": "markdown",
   "metadata": {},
   "source": [
    "#### Making the Confusion Matrix"
   ]
  },
  {
   "cell_type": "code",
   "execution_count": 77,
   "metadata": {},
   "outputs": [
    {
     "name": "stdout",
     "output_type": "stream",
     "text": [
      "[[187884   1880]\n",
      " [  9985 108096]]\n"
     ]
    },
    {
     "data": {
      "text/plain": [
       "0.9614578765287726"
      ]
     },
     "execution_count": 77,
     "metadata": {},
     "output_type": "execute_result"
    }
   ],
   "source": [
    "cm_rf = confusion_matrix(y_test, y_pred)\n",
    "print(cm_rf)\n",
    "accuracy_score(y_test, y_pred)"
   ]
  },
  {
   "cell_type": "code",
   "execution_count": null,
   "metadata": {},
   "outputs": [],
   "source": [
    "### Tune RandomForest"
   ]
  },
  {
   "cell_type": "code",
   "execution_count": 78,
   "metadata": {},
   "outputs": [],
   "source": [
    "# params = {'copy_X':(True, False),'fit_intercept': (True, False)}\n",
    "#\n",
    "# tune = GridSearchCV(estimator=rf, param_grid=params,)\n",
    "# tune.fit(X_train, y_train)\n",
    "\n",
    "# best_params = tune.best_params_\n",
    "# score = tune.best_score_\n",
    "# print('Config params: ', best_params)\n",
    "# print('Score: %2.4f' % score)"
   ]
  },
  {
   "cell_type": "markdown",
   "metadata": {},
   "source": [
    "### 2.5 GradientBoosting"
   ]
  },
  {
   "cell_type": "code",
   "execution_count": 79,
   "metadata": {},
   "outputs": [
    {
     "data": {
      "text/plain": [
       "GradientBoostingClassifier(criterion='friedman_mse', init=None,\n",
       "                           learning_rate=1.0, loss='deviance', max_depth=3,\n",
       "                           max_features=None, max_leaf_nodes=None,\n",
       "                           min_impurity_decrease=0.0, min_impurity_split=None,\n",
       "                           min_samples_leaf=1, min_samples_split=2,\n",
       "                           min_weight_fraction_leaf=0.0, n_estimators=100,\n",
       "                           n_iter_no_change=None, presort='auto',\n",
       "                           random_state=None, subsample=1.0, tol=0.0001,\n",
       "                           validation_fraction=0.1, verbose=0,\n",
       "                           warm_start=False)"
      ]
     },
     "execution_count": 79,
     "metadata": {},
     "output_type": "execute_result"
    }
   ],
   "source": [
    "# GradientBoosting\n",
    "gbc = GradientBoostingClassifier(n_estimators=100,max_depth=3,learning_rate=1.0)\n",
    "gbc.fit(X_train_tf,y_train)"
   ]
  },
  {
   "cell_type": "code",
   "execution_count": 80,
   "metadata": {},
   "outputs": [],
   "source": [
    "y_pred = gbc.predict(X_test_tf)"
   ]
  },
  {
   "cell_type": "code",
   "execution_count": 81,
   "metadata": {},
   "outputs": [
    {
     "name": "stdout",
     "output_type": "stream",
     "text": [
      "              precision    recall  f1-score   support\n",
      "\n",
      "           0       0.97      0.98      0.98    189764\n",
      "           1       0.97      0.96      0.96    118081\n",
      "\n",
      "    accuracy                           0.97    307845\n",
      "   macro avg       0.97      0.97      0.97    307845\n",
      "weighted avg       0.97      0.97      0.97    307845\n",
      "\n",
      "auc: 0.9694922713439189\n",
      "gini: 0.9389845426878378\n"
     ]
    }
   ],
   "source": [
    "clf_report_gbc = classification_report(y_test, y_pred, output_dict = True)\n",
    "print(classification_report(y_test, y_pred))\n",
    "auc_gbc = roc_auc_score(y_test, y_pred)\n",
    "print('auc: '+ str(auc_gbc))\n",
    "gini_gbc = 2*auc_gbc - 1\n",
    "print('gini: ' + str(gini_gbc))"
   ]
  },
  {
   "cell_type": "markdown",
   "metadata": {},
   "source": [
    "#### Making the Confusion Matrix"
   ]
  },
  {
   "cell_type": "code",
   "execution_count": 82,
   "metadata": {},
   "outputs": [
    {
     "name": "stdout",
     "output_type": "stream",
     "text": [
      "[[186404   3360]\n",
      " [  5114 112967]]\n"
     ]
    },
    {
     "data": {
      "text/plain": [
       "0.9724731601942536"
      ]
     },
     "execution_count": 82,
     "metadata": {},
     "output_type": "execute_result"
    }
   ],
   "source": [
    "cm_gbc = confusion_matrix(y_test, y_pred)\n",
    "print(cm_gbc)\n",
    "accuracy_score(y_test, y_pred)"
   ]
  },
  {
   "cell_type": "markdown",
   "metadata": {},
   "source": [
    "### 2.6 SVM"
   ]
  },
  {
   "cell_type": "code",
   "execution_count": 83,
   "metadata": {},
   "outputs": [],
   "source": [
    "# lay 1/10 du lieu de buil model svm\n",
    "# data_svm = dataset.sample(frac = 0.1, random_state = 1)\n",
    "# data_svm.shape"
   ]
  },
  {
   "cell_type": "code",
   "execution_count": 84,
   "metadata": {},
   "outputs": [],
   "source": [
    "# X_svm = data_svm.drop(['target', 'TailNum_level', 'Origin_level', 'FlightNum_level', 'Dest_level'],axis = 1)\n",
    "# y_svm = data_svm['target']"
   ]
  },
  {
   "cell_type": "code",
   "execution_count": 85,
   "metadata": {},
   "outputs": [],
   "source": [
    "# # Train, test, split\n",
    "# X_svm_train, X_svm_test, y_svm_train, y_svm_test = train_test_split(X_svm,y_svm, test_size = .20, random_state= 0)"
   ]
  },
  {
   "cell_type": "code",
   "execution_count": 86,
   "metadata": {},
   "outputs": [],
   "source": [
    "#SVM\n",
    "# svm = SVC(gamma = 1)\n",
    "# svm.fit(X_svm_train,y_svm_train)"
   ]
  },
  {
   "cell_type": "code",
   "execution_count": 87,
   "metadata": {},
   "outputs": [],
   "source": [
    "# y_pred = svm.predict(X_svm_test)"
   ]
  },
  {
   "cell_type": "code",
   "execution_count": 88,
   "metadata": {},
   "outputs": [],
   "source": [
    "# clf_report_svm = classification_report(y_svm_test, y_pred, output_dict = True)\n",
    "# print(classification_report(y_svm_test, y_pred))\n",
    "# auc_svm = roc_auc_score(y_svm_test, y_pred)\n",
    "# print('auc: '+ str(auc_svm))\n",
    "# gini_svm = 2*auc_svm - 1\n",
    "# print('gini: ' + str(gini_svm))"
   ]
  },
  {
   "cell_type": "markdown",
   "metadata": {},
   "source": [
    "#### Making the Confusion Matrix"
   ]
  },
  {
   "cell_type": "code",
   "execution_count": 89,
   "metadata": {},
   "outputs": [],
   "source": [
    "# cm_svm = confusion_matrix(y_svm_test, y_pred)\n",
    "# print(cm_svm)\n",
    "# accuracy_score(y_svm_test, y_pred)"
   ]
  },
  {
   "cell_type": "markdown",
   "metadata": {},
   "source": [
    "### 2.7 KNN"
   ]
  },
  {
   "cell_type": "code",
   "execution_count": 90,
   "metadata": {},
   "outputs": [],
   "source": [
    "neigh = KNeighborsClassifier(n_neighbors=5, n_jobs=8)"
   ]
  },
  {
   "cell_type": "code",
   "execution_count": 91,
   "metadata": {},
   "outputs": [
    {
     "data": {
      "text/plain": [
       "KNeighborsClassifier(algorithm='auto', leaf_size=30, metric='minkowski',\n",
       "                     metric_params=None, n_jobs=8, n_neighbors=5, p=2,\n",
       "                     weights='uniform')"
      ]
     },
     "execution_count": 91,
     "metadata": {},
     "output_type": "execute_result"
    }
   ],
   "source": [
    "neigh.fit(X_train_tf, y_train)"
   ]
  },
  {
   "cell_type": "code",
   "execution_count": 92,
   "metadata": {},
   "outputs": [],
   "source": [
    "y_pred = neigh.predict(X_test_tf)"
   ]
  },
  {
   "cell_type": "code",
   "execution_count": 93,
   "metadata": {},
   "outputs": [
    {
     "name": "stdout",
     "output_type": "stream",
     "text": [
      "              precision    recall  f1-score   support\n",
      "\n",
      "           0       0.80      0.92      0.86    189764\n",
      "           1       0.83      0.64      0.72    118081\n",
      "\n",
      "    accuracy                           0.81    307845\n",
      "   macro avg       0.82      0.78      0.79    307845\n",
      "weighted avg       0.82      0.81      0.81    307845\n",
      "\n",
      "auc: 0.7799438986617795\n",
      "gini: 0.559887797323559\n"
     ]
    }
   ],
   "source": [
    "clf_report_neigh = classification_report(y_test, y_pred, output_dict = True)\n",
    "print(classification_report(y_test, y_pred))\n",
    "auc_neigh = roc_auc_score(y_test, y_pred)\n",
    "print('auc: '+ str(auc_neigh))\n",
    "gini_neigh = 2*auc_neigh - 1\n",
    "print('gini: ' + str(gini_neigh))"
   ]
  },
  {
   "cell_type": "markdown",
   "metadata": {},
   "source": [
    "#### Making the Confusion Matrix"
   ]
  },
  {
   "cell_type": "code",
   "execution_count": 94,
   "metadata": {},
   "outputs": [
    {
     "name": "stdout",
     "output_type": "stream",
     "text": [
      "[[174759  15005]\n",
      " [ 42632  75449]]\n"
     ]
    },
    {
     "data": {
      "text/plain": [
       "0.8127726615666975"
      ]
     },
     "execution_count": 94,
     "metadata": {},
     "output_type": "execute_result"
    }
   ],
   "source": [
    "cm_knn = confusion_matrix(y_test, y_pred)\n",
    "print(cm_knn)\n",
    "accuracy_score(y_test, y_pred)"
   ]
  },
  {
   "cell_type": "markdown",
   "metadata": {},
   "source": [
    "### 2.8 XGBoost"
   ]
  },
  {
   "cell_type": "code",
   "execution_count": 95,
   "metadata": {},
   "outputs": [],
   "source": [
    "xgb = XGBClassifier(nthread = 8)"
   ]
  },
  {
   "cell_type": "code",
   "execution_count": 96,
   "metadata": {},
   "outputs": [
    {
     "data": {
      "text/plain": [
       "XGBClassifier(base_score=0.5, booster='gbtree', colsample_bylevel=1,\n",
       "              colsample_bynode=1, colsample_bytree=1, gamma=0,\n",
       "              learning_rate=0.1, max_delta_step=0, max_depth=3,\n",
       "              min_child_weight=1, missing=None, n_estimators=100, n_jobs=1,\n",
       "              nthread=8, objective='binary:logistic', random_state=0,\n",
       "              reg_alpha=0, reg_lambda=1, scale_pos_weight=1, seed=None,\n",
       "              silent=None, subsample=1, verbosity=1)"
      ]
     },
     "execution_count": 96,
     "metadata": {},
     "output_type": "execute_result"
    }
   ],
   "source": [
    "xgb.fit(X_train,y_train)"
   ]
  },
  {
   "cell_type": "code",
   "execution_count": 97,
   "metadata": {},
   "outputs": [],
   "source": [
    "y_pred = xgb.predict(X_test)"
   ]
  },
  {
   "cell_type": "code",
   "execution_count": 98,
   "metadata": {},
   "outputs": [
    {
     "name": "stdout",
     "output_type": "stream",
     "text": [
      "              precision    recall  f1-score   support\n",
      "\n",
      "           0       0.84      0.99      0.91    189764\n",
      "           1       0.99      0.69      0.81    118081\n",
      "\n",
      "    accuracy                           0.88    307845\n",
      "   macro avg       0.91      0.84      0.86    307845\n",
      "weighted avg       0.89      0.88      0.87    307845\n",
      "\n",
      "auc: 0.8407460915035788\n",
      "gini: 0.6814921830071576\n"
     ]
    }
   ],
   "source": [
    "clf_report_xgb = classification_report(y_test, y_pred, output_dict = True)\n",
    "print(classification_report(y_test, y_pred))\n",
    "auc_xgb = roc_auc_score(y_test, y_pred)\n",
    "print('auc: '+ str(auc_xgb))\n",
    "gini_xgb = 2*auc_xgb - 1\n",
    "print('gini: ' + str(gini_xgb))"
   ]
  },
  {
   "cell_type": "markdown",
   "metadata": {},
   "source": [
    "#### Making the Confusion Matrix"
   ]
  },
  {
   "cell_type": "code",
   "execution_count": 99,
   "metadata": {},
   "outputs": [
    {
     "name": "stdout",
     "output_type": "stream",
     "text": [
      "[[188662   1102]\n",
      " [ 36924  81157]]\n"
     ]
    },
    {
     "data": {
      "text/plain": [
       "0.8764767983887995"
      ]
     },
     "execution_count": 99,
     "metadata": {},
     "output_type": "execute_result"
    }
   ],
   "source": [
    "cm_xgb = confusion_matrix(y_test, y_pred)\n",
    "print(cm_xgb)\n",
    "accuracy_score(y_test, y_pred)"
   ]
  },
  {
   "cell_type": "markdown",
   "metadata": {},
   "source": [
    "### 2.9 LightGBM"
   ]
  },
  {
   "cell_type": "code",
   "execution_count": 100,
   "metadata": {},
   "outputs": [],
   "source": [
    "lgbm = LGBMClassifier()"
   ]
  },
  {
   "cell_type": "code",
   "execution_count": 101,
   "metadata": {},
   "outputs": [
    {
     "data": {
      "text/plain": [
       "LGBMClassifier(boosting_type='gbdt', class_weight=None, colsample_bytree=1.0,\n",
       "               importance_type='split', learning_rate=0.1, max_depth=-1,\n",
       "               min_child_samples=20, min_child_weight=0.001, min_split_gain=0.0,\n",
       "               n_estimators=100, n_jobs=-1, num_leaves=31, objective=None,\n",
       "               random_state=None, reg_alpha=0.0, reg_lambda=0.0, silent=True,\n",
       "               subsample=1.0, subsample_for_bin=200000, subsample_freq=0)"
      ]
     },
     "execution_count": 101,
     "metadata": {},
     "output_type": "execute_result"
    }
   ],
   "source": [
    "lgbm.fit(X_train_tf,y_train)"
   ]
  },
  {
   "cell_type": "code",
   "execution_count": 102,
   "metadata": {},
   "outputs": [],
   "source": [
    "y_pred = lgbm.predict(X_test_tf)"
   ]
  },
  {
   "cell_type": "code",
   "execution_count": 103,
   "metadata": {},
   "outputs": [
    {
     "name": "stdout",
     "output_type": "stream",
     "text": [
      "              precision    recall  f1-score   support\n",
      "\n",
      "           0       0.96      0.99      0.97    189764\n",
      "           1       0.98      0.93      0.96    118081\n",
      "\n",
      "    accuracy                           0.97    307845\n",
      "   macro avg       0.97      0.96      0.96    307845\n",
      "weighted avg       0.97      0.97      0.97    307845\n",
      "\n",
      "auc: 0.9600016148531985\n",
      "gini: 0.9200032297063969\n"
     ]
    }
   ],
   "source": [
    "clf_report_lgbm = classification_report(y_test, y_pred, output_dict = True)\n",
    "print(classification_report(y_test, y_pred))\n",
    "auc_lgbm = roc_auc_score(y_test, y_pred)\n",
    "print('auc: '+ str(auc_lgbm))\n",
    "gini_lgbm = 2*auc_lgbm - 1\n",
    "print('gini: ' + str(gini_lgbm))"
   ]
  },
  {
   "cell_type": "markdown",
   "metadata": {},
   "source": [
    "#### Making the Confusion Matrix"
   ]
  },
  {
   "cell_type": "code",
   "execution_count": 104,
   "metadata": {},
   "outputs": [
    {
     "name": "stdout",
     "output_type": "stream",
     "text": [
      "[[187935   1829]\n",
      " [  8308 109773]]\n"
     ]
    },
    {
     "data": {
      "text/plain": [
       "0.9670710909711056"
      ]
     },
     "execution_count": 104,
     "metadata": {},
     "output_type": "execute_result"
    }
   ],
   "source": [
    "cm_lgbm = confusion_matrix(y_test, y_pred)\n",
    "print(cm_lgbm)\n",
    "accuracy_score(y_test, y_pred)"
   ]
  },
  {
   "cell_type": "markdown",
   "metadata": {},
   "source": [
    "### 2.10 Summary"
   ]
  },
  {
   "cell_type": "code",
   "execution_count": 105,
   "metadata": {},
   "outputs": [],
   "source": [
    "summary = {'Logistic Regression':[auc_lr , gini_lr, clf_report_lr['0']['precision'], clf_report_lr['1']['precision'], clf_report_lr['0']['recall'], clf_report_lr['1']['recall'], clf_report_lr['0']['f1-score'], clf_report_lr['1']['f1-score']],\n",
    "          'Naive Bayes':[auc_nb , gini_nb, clf_report_nb['0']['precision'], clf_report_nb['1']['precision'], clf_report_nb['0']['recall'], clf_report_nb['1']['recall'], clf_report_nb['0']['f1-score'], clf_report_nb['1']['f1-score']],\n",
    "          'Decision tree':[auc_tree , gini_tree, clf_report_tree['0']['precision'], clf_report_tree['1']['precision'], clf_report_tree['0']['recall'], clf_report_tree['1']['recall'], clf_report_tree['0']['f1-score'], clf_report_tree['1']['f1-score']],\n",
    "          'Random Forest':[auc_rf , gini_rf, clf_report_rf['0']['precision'], clf_report_rf['1']['precision'], clf_report_rf['0']['recall'], clf_report_rf['1']['recall'], clf_report_rf['0']['f1-score'], clf_report_rf['1']['f1-score']],\n",
    "          'Gradientboosting':[auc_gbc , gini_gbc, clf_report_gbc['0']['precision'], clf_report_gbc['1']['precision'], clf_report_gbc['0']['recall'], clf_report_gbc['1']['recall'], clf_report_gbc['0']['f1-score'], clf_report_gbc['1']['f1-score']],\n",
    "#           'SVM':[auc_svm , gini_svm, clf_report_svm['0']['precision'], clf_report_svm['1']['precision'], clf_report_svm['0']['recall'], clf_report_svm['1']['recall'], clf_report_svm['0']['f1-score'], clf_report_svm['1']['f1-score']],\n",
    "          'KNN':[auc_neigh , gini_neigh, clf_report_neigh['0']['precision'], clf_report_neigh['1']['precision'], clf_report_neigh['0']['recall'], clf_report_neigh['1']['recall'], clf_report_neigh['0']['f1-score'], clf_report_neigh['1']['f1-score']],\n",
    "          'XGBoost':[auc_xgb , gini_xgb, clf_report_xgb['0']['precision'], clf_report_xgb['1']['precision'], clf_report_xgb['0']['recall'], clf_report_xgb['1']['recall'], clf_report_xgb['0']['f1-score'], clf_report_xgb['1']['f1-score']],\n",
    "          'LightGBM':[auc_lgbm , gini_lgbm, clf_report_lgbm['0']['precision'], clf_report_lgbm['1']['precision'], clf_report_lgbm['0']['recall'], clf_report_lgbm['1']['recall'], clf_report_lgbm['0']['f1-score'], clf_report_lgbm['1']['f1-score']]\n",
    "          }"
   ]
  },
  {
   "cell_type": "code",
   "execution_count": 106,
   "metadata": {},
   "outputs": [
    {
     "data": {
      "text/html": [
       "<div>\n",
       "<style scoped>\n",
       "    .dataframe tbody tr th:only-of-type {\n",
       "        vertical-align: middle;\n",
       "    }\n",
       "\n",
       "    .dataframe tbody tr th {\n",
       "        vertical-align: top;\n",
       "    }\n",
       "\n",
       "    .dataframe thead th {\n",
       "        text-align: right;\n",
       "    }\n",
       "</style>\n",
       "<table border=\"1\" class=\"dataframe\">\n",
       "  <thead>\n",
       "    <tr style=\"text-align: right;\">\n",
       "      <th></th>\n",
       "      <th>Logistic Regression</th>\n",
       "      <th>Naive Bayes</th>\n",
       "      <th>Decision tree</th>\n",
       "      <th>Random Forest</th>\n",
       "      <th>Gradientboosting</th>\n",
       "      <th>KNN</th>\n",
       "      <th>XGBoost</th>\n",
       "      <th>LightGBM</th>\n",
       "    </tr>\n",
       "  </thead>\n",
       "  <tbody>\n",
       "    <tr>\n",
       "      <th>auc</th>\n",
       "      <td>0.891712</td>\n",
       "      <td>0.591082</td>\n",
       "      <td>0.761918</td>\n",
       "      <td>0.952766</td>\n",
       "      <td>0.969492</td>\n",
       "      <td>0.779944</td>\n",
       "      <td>0.840746</td>\n",
       "      <td>0.960002</td>\n",
       "    </tr>\n",
       "    <tr>\n",
       "      <th>gini</th>\n",
       "      <td>0.783424</td>\n",
       "      <td>0.182164</td>\n",
       "      <td>0.523836</td>\n",
       "      <td>0.905532</td>\n",
       "      <td>0.938985</td>\n",
       "      <td>0.559888</td>\n",
       "      <td>0.681492</td>\n",
       "      <td>0.920003</td>\n",
       "    </tr>\n",
       "    <tr>\n",
       "      <th>precision_0</th>\n",
       "      <td>0.904080</td>\n",
       "      <td>0.675456</td>\n",
       "      <td>0.778566</td>\n",
       "      <td>0.949537</td>\n",
       "      <td>0.973298</td>\n",
       "      <td>0.803893</td>\n",
       "      <td>0.836320</td>\n",
       "      <td>0.957665</td>\n",
       "    </tr>\n",
       "    <tr>\n",
       "      <th>precision_1</th>\n",
       "      <td>0.903837</td>\n",
       "      <td>0.542905</td>\n",
       "      <td>0.908175</td>\n",
       "      <td>0.982905</td>\n",
       "      <td>0.971116</td>\n",
       "      <td>0.834115</td>\n",
       "      <td>0.986603</td>\n",
       "      <td>0.983611</td>\n",
       "    </tr>\n",
       "    <tr>\n",
       "      <th>recall_0</th>\n",
       "      <td>0.944457</td>\n",
       "      <td>0.799546</td>\n",
       "      <td>0.964830</td>\n",
       "      <td>0.990093</td>\n",
       "      <td>0.982294</td>\n",
       "      <td>0.920928</td>\n",
       "      <td>0.994193</td>\n",
       "      <td>0.990362</td>\n",
       "    </tr>\n",
       "    <tr>\n",
       "      <th>recall_1</th>\n",
       "      <td>0.838966</td>\n",
       "      <td>0.382619</td>\n",
       "      <td>0.559006</td>\n",
       "      <td>0.915439</td>\n",
       "      <td>0.956691</td>\n",
       "      <td>0.638960</td>\n",
       "      <td>0.687299</td>\n",
       "      <td>0.929642</td>\n",
       "    </tr>\n",
       "    <tr>\n",
       "      <th>f1-score_0</th>\n",
       "      <td>0.923828</td>\n",
       "      <td>0.732281</td>\n",
       "      <td>0.861748</td>\n",
       "      <td>0.969391</td>\n",
       "      <td>0.977775</td>\n",
       "      <td>0.858440</td>\n",
       "      <td>0.908448</td>\n",
       "      <td>0.973739</td>\n",
       "    </tr>\n",
       "    <tr>\n",
       "      <th>f1-score_1</th>\n",
       "      <td>0.870195</td>\n",
       "      <td>0.448882</td>\n",
       "      <td>0.692042</td>\n",
       "      <td>0.947974</td>\n",
       "      <td>0.963849</td>\n",
       "      <td>0.723610</td>\n",
       "      <td>0.810193</td>\n",
       "      <td>0.955865</td>\n",
       "    </tr>\n",
       "  </tbody>\n",
       "</table>\n",
       "</div>"
      ],
      "text/plain": [
       "             Logistic Regression  Naive Bayes  Decision tree  Random Forest  \\\n",
       "auc                     0.891712     0.591082       0.761918       0.952766   \n",
       "gini                    0.783424     0.182164       0.523836       0.905532   \n",
       "precision_0             0.904080     0.675456       0.778566       0.949537   \n",
       "precision_1             0.903837     0.542905       0.908175       0.982905   \n",
       "recall_0                0.944457     0.799546       0.964830       0.990093   \n",
       "recall_1                0.838966     0.382619       0.559006       0.915439   \n",
       "f1-score_0              0.923828     0.732281       0.861748       0.969391   \n",
       "f1-score_1              0.870195     0.448882       0.692042       0.947974   \n",
       "\n",
       "             Gradientboosting       KNN   XGBoost  LightGBM  \n",
       "auc                  0.969492  0.779944  0.840746  0.960002  \n",
       "gini                 0.938985  0.559888  0.681492  0.920003  \n",
       "precision_0          0.973298  0.803893  0.836320  0.957665  \n",
       "precision_1          0.971116  0.834115  0.986603  0.983611  \n",
       "recall_0             0.982294  0.920928  0.994193  0.990362  \n",
       "recall_1             0.956691  0.638960  0.687299  0.929642  \n",
       "f1-score_0           0.977775  0.858440  0.908448  0.973739  \n",
       "f1-score_1           0.963849  0.723610  0.810193  0.955865  "
      ]
     },
     "execution_count": 106,
     "metadata": {},
     "output_type": "execute_result"
    }
   ],
   "source": [
    "df_sum = pd.DataFrame(data=summary,index = ['auc', 'gini', 'precision_0', 'precision_1', 'recall_0', 'recall_1', 'f1-score_0','f1-score_1'])\n",
    "df_sum"
   ]
  },
  {
   "cell_type": "markdown",
   "metadata": {},
   "source": [
    "# 3. Apply PCA, SelectKBest and RFE for feature selections"
   ]
  },
  {
   "cell_type": "markdown",
   "metadata": {},
   "source": [
    "## 3.1 PCA"
   ]
  },
  {
   "cell_type": "markdown",
   "metadata": {},
   "source": [
    "Step 1. Data Standardization\n",
    "- As PCA deals with variance maximization of two variables, it is important to have both variables on same scale."
   ]
  },
  {
   "cell_type": "code",
   "execution_count": 107,
   "metadata": {},
   "outputs": [],
   "source": [
    "Xstd = scaler.fit_transform(X)"
   ]
  },
  {
   "cell_type": "markdown",
   "metadata": {},
   "source": [
    "Step 2: Eigen Decomposition of Covariance Matrix"
   ]
  },
  {
   "cell_type": "code",
   "execution_count": 108,
   "metadata": {},
   "outputs": [],
   "source": [
    "cov_mat = np.cov(Xstd.T)\n",
    "eigen_values, eigen_vectors = np.linalg.eig(cov_mat)"
   ]
  },
  {
   "cell_type": "markdown",
   "metadata": {},
   "source": [
    "Now, Making list of eigen values and vectors and sorting the list w.r.t eigen values (Descending order) where highest eigen values represent highest variation."
   ]
  },
  {
   "cell_type": "code",
   "execution_count": 109,
   "metadata": {},
   "outputs": [],
   "source": [
    "pairs = [(np.abs(eigen_values[i]), eigen_vectors[:,i]) for i in range(len(eigen_values))]\n",
    "pairs.sort()\n",
    "pairs.reverse()"
   ]
  },
  {
   "cell_type": "markdown",
   "metadata": {},
   "source": [
    "To check how much each Principle component represent variation, let us find the cumulative sum of eigen values and plot them."
   ]
  },
  {
   "cell_type": "code",
   "execution_count": 110,
   "metadata": {},
   "outputs": [
    {
     "data": {
      "image/png": "[encoded data removed]",
      "text/plain": [
       "<Figure size 1440x360 with 1 Axes>"
      ]
     },
     "metadata": {
      "needs_background": "light"
     },
     "output_type": "display_data"
    }
   ],
   "source": [
    "tot = sum(eigen_values)\n",
    "var_per = [(i / tot)*100 for i in sorted(eigen_values, reverse=True)]\n",
    "cum_var_per = np.cumsum(var_per)\n",
    "\n",
    "plt.figure(figsize=(20,5))\n",
    "x=['PC %s' %i for i in range(1,len(var_per))]\n",
    "ind = np.arange(len(var_per)) \n",
    "plt.bar(ind,var_per)\n",
    "plt.xticks(ind,x);\n",
    "plt.plot(ind,cum_var_per,marker=\"o\",color='orange')\n",
    "plt.xticks(ind,x);"
   ]
  },
  {
   "cell_type": "markdown",
   "metadata": {},
   "source": [
    "The graph shows that first 12 components carry 100% information."
   ]
  },
  {
   "cell_type": "markdown",
   "metadata": {},
   "source": [
    "Step 3: Projection Onto New Feature Space\n",
    "- Reshaping eigen pairs to form a projection matrix, which is then multiplied by samples to transform data to new feature space"
   ]
  },
  {
   "cell_type": "code",
   "execution_count": 111,
   "metadata": {},
   "outputs": [],
   "source": [
    "N=15\n",
    "value=12\n",
    "a = np.ndarray(shape = (N, 0))\n",
    "for x in range(0,value):\n",
    "    b = pairs[x][1].reshape(N,1)\n",
    "    a = np.hstack((a,b))"
   ]
  },
  {
   "cell_type": "code",
   "execution_count": 112,
   "metadata": {},
   "outputs": [],
   "source": [
    "sklearn_pca = PCA(n_components=value)\n",
    "reduced_data = sklearn_pca.fit_transform(Xstd)"
   ]
  },
  {
   "cell_type": "code",
   "execution_count": 113,
   "metadata": {},
   "outputs": [],
   "source": [
    "# # Train, test, split\n",
    "X_pca_train, X_pca_test, y_train, y_test = train_test_split(reduced_data,y, test_size = .20, random_state= 0)"
   ]
  },
  {
   "cell_type": "markdown",
   "metadata": {},
   "source": [
    "### 3.1.1 Logistic regression"
   ]
  },
  {
   "cell_type": "code",
   "execution_count": 114,
   "metadata": {},
   "outputs": [
    {
     "data": {
      "text/plain": [
       "LogisticRegression(C=1.0, class_weight=None, dual=False, fit_intercept=True,\n",
       "                   intercept_scaling=1, l1_ratio=None, max_iter=100,\n",
       "                   multi_class='warn', n_jobs=8, penalty='l2',\n",
       "                   random_state=None, solver='lbfgs', tol=0.0001, verbose=0,\n",
       "                   warm_start=False)"
      ]
     },
     "execution_count": 114,
     "metadata": {},
     "output_type": "execute_result"
    }
   ],
   "source": [
    "lr.fit(X_pca_train,y_train)"
   ]
  },
  {
   "cell_type": "code",
   "execution_count": 115,
   "metadata": {},
   "outputs": [],
   "source": [
    "y_pred = lr.predict(X_pca_test)"
   ]
  },
  {
   "cell_type": "code",
   "execution_count": 116,
   "metadata": {},
   "outputs": [
    {
     "name": "stdout",
     "output_type": "stream",
     "text": [
      "              precision    recall  f1-score   support\n",
      "\n",
      "           0       0.65      0.89      0.75    189764\n",
      "           1       0.58      0.24      0.34    118081\n",
      "\n",
      "    accuracy                           0.64    307845\n",
      "   macro avg       0.62      0.56      0.54    307845\n",
      "weighted avg       0.62      0.64      0.59    307845\n",
      "\n",
      "auc: 0.5644572514095842\n",
      "gini: 0.1289145028191685\n"
     ]
    }
   ],
   "source": [
    "clf_report_lr = classification_report(y_test, y_pred, output_dict = True)\n",
    "print(classification_report(y_test, y_pred))\n",
    "auc_lr = roc_auc_score(y_test, y_pred)\n",
    "print('auc: '+ str(auc_lr))\n",
    "gini_lr = 2*auc_lr - 1\n",
    "print('gini: ' + str(gini_lr))"
   ]
  },
  {
   "cell_type": "markdown",
   "metadata": {},
   "source": [
    "#### Making the Confusion Matrix"
   ]
  },
  {
   "cell_type": "code",
   "execution_count": 117,
   "metadata": {},
   "outputs": [
    {
     "name": "stdout",
     "output_type": "stream",
     "text": [
      "[[169440  20324]\n",
      " [ 90212  27869]]\n"
     ]
    },
    {
     "data": {
      "text/plain": [
       "0.6409361854179864"
      ]
     },
     "execution_count": 117,
     "metadata": {},
     "output_type": "execute_result"
    }
   ],
   "source": [
    "cm_lr = confusion_matrix(y_test, y_pred)\n",
    "print(cm_lr)\n",
    "accuracy_score(y_test, y_pred)"
   ]
  },
  {
   "cell_type": "markdown",
   "metadata": {},
   "source": [
    "### 3.1.2 Naives Bayes"
   ]
  },
  {
   "cell_type": "code",
   "execution_count": 118,
   "metadata": {},
   "outputs": [
    {
     "data": {
      "text/plain": [
       "GaussianNB(priors=None, var_smoothing=1e-09)"
      ]
     },
     "execution_count": 118,
     "metadata": {},
     "output_type": "execute_result"
    }
   ],
   "source": [
    "# Fit model to training data\n",
    "nb.fit(X_pca_train,y_train)"
   ]
  },
  {
   "cell_type": "code",
   "execution_count": 119,
   "metadata": {},
   "outputs": [],
   "source": [
    "# Predict\n",
    "y_pred = nb.predict(X_pca_test)"
   ]
  },
  {
   "cell_type": "code",
   "execution_count": 120,
   "metadata": {},
   "outputs": [
    {
     "name": "stdout",
     "output_type": "stream",
     "text": [
      "              precision    recall  f1-score   support\n",
      "\n",
      "           0       0.66      0.87      0.75    189764\n",
      "           1       0.57      0.26      0.36    118081\n",
      "\n",
      "    accuracy                           0.64    307845\n",
      "   macro avg       0.61      0.57      0.55    307845\n",
      "weighted avg       0.62      0.64      0.60    307845\n",
      "\n",
      "auc: 0.5691885109311666\n",
      "gini: 0.13837702186233325\n"
     ]
    }
   ],
   "source": [
    "clf_report_nb = classification_report(y_test, y_pred, output_dict = True)\n",
    "print(classification_report(y_test, y_pred))\n",
    "auc_nb = roc_auc_score(y_test, y_pred)\n",
    "print('auc: '+ str(auc_nb))\n",
    "gini_nb = 2*auc_nb - 1\n",
    "print('gini: ' + str(gini_nb))"
   ]
  },
  {
   "cell_type": "markdown",
   "metadata": {},
   "source": [
    "#### Making the Confusion Matrix"
   ]
  },
  {
   "cell_type": "code",
   "execution_count": 121,
   "metadata": {},
   "outputs": [
    {
     "name": "stdout",
     "output_type": "stream",
     "text": [
      "[[166040  23724]\n",
      " [ 86979  31102]]\n"
     ]
    },
    {
     "data": {
      "text/plain": [
       "0.6403937046240803"
      ]
     },
     "execution_count": 121,
     "metadata": {},
     "output_type": "execute_result"
    }
   ],
   "source": [
    "cm_nb = confusion_matrix(y_test, y_pred)\n",
    "print(cm_nb)\n",
    "accuracy_score(y_test, y_pred)"
   ]
  },
  {
   "cell_type": "markdown",
   "metadata": {},
   "source": [
    "### 3.1.3 Decision Tree"
   ]
  },
  {
   "cell_type": "code",
   "execution_count": 122,
   "metadata": {},
   "outputs": [
    {
     "data": {
      "text/plain": [
       "DecisionTreeClassifier(class_weight=None, criterion='gini', max_depth=10,\n",
       "                       max_features=None, max_leaf_nodes=None,\n",
       "                       min_impurity_decrease=0.0, min_impurity_split=None,\n",
       "                       min_samples_leaf=1, min_samples_split=2,\n",
       "                       min_weight_fraction_leaf=0.0, presort=False,\n",
       "                       random_state=None, splitter='best')"
      ]
     },
     "execution_count": 122,
     "metadata": {},
     "output_type": "execute_result"
    }
   ],
   "source": [
    "# tree = DecisionTreeClassifier(max_depth=10)\n",
    "# Fit model to training data\n",
    "tree.fit(X_pca_train,y_train)"
   ]
  },
  {
   "cell_type": "code",
   "execution_count": 123,
   "metadata": {},
   "outputs": [],
   "source": [
    "# Predict\n",
    "y_pred = tree.predict(X_pca_test)"
   ]
  },
  {
   "cell_type": "code",
   "execution_count": 124,
   "metadata": {},
   "outputs": [
    {
     "name": "stdout",
     "output_type": "stream",
     "text": [
      "              precision    recall  f1-score   support\n",
      "\n",
      "           0       0.65      0.89      0.75    189764\n",
      "           1       0.57      0.24      0.33    118081\n",
      "\n",
      "    accuracy                           0.64    307845\n",
      "   macro avg       0.61      0.56      0.54    307845\n",
      "weighted avg       0.62      0.64      0.59    307845\n",
      "\n",
      "auc: 0.5624800998864395\n",
      "gini: 0.12496019977287909\n"
     ]
    }
   ],
   "source": [
    "clf_report_tree = classification_report(y_test, y_pred, output_dict = True)\n",
    "print(classification_report(y_test, y_pred))\n",
    "auc_tree = roc_auc_score(y_test, y_pred)\n",
    "print('auc: '+ str(auc_tree))\n",
    "gini_tree = 2*auc_tree - 1\n",
    "print('gini: ' + str(gini_tree))"
   ]
  },
  {
   "cell_type": "markdown",
   "metadata": {},
   "source": [
    "#### Making the Confusion Matrix"
   ]
  },
  {
   "cell_type": "code",
   "execution_count": 125,
   "metadata": {},
   "outputs": [
    {
     "name": "stdout",
     "output_type": "stream",
     "text": [
      "[[168868  20896]\n",
      " [ 90323  27758]]\n"
     ]
    },
    {
     "data": {
      "text/plain": [
       "0.6387175364225504"
      ]
     },
     "execution_count": 125,
     "metadata": {},
     "output_type": "execute_result"
    }
   ],
   "source": [
    "cm_tree = confusion_matrix(y_test, y_pred)\n",
    "print(cm_tree)\n",
    "accuracy_score(y_test, y_pred)"
   ]
  },
  {
   "cell_type": "markdown",
   "metadata": {},
   "source": [
    "### 3.1.4 Random Forest"
   ]
  },
  {
   "cell_type": "code",
   "execution_count": 126,
   "metadata": {},
   "outputs": [
    {
     "data": {
      "text/plain": [
       "RandomForestClassifier(bootstrap=True, class_weight=None, criterion='gini',\n",
       "                       max_depth=None, max_features='auto', max_leaf_nodes=None,\n",
       "                       min_impurity_decrease=0.0, min_impurity_split=None,\n",
       "                       min_samples_leaf=1, min_samples_split=2,\n",
       "                       min_weight_fraction_leaf=0.0, n_estimators=100, n_jobs=8,\n",
       "                       oob_score=False, random_state=0, verbose=0,\n",
       "                       warm_start=False)"
      ]
     },
     "execution_count": 126,
     "metadata": {},
     "output_type": "execute_result"
    }
   ],
   "source": [
    "# rf = RandomForestClassifier(n_estimators=100, max_depth=4,random_state=0, n_jobs = 8)\n",
    "# Fit model to training data\n",
    "rf.fit(X_pca_train,y_train)"
   ]
  },
  {
   "cell_type": "code",
   "execution_count": 127,
   "metadata": {},
   "outputs": [],
   "source": [
    "# Predict\n",
    "y_pred = rf.predict(X_pca_test)"
   ]
  },
  {
   "cell_type": "code",
   "execution_count": 128,
   "metadata": {},
   "outputs": [
    {
     "name": "stdout",
     "output_type": "stream",
     "text": [
      "              precision    recall  f1-score   support\n",
      "\n",
      "           0       0.68      0.88      0.76    189764\n",
      "           1       0.63      0.32      0.43    118081\n",
      "\n",
      "    accuracy                           0.67    307845\n",
      "   macro avg       0.65      0.60      0.60    307845\n",
      "weighted avg       0.66      0.67      0.63    307845\n",
      "\n",
      "auc: 0.6013460119735742\n",
      "gini: 0.20269202394714836\n"
     ]
    }
   ],
   "source": [
    "clf_report_rf = classification_report(y_test, y_pred, output_dict = True)\n",
    "print(classification_report(y_test, y_pred))\n",
    "auc_rf = roc_auc_score(y_test, y_pred)\n",
    "print('auc: '+ str(auc_rf))\n",
    "gini_rf = 2*auc_rf - 1\n",
    "print('gini: ' + str(gini_rf))"
   ]
  },
  {
   "cell_type": "markdown",
   "metadata": {},
   "source": [
    "#### Making the Confusion Matrix"
   ]
  },
  {
   "cell_type": "code",
   "execution_count": 129,
   "metadata": {},
   "outputs": [
    {
     "name": "stdout",
     "output_type": "stream",
     "text": [
      "[[166857  22907]\n",
      " [ 79893  38188]]\n"
     ]
    },
    {
     "data": {
      "text/plain": [
       "0.6660657148889864"
      ]
     },
     "execution_count": 129,
     "metadata": {},
     "output_type": "execute_result"
    }
   ],
   "source": [
    "cm_rf = confusion_matrix(y_test, y_pred)\n",
    "print(cm_rf)\n",
    "accuracy_score(y_test, y_pred)"
   ]
  },
  {
   "cell_type": "markdown",
   "metadata": {},
   "source": [
    "### 3.1.5 Gradient Boosting"
   ]
  },
  {
   "cell_type": "code",
   "execution_count": 130,
   "metadata": {},
   "outputs": [
    {
     "data": {
      "text/plain": [
       "GradientBoostingClassifier(criterion='friedman_mse', init=None,\n",
       "                           learning_rate=1.0, loss='deviance', max_depth=3,\n",
       "                           max_features=None, max_leaf_nodes=None,\n",
       "                           min_impurity_decrease=0.0, min_impurity_split=None,\n",
       "                           min_samples_leaf=1, min_samples_split=2,\n",
       "                           min_weight_fraction_leaf=0.0, n_estimators=100,\n",
       "                           n_iter_no_change=None, presort='auto',\n",
       "                           random_state=None, subsample=1.0, tol=0.0001,\n",
       "                           validation_fraction=0.1, verbose=0,\n",
       "                           warm_start=False)"
      ]
     },
     "execution_count": 130,
     "metadata": {},
     "output_type": "execute_result"
    }
   ],
   "source": [
    "# GradientBoosting\n",
    "# gbc = GradientBoostingClassifier(n_estimators=100,max_depth=3,learning_rate=1.0)\n",
    "gbc.fit(X_pca_train,y_train)"
   ]
  },
  {
   "cell_type": "code",
   "execution_count": 131,
   "metadata": {},
   "outputs": [],
   "source": [
    "# Predict\n",
    "y_pred = gbc.predict(X_pca_test)"
   ]
  },
  {
   "cell_type": "code",
   "execution_count": 132,
   "metadata": {},
   "outputs": [
    {
     "name": "stdout",
     "output_type": "stream",
     "text": [
      "              precision    recall  f1-score   support\n",
      "\n",
      "           0       0.66      0.87      0.75    189764\n",
      "           1       0.59      0.29      0.39    118081\n",
      "\n",
      "    accuracy                           0.65    307845\n",
      "   macro avg       0.63      0.58      0.57    307845\n",
      "weighted avg       0.64      0.65      0.61    307845\n",
      "\n",
      "auc: 0.5817469190808213\n",
      "gini: 0.16349383816164265\n"
     ]
    }
   ],
   "source": [
    "clf_report_gbc = classification_report(y_test, y_pred, output_dict = True)\n",
    "print(classification_report(y_test, y_pred))\n",
    "auc_gbc = roc_auc_score(y_test, y_pred)\n",
    "print('auc: '+ str(auc_gbc))\n",
    "gini_gbc = 2*auc_gbc - 1\n",
    "print('gini: ' + str(gini_gbc))"
   ]
  },
  {
   "cell_type": "markdown",
   "metadata": {},
   "source": [
    "#### Making the Confusion Matrix"
   ]
  },
  {
   "cell_type": "code",
   "execution_count": 133,
   "metadata": {},
   "outputs": [
    {
     "name": "stdout",
     "output_type": "stream",
     "text": [
      "[[165924  23840]\n",
      " [ 83941  34140]]\n"
     ]
    },
    {
     "data": {
      "text/plain": [
       "0.649885494323442"
      ]
     },
     "execution_count": 133,
     "metadata": {},
     "output_type": "execute_result"
    }
   ],
   "source": [
    "cm_gbc = confusion_matrix(y_test, y_pred)\n",
    "print(cm_gbc)\n",
    "accuracy_score(y_test, y_pred)"
   ]
  },
  {
   "cell_type": "markdown",
   "metadata": {},
   "source": [
    "### 3.1.6 SVM"
   ]
  },
  {
   "cell_type": "code",
   "execution_count": 134,
   "metadata": {},
   "outputs": [],
   "source": [
    "# svm = SVC(kernel='linear')\n",
    "# svm.fit(X_pca_train,y_pca_train)"
   ]
  },
  {
   "cell_type": "code",
   "execution_count": 135,
   "metadata": {},
   "outputs": [],
   "source": [
    "# Predict\n",
    "# y_pred = svm.predict(X_pca_test)"
   ]
  },
  {
   "cell_type": "code",
   "execution_count": 136,
   "metadata": {},
   "outputs": [],
   "source": [
    "# clf_report_svm = classification_report(y_test, y_pred, output_dict = True)\n",
    "# print(classification_report(y_test, y_pred))\n",
    "# auc_svm = roc_auc_score(y_test, y_pred)\n",
    "# print('auc: '+ str(auc_svm))\n",
    "# gini_svm = 2*auc_svm - 1\n",
    "# print('gini: ' + str(gini_svm))"
   ]
  },
  {
   "cell_type": "markdown",
   "metadata": {},
   "source": [
    "#### Making the Confusion Matrix"
   ]
  },
  {
   "cell_type": "code",
   "execution_count": 137,
   "metadata": {},
   "outputs": [],
   "source": [
    "# cm_svm = confusion_matrix(y_test, y_pred)\n",
    "# print(cm_svm)\n",
    "# accuracy_score(y_test, y_pred)"
   ]
  },
  {
   "cell_type": "markdown",
   "metadata": {},
   "source": [
    "### 3.1.7 KNN"
   ]
  },
  {
   "cell_type": "code",
   "execution_count": 138,
   "metadata": {},
   "outputs": [
    {
     "data": {
      "text/plain": [
       "KNeighborsClassifier(algorithm='auto', leaf_size=30, metric='minkowski',\n",
       "                     metric_params=None, n_jobs=8, n_neighbors=5, p=2,\n",
       "                     weights='uniform')"
      ]
     },
     "execution_count": 138,
     "metadata": {},
     "output_type": "execute_result"
    }
   ],
   "source": [
    "# neigh = KNeighborsClassifier(n_neighbors=3)\n",
    "neigh.fit(X_pca_train, y_train)"
   ]
  },
  {
   "cell_type": "code",
   "execution_count": 139,
   "metadata": {},
   "outputs": [],
   "source": [
    "# Predict\n",
    "y_pred = neigh.predict(X_pca_test)"
   ]
  },
  {
   "cell_type": "code",
   "execution_count": 140,
   "metadata": {},
   "outputs": [
    {
     "name": "stdout",
     "output_type": "stream",
     "text": [
      "              precision    recall  f1-score   support\n",
      "\n",
      "           0       0.67      0.76      0.71    189764\n",
      "           1       0.51      0.41      0.45    118081\n",
      "\n",
      "    accuracy                           0.63    307845\n",
      "   macro avg       0.59      0.58      0.58    307845\n",
      "weighted avg       0.61      0.63      0.61    307845\n",
      "\n",
      "auc: 0.5839430042641208\n",
      "gini: 0.16788600852824165\n"
     ]
    }
   ],
   "source": [
    "clf_report_neigh = classification_report(y_test, y_pred, output_dict = True)\n",
    "print(classification_report(y_test, y_pred))\n",
    "auc_neigh = roc_auc_score(y_test, y_pred)\n",
    "print('auc: '+ str(auc_neigh))\n",
    "gini_neigh = 2*auc_neigh - 1\n",
    "print('gini: ' + str(gini_neigh))"
   ]
  },
  {
   "cell_type": "markdown",
   "metadata": {},
   "source": [
    "#### Making the Confusion Matrix"
   ]
  },
  {
   "cell_type": "code",
   "execution_count": 141,
   "metadata": {},
   "outputs": [
    {
     "name": "stdout",
     "output_type": "stream",
     "text": [
      "[[144498  45266]\n",
      " [ 70090  47991]]\n"
     ]
    },
    {
     "data": {
      "text/plain": [
       "0.6252789553184233"
      ]
     },
     "execution_count": 141,
     "metadata": {},
     "output_type": "execute_result"
    }
   ],
   "source": [
    "cm_neigh = confusion_matrix(y_test, y_pred)\n",
    "print(cm_neigh)\n",
    "accuracy_score(y_test, y_pred)"
   ]
  },
  {
   "cell_type": "markdown",
   "metadata": {},
   "source": [
    "### 3.1.8 XGBoost"
   ]
  },
  {
   "cell_type": "code",
   "execution_count": 142,
   "metadata": {},
   "outputs": [],
   "source": [
    "# xgb = XGBClassifier(nthread = -1)"
   ]
  },
  {
   "cell_type": "code",
   "execution_count": 143,
   "metadata": {},
   "outputs": [
    {
     "data": {
      "text/plain": [
       "XGBClassifier(base_score=0.5, booster='gbtree', colsample_bylevel=1,\n",
       "              colsample_bynode=1, colsample_bytree=1, gamma=0,\n",
       "              learning_rate=0.1, max_delta_step=0, max_depth=3,\n",
       "              min_child_weight=1, missing=None, n_estimators=100, n_jobs=1,\n",
       "              nthread=8, objective='binary:logistic', random_state=0,\n",
       "              reg_alpha=0, reg_lambda=1, scale_pos_weight=1, seed=None,\n",
       "              silent=None, subsample=1, verbosity=1)"
      ]
     },
     "execution_count": 143,
     "metadata": {},
     "output_type": "execute_result"
    }
   ],
   "source": [
    "xgb.fit(X_train,y_train)"
   ]
  },
  {
   "cell_type": "code",
   "execution_count": 144,
   "metadata": {},
   "outputs": [],
   "source": [
    "y_pred = xgb.predict(X_test)"
   ]
  },
  {
   "cell_type": "code",
   "execution_count": 145,
   "metadata": {},
   "outputs": [
    {
     "name": "stdout",
     "output_type": "stream",
     "text": [
      "              precision    recall  f1-score   support\n",
      "\n",
      "           0       0.84      0.99      0.91    189764\n",
      "           1       0.99      0.69      0.81    118081\n",
      "\n",
      "    accuracy                           0.88    307845\n",
      "   macro avg       0.91      0.84      0.86    307845\n",
      "weighted avg       0.89      0.88      0.87    307845\n",
      "\n",
      "auc: 0.8407460915035788\n",
      "gini: 0.6814921830071576\n"
     ]
    }
   ],
   "source": [
    "clf_report_xgb = classification_report(y_test, y_pred, output_dict = True)\n",
    "print(classification_report(y_test, y_pred))\n",
    "auc_xgb = roc_auc_score(y_test, y_pred)\n",
    "print('auc: '+ str(auc_xgb))\n",
    "gini_xgb = 2*auc_xgb - 1\n",
    "print('gini: ' + str(gini_xgb))"
   ]
  },
  {
   "cell_type": "markdown",
   "metadata": {},
   "source": [
    "#### Making the Confusion Matrix"
   ]
  },
  {
   "cell_type": "code",
   "execution_count": 146,
   "metadata": {},
   "outputs": [
    {
     "name": "stdout",
     "output_type": "stream",
     "text": [
      "[[188662   1102]\n",
      " [ 36924  81157]]\n"
     ]
    },
    {
     "data": {
      "text/plain": [
       "0.8764767983887995"
      ]
     },
     "execution_count": 146,
     "metadata": {},
     "output_type": "execute_result"
    }
   ],
   "source": [
    "cm_xgb = confusion_matrix(y_test, y_pred)\n",
    "print(cm_xgb)\n",
    "accuracy_score(y_test, y_pred)"
   ]
  },
  {
   "cell_type": "markdown",
   "metadata": {},
   "source": [
    "### 3.1.9 LightGBM"
   ]
  },
  {
   "cell_type": "code",
   "execution_count": 147,
   "metadata": {},
   "outputs": [],
   "source": [
    "# lgbm = LGBMClassifier()"
   ]
  },
  {
   "cell_type": "code",
   "execution_count": 148,
   "metadata": {},
   "outputs": [
    {
     "data": {
      "text/plain": [
       "LGBMClassifier(boosting_type='gbdt', class_weight=None, colsample_bytree=1.0,\n",
       "               importance_type='split', learning_rate=0.1, max_depth=-1,\n",
       "               min_child_samples=20, min_child_weight=0.001, min_split_gain=0.0,\n",
       "               n_estimators=100, n_jobs=-1, num_leaves=31, objective=None,\n",
       "               random_state=None, reg_alpha=0.0, reg_lambda=0.0, silent=True,\n",
       "               subsample=1.0, subsample_for_bin=200000, subsample_freq=0)"
      ]
     },
     "execution_count": 148,
     "metadata": {},
     "output_type": "execute_result"
    }
   ],
   "source": [
    "lgbm.fit(X_train_tf,y_train)"
   ]
  },
  {
   "cell_type": "code",
   "execution_count": 149,
   "metadata": {},
   "outputs": [],
   "source": [
    "y_pred = lgbm.predict(X_test_tf)"
   ]
  },
  {
   "cell_type": "code",
   "execution_count": 150,
   "metadata": {},
   "outputs": [
    {
     "name": "stdout",
     "output_type": "stream",
     "text": [
      "              precision    recall  f1-score   support\n",
      "\n",
      "           0       0.96      0.99      0.97    189764\n",
      "           1       0.98      0.93      0.96    118081\n",
      "\n",
      "    accuracy                           0.97    307845\n",
      "   macro avg       0.97      0.96      0.96    307845\n",
      "weighted avg       0.97      0.97      0.97    307845\n",
      "\n",
      "auc: 0.9600016148531985\n",
      "gini: 0.9200032297063969\n"
     ]
    }
   ],
   "source": [
    "clf_report_lgbm = classification_report(y_test, y_pred, output_dict = True)\n",
    "print(classification_report(y_test, y_pred))\n",
    "auc_lgbm = roc_auc_score(y_test, y_pred)\n",
    "print('auc: '+ str(auc_lgbm))\n",
    "gini_lgbm = 2*auc_lgbm - 1\n",
    "print('gini: ' + str(gini_lgbm))"
   ]
  },
  {
   "cell_type": "markdown",
   "metadata": {},
   "source": [
    "#### Making the Confusion Matrix"
   ]
  },
  {
   "cell_type": "code",
   "execution_count": 151,
   "metadata": {},
   "outputs": [
    {
     "name": "stdout",
     "output_type": "stream",
     "text": [
      "[[187935   1829]\n",
      " [  8308 109773]]\n"
     ]
    },
    {
     "data": {
      "text/plain": [
       "0.9670710909711056"
      ]
     },
     "execution_count": 151,
     "metadata": {},
     "output_type": "execute_result"
    }
   ],
   "source": [
    "cm_lgbm = confusion_matrix(y_test, y_pred)\n",
    "print(cm_lgbm)\n",
    "accuracy_score(y_test, y_pred)"
   ]
  },
  {
   "cell_type": "markdown",
   "metadata": {},
   "source": [
    "### 3.1.10 Summary"
   ]
  },
  {
   "cell_type": "code",
   "execution_count": 152,
   "metadata": {},
   "outputs": [],
   "source": [
    "summary_pca = {'Logistic Regression':[auc_lr , gini_lr, clf_report_lr['0']['precision'], clf_report_lr['1']['precision'], clf_report_lr['0']['recall'], clf_report_lr['1']['recall'], clf_report_lr['0']['f1-score'], clf_report_lr['1']['f1-score']],\n",
    "          'Naive Bayes':[auc_nb , gini_nb, clf_report_nb['0']['precision'], clf_report_nb['1']['precision'], clf_report_nb['0']['recall'], clf_report_nb['1']['recall'], clf_report_nb['0']['f1-score'], clf_report_nb['1']['f1-score']],\n",
    "          'Decision tree':[auc_tree , gini_tree, clf_report_tree['0']['precision'], clf_report_tree['1']['precision'], clf_report_tree['0']['recall'], clf_report_tree['1']['recall'], clf_report_tree['0']['f1-score'], clf_report_tree['1']['f1-score']],\n",
    "          'Random Forest':[auc_rf , gini_rf, clf_report_rf['0']['precision'], clf_report_rf['1']['precision'], clf_report_rf['0']['recall'], clf_report_rf['1']['recall'], clf_report_rf['0']['f1-score'], clf_report_rf['1']['f1-score']],\n",
    "          'Gradientboosting':[auc_gbc , gini_gbc, clf_report_gbc['0']['precision'], clf_report_gbc['1']['precision'], clf_report_gbc['0']['recall'], clf_report_gbc['1']['recall'], clf_report_gbc['0']['f1-score'], clf_report_gbc['1']['f1-score']],\n",
    "#           'SVM':[auc_svm , gini_svm, clf_report_svm['0']['precision'], clf_report_svm['1']['precision'], clf_report_svm['0']['recall'], clf_report_svm['1']['recall'], clf_report_svm['0']['f1-score'], clf_report_svm['1']['f1-score']],\n",
    "          'KNN':[auc_neigh , gini_neigh, clf_report_neigh['0']['precision'], clf_report_neigh['1']['precision'], clf_report_neigh['0']['recall'], clf_report_neigh['1']['recall'], clf_report_neigh['0']['f1-score'], clf_report_neigh['1']['f1-score']],\n",
    "          'XGBoost':[auc_xgb , gini_xgb, clf_report_xgb['0']['precision'], clf_report_xgb['1']['precision'], clf_report_xgb['0']['recall'], clf_report_xgb['1']['recall'], clf_report_xgb['0']['f1-score'], clf_report_xgb['1']['f1-score']],\n",
    "          'LightGBM':[auc_lgbm , gini_lgbm, clf_report_lgbm['0']['precision'], clf_report_lgbm['1']['precision'], clf_report_lgbm['0']['recall'], clf_report_lgbm['1']['recall'], clf_report_lgbm['0']['f1-score'], clf_report_lgbm['1']['f1-score']]\n",
    "          }"
   ]
  },
  {
   "cell_type": "code",
   "execution_count": 153,
   "metadata": {},
   "outputs": [
    {
     "data": {
      "text/html": [
       "<div>\n",
       "<style scoped>\n",
       "    .dataframe tbody tr th:only-of-type {\n",
       "        vertical-align: middle;\n",
       "    }\n",
       "\n",
       "    .dataframe tbody tr th {\n",
       "        vertical-align: top;\n",
       "    }\n",
       "\n",
       "    .dataframe thead th {\n",
       "        text-align: right;\n",
       "    }\n",
       "</style>\n",
       "<table border=\"1\" class=\"dataframe\">\n",
       "  <thead>\n",
       "    <tr style=\"text-align: right;\">\n",
       "      <th></th>\n",
       "      <th>Logistic Regression</th>\n",
       "      <th>Naive Bayes</th>\n",
       "      <th>Decision tree</th>\n",
       "      <th>Random Forest</th>\n",
       "      <th>Gradientboosting</th>\n",
       "      <th>KNN</th>\n",
       "      <th>XGBoost</th>\n",
       "      <th>LightGBM</th>\n",
       "    </tr>\n",
       "  </thead>\n",
       "  <tbody>\n",
       "    <tr>\n",
       "      <th>auc</th>\n",
       "      <td>0.564457</td>\n",
       "      <td>0.569189</td>\n",
       "      <td>0.562480</td>\n",
       "      <td>0.601346</td>\n",
       "      <td>0.581747</td>\n",
       "      <td>0.583943</td>\n",
       "      <td>0.840746</td>\n",
       "      <td>0.960002</td>\n",
       "    </tr>\n",
       "    <tr>\n",
       "      <th>gini</th>\n",
       "      <td>0.128915</td>\n",
       "      <td>0.138377</td>\n",
       "      <td>0.124960</td>\n",
       "      <td>0.202692</td>\n",
       "      <td>0.163494</td>\n",
       "      <td>0.167886</td>\n",
       "      <td>0.681492</td>\n",
       "      <td>0.920003</td>\n",
       "    </tr>\n",
       "    <tr>\n",
       "      <th>precision_0</th>\n",
       "      <td>0.652566</td>\n",
       "      <td>0.656235</td>\n",
       "      <td>0.651520</td>\n",
       "      <td>0.676219</td>\n",
       "      <td>0.664055</td>\n",
       "      <td>0.673374</td>\n",
       "      <td>0.836320</td>\n",
       "      <td>0.957665</td>\n",
       "    </tr>\n",
       "    <tr>\n",
       "      <th>precision_1</th>\n",
       "      <td>0.578279</td>\n",
       "      <td>0.567286</td>\n",
       "      <td>0.570518</td>\n",
       "      <td>0.625059</td>\n",
       "      <td>0.588824</td>\n",
       "      <td>0.514610</td>\n",
       "      <td>0.986603</td>\n",
       "      <td>0.983611</td>\n",
       "    </tr>\n",
       "    <tr>\n",
       "      <th>recall_0</th>\n",
       "      <td>0.892899</td>\n",
       "      <td>0.874982</td>\n",
       "      <td>0.889884</td>\n",
       "      <td>0.879287</td>\n",
       "      <td>0.874370</td>\n",
       "      <td>0.761462</td>\n",
       "      <td>0.994193</td>\n",
       "      <td>0.990362</td>\n",
       "    </tr>\n",
       "    <tr>\n",
       "      <th>recall_1</th>\n",
       "      <td>0.236016</td>\n",
       "      <td>0.263395</td>\n",
       "      <td>0.235076</td>\n",
       "      <td>0.323405</td>\n",
       "      <td>0.289124</td>\n",
       "      <td>0.406424</td>\n",
       "      <td>0.687299</td>\n",
       "      <td>0.929642</td>\n",
       "    </tr>\n",
       "    <tr>\n",
       "      <th>f1-score_0</th>\n",
       "      <td>0.754045</td>\n",
       "      <td>0.749984</td>\n",
       "      <td>0.752271</td>\n",
       "      <td>0.764498</td>\n",
       "      <td>0.754836</td>\n",
       "      <td>0.714714</td>\n",
       "      <td>0.908448</td>\n",
       "      <td>0.973739</td>\n",
       "    </tr>\n",
       "    <tr>\n",
       "      <th>f1-score_1</th>\n",
       "      <td>0.335218</td>\n",
       "      <td>0.359754</td>\n",
       "      <td>0.332959</td>\n",
       "      <td>0.426262</td>\n",
       "      <td>0.387820</td>\n",
       "      <td>0.454163</td>\n",
       "      <td>0.810193</td>\n",
       "      <td>0.955865</td>\n",
       "    </tr>\n",
       "  </tbody>\n",
       "</table>\n",
       "</div>"
      ],
      "text/plain": [
       "             Logistic Regression  Naive Bayes  Decision tree  Random Forest  \\\n",
       "auc                     0.564457     0.569189       0.562480       0.601346   \n",
       "gini                    0.128915     0.138377       0.124960       0.202692   \n",
       "precision_0             0.652566     0.656235       0.651520       0.676219   \n",
       "precision_1             0.578279     0.567286       0.570518       0.625059   \n",
       "recall_0                0.892899     0.874982       0.889884       0.879287   \n",
       "recall_1                0.236016     0.263395       0.235076       0.323405   \n",
       "f1-score_0              0.754045     0.749984       0.752271       0.764498   \n",
       "f1-score_1              0.335218     0.359754       0.332959       0.426262   \n",
       "\n",
       "             Gradientboosting       KNN   XGBoost  LightGBM  \n",
       "auc                  0.581747  0.583943  0.840746  0.960002  \n",
       "gini                 0.163494  0.167886  0.681492  0.920003  \n",
       "precision_0          0.664055  0.673374  0.836320  0.957665  \n",
       "precision_1          0.588824  0.514610  0.986603  0.983611  \n",
       "recall_0             0.874370  0.761462  0.994193  0.990362  \n",
       "recall_1             0.289124  0.406424  0.687299  0.929642  \n",
       "f1-score_0           0.754836  0.714714  0.908448  0.973739  \n",
       "f1-score_1           0.387820  0.454163  0.810193  0.955865  "
      ]
     },
     "execution_count": 153,
     "metadata": {},
     "output_type": "execute_result"
    }
   ],
   "source": [
    "df_sum_pca = pd.DataFrame(data=summary_pca,index = ['auc', 'gini', 'precision_0', 'precision_1', 'recall_0', 'recall_1', 'f1-score_0','f1-score_1'])\n",
    "df_sum_pca"
   ]
  },
  {
   "cell_type": "markdown",
   "metadata": {},
   "source": [
    "## 3.2 SelectKBest"
   ]
  },
  {
   "cell_type": "code",
   "execution_count": 154,
   "metadata": {},
   "outputs": [],
   "source": [
    "# Create features variable \n",
    "# X = dataset.drop(['target', 'TailNum_level', 'Origin_level', 'FlightNum_level', 'Dest_level'],axis = 1)"
   ]
  },
  {
   "cell_type": "code",
   "execution_count": 155,
   "metadata": {},
   "outputs": [
    {
     "data": {
      "text/plain": [
       "(1539221, 15)"
      ]
     },
     "execution_count": 155,
     "metadata": {},
     "output_type": "execute_result"
    }
   ],
   "source": [
    "X.shape"
   ]
  },
  {
   "cell_type": "code",
   "execution_count": 156,
   "metadata": {},
   "outputs": [
    {
     "data": {
      "text/plain": [
       "(1539221, 10)"
      ]
     },
     "execution_count": 156,
     "metadata": {},
     "output_type": "execute_result"
    }
   ],
   "source": [
    "X_new = SelectKBest(f_classif, k=10).fit_transform(X, y)\n",
    "X_new.shape"
   ]
  },
  {
   "cell_type": "code",
   "execution_count": 157,
   "metadata": {},
   "outputs": [
    {
     "data": {
      "text/plain": [
       "array([[1.000e+00, 2.003e+03, 1.955e+03, ..., 8.100e+02, 4.000e+00,\n",
       "        8.000e+00],\n",
       "       [1.000e+00, 7.540e+02, 7.350e+02, ..., 8.100e+02, 5.000e+00,\n",
       "        1.000e+01],\n",
       "       [1.000e+00, 6.280e+02, 6.200e+02, ..., 5.150e+02, 3.000e+00,\n",
       "        1.700e+01],\n",
       "       ...,\n",
       "       [1.200e+01, 1.007e+03, 8.470e+02, ..., 6.890e+02, 8.000e+00,\n",
       "        3.200e+01],\n",
       "       [1.200e+01, 1.251e+03, 1.240e+03, ..., 5.330e+02, 1.300e+01,\n",
       "        1.300e+01],\n",
       "       [1.200e+01, 1.110e+03, 1.103e+03, ..., 8.740e+02, 8.000e+00,\n",
       "        1.100e+01]])"
      ]
     },
     "execution_count": 157,
     "metadata": {},
     "output_type": "execute_result"
    }
   ],
   "source": [
    "X_new"
   ]
  },
  {
   "cell_type": "code",
   "execution_count": 158,
   "metadata": {},
   "outputs": [],
   "source": [
    "# X_new_s = scaler.fit_transform(X_new)"
   ]
  },
  {
   "cell_type": "code",
   "execution_count": 159,
   "metadata": {},
   "outputs": [],
   "source": [
    "# Train, test, split\n",
    "X_kbest_train, X_kbest_test, y_train, y_test = train_test_split(X_new,y, test_size = .20, random_state= 0)"
   ]
  },
  {
   "cell_type": "code",
   "execution_count": 160,
   "metadata": {},
   "outputs": [],
   "source": [
    "X_kbest_train = scaler.fit_transform(X_kbest_train)\n",
    "X_kbest_test = scaler.fit_transform(X_kbest_test)"
   ]
  },
  {
   "cell_type": "markdown",
   "metadata": {},
   "source": [
    "### 3.2.1 Logistic Regression"
   ]
  },
  {
   "cell_type": "code",
   "execution_count": 161,
   "metadata": {},
   "outputs": [
    {
     "data": {
      "text/plain": [
       "LogisticRegression(C=1.0, class_weight=None, dual=False, fit_intercept=True,\n",
       "                   intercept_scaling=1, l1_ratio=None, max_iter=100,\n",
       "                   multi_class='warn', n_jobs=8, penalty='l2',\n",
       "                   random_state=None, solver='lbfgs', tol=0.0001, verbose=0,\n",
       "                   warm_start=False)"
      ]
     },
     "execution_count": 161,
     "metadata": {},
     "output_type": "execute_result"
    }
   ],
   "source": [
    "lr.fit(X_kbest_train,y_train)"
   ]
  },
  {
   "cell_type": "code",
   "execution_count": 162,
   "metadata": {},
   "outputs": [],
   "source": [
    "y_pred = lr.predict(X_kbest_test)"
   ]
  },
  {
   "cell_type": "code",
   "execution_count": 163,
   "metadata": {},
   "outputs": [
    {
     "name": "stdout",
     "output_type": "stream",
     "text": [
      "              precision    recall  f1-score   support\n",
      "\n",
      "           0       0.91      0.96      0.93    189764\n",
      "           1       0.92      0.84      0.88    118081\n",
      "\n",
      "    accuracy                           0.91    307845\n",
      "   macro avg       0.92      0.90      0.91    307845\n",
      "weighted avg       0.91      0.91      0.91    307845\n",
      "\n",
      "auc: 0.899883682809854\n",
      "gini: 0.799767365619708\n"
     ]
    }
   ],
   "source": [
    "clf_report_lr = classification_report(y_test, y_pred, output_dict = True)\n",
    "print(classification_report(y_test, y_pred))\n",
    "auc_lr = roc_auc_score(y_test, y_pred)\n",
    "print('auc: '+ str(auc_lr))\n",
    "gini_lr = 2*auc_lr - 1\n",
    "print('gini: ' + str(gini_lr))"
   ]
  },
  {
   "cell_type": "markdown",
   "metadata": {},
   "source": [
    "#### Making the Confusion Matrix"
   ]
  },
  {
   "cell_type": "code",
   "execution_count": 164,
   "metadata": {},
   "outputs": [
    {
     "name": "stdout",
     "output_type": "stream",
     "text": [
      "[[181411   8353]\n",
      " [ 18446  99635]]\n"
     ]
    },
    {
     "data": {
      "text/plain": [
       "0.9129464503240267"
      ]
     },
     "execution_count": 164,
     "metadata": {},
     "output_type": "execute_result"
    }
   ],
   "source": [
    "cm_lr = confusion_matrix(y_test, y_pred)\n",
    "print(cm_lr)\n",
    "accuracy_score(y_test, y_pred)"
   ]
  },
  {
   "cell_type": "markdown",
   "metadata": {},
   "source": [
    "### 3.2.2 Naive Bayes"
   ]
  },
  {
   "cell_type": "code",
   "execution_count": 165,
   "metadata": {},
   "outputs": [
    {
     "data": {
      "text/plain": [
       "GaussianNB(priors=None, var_smoothing=1e-09)"
      ]
     },
     "execution_count": 165,
     "metadata": {},
     "output_type": "execute_result"
    }
   ],
   "source": [
    "# Create Naives Bayes object\n",
    "# nb = GaussianNB()\n",
    "\n",
    "# Fit model to training data\n",
    "nb.fit(X_kbest_train,y_train)"
   ]
  },
  {
   "cell_type": "code",
   "execution_count": 166,
   "metadata": {},
   "outputs": [],
   "source": [
    "# Predict\n",
    "y_pred = nb.predict(X_kbest_test)"
   ]
  },
  {
   "cell_type": "code",
   "execution_count": 167,
   "metadata": {},
   "outputs": [
    {
     "name": "stdout",
     "output_type": "stream",
     "text": [
      "              precision    recall  f1-score   support\n",
      "\n",
      "           0       0.68      0.80      0.73    189764\n",
      "           1       0.54      0.38      0.45    118081\n",
      "\n",
      "    accuracy                           0.64    307845\n",
      "   macro avg       0.61      0.59      0.59    307845\n",
      "weighted avg       0.62      0.64      0.62    307845\n",
      "\n",
      "auc: 0.590866672725965\n",
      "gini: 0.1817333454519301\n"
     ]
    }
   ],
   "source": [
    "clf_report_nb = classification_report(y_test, y_pred, output_dict = True)\n",
    "print(classification_report(y_test, y_pred))\n",
    "auc_nb = roc_auc_score(y_test, y_pred)\n",
    "print('auc: '+ str(auc_nb))\n",
    "gini_nb = 2*auc_nb - 1\n",
    "print('gini: ' + str(gini_nb))"
   ]
  },
  {
   "cell_type": "markdown",
   "metadata": {},
   "source": [
    "#### Making the Confusion Matrix"
   ]
  },
  {
   "cell_type": "code",
   "execution_count": 168,
   "metadata": {},
   "outputs": [
    {
     "name": "stdout",
     "output_type": "stream",
     "text": [
      "[[151873  37891]\n",
      " [ 73044  45037]]\n"
     ]
    },
    {
     "data": {
      "text/plain": [
       "0.6396400786109893"
      ]
     },
     "execution_count": 168,
     "metadata": {},
     "output_type": "execute_result"
    }
   ],
   "source": [
    "cm_nb = confusion_matrix(y_test, y_pred)\n",
    "print(cm_nb)\n",
    "accuracy_score(y_test, y_pred)"
   ]
  },
  {
   "cell_type": "markdown",
   "metadata": {},
   "source": [
    "### 3.2.3 Decision Tree"
   ]
  },
  {
   "cell_type": "code",
   "execution_count": 169,
   "metadata": {},
   "outputs": [
    {
     "data": {
      "text/plain": [
       "DecisionTreeClassifier(class_weight=None, criterion='gini', max_depth=10,\n",
       "                       max_features=None, max_leaf_nodes=None,\n",
       "                       min_impurity_decrease=0.0, min_impurity_split=None,\n",
       "                       min_samples_leaf=1, min_samples_split=2,\n",
       "                       min_weight_fraction_leaf=0.0, presort=False,\n",
       "                       random_state=None, splitter='best')"
      ]
     },
     "execution_count": 169,
     "metadata": {},
     "output_type": "execute_result"
    }
   ],
   "source": [
    "# tree = DecisionTreeClassifier(max_depth=10)\n",
    "# Fit model to training data\n",
    "tree.fit(X_kbest_train,y_train)"
   ]
  },
  {
   "cell_type": "code",
   "execution_count": 170,
   "metadata": {},
   "outputs": [],
   "source": [
    "# Predict\n",
    "y_pred = tree.predict(X_kbest_test)"
   ]
  },
  {
   "cell_type": "code",
   "execution_count": 171,
   "metadata": {},
   "outputs": [
    {
     "name": "stdout",
     "output_type": "stream",
     "text": [
      "              precision    recall  f1-score   support\n",
      "\n",
      "           0       0.78      0.96      0.86    189764\n",
      "           1       0.91      0.56      0.69    118081\n",
      "\n",
      "    accuracy                           0.81    307845\n",
      "   macro avg       0.84      0.76      0.78    307845\n",
      "weighted avg       0.83      0.81      0.80    307845\n",
      "\n",
      "auc: 0.7607676155123904\n",
      "gini: 0.5215352310247807\n"
     ]
    }
   ],
   "source": [
    "clf_report_tree = classification_report(y_test, y_pred, output_dict = True)\n",
    "print(classification_report(y_test, y_pred))\n",
    "auc_tree = roc_auc_score(y_test, y_pred)\n",
    "print('auc: '+ str(auc_tree))\n",
    "gini_tree = 2*auc_tree - 1\n",
    "print('gini: ' + str(gini_tree))"
   ]
  },
  {
   "cell_type": "markdown",
   "metadata": {},
   "source": [
    "#### Making the Confusion Matrix"
   ]
  },
  {
   "cell_type": "code",
   "execution_count": 172,
   "metadata": {},
   "outputs": [
    {
     "name": "stdout",
     "output_type": "stream",
     "text": [
      "[[183068   6696]\n",
      " [ 52331  65750]]\n"
     ]
    },
    {
     "data": {
      "text/plain": [
       "0.8082574022641265"
      ]
     },
     "execution_count": 172,
     "metadata": {},
     "output_type": "execute_result"
    }
   ],
   "source": [
    "cm_tree = confusion_matrix(y_test, y_pred)\n",
    "print(cm_tree)\n",
    "accuracy_score(y_test, y_pred)"
   ]
  },
  {
   "cell_type": "markdown",
   "metadata": {},
   "source": [
    "### 3.2.4 Random Forest"
   ]
  },
  {
   "cell_type": "code",
   "execution_count": 173,
   "metadata": {},
   "outputs": [
    {
     "data": {
      "text/plain": [
       "RandomForestClassifier(bootstrap=True, class_weight=None, criterion='gini',\n",
       "                       max_depth=None, max_features='auto', max_leaf_nodes=None,\n",
       "                       min_impurity_decrease=0.0, min_impurity_split=None,\n",
       "                       min_samples_leaf=1, min_samples_split=2,\n",
       "                       min_weight_fraction_leaf=0.0, n_estimators=100, n_jobs=8,\n",
       "                       oob_score=False, random_state=0, verbose=0,\n",
       "                       warm_start=False)"
      ]
     },
     "execution_count": 173,
     "metadata": {},
     "output_type": "execute_result"
    }
   ],
   "source": [
    "# rf = RandomForestClassifier(n_estimators=100, max_depth=4,random_state=0)\n",
    "# Fit model to training data\n",
    "rf.fit(X_kbest_train,y_train)"
   ]
  },
  {
   "cell_type": "code",
   "execution_count": 174,
   "metadata": {},
   "outputs": [],
   "source": [
    "# Predict\n",
    "y_pred = rf.predict(X_kbest_test)"
   ]
  },
  {
   "cell_type": "code",
   "execution_count": 175,
   "metadata": {},
   "outputs": [
    {
     "name": "stdout",
     "output_type": "stream",
     "text": [
      "              precision    recall  f1-score   support\n",
      "\n",
      "           0       0.97      0.99      0.98    189764\n",
      "           1       0.99      0.96      0.97    118081\n",
      "\n",
      "    accuracy                           0.98    307845\n",
      "   macro avg       0.98      0.97      0.98    307845\n",
      "weighted avg       0.98      0.98      0.98    307845\n",
      "\n",
      "auc: 0.974710750294285\n",
      "gini: 0.94942150058857\n"
     ]
    }
   ],
   "source": [
    "clf_report_rf = classification_report(y_test, y_pred, output_dict = True)\n",
    "print(classification_report(y_test, y_pred))\n",
    "auc_rf = roc_auc_score(y_test, y_pred)\n",
    "print('auc: '+ str(auc_rf))\n",
    "gini_rf = 2*auc_rf - 1\n",
    "print('gini: ' + str(gini_rf))"
   ]
  },
  {
   "cell_type": "markdown",
   "metadata": {},
   "source": [
    "#### Making the Confusion Matrix"
   ]
  },
  {
   "cell_type": "code",
   "execution_count": 176,
   "metadata": {},
   "outputs": [
    {
     "name": "stdout",
     "output_type": "stream",
     "text": [
      "[[188121   1643]\n",
      " [  4950 113131]]\n"
     ]
    },
    {
     "data": {
      "text/plain": [
       "0.9785833779986681"
      ]
     },
     "execution_count": 176,
     "metadata": {},
     "output_type": "execute_result"
    }
   ],
   "source": [
    "cm_rf = confusion_matrix(y_test, y_pred)\n",
    "print(cm_rf)\n",
    "accuracy_score(y_test, y_pred)"
   ]
  },
  {
   "cell_type": "markdown",
   "metadata": {},
   "source": [
    "### 3.2.5 Gradient Boosting"
   ]
  },
  {
   "cell_type": "code",
   "execution_count": 177,
   "metadata": {},
   "outputs": [
    {
     "data": {
      "text/plain": [
       "GradientBoostingClassifier(criterion='friedman_mse', init=None,\n",
       "                           learning_rate=1.0, loss='deviance', max_depth=3,\n",
       "                           max_features=None, max_leaf_nodes=None,\n",
       "                           min_impurity_decrease=0.0, min_impurity_split=None,\n",
       "                           min_samples_leaf=1, min_samples_split=2,\n",
       "                           min_weight_fraction_leaf=0.0, n_estimators=100,\n",
       "                           n_iter_no_change=None, presort='auto',\n",
       "                           random_state=None, subsample=1.0, tol=0.0001,\n",
       "                           validation_fraction=0.1, verbose=0,\n",
       "                           warm_start=False)"
      ]
     },
     "execution_count": 177,
     "metadata": {},
     "output_type": "execute_result"
    }
   ],
   "source": [
    "# GradientBoosting\n",
    "# gbc = GradientBoostingClassifier(n_estimators=100,max_depth=3,learning_rate=1.0)\n",
    "gbc.fit(X_kbest_train,y_train)"
   ]
  },
  {
   "cell_type": "code",
   "execution_count": 178,
   "metadata": {},
   "outputs": [],
   "source": [
    "# Predict\n",
    "y_pred = gbc.predict(X_kbest_test)"
   ]
  },
  {
   "cell_type": "code",
   "execution_count": 179,
   "metadata": {},
   "outputs": [
    {
     "name": "stdout",
     "output_type": "stream",
     "text": [
      "              precision    recall  f1-score   support\n",
      "\n",
      "           0       0.97      0.98      0.98    189764\n",
      "           1       0.97      0.95      0.96    118081\n",
      "\n",
      "    accuracy                           0.97    307845\n",
      "   macro avg       0.97      0.97      0.97    307845\n",
      "weighted avg       0.97      0.97      0.97    307845\n",
      "\n",
      "auc: 0.9657191525151361\n",
      "gini: 0.9314383050302721\n"
     ]
    }
   ],
   "source": [
    "clf_report_gbc = classification_report(y_test, y_pred, output_dict = True)\n",
    "print(classification_report(y_test, y_pred))\n",
    "auc_gbc = roc_auc_score(y_test, y_pred)\n",
    "print('auc: '+ str(auc_gbc))\n",
    "gini_gbc = 2*auc_gbc - 1\n",
    "print('gini: ' + str(gini_gbc))"
   ]
  },
  {
   "cell_type": "markdown",
   "metadata": {},
   "source": [
    "#### Making the Confusion Matrix"
   ]
  },
  {
   "cell_type": "code",
   "execution_count": 180,
   "metadata": {},
   "outputs": [
    {
     "name": "stdout",
     "output_type": "stream",
     "text": [
      "[[186383   3381]\n",
      " [  5992 112089]]\n"
     ]
    },
    {
     "data": {
      "text/plain": [
       "0.969552859393526"
      ]
     },
     "execution_count": 180,
     "metadata": {},
     "output_type": "execute_result"
    }
   ],
   "source": [
    "cm_gbc = confusion_matrix(y_test, y_pred)\n",
    "print(cm_gbc)\n",
    "accuracy_score(y_test, y_pred)"
   ]
  },
  {
   "cell_type": "markdown",
   "metadata": {},
   "source": [
    "### 3.2.6 SVM"
   ]
  },
  {
   "cell_type": "code",
   "execution_count": 181,
   "metadata": {},
   "outputs": [],
   "source": [
    "# svm = SVC(kernel='linear')\n",
    "# svm.fit(X_kbest_train,y_kbest_train)"
   ]
  },
  {
   "cell_type": "code",
   "execution_count": 182,
   "metadata": {},
   "outputs": [],
   "source": [
    "# Predict\n",
    "# y_pred = svm.predict(X_kbest_test)"
   ]
  },
  {
   "cell_type": "code",
   "execution_count": 183,
   "metadata": {},
   "outputs": [],
   "source": [
    "# clf_report_svm = classification_report(y_test, y_pred, output_dict = True)\n",
    "# print(classification_report(y_test, y_pred))\n",
    "# auc_svm = roc_auc_score(y_test, y_pred)\n",
    "# print('auc: '+ str(auc_svm))\n",
    "# gini_svm = 2*auc_svm - 1\n",
    "# print('gini: ' + str(gini_svm))"
   ]
  },
  {
   "cell_type": "markdown",
   "metadata": {},
   "source": [
    "#### Making the Confusion Matrix"
   ]
  },
  {
   "cell_type": "code",
   "execution_count": 184,
   "metadata": {},
   "outputs": [],
   "source": [
    "# cm_svm = confusion_matrix(y_test, y_pred)\n",
    "# print(cm_svm)\n",
    "# accuracy_score(y_test, y_pred)"
   ]
  },
  {
   "cell_type": "markdown",
   "metadata": {},
   "source": [
    "### 3.2.7 KNN"
   ]
  },
  {
   "cell_type": "code",
   "execution_count": 185,
   "metadata": {},
   "outputs": [
    {
     "data": {
      "text/plain": [
       "KNeighborsClassifier(algorithm='auto', leaf_size=30, metric='minkowski',\n",
       "                     metric_params=None, n_jobs=8, n_neighbors=5, p=2,\n",
       "                     weights='uniform')"
      ]
     },
     "execution_count": 185,
     "metadata": {},
     "output_type": "execute_result"
    }
   ],
   "source": [
    "# neigh = KNeighborsClassifier(n_neighbors=3)\n",
    "neigh.fit(X_kbest_train, y_train)"
   ]
  },
  {
   "cell_type": "code",
   "execution_count": 186,
   "metadata": {},
   "outputs": [],
   "source": [
    "# Predict\n",
    "y_pred = neigh.predict(X_kbest_test)"
   ]
  },
  {
   "cell_type": "code",
   "execution_count": 187,
   "metadata": {},
   "outputs": [
    {
     "name": "stdout",
     "output_type": "stream",
     "text": [
      "              precision    recall  f1-score   support\n",
      "\n",
      "           0       0.76      0.88      0.82    189764\n",
      "           1       0.75      0.56      0.64    118081\n",
      "\n",
      "    accuracy                           0.76    307845\n",
      "   macro avg       0.75      0.72      0.73    307845\n",
      "weighted avg       0.76      0.76      0.75    307845\n",
      "\n",
      "auc: 0.7199080108724791\n",
      "gini: 0.43981602174495826\n"
     ]
    }
   ],
   "source": [
    "clf_report_neigh = classification_report(y_test, y_pred, output_dict = True)\n",
    "print(classification_report(y_test, y_pred))\n",
    "auc_neigh = roc_auc_score(y_test, y_pred)\n",
    "print('auc: '+ str(auc_neigh))\n",
    "gini_neigh = 2*auc_neigh - 1\n",
    "print('gini: ' + str(gini_neigh))"
   ]
  },
  {
   "cell_type": "markdown",
   "metadata": {},
   "source": [
    "#### Making the Confusion Matrix"
   ]
  },
  {
   "cell_type": "code",
   "execution_count": 188,
   "metadata": {},
   "outputs": [
    {
     "name": "stdout",
     "output_type": "stream",
     "text": [
      "[[167416  22348]\n",
      " [ 52241  65840]]\n"
     ]
    },
    {
     "data": {
      "text/plain": [
       "0.7577059884032549"
      ]
     },
     "execution_count": 188,
     "metadata": {},
     "output_type": "execute_result"
    }
   ],
   "source": [
    "cm_neigh = confusion_matrix(y_test, y_pred)\n",
    "print(cm_neigh)\n",
    "accuracy_score(y_test, y_pred)"
   ]
  },
  {
   "cell_type": "markdown",
   "metadata": {},
   "source": [
    "### 3.2.8 XGBoost"
   ]
  },
  {
   "cell_type": "code",
   "execution_count": 189,
   "metadata": {},
   "outputs": [],
   "source": [
    "# xgb = XGBClassifier(nthread = -1)"
   ]
  },
  {
   "cell_type": "code",
   "execution_count": 190,
   "metadata": {},
   "outputs": [
    {
     "data": {
      "text/plain": [
       "XGBClassifier(base_score=0.5, booster='gbtree', colsample_bylevel=1,\n",
       "              colsample_bynode=1, colsample_bytree=1, gamma=0,\n",
       "              learning_rate=0.1, max_delta_step=0, max_depth=3,\n",
       "              min_child_weight=1, missing=None, n_estimators=100, n_jobs=1,\n",
       "              nthread=8, objective='binary:logistic', random_state=0,\n",
       "              reg_alpha=0, reg_lambda=1, scale_pos_weight=1, seed=None,\n",
       "              silent=None, subsample=1, verbosity=1)"
      ]
     },
     "execution_count": 190,
     "metadata": {},
     "output_type": "execute_result"
    }
   ],
   "source": [
    "xgb.fit(X_kbest_train,y_train)"
   ]
  },
  {
   "cell_type": "code",
   "execution_count": 191,
   "metadata": {},
   "outputs": [],
   "source": [
    "y_pred = xgb.predict(X_kbest_test)"
   ]
  },
  {
   "cell_type": "code",
   "execution_count": 192,
   "metadata": {},
   "outputs": [
    {
     "name": "stdout",
     "output_type": "stream",
     "text": [
      "              precision    recall  f1-score   support\n",
      "\n",
      "           0       0.83      0.99      0.91    189764\n",
      "           1       0.99      0.68      0.81    118081\n",
      "\n",
      "    accuracy                           0.87    307845\n",
      "   macro avg       0.91      0.84      0.86    307845\n",
      "weighted avg       0.89      0.87      0.87    307845\n",
      "\n",
      "auc: 0.8371908218777299\n",
      "gini: 0.6743816437554597\n"
     ]
    }
   ],
   "source": [
    "clf_report_xgb = classification_report(y_test, y_pred, output_dict = True)\n",
    "print(classification_report(y_test, y_pred))\n",
    "auc_xgb = roc_auc_score(y_test, y_pred)\n",
    "print('auc: '+ str(auc_xgb))\n",
    "gini_xgb = 2*auc_xgb - 1\n",
    "print('gini: ' + str(gini_xgb))"
   ]
  },
  {
   "cell_type": "markdown",
   "metadata": {},
   "source": [
    "#### Making the Confusion Matrix"
   ]
  },
  {
   "cell_type": "code",
   "execution_count": 193,
   "metadata": {},
   "outputs": [
    {
     "name": "stdout",
     "output_type": "stream",
     "text": [
      "[[188751   1013]\n",
      " [ 37819  80262]]\n"
     ]
    },
    {
     "data": {
      "text/plain": [
       "0.8738585976709058"
      ]
     },
     "execution_count": 193,
     "metadata": {},
     "output_type": "execute_result"
    }
   ],
   "source": [
    "cm_xgb = confusion_matrix(y_test, y_pred)\n",
    "print(cm_xgb)\n",
    "accuracy_score(y_test, y_pred)"
   ]
  },
  {
   "cell_type": "markdown",
   "metadata": {},
   "source": [
    "### 3.2.9 LightGBM"
   ]
  },
  {
   "cell_type": "code",
   "execution_count": 194,
   "metadata": {},
   "outputs": [],
   "source": [
    "# lgbm = LGBMClassifier()"
   ]
  },
  {
   "cell_type": "code",
   "execution_count": 195,
   "metadata": {},
   "outputs": [
    {
     "data": {
      "text/plain": [
       "LGBMClassifier(boosting_type='gbdt', class_weight=None, colsample_bytree=1.0,\n",
       "               importance_type='split', learning_rate=0.1, max_depth=-1,\n",
       "               min_child_samples=20, min_child_weight=0.001, min_split_gain=0.0,\n",
       "               n_estimators=100, n_jobs=-1, num_leaves=31, objective=None,\n",
       "               random_state=None, reg_alpha=0.0, reg_lambda=0.0, silent=True,\n",
       "               subsample=1.0, subsample_for_bin=200000, subsample_freq=0)"
      ]
     },
     "execution_count": 195,
     "metadata": {},
     "output_type": "execute_result"
    }
   ],
   "source": [
    "lgbm.fit(X_kbest_train,y_train)"
   ]
  },
  {
   "cell_type": "code",
   "execution_count": 196,
   "metadata": {},
   "outputs": [],
   "source": [
    "y_pred = lgbm.predict(X_kbest_test)"
   ]
  },
  {
   "cell_type": "code",
   "execution_count": 197,
   "metadata": {},
   "outputs": [
    {
     "name": "stdout",
     "output_type": "stream",
     "text": [
      "              precision    recall  f1-score   support\n",
      "\n",
      "           0       0.95      0.99      0.97    189764\n",
      "           1       0.99      0.91      0.95    118081\n",
      "\n",
      "    accuracy                           0.96    307845\n",
      "   macro avg       0.97      0.95      0.96    307845\n",
      "weighted avg       0.96      0.96      0.96    307845\n",
      "\n",
      "auc: 0.9536440789828806\n",
      "gini: 0.9072881579657612\n"
     ]
    }
   ],
   "source": [
    "clf_report_lgbm = classification_report(y_test, y_pred, output_dict = True)\n",
    "print(classification_report(y_test, y_pred))\n",
    "auc_lgbm = roc_auc_score(y_test, y_pred)\n",
    "print('auc: '+ str(auc_lgbm))\n",
    "gini_lgbm = 2*auc_lgbm - 1\n",
    "print('gini: ' + str(gini_lgbm))"
   ]
  },
  {
   "cell_type": "markdown",
   "metadata": {},
   "source": [
    "#### Making the Confusion Matrix"
   ]
  },
  {
   "cell_type": "code",
   "execution_count": 198,
   "metadata": {},
   "outputs": [
    {
     "name": "stdout",
     "output_type": "stream",
     "text": [
      "[[188402   1362]\n",
      " [ 10100 107981]]\n"
     ]
    },
    {
     "data": {
      "text/plain": [
       "0.9627669768877195"
      ]
     },
     "execution_count": 198,
     "metadata": {},
     "output_type": "execute_result"
    }
   ],
   "source": [
    "cm_lgbm = confusion_matrix(y_test, y_pred)\n",
    "print(cm_lgbm)\n",
    "accuracy_score(y_test, y_pred)"
   ]
  },
  {
   "cell_type": "markdown",
   "metadata": {},
   "source": [
    "### 3.2.10 Summary"
   ]
  },
  {
   "cell_type": "code",
   "execution_count": 199,
   "metadata": {},
   "outputs": [],
   "source": [
    "summary_kbest = {'Logistic Regression':[auc_lr , gini_lr, clf_report_lr['0']['precision'], clf_report_lr['1']['precision'], clf_report_lr['0']['recall'], clf_report_lr['1']['recall'], clf_report_lr['0']['f1-score'], clf_report_lr['1']['f1-score']],\n",
    "          'Naive Bayes':[auc_nb , gini_nb, clf_report_nb['0']['precision'], clf_report_nb['1']['precision'], clf_report_nb['0']['recall'], clf_report_nb['1']['recall'], clf_report_nb['0']['f1-score'], clf_report_nb['1']['f1-score']],\n",
    "          'Decision tree':[auc_tree , gini_tree, clf_report_tree['0']['precision'], clf_report_tree['1']['precision'], clf_report_tree['0']['recall'], clf_report_tree['1']['recall'], clf_report_tree['0']['f1-score'], clf_report_tree['1']['f1-score']],\n",
    "          'Random Forest':[auc_rf , gini_rf, clf_report_rf['0']['precision'], clf_report_rf['1']['precision'], clf_report_rf['0']['recall'], clf_report_rf['1']['recall'], clf_report_rf['0']['f1-score'], clf_report_rf['1']['f1-score']],\n",
    "          'Gradientboosting':[auc_gbc , gini_gbc, clf_report_gbc['0']['precision'], clf_report_gbc['1']['precision'], clf_report_gbc['0']['recall'], clf_report_gbc['1']['recall'], clf_report_gbc['0']['f1-score'], clf_report_gbc['1']['f1-score']],\n",
    "#           'SVM':[auc_svm , gini_svm, clf_report_svm['0']['precision'], clf_report_svm['1']['precision'], clf_report_svm['0']['recall'], clf_report_svm['1']['recall'], clf_report_svm['0']['f1-score'], clf_report_svm['1']['f1-score']],\n",
    "          'KNN':[auc_neigh , gini_neigh, clf_report_neigh['0']['precision'], clf_report_neigh['1']['precision'], clf_report_neigh['0']['recall'], clf_report_neigh['1']['recall'], clf_report_neigh['0']['f1-score'], clf_report_neigh['1']['f1-score']],\n",
    "          'XGBoost':[auc_xgb , gini_xgb, clf_report_xgb['0']['precision'], clf_report_xgb['1']['precision'], clf_report_xgb['0']['recall'], clf_report_xgb['1']['recall'], clf_report_xgb['0']['f1-score'], clf_report_xgb['1']['f1-score']],\n",
    "          'LightGBM':[auc_lgbm , gini_lgbm, clf_report_lgbm['0']['precision'], clf_report_lgbm['1']['precision'], clf_report_lgbm['0']['recall'], clf_report_lgbm['1']['recall'], clf_report_lgbm['0']['f1-score'], clf_report_lgbm['1']['f1-score']]\n",
    "          }"
   ]
  },
  {
   "cell_type": "code",
   "execution_count": 200,
   "metadata": {},
   "outputs": [
    {
     "data": {
      "text/html": [
       "<div>\n",
       "<style scoped>\n",
       "    .dataframe tbody tr th:only-of-type {\n",
       "        vertical-align: middle;\n",
       "    }\n",
       "\n",
       "    .dataframe tbody tr th {\n",
       "        vertical-align: top;\n",
       "    }\n",
       "\n",
       "    .dataframe thead th {\n",
       "        text-align: right;\n",
       "    }\n",
       "</style>\n",
       "<table border=\"1\" class=\"dataframe\">\n",
       "  <thead>\n",
       "    <tr style=\"text-align: right;\">\n",
       "      <th></th>\n",
       "      <th>Logistic Regression</th>\n",
       "      <th>Naive Bayes</th>\n",
       "      <th>Decision tree</th>\n",
       "      <th>Random Forest</th>\n",
       "      <th>Gradientboosting</th>\n",
       "      <th>KNN</th>\n",
       "      <th>XGBoost</th>\n",
       "      <th>LightGBM</th>\n",
       "    </tr>\n",
       "  </thead>\n",
       "  <tbody>\n",
       "    <tr>\n",
       "      <th>auc</th>\n",
       "      <td>0.899884</td>\n",
       "      <td>0.590867</td>\n",
       "      <td>0.760768</td>\n",
       "      <td>0.974711</td>\n",
       "      <td>0.965719</td>\n",
       "      <td>0.719908</td>\n",
       "      <td>0.837191</td>\n",
       "      <td>0.953644</td>\n",
       "    </tr>\n",
       "    <tr>\n",
       "      <th>gini</th>\n",
       "      <td>0.799767</td>\n",
       "      <td>0.181733</td>\n",
       "      <td>0.521535</td>\n",
       "      <td>0.949422</td>\n",
       "      <td>0.931438</td>\n",
       "      <td>0.439816</td>\n",
       "      <td>0.674382</td>\n",
       "      <td>0.907288</td>\n",
       "    </tr>\n",
       "    <tr>\n",
       "      <th>precision_0</th>\n",
       "      <td>0.907704</td>\n",
       "      <td>0.675240</td>\n",
       "      <td>0.777692</td>\n",
       "      <td>0.974362</td>\n",
       "      <td>0.968853</td>\n",
       "      <td>0.762170</td>\n",
       "      <td>0.833080</td>\n",
       "      <td>0.949119</td>\n",
       "    </tr>\n",
       "    <tr>\n",
       "      <th>precision_1</th>\n",
       "      <td>0.922649</td>\n",
       "      <td>0.543086</td>\n",
       "      <td>0.907573</td>\n",
       "      <td>0.985685</td>\n",
       "      <td>0.970720</td>\n",
       "      <td>0.746587</td>\n",
       "      <td>0.987536</td>\n",
       "      <td>0.987544</td>\n",
       "    </tr>\n",
       "    <tr>\n",
       "      <th>recall_0</th>\n",
       "      <td>0.955982</td>\n",
       "      <td>0.800326</td>\n",
       "      <td>0.964714</td>\n",
       "      <td>0.991342</td>\n",
       "      <td>0.982183</td>\n",
       "      <td>0.882233</td>\n",
       "      <td>0.994662</td>\n",
       "      <td>0.992823</td>\n",
       "    </tr>\n",
       "    <tr>\n",
       "      <th>recall_1</th>\n",
       "      <td>0.843785</td>\n",
       "      <td>0.381408</td>\n",
       "      <td>0.556821</td>\n",
       "      <td>0.958080</td>\n",
       "      <td>0.949255</td>\n",
       "      <td>0.557583</td>\n",
       "      <td>0.679720</td>\n",
       "      <td>0.914465</td>\n",
       "    </tr>\n",
       "    <tr>\n",
       "      <th>f1-score_0</th>\n",
       "      <td>0.931218</td>\n",
       "      <td>0.732481</td>\n",
       "      <td>0.861166</td>\n",
       "      <td>0.982778</td>\n",
       "      <td>0.975472</td>\n",
       "      <td>0.817818</td>\n",
       "      <td>0.906729</td>\n",
       "      <td>0.970479</td>\n",
       "    </tr>\n",
       "    <tr>\n",
       "      <th>f1-score_1</th>\n",
       "      <td>0.881457</td>\n",
       "      <td>0.448109</td>\n",
       "      <td>0.690191</td>\n",
       "      <td>0.971686</td>\n",
       "      <td>0.959867</td>\n",
       "      <td>0.638390</td>\n",
       "      <td>0.805213</td>\n",
       "      <td>0.949601</td>\n",
       "    </tr>\n",
       "  </tbody>\n",
       "</table>\n",
       "</div>"
      ],
      "text/plain": [
       "             Logistic Regression  Naive Bayes  Decision tree  Random Forest  \\\n",
       "auc                     0.899884     0.590867       0.760768       0.974711   \n",
       "gini                    0.799767     0.181733       0.521535       0.949422   \n",
       "precision_0             0.907704     0.675240       0.777692       0.974362   \n",
       "precision_1             0.922649     0.543086       0.907573       0.985685   \n",
       "recall_0                0.955982     0.800326       0.964714       0.991342   \n",
       "recall_1                0.843785     0.381408       0.556821       0.958080   \n",
       "f1-score_0              0.931218     0.732481       0.861166       0.982778   \n",
       "f1-score_1              0.881457     0.448109       0.690191       0.971686   \n",
       "\n",
       "             Gradientboosting       KNN   XGBoost  LightGBM  \n",
       "auc                  0.965719  0.719908  0.837191  0.953644  \n",
       "gini                 0.931438  0.439816  0.674382  0.907288  \n",
       "precision_0          0.968853  0.762170  0.833080  0.949119  \n",
       "precision_1          0.970720  0.746587  0.987536  0.987544  \n",
       "recall_0             0.982183  0.882233  0.994662  0.992823  \n",
       "recall_1             0.949255  0.557583  0.679720  0.914465  \n",
       "f1-score_0           0.975472  0.817818  0.906729  0.970479  \n",
       "f1-score_1           0.959867  0.638390  0.805213  0.949601  "
      ]
     },
     "execution_count": 200,
     "metadata": {},
     "output_type": "execute_result"
    }
   ],
   "source": [
    "df_sum_kbest = pd.DataFrame(data=summary_kbest,index = ['auc', 'gini', 'precision_0', 'precision_1', 'recall_0', 'recall_1', 'f1-score_0','f1-score_1'])\n",
    "df_sum_kbest"
   ]
  },
  {
   "cell_type": "markdown",
   "metadata": {},
   "source": [
    "## 3.3 RFE"
   ]
  },
  {
   "cell_type": "code",
   "execution_count": 201,
   "metadata": {},
   "outputs": [],
   "source": [
    "# Create features variable \n",
    "# X = dataset.drop(['target', 'TailNum_level', 'Origin_level', 'FlightNum_level', 'Dest_level'],axis = 1)"
   ]
  },
  {
   "cell_type": "code",
   "execution_count": 202,
   "metadata": {},
   "outputs": [
    {
     "data": {
      "text/plain": [
       "(1539221, 15)"
      ]
     },
     "execution_count": 202,
     "metadata": {},
     "output_type": "execute_result"
    }
   ],
   "source": [
    "X.shape"
   ]
  },
  {
   "cell_type": "markdown",
   "metadata": {},
   "source": [
    "### 3.3.1 Logistic Regression"
   ]
  },
  {
   "cell_type": "code",
   "execution_count": 203,
   "metadata": {},
   "outputs": [],
   "source": [
    "selector = RFE(lr, n_features_to_select=13)\n",
    "selector = selector.fit(X, y)"
   ]
  },
  {
   "cell_type": "code",
   "execution_count": 204,
   "metadata": {},
   "outputs": [
    {
     "data": {
      "text/plain": [
       "(1539221, 13)"
      ]
     },
     "execution_count": 204,
     "metadata": {},
     "output_type": "execute_result"
    }
   ],
   "source": [
    "X_rfe = selector.transform(X)\n",
    "X_rfe.shape"
   ]
  },
  {
   "cell_type": "code",
   "execution_count": 205,
   "metadata": {},
   "outputs": [],
   "source": [
    "# Train, test, split\n",
    "X_rfe_train, X_rfe_test, y_train, y_test = train_test_split(X_rfe,y, test_size = .20, random_state= 0)"
   ]
  },
  {
   "cell_type": "code",
   "execution_count": 206,
   "metadata": {},
   "outputs": [
    {
     "data": {
      "text/plain": [
       "LogisticRegression(C=1.0, class_weight=None, dual=False, fit_intercept=True,\n",
       "                   intercept_scaling=1, l1_ratio=None, max_iter=100,\n",
       "                   multi_class='warn', n_jobs=8, penalty='l2',\n",
       "                   random_state=None, solver='lbfgs', tol=0.0001, verbose=0,\n",
       "                   warm_start=False)"
      ]
     },
     "execution_count": 206,
     "metadata": {},
     "output_type": "execute_result"
    }
   ],
   "source": [
    "lr.fit(X_rfe_train,y_train)"
   ]
  },
  {
   "cell_type": "code",
   "execution_count": 207,
   "metadata": {},
   "outputs": [],
   "source": [
    "# Predict\n",
    "y_pred = lr.predict(X_rfe_test)"
   ]
  },
  {
   "cell_type": "code",
   "execution_count": 208,
   "metadata": {},
   "outputs": [
    {
     "name": "stdout",
     "output_type": "stream",
     "text": [
      "              precision    recall  f1-score   support\n",
      "\n",
      "           0       0.90      0.94      0.92    189764\n",
      "           1       0.90      0.84      0.87    118081\n",
      "\n",
      "    accuracy                           0.90    307845\n",
      "   macro avg       0.90      0.89      0.89    307845\n",
      "weighted avg       0.90      0.90      0.90    307845\n",
      "\n",
      "auc: 0.889432145832189\n",
      "gini: 0.778864291664378\n"
     ]
    }
   ],
   "source": [
    "clf_report_lr = classification_report(y_test, y_pred, output_dict = True)\n",
    "print(classification_report(y_test, y_pred))\n",
    "auc_lr = roc_auc_score(y_test, y_pred)\n",
    "print('auc: '+ str(auc_lr))\n",
    "gini_lr = 2*auc_lr - 1\n",
    "print('gini: ' + str(gini_lr))"
   ]
  },
  {
   "cell_type": "markdown",
   "metadata": {},
   "source": [
    "#### Making the Confusion Matrix"
   ]
  },
  {
   "cell_type": "code",
   "execution_count": 209,
   "metadata": {},
   "outputs": [
    {
     "name": "stdout",
     "output_type": "stream",
     "text": [
      "[[178775  10989]\n",
      " [ 19274  98807]]\n"
     ]
    },
    {
     "data": {
      "text/plain": [
       "0.901694034335461"
      ]
     },
     "execution_count": 209,
     "metadata": {},
     "output_type": "execute_result"
    }
   ],
   "source": [
    "cm_lr = confusion_matrix(y_test, y_pred)\n",
    "print(cm_lr)\n",
    "accuracy_score(y_test, y_pred)"
   ]
  },
  {
   "cell_type": "markdown",
   "metadata": {},
   "source": [
    "### 3.3.2 Naives Bayes "
   ]
  },
  {
   "cell_type": "code",
   "execution_count": 210,
   "metadata": {},
   "outputs": [],
   "source": [
    "selector = RFE(nb, n_features_to_select=16)\n",
    "selector = selector.fit(X, y)"
   ]
  },
  {
   "cell_type": "code",
   "execution_count": 211,
   "metadata": {},
   "outputs": [
    {
     "data": {
      "text/plain": [
       "(1539221, 15)"
      ]
     },
     "execution_count": 211,
     "metadata": {},
     "output_type": "execute_result"
    }
   ],
   "source": [
    "# X_rfe.shape\n",
    "X.shape"
   ]
  },
  {
   "cell_type": "code",
   "execution_count": 212,
   "metadata": {},
   "outputs": [
    {
     "data": {
      "text/plain": [
       "(1539221, 15)"
      ]
     },
     "execution_count": 212,
     "metadata": {},
     "output_type": "execute_result"
    }
   ],
   "source": [
    "X_rfe = selector.transform(X)\n",
    "X_rfe.shape"
   ]
  },
  {
   "cell_type": "code",
   "execution_count": 213,
   "metadata": {},
   "outputs": [],
   "source": [
    "# Train, test, split\n",
    "X_rfe_train, X_rfe_test, y_train, y_test = train_test_split(X_rfe,y, test_size = .20, random_state= 0)"
   ]
  },
  {
   "cell_type": "code",
   "execution_count": 214,
   "metadata": {},
   "outputs": [],
   "source": [
    "# X_rfe_train = scaler.transform(X_rfe_train)\n",
    "# X_rfe_test = scaler.transform(X_rfe_test)"
   ]
  },
  {
   "cell_type": "code",
   "execution_count": 215,
   "metadata": {},
   "outputs": [
    {
     "data": {
      "text/plain": [
       "(1231376, 15)"
      ]
     },
     "execution_count": 215,
     "metadata": {},
     "output_type": "execute_result"
    }
   ],
   "source": [
    "X_rfe_train.shape"
   ]
  },
  {
   "cell_type": "code",
   "execution_count": 216,
   "metadata": {},
   "outputs": [
    {
     "data": {
      "text/plain": [
       "GaussianNB(priors=None, var_smoothing=1e-09)"
      ]
     },
     "execution_count": 216,
     "metadata": {},
     "output_type": "execute_result"
    }
   ],
   "source": [
    "nb.fit(X_rfe_train,y_train)"
   ]
  },
  {
   "cell_type": "code",
   "execution_count": 217,
   "metadata": {},
   "outputs": [],
   "source": [
    "# Predict\n",
    "y_pred = nb.predict(X_rfe_test)"
   ]
  },
  {
   "cell_type": "code",
   "execution_count": 218,
   "metadata": {},
   "outputs": [
    {
     "name": "stdout",
     "output_type": "stream",
     "text": [
      "              precision    recall  f1-score   support\n",
      "\n",
      "           0       0.68      0.80      0.73    189764\n",
      "           1       0.54      0.38      0.45    118081\n",
      "\n",
      "    accuracy                           0.64    307845\n",
      "   macro avg       0.61      0.59      0.59    307845\n",
      "weighted avg       0.62      0.64      0.62    307845\n",
      "\n",
      "auc: 0.5910822312250015\n",
      "gini: 0.18216446245000295\n"
     ]
    }
   ],
   "source": [
    "clf_report_nb = classification_report(y_test, y_pred, output_dict = True)\n",
    "print(classification_report(y_test, y_pred))\n",
    "auc_nb = roc_auc_score(y_test, y_pred)\n",
    "print('auc: '+ str(auc_nb))\n",
    "gini_nb = 2*auc_nb - 1\n",
    "print('gini: ' + str(gini_nb))"
   ]
  },
  {
   "cell_type": "markdown",
   "metadata": {},
   "source": [
    "#### Making the Confusion Matrix"
   ]
  },
  {
   "cell_type": "code",
   "execution_count": 219,
   "metadata": {},
   "outputs": [
    {
     "name": "stdout",
     "output_type": "stream",
     "text": [
      "[[151725  38039]\n",
      " [ 72901  45180]]\n"
     ]
    },
    {
     "data": {
      "text/plain": [
       "0.6396238366710519"
      ]
     },
     "execution_count": 219,
     "metadata": {},
     "output_type": "execute_result"
    }
   ],
   "source": [
    "cm_nb = confusion_matrix(y_test, y_pred)\n",
    "print(cm_nb)\n",
    "accuracy_score(y_test, y_pred)"
   ]
  },
  {
   "cell_type": "markdown",
   "metadata": {},
   "source": [
    "### 3.3.3 Decision Tree"
   ]
  },
  {
   "cell_type": "code",
   "execution_count": 220,
   "metadata": {},
   "outputs": [],
   "source": [
    "selector = RFE(tree, n_features_to_select=13)\n",
    "selector = selector.fit(X, y)"
   ]
  },
  {
   "cell_type": "code",
   "execution_count": 221,
   "metadata": {},
   "outputs": [
    {
     "data": {
      "text/plain": [
       "(1539221, 15)"
      ]
     },
     "execution_count": 221,
     "metadata": {},
     "output_type": "execute_result"
    }
   ],
   "source": [
    "X.shape"
   ]
  },
  {
   "cell_type": "code",
   "execution_count": 222,
   "metadata": {},
   "outputs": [],
   "source": [
    "X_rfe = selector.transform(X)"
   ]
  },
  {
   "cell_type": "code",
   "execution_count": 223,
   "metadata": {},
   "outputs": [
    {
     "data": {
      "text/plain": [
       "(1539221, 13)"
      ]
     },
     "execution_count": 223,
     "metadata": {},
     "output_type": "execute_result"
    }
   ],
   "source": [
    "X_rfe.shape"
   ]
  },
  {
   "cell_type": "code",
   "execution_count": 224,
   "metadata": {},
   "outputs": [],
   "source": [
    "# Train, test, split\n",
    "X_rfe_train, X_rfe_test, y_train, y_test = train_test_split(X_rfe,y, test_size = .20, random_state= 0)"
   ]
  },
  {
   "cell_type": "code",
   "execution_count": 225,
   "metadata": {},
   "outputs": [
    {
     "data": {
      "text/plain": [
       "(1231376, 13)"
      ]
     },
     "execution_count": 225,
     "metadata": {},
     "output_type": "execute_result"
    }
   ],
   "source": [
    "X_rfe_train.shape"
   ]
  },
  {
   "cell_type": "code",
   "execution_count": 226,
   "metadata": {},
   "outputs": [],
   "source": [
    "# X_rfe_train = scaler.transform(X_rfe_train)\n",
    "# X_rfe_test = scaler.transform(X_rfe_test)"
   ]
  },
  {
   "cell_type": "code",
   "execution_count": 227,
   "metadata": {},
   "outputs": [
    {
     "data": {
      "text/plain": [
       "DecisionTreeClassifier(class_weight=None, criterion='gini', max_depth=10,\n",
       "                       max_features=None, max_leaf_nodes=None,\n",
       "                       min_impurity_decrease=0.0, min_impurity_split=None,\n",
       "                       min_samples_leaf=1, min_samples_split=2,\n",
       "                       min_weight_fraction_leaf=0.0, presort=False,\n",
       "                       random_state=None, splitter='best')"
      ]
     },
     "execution_count": 227,
     "metadata": {},
     "output_type": "execute_result"
    }
   ],
   "source": [
    "tree.fit(X_rfe_train,y_train)"
   ]
  },
  {
   "cell_type": "code",
   "execution_count": 228,
   "metadata": {},
   "outputs": [],
   "source": [
    "# Predict\n",
    "y_pred = tree.predict(X_rfe_test)"
   ]
  },
  {
   "cell_type": "code",
   "execution_count": 229,
   "metadata": {},
   "outputs": [
    {
     "name": "stdout",
     "output_type": "stream",
     "text": [
      "              precision    recall  f1-score   support\n",
      "\n",
      "           0       0.78      0.96      0.86    189764\n",
      "           1       0.91      0.56      0.69    118081\n",
      "\n",
      "    accuracy                           0.81    307845\n",
      "   macro avg       0.84      0.76      0.78    307845\n",
      "weighted avg       0.83      0.81      0.80    307845\n",
      "\n",
      "auc: 0.7619317911392565\n",
      "gini: 0.5238635822785129\n"
     ]
    }
   ],
   "source": [
    "clf_report_tree = classification_report(y_test, y_pred, output_dict = True)\n",
    "print(classification_report(y_test, y_pred))\n",
    "auc_tree = roc_auc_score(y_test, y_pred)\n",
    "print('auc: '+ str(auc_tree))\n",
    "gini_tree = 2*auc_tree - 1\n",
    "print('gini: ' + str(gini_tree))"
   ]
  },
  {
   "cell_type": "markdown",
   "metadata": {},
   "source": [
    "#### Making the Confusion Matrix"
   ]
  },
  {
   "cell_type": "code",
   "execution_count": 230,
   "metadata": {},
   "outputs": [
    {
     "name": "stdout",
     "output_type": "stream",
     "text": [
      "[[183092   6672]\n",
      " [ 52071  66010]]\n"
     ]
    },
    {
     "data": {
      "text/plain": [
       "0.8091799444525655"
      ]
     },
     "execution_count": 230,
     "metadata": {},
     "output_type": "execute_result"
    }
   ],
   "source": [
    "cm_tree = confusion_matrix(y_test, y_pred)\n",
    "print(cm_tree)\n",
    "accuracy_score(y_test, y_pred)"
   ]
  },
  {
   "cell_type": "markdown",
   "metadata": {},
   "source": [
    "### 3.3.4 Random Forest"
   ]
  },
  {
   "cell_type": "code",
   "execution_count": 231,
   "metadata": {},
   "outputs": [],
   "source": [
    "selector = RFE(rf, n_features_to_select=13)\n",
    "selector = selector.fit(X, y)"
   ]
  },
  {
   "cell_type": "code",
   "execution_count": 232,
   "metadata": {},
   "outputs": [],
   "source": [
    "X_rfe = selector.transform(X)"
   ]
  },
  {
   "cell_type": "code",
   "execution_count": 233,
   "metadata": {},
   "outputs": [
    {
     "data": {
      "text/plain": [
       "(1539221, 13)"
      ]
     },
     "execution_count": 233,
     "metadata": {},
     "output_type": "execute_result"
    }
   ],
   "source": [
    "X_rfe.shape"
   ]
  },
  {
   "cell_type": "code",
   "execution_count": 234,
   "metadata": {},
   "outputs": [],
   "source": [
    "# Train, test, split\n",
    "X_rfe_train, X_rfe_test, y_train, y_test = train_test_split(X_rfe,y, test_size = .20, random_state= 0)"
   ]
  },
  {
   "cell_type": "code",
   "execution_count": 235,
   "metadata": {},
   "outputs": [],
   "source": [
    "# X_rfe_train = scaler.transform(X_rfe_train)\n",
    "# X_rfe_test = scaler.transform(X_rfe_test)"
   ]
  },
  {
   "cell_type": "code",
   "execution_count": 236,
   "metadata": {},
   "outputs": [
    {
     "data": {
      "text/plain": [
       "(1231376, 13)"
      ]
     },
     "execution_count": 236,
     "metadata": {},
     "output_type": "execute_result"
    }
   ],
   "source": [
    "X_rfe_train.shape"
   ]
  },
  {
   "cell_type": "code",
   "execution_count": 237,
   "metadata": {},
   "outputs": [
    {
     "data": {
      "text/plain": [
       "RandomForestClassifier(bootstrap=True, class_weight=None, criterion='gini',\n",
       "                       max_depth=None, max_features='auto', max_leaf_nodes=None,\n",
       "                       min_impurity_decrease=0.0, min_impurity_split=None,\n",
       "                       min_samples_leaf=1, min_samples_split=2,\n",
       "                       min_weight_fraction_leaf=0.0, n_estimators=100, n_jobs=8,\n",
       "                       oob_score=False, random_state=0, verbose=0,\n",
       "                       warm_start=False)"
      ]
     },
     "execution_count": 237,
     "metadata": {},
     "output_type": "execute_result"
    }
   ],
   "source": [
    "rf.fit(X_rfe_train,y_train)"
   ]
  },
  {
   "cell_type": "code",
   "execution_count": 238,
   "metadata": {},
   "outputs": [],
   "source": [
    "# Predict\n",
    "y_pred = rf.predict(X_rfe_test)"
   ]
  },
  {
   "cell_type": "code",
   "execution_count": 239,
   "metadata": {},
   "outputs": [
    {
     "name": "stdout",
     "output_type": "stream",
     "text": [
      "              precision    recall  f1-score   support\n",
      "\n",
      "           0       0.96      0.99      0.98    189764\n",
      "           1       0.99      0.94      0.96    118081\n",
      "\n",
      "    accuracy                           0.97    307845\n",
      "   macro avg       0.98      0.97      0.97    307845\n",
      "weighted avg       0.97      0.97      0.97    307845\n",
      "\n",
      "auc: 0.9659513440218428\n",
      "gini: 0.9319026880436856\n"
     ]
    }
   ],
   "source": [
    "clf_report_rf = classification_report(y_test, y_pred, output_dict = True)\n",
    "print(classification_report(y_test, y_pred))\n",
    "auc_rf = roc_auc_score(y_test, y_pred)\n",
    "print('auc: '+ str(auc_rf))\n",
    "gini_rf = 2*auc_rf - 1\n",
    "print('gini: ' + str(gini_rf))"
   ]
  },
  {
   "cell_type": "markdown",
   "metadata": {},
   "source": [
    "#### Making the Confusion Matrix"
   ]
  },
  {
   "cell_type": "code",
   "execution_count": 240,
   "metadata": {},
   "outputs": [
    {
     "name": "stdout",
     "output_type": "stream",
     "text": [
      "[[188308   1456]\n",
      " [  7135 110946]]\n"
     ]
    },
    {
     "data": {
      "text/plain": [
       "0.9720930987997206"
      ]
     },
     "execution_count": 240,
     "metadata": {},
     "output_type": "execute_result"
    }
   ],
   "source": [
    "cm_rf = confusion_matrix(y_test, y_pred)\n",
    "print(cm_rf)\n",
    "accuracy_score(y_test, y_pred)"
   ]
  },
  {
   "cell_type": "markdown",
   "metadata": {},
   "source": [
    "### 3.3.5 Gradient Boosting"
   ]
  },
  {
   "cell_type": "code",
   "execution_count": 241,
   "metadata": {},
   "outputs": [],
   "source": [
    "selector = RFE(gbc, n_features_to_select=13)\n",
    "selector = selector.fit(X, y)"
   ]
  },
  {
   "cell_type": "code",
   "execution_count": 242,
   "metadata": {},
   "outputs": [],
   "source": [
    "X_rfe = selector.transform(X)"
   ]
  },
  {
   "cell_type": "code",
   "execution_count": 243,
   "metadata": {},
   "outputs": [
    {
     "data": {
      "text/plain": [
       "(1539221, 13)"
      ]
     },
     "execution_count": 243,
     "metadata": {},
     "output_type": "execute_result"
    }
   ],
   "source": [
    "X_rfe.shape"
   ]
  },
  {
   "cell_type": "code",
   "execution_count": 244,
   "metadata": {},
   "outputs": [],
   "source": [
    "# Train, test, split\n",
    "X_rfe_train, X_rfe_test, y_train, y_test = train_test_split(X_rfe,y, test_size = .20, random_state= 0)"
   ]
  },
  {
   "cell_type": "code",
   "execution_count": 245,
   "metadata": {},
   "outputs": [],
   "source": [
    "# X_rfe_train = scaler.transform(X_rfe_train)\n",
    "# X_rfe_test = scaler.transform(X_rfe_test)"
   ]
  },
  {
   "cell_type": "code",
   "execution_count": 246,
   "metadata": {},
   "outputs": [
    {
     "data": {
      "text/plain": [
       "(1231376, 13)"
      ]
     },
     "execution_count": 246,
     "metadata": {},
     "output_type": "execute_result"
    }
   ],
   "source": [
    "X_rfe_train.shape"
   ]
  },
  {
   "cell_type": "code",
   "execution_count": 247,
   "metadata": {},
   "outputs": [
    {
     "data": {
      "text/plain": [
       "GradientBoostingClassifier(criterion='friedman_mse', init=None,\n",
       "                           learning_rate=1.0, loss='deviance', max_depth=3,\n",
       "                           max_features=None, max_leaf_nodes=None,\n",
       "                           min_impurity_decrease=0.0, min_impurity_split=None,\n",
       "                           min_samples_leaf=1, min_samples_split=2,\n",
       "                           min_weight_fraction_leaf=0.0, n_estimators=100,\n",
       "                           n_iter_no_change=None, presort='auto',\n",
       "                           random_state=None, subsample=1.0, tol=0.0001,\n",
       "                           validation_fraction=0.1, verbose=0,\n",
       "                           warm_start=False)"
      ]
     },
     "execution_count": 247,
     "metadata": {},
     "output_type": "execute_result"
    }
   ],
   "source": [
    "gbc.fit(X_rfe_train,y_train)"
   ]
  },
  {
   "cell_type": "code",
   "execution_count": 248,
   "metadata": {},
   "outputs": [],
   "source": [
    "# Predict\n",
    "y_pred = gbc.predict(X_rfe_test)"
   ]
  },
  {
   "cell_type": "code",
   "execution_count": 249,
   "metadata": {},
   "outputs": [
    {
     "name": "stdout",
     "output_type": "stream",
     "text": [
      "              precision    recall  f1-score   support\n",
      "\n",
      "           0       0.97      0.98      0.98    189764\n",
      "           1       0.97      0.96      0.96    118081\n",
      "\n",
      "    accuracy                           0.97    307845\n",
      "   macro avg       0.97      0.97      0.97    307845\n",
      "weighted avg       0.97      0.97      0.97    307845\n",
      "\n",
      "auc: 0.9694922713439189\n",
      "gini: 0.9389845426878378\n"
     ]
    }
   ],
   "source": [
    "clf_report_gbc = classification_report(y_test, y_pred, output_dict = True)\n",
    "print(classification_report(y_test, y_pred))\n",
    "auc_gbc = roc_auc_score(y_test, y_pred)\n",
    "print('auc: '+ str(auc_gbc))\n",
    "gini_gbc = 2*auc_gbc - 1\n",
    "print('gini: ' + str(gini_gbc))"
   ]
  },
  {
   "cell_type": "markdown",
   "metadata": {},
   "source": [
    "#### Making the Confusion Matrix"
   ]
  },
  {
   "cell_type": "code",
   "execution_count": 250,
   "metadata": {},
   "outputs": [
    {
     "name": "stdout",
     "output_type": "stream",
     "text": [
      "[[186404   3360]\n",
      " [  5114 112967]]\n"
     ]
    },
    {
     "data": {
      "text/plain": [
       "0.9724731601942536"
      ]
     },
     "execution_count": 250,
     "metadata": {},
     "output_type": "execute_result"
    }
   ],
   "source": [
    "cm_gbc = confusion_matrix(y_test, y_pred)\n",
    "print(cm_gbc)\n",
    "accuracy_score(y_test, y_pred)"
   ]
  },
  {
   "cell_type": "markdown",
   "metadata": {},
   "source": [
    "### 3.3.6 SVM"
   ]
  },
  {
   "cell_type": "code",
   "execution_count": 251,
   "metadata": {},
   "outputs": [],
   "source": [
    "# Predict\n",
    "# y_pred = gbc.predict(X_rfe_test)"
   ]
  },
  {
   "cell_type": "code",
   "execution_count": 252,
   "metadata": {},
   "outputs": [],
   "source": [
    "# clf_report_svm = classification_report(y_test, y_pred, output_dict = True)\n",
    "# print(classification_report(y_test, y_pred))\n",
    "# auc_svm = roc_auc_score(y_test, y_pred)\n",
    "# print('auc: '+ str(auc_svm))\n",
    "# gini_svm = 2*auc_svm - 1\n",
    "# print('gini: ' + str(gini_svm))"
   ]
  },
  {
   "cell_type": "markdown",
   "metadata": {},
   "source": [
    "#### Making the Confusion Matrix"
   ]
  },
  {
   "cell_type": "code",
   "execution_count": 253,
   "metadata": {},
   "outputs": [],
   "source": [
    "# cm_svm = confusion_matrix(y_test, y_pred)\n",
    "# print(cm_svm)\n",
    "# accuracy_score(y_test, y_pred)"
   ]
  },
  {
   "cell_type": "markdown",
   "metadata": {},
   "source": [
    "### 3.3.7 KNN"
   ]
  },
  {
   "cell_type": "code",
   "execution_count": 256,
   "metadata": {},
   "outputs": [],
   "source": [
    "selector = RFE(neigh, n_features_to_select=15)\n",
    "selector = selector.fit(X,y)"
   ]
  },
  {
   "cell_type": "code",
   "execution_count": 257,
   "metadata": {},
   "outputs": [
    {
     "data": {
      "text/plain": [
       "(1539221, 15)"
      ]
     },
     "execution_count": 257,
     "metadata": {},
     "output_type": "execute_result"
    }
   ],
   "source": [
    "X.shape"
   ]
  },
  {
   "cell_type": "code",
   "execution_count": 258,
   "metadata": {},
   "outputs": [],
   "source": [
    "X_rfe = selector.transform(X)"
   ]
  },
  {
   "cell_type": "code",
   "execution_count": 259,
   "metadata": {},
   "outputs": [
    {
     "data": {
      "text/plain": [
       "(1539221, 15)"
      ]
     },
     "execution_count": 259,
     "metadata": {},
     "output_type": "execute_result"
    }
   ],
   "source": [
    "X_rfe.shape"
   ]
  },
  {
   "cell_type": "code",
   "execution_count": 260,
   "metadata": {},
   "outputs": [],
   "source": [
    "# Train, test, split\n",
    "X_rfe_train, X_rfe_test, y_train, y_test = train_test_split(X_rfe,y, test_size = .20, random_state= 0)"
   ]
  },
  {
   "cell_type": "code",
   "execution_count": 261,
   "metadata": {},
   "outputs": [],
   "source": [
    "# X_rfe_train = scaler.transform(X_rfe_train)\n",
    "# X_rfe_test = scaler.transform(X_rfe_test)"
   ]
  },
  {
   "cell_type": "code",
   "execution_count": 262,
   "metadata": {},
   "outputs": [
    {
     "data": {
      "text/plain": [
       "(1231376, 15)"
      ]
     },
     "execution_count": 262,
     "metadata": {},
     "output_type": "execute_result"
    }
   ],
   "source": [
    "X_rfe_train.shape"
   ]
  },
  {
   "cell_type": "code",
   "execution_count": 264,
   "metadata": {},
   "outputs": [
    {
     "data": {
      "text/plain": [
       "KNeighborsClassifier(algorithm='auto', leaf_size=30, metric='minkowski',\n",
       "                     metric_params=None, n_jobs=8, n_neighbors=5, p=2,\n",
       "                     weights='uniform')"
      ]
     },
     "execution_count": 264,
     "metadata": {},
     "output_type": "execute_result"
    }
   ],
   "source": [
    "neigh.fit(X_rfe_train,y_train)"
   ]
  },
  {
   "cell_type": "code",
   "execution_count": 265,
   "metadata": {},
   "outputs": [],
   "source": [
    "# Predict\n",
    "y_pred = neigh.predict(X_rfe_test)"
   ]
  },
  {
   "cell_type": "code",
   "execution_count": 266,
   "metadata": {},
   "outputs": [
    {
     "name": "stdout",
     "output_type": "stream",
     "text": [
      "              precision    recall  f1-score   support\n",
      "\n",
      "           0       0.80      0.92      0.86    189764\n",
      "           1       0.83      0.64      0.72    118081\n",
      "\n",
      "    accuracy                           0.81    307845\n",
      "   macro avg       0.82      0.78      0.79    307845\n",
      "weighted avg       0.82      0.81      0.81    307845\n",
      "\n",
      "auc: 0.7799438986617795\n",
      "gini: 0.559887797323559\n"
     ]
    }
   ],
   "source": [
    "clf_report_neigh = classification_report(y_test, y_pred, output_dict = True)\n",
    "print(classification_report(y_test, y_pred))\n",
    "auc_neigh = roc_auc_score(y_test, y_pred)\n",
    "print('auc: '+ str(auc_neigh))\n",
    "gini_neigh = 2*auc_neigh - 1\n",
    "print('gini: ' + str(gini_neigh))"
   ]
  },
  {
   "cell_type": "markdown",
   "metadata": {},
   "source": [
    "#### Making the Confusion Matrix"
   ]
  },
  {
   "cell_type": "code",
   "execution_count": 267,
   "metadata": {},
   "outputs": [
    {
     "name": "stdout",
     "output_type": "stream",
     "text": [
      "[[174759  15005]\n",
      " [ 42632  75449]]\n"
     ]
    },
    {
     "data": {
      "text/plain": [
       "0.8127726615666975"
      ]
     },
     "execution_count": 267,
     "metadata": {},
     "output_type": "execute_result"
    }
   ],
   "source": [
    "cm = confusion_matrix(y_test, y_pred)\n",
    "print(cm)\n",
    "accuracy_score(y_test, y_pred)"
   ]
  },
  {
   "cell_type": "markdown",
   "metadata": {},
   "source": [
    "### 3.3.8 XGBoost"
   ]
  },
  {
   "cell_type": "code",
   "execution_count": 268,
   "metadata": {},
   "outputs": [],
   "source": [
    "selector = RFE(xgb, n_features_to_select=13)\n",
    "selector = selector.fit(X,y)"
   ]
  },
  {
   "cell_type": "code",
   "execution_count": 269,
   "metadata": {},
   "outputs": [],
   "source": [
    "X_rfe = selector.transform(X)"
   ]
  },
  {
   "cell_type": "code",
   "execution_count": 270,
   "metadata": {},
   "outputs": [],
   "source": [
    "# Train, test, split\n",
    "X_rfe_train, X_rfe_test, y_train, y_test = train_test_split(X_rfe,y, test_size = .20, random_state= 0)"
   ]
  },
  {
   "cell_type": "code",
   "execution_count": 271,
   "metadata": {},
   "outputs": [
    {
     "data": {
      "text/plain": [
       "XGBClassifier(base_score=0.5, booster='gbtree', colsample_bylevel=1,\n",
       "              colsample_bynode=1, colsample_bytree=1, gamma=0,\n",
       "              learning_rate=0.1, max_delta_step=0, max_depth=3,\n",
       "              min_child_weight=1, missing=None, n_estimators=100, n_jobs=1,\n",
       "              nthread=8, objective='binary:logistic', random_state=0,\n",
       "              reg_alpha=0, reg_lambda=1, scale_pos_weight=1, seed=None,\n",
       "              silent=None, subsample=1, verbosity=1)"
      ]
     },
     "execution_count": 271,
     "metadata": {},
     "output_type": "execute_result"
    }
   ],
   "source": [
    "xgb.fit(X_rfe_train,y_train)"
   ]
  },
  {
   "cell_type": "code",
   "execution_count": 272,
   "metadata": {},
   "outputs": [],
   "source": [
    "y_pred = xgb.predict(X_rfe_test)"
   ]
  },
  {
   "cell_type": "code",
   "execution_count": 273,
   "metadata": {},
   "outputs": [
    {
     "name": "stdout",
     "output_type": "stream",
     "text": [
      "              precision    recall  f1-score   support\n",
      "\n",
      "           0       0.84      0.99      0.91    189764\n",
      "           1       0.99      0.69      0.81    118081\n",
      "\n",
      "    accuracy                           0.88    307845\n",
      "   macro avg       0.91      0.84      0.86    307845\n",
      "weighted avg       0.89      0.88      0.87    307845\n",
      "\n",
      "auc: 0.8407460915035788\n",
      "gini: 0.6814921830071576\n"
     ]
    }
   ],
   "source": [
    "clf_report_xgboost = classification_report(y_test, y_pred, output_dict = True)\n",
    "print(classification_report(y_test, y_pred))\n",
    "auc_xgb = roc_auc_score(y_test, y_pred)\n",
    "print('auc: '+ str(auc_xgb))\n",
    "gini_xgb = 2*auc_xgb - 1\n",
    "print('gini: ' + str(gini_xgb))"
   ]
  },
  {
   "cell_type": "markdown",
   "metadata": {},
   "source": [
    "#### Making the Confusion Matrix"
   ]
  },
  {
   "cell_type": "code",
   "execution_count": 274,
   "metadata": {},
   "outputs": [
    {
     "name": "stdout",
     "output_type": "stream",
     "text": [
      "[[188662   1102]\n",
      " [ 36924  81157]]\n"
     ]
    },
    {
     "data": {
      "text/plain": [
       "0.8764767983887995"
      ]
     },
     "execution_count": 274,
     "metadata": {},
     "output_type": "execute_result"
    }
   ],
   "source": [
    "cm_xgb = confusion_matrix(y_test, y_pred)\n",
    "print(cm_xgb)\n",
    "accuracy_score(y_test, y_pred)"
   ]
  },
  {
   "cell_type": "markdown",
   "metadata": {},
   "source": [
    "### Tune xgboost"
   ]
  },
  {
   "cell_type": "code",
   "execution_count": 275,
   "metadata": {},
   "outputs": [],
   "source": [
    "# params = {'gamma':(1,2,3,4,5),'max_depth': (8, 10), 'learning_rate': (0.1, 0.08), 'min_child_weight': (100,200),\n",
    "#          'reg_lambda':(1,2), 'reg_alpha': (0.1, 0.15)}\n",
    "# model = XGBClassifier(nthread = -1, colsample_bytree=0.8)\n",
    "# tune = GridSearchCV(estimator=model, param_grid=params, n_jobs = -1, cv = 5)\n",
    "# tune.fit(X_train, y_train)\n",
    "\n",
    "# best_params = tune.best_params_\n",
    "# score = tune.best_score_\n",
    "# print('Config params: ', best_params)\n",
    "# print('Score: %2.4f' % score)"
   ]
  },
  {
   "cell_type": "markdown",
   "metadata": {},
   "source": [
    "### 3.3.9 LightGBM"
   ]
  },
  {
   "cell_type": "code",
   "execution_count": 276,
   "metadata": {},
   "outputs": [],
   "source": [
    "selector = RFE(lgbm, n_features_to_select=13)\n",
    "selector = selector.fit(X,y)"
   ]
  },
  {
   "cell_type": "code",
   "execution_count": 277,
   "metadata": {},
   "outputs": [],
   "source": [
    "X_rfe = selector.transform(X)"
   ]
  },
  {
   "cell_type": "code",
   "execution_count": 278,
   "metadata": {},
   "outputs": [],
   "source": [
    "# Train, test, split\n",
    "X_rfe_train, X_rfe_test, y_train, y_test = train_test_split(X_rfe,y, test_size = .20, random_state= 0)"
   ]
  },
  {
   "cell_type": "code",
   "execution_count": 279,
   "metadata": {},
   "outputs": [
    {
     "data": {
      "text/plain": [
       "LGBMClassifier(boosting_type='gbdt', class_weight=None, colsample_bytree=1.0,\n",
       "               importance_type='split', learning_rate=0.1, max_depth=-1,\n",
       "               min_child_samples=20, min_child_weight=0.001, min_split_gain=0.0,\n",
       "               n_estimators=100, n_jobs=-1, num_leaves=31, objective=None,\n",
       "               random_state=None, reg_alpha=0.0, reg_lambda=0.0, silent=True,\n",
       "               subsample=1.0, subsample_for_bin=200000, subsample_freq=0)"
      ]
     },
     "execution_count": 279,
     "metadata": {},
     "output_type": "execute_result"
    }
   ],
   "source": [
    "lgbm.fit(X_rfe_train,y_train)"
   ]
  },
  {
   "cell_type": "code",
   "execution_count": 281,
   "metadata": {},
   "outputs": [],
   "source": [
    "y_pred = lgbm.predict(X_rfe_test)"
   ]
  },
  {
   "cell_type": "code",
   "execution_count": 282,
   "metadata": {},
   "outputs": [
    {
     "name": "stdout",
     "output_type": "stream",
     "text": [
      "              precision    recall  f1-score   support\n",
      "\n",
      "           0       0.96      0.99      0.97    189764\n",
      "           1       0.98      0.93      0.96    118081\n",
      "\n",
      "    accuracy                           0.97    307845\n",
      "   macro avg       0.97      0.96      0.96    307845\n",
      "weighted avg       0.97      0.97      0.97    307845\n",
      "\n",
      "auc: 0.9600016148531985\n",
      "gini: 0.9200032297063969\n"
     ]
    }
   ],
   "source": [
    "clf_report_lgbm = classification_report(y_test, y_pred, output_dict = True)\n",
    "print(classification_report(y_test, y_pred))\n",
    "auc_lgbm = roc_auc_score(y_test, y_pred)\n",
    "print('auc: '+ str(auc_lgbm))\n",
    "gini_lgbm = 2*auc_lgbm - 1\n",
    "print('gini: ' + str(gini_lgbm))"
   ]
  },
  {
   "cell_type": "markdown",
   "metadata": {},
   "source": [
    "#### Making the Confusion Matrix"
   ]
  },
  {
   "cell_type": "code",
   "execution_count": 283,
   "metadata": {},
   "outputs": [
    {
     "name": "stdout",
     "output_type": "stream",
     "text": [
      "[[187935   1829]\n",
      " [  8308 109773]]\n"
     ]
    },
    {
     "data": {
      "text/plain": [
       "0.9670710909711056"
      ]
     },
     "execution_count": 283,
     "metadata": {},
     "output_type": "execute_result"
    }
   ],
   "source": [
    "cm_lgbm = confusion_matrix(y_test, y_pred)\n",
    "print(cm_lgbm)\n",
    "accuracy_score(y_test, y_pred)"
   ]
  },
  {
   "cell_type": "markdown",
   "metadata": {},
   "source": [
    "### 3.3.10 Summary"
   ]
  },
  {
   "cell_type": "code",
   "execution_count": 284,
   "metadata": {},
   "outputs": [],
   "source": [
    "summary_rfe = {'Logistic Regression':[auc_lr , gini_lr, clf_report_lr['0']['precision'], clf_report_lr['1']['precision'], clf_report_lr['0']['recall'], clf_report_lr['1']['recall'], clf_report_lr['0']['f1-score'], clf_report_lr['1']['f1-score']],\n",
    "          'Naive Bayes':[auc_nb , gini_nb, clf_report_nb['0']['precision'], clf_report_nb['1']['precision'], clf_report_nb['0']['recall'], clf_report_nb['1']['recall'], clf_report_nb['0']['f1-score'], clf_report_nb['1']['f1-score']],\n",
    "          'Decision tree':[auc_tree , gini_tree, clf_report_tree['0']['precision'], clf_report_tree['1']['precision'], clf_report_tree['0']['recall'], clf_report_tree['1']['recall'], clf_report_tree['0']['f1-score'], clf_report_tree['1']['f1-score']],\n",
    "          'Random Forest':[auc_rf , gini_rf, clf_report_rf['0']['precision'], clf_report_rf['1']['precision'], clf_report_rf['0']['recall'], clf_report_rf['1']['recall'], clf_report_rf['0']['f1-score'], clf_report_rf['1']['f1-score']],\n",
    "          'Gradientboosting':[auc_gbc , gini_gbc, clf_report_gbc['0']['precision'], clf_report_gbc['1']['precision'], clf_report_gbc['0']['recall'], clf_report_gbc['1']['recall'], clf_report_gbc['0']['f1-score'], clf_report_gbc['1']['f1-score']],\n",
    "#           'SVM':[auc_svm , gini_svm, clf_report_svm['0']['precision'], clf_report_svm['1']['precision'], clf_report_svm['0']['recall'], clf_report_svm['1']['recall'], clf_report_svm['0']['f1-score'], clf_report_svm['1']['f1-score']],\n",
    "          'KNN':[auc_neigh , gini_neigh, clf_report_neigh['0']['precision'], clf_report_neigh['1']['precision'], clf_report_neigh['0']['recall'], clf_report_neigh['1']['recall'], clf_report_neigh['0']['f1-score'], clf_report_neigh['1']['f1-score']],\n",
    "          'XGBoost':[auc_xgb , gini_xgb, clf_report_xgb['0']['precision'], clf_report_xgb['1']['precision'], clf_report_xgb['0']['recall'], clf_report_xgb['1']['recall'], clf_report_xgb['0']['f1-score'], clf_report_xgb['1']['f1-score']],\n",
    "          'LightGBM':[auc_lgbm , gini_lgbm, clf_report_lgbm['0']['precision'], clf_report_lgbm['1']['precision'], clf_report_lgbm['0']['recall'], clf_report_lgbm['1']['recall'], clf_report_lgbm['0']['f1-score'], clf_report_lgbm['1']['f1-score']]\n",
    "          }"
   ]
  },
  {
   "cell_type": "code",
   "execution_count": 285,
   "metadata": {},
   "outputs": [
    {
     "data": {
      "text/html": [
       "<div>\n",
       "<style scoped>\n",
       "    .dataframe tbody tr th:only-of-type {\n",
       "        vertical-align: middle;\n",
       "    }\n",
       "\n",
       "    .dataframe tbody tr th {\n",
       "        vertical-align: top;\n",
       "    }\n",
       "\n",
       "    .dataframe thead th {\n",
       "        text-align: right;\n",
       "    }\n",
       "</style>\n",
       "<table border=\"1\" class=\"dataframe\">\n",
       "  <thead>\n",
       "    <tr style=\"text-align: right;\">\n",
       "      <th></th>\n",
       "      <th>Logistic Regression</th>\n",
       "      <th>Naive Bayes</th>\n",
       "      <th>Decision tree</th>\n",
       "      <th>Random Forest</th>\n",
       "      <th>Gradientboosting</th>\n",
       "      <th>KNN</th>\n",
       "      <th>XGBoost</th>\n",
       "      <th>LightGBM</th>\n",
       "    </tr>\n",
       "  </thead>\n",
       "  <tbody>\n",
       "    <tr>\n",
       "      <th>auc</th>\n",
       "      <td>0.889432</td>\n",
       "      <td>0.591082</td>\n",
       "      <td>0.761932</td>\n",
       "      <td>0.965951</td>\n",
       "      <td>0.969492</td>\n",
       "      <td>0.779944</td>\n",
       "      <td>0.840746</td>\n",
       "      <td>0.960002</td>\n",
       "    </tr>\n",
       "    <tr>\n",
       "      <th>gini</th>\n",
       "      <td>0.778864</td>\n",
       "      <td>0.182164</td>\n",
       "      <td>0.523864</td>\n",
       "      <td>0.931903</td>\n",
       "      <td>0.938985</td>\n",
       "      <td>0.559888</td>\n",
       "      <td>0.681492</td>\n",
       "      <td>0.920003</td>\n",
       "    </tr>\n",
       "    <tr>\n",
       "      <th>precision_0</th>\n",
       "      <td>0.902681</td>\n",
       "      <td>0.675456</td>\n",
       "      <td>0.778575</td>\n",
       "      <td>0.963493</td>\n",
       "      <td>0.973298</td>\n",
       "      <td>0.803893</td>\n",
       "      <td>0.833080</td>\n",
       "      <td>0.957665</td>\n",
       "    </tr>\n",
       "    <tr>\n",
       "      <th>precision_1</th>\n",
       "      <td>0.899914</td>\n",
       "      <td>0.542905</td>\n",
       "      <td>0.908203</td>\n",
       "      <td>0.987046</td>\n",
       "      <td>0.971116</td>\n",
       "      <td>0.834115</td>\n",
       "      <td>0.987536</td>\n",
       "      <td>0.983611</td>\n",
       "    </tr>\n",
       "    <tr>\n",
       "      <th>recall_0</th>\n",
       "      <td>0.942091</td>\n",
       "      <td>0.799546</td>\n",
       "      <td>0.964841</td>\n",
       "      <td>0.992327</td>\n",
       "      <td>0.982294</td>\n",
       "      <td>0.920928</td>\n",
       "      <td>0.994662</td>\n",
       "      <td>0.990362</td>\n",
       "    </tr>\n",
       "    <tr>\n",
       "      <th>recall_1</th>\n",
       "      <td>0.836773</td>\n",
       "      <td>0.382619</td>\n",
       "      <td>0.559023</td>\n",
       "      <td>0.939575</td>\n",
       "      <td>0.956691</td>\n",
       "      <td>0.638960</td>\n",
       "      <td>0.679720</td>\n",
       "      <td>0.929642</td>\n",
       "    </tr>\n",
       "    <tr>\n",
       "      <th>f1-score_0</th>\n",
       "      <td>0.921965</td>\n",
       "      <td>0.732281</td>\n",
       "      <td>0.861757</td>\n",
       "      <td>0.977698</td>\n",
       "      <td>0.977775</td>\n",
       "      <td>0.858440</td>\n",
       "      <td>0.906729</td>\n",
       "      <td>0.973739</td>\n",
       "    </tr>\n",
       "    <tr>\n",
       "      <th>f1-score_1</th>\n",
       "      <td>0.867196</td>\n",
       "      <td>0.448882</td>\n",
       "      <td>0.692063</td>\n",
       "      <td>0.962726</td>\n",
       "      <td>0.963849</td>\n",
       "      <td>0.723610</td>\n",
       "      <td>0.805213</td>\n",
       "      <td>0.955865</td>\n",
       "    </tr>\n",
       "  </tbody>\n",
       "</table>\n",
       "</div>"
      ],
      "text/plain": [
       "             Logistic Regression  Naive Bayes  Decision tree  Random Forest  \\\n",
       "auc                     0.889432     0.591082       0.761932       0.965951   \n",
       "gini                    0.778864     0.182164       0.523864       0.931903   \n",
       "precision_0             0.902681     0.675456       0.778575       0.963493   \n",
       "precision_1             0.899914     0.542905       0.908203       0.987046   \n",
       "recall_0                0.942091     0.799546       0.964841       0.992327   \n",
       "recall_1                0.836773     0.382619       0.559023       0.939575   \n",
       "f1-score_0              0.921965     0.732281       0.861757       0.977698   \n",
       "f1-score_1              0.867196     0.448882       0.692063       0.962726   \n",
       "\n",
       "             Gradientboosting       KNN   XGBoost  LightGBM  \n",
       "auc                  0.969492  0.779944  0.840746  0.960002  \n",
       "gini                 0.938985  0.559888  0.681492  0.920003  \n",
       "precision_0          0.973298  0.803893  0.833080  0.957665  \n",
       "precision_1          0.971116  0.834115  0.987536  0.983611  \n",
       "recall_0             0.982294  0.920928  0.994662  0.990362  \n",
       "recall_1             0.956691  0.638960  0.679720  0.929642  \n",
       "f1-score_0           0.977775  0.858440  0.906729  0.973739  \n",
       "f1-score_1           0.963849  0.723610  0.805213  0.955865  "
      ]
     },
     "execution_count": 285,
     "metadata": {},
     "output_type": "execute_result"
    }
   ],
   "source": [
    "df_sum_rfe = pd.DataFrame(data=summary_rfe,index = ['auc', 'gini', 'precision_0', 'precision_1', 'recall_0', 'recall_1', 'f1-score_0','f1-score_1'])\n",
    "df_sum_rfe"
   ]
  },
  {
   "cell_type": "code",
   "execution_count": null,
   "metadata": {},
   "outputs": [],
   "source": [
    "# params = {'num_leaves':(1,2,3,4,5),'max_depth': (8, 10), 'min_data_in_leaf': (0.1, 0.08), 'min_child_weight': (100,200),\n",
    "#          'reg_lambda':(1,2), 'reg_alpha': (0.1, 0.15)}\n",
    "# model = XGBClassifier(nthread = -1, colsample_bytree=0.8)\n",
    "# tune = GridSearchCV(estimator=model, param_grid=params, n_jobs = -1, cv = 5)\n",
    "# tune.fit(X_train, y_train)\n",
    "\n",
    "# best_params = tune.best_params_\n",
    "# score = tune.best_score_\n",
    "# print('Config params: ', best_params)\n",
    "# print('Score: %2.4f' % score)"
   ]
  }
 ],
 "metadata": {
  "kernelspec": {
   "display_name": "Python 3",
   "language": "python",
   "name": "python3"
  },
  "language_info": {
   "codemirror_mode": {
    "name": "ipython",
    "version": 3
   },
   "file_extension": ".py",
   "mimetype": "text/x-python",
   "name": "python",
   "nbconvert_exporter": "python",
   "pygments_lexer": "ipython3",
   "version": "3.7.3"
  }
 },
 "nbformat": 4,
 "nbformat_minor": 2
}
